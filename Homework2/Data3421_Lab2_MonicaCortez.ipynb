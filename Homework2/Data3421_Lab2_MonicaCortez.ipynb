{
  "nbformat": 4,
  "nbformat_minor": 0,
  "metadata": {
    "colab": {
      "provenance": []
    },
    "kernelspec": {
      "name": "python3",
      "display_name": "Python 3"
    },
    "language_info": {
      "name": "python"
    }
  },
  "cells": [
    {
      "cell_type": "code",
      "execution_count": 1,
      "metadata": {
        "id": "xSLD1e1bgGDh"
      },
      "outputs": [],
      "source": [
        "import pandas as pd\n",
        "import numpy as np\n"
      ]
    },
    {
      "cell_type": "code",
      "source": [
        "from google.colab import files\n",
        "uploaded = files.upload()"
      ],
      "metadata": {
        "colab": {
          "base_uri": "https://localhost:8080/",
          "height": 109
        },
        "id": "mvDaHiFU4vz9",
        "outputId": "d6f4823a-b35d-4862-8def-a326e151c733"
      },
      "execution_count": 2,
      "outputs": [
        {
          "output_type": "display_data",
          "data": {
            "text/plain": [
              "<IPython.core.display.HTML object>"
            ],
            "text/html": [
              "\n",
              "     <input type=\"file\" id=\"files-d446076b-d309-4d00-9932-44e2d72c552f\" name=\"files[]\" multiple disabled\n",
              "        style=\"border:none\" />\n",
              "     <output id=\"result-d446076b-d309-4d00-9932-44e2d72c552f\">\n",
              "      Upload widget is only available when the cell has been executed in the\n",
              "      current browser session. Please rerun this cell to enable.\n",
              "      </output>\n",
              "      <script>// Copyright 2017 Google LLC\n",
              "//\n",
              "// Licensed under the Apache License, Version 2.0 (the \"License\");\n",
              "// you may not use this file except in compliance with the License.\n",
              "// You may obtain a copy of the License at\n",
              "//\n",
              "//      http://www.apache.org/licenses/LICENSE-2.0\n",
              "//\n",
              "// Unless required by applicable law or agreed to in writing, software\n",
              "// distributed under the License is distributed on an \"AS IS\" BASIS,\n",
              "// WITHOUT WARRANTIES OR CONDITIONS OF ANY KIND, either express or implied.\n",
              "// See the License for the specific language governing permissions and\n",
              "// limitations under the License.\n",
              "\n",
              "/**\n",
              " * @fileoverview Helpers for google.colab Python module.\n",
              " */\n",
              "(function(scope) {\n",
              "function span(text, styleAttributes = {}) {\n",
              "  const element = document.createElement('span');\n",
              "  element.textContent = text;\n",
              "  for (const key of Object.keys(styleAttributes)) {\n",
              "    element.style[key] = styleAttributes[key];\n",
              "  }\n",
              "  return element;\n",
              "}\n",
              "\n",
              "// Max number of bytes which will be uploaded at a time.\n",
              "const MAX_PAYLOAD_SIZE = 100 * 1024;\n",
              "\n",
              "function _uploadFiles(inputId, outputId) {\n",
              "  const steps = uploadFilesStep(inputId, outputId);\n",
              "  const outputElement = document.getElementById(outputId);\n",
              "  // Cache steps on the outputElement to make it available for the next call\n",
              "  // to uploadFilesContinue from Python.\n",
              "  outputElement.steps = steps;\n",
              "\n",
              "  return _uploadFilesContinue(outputId);\n",
              "}\n",
              "\n",
              "// This is roughly an async generator (not supported in the browser yet),\n",
              "// where there are multiple asynchronous steps and the Python side is going\n",
              "// to poll for completion of each step.\n",
              "// This uses a Promise to block the python side on completion of each step,\n",
              "// then passes the result of the previous step as the input to the next step.\n",
              "function _uploadFilesContinue(outputId) {\n",
              "  const outputElement = document.getElementById(outputId);\n",
              "  const steps = outputElement.steps;\n",
              "\n",
              "  const next = steps.next(outputElement.lastPromiseValue);\n",
              "  return Promise.resolve(next.value.promise).then((value) => {\n",
              "    // Cache the last promise value to make it available to the next\n",
              "    // step of the generator.\n",
              "    outputElement.lastPromiseValue = value;\n",
              "    return next.value.response;\n",
              "  });\n",
              "}\n",
              "\n",
              "/**\n",
              " * Generator function which is called between each async step of the upload\n",
              " * process.\n",
              " * @param {string} inputId Element ID of the input file picker element.\n",
              " * @param {string} outputId Element ID of the output display.\n",
              " * @return {!Iterable<!Object>} Iterable of next steps.\n",
              " */\n",
              "function* uploadFilesStep(inputId, outputId) {\n",
              "  const inputElement = document.getElementById(inputId);\n",
              "  inputElement.disabled = false;\n",
              "\n",
              "  const outputElement = document.getElementById(outputId);\n",
              "  outputElement.innerHTML = '';\n",
              "\n",
              "  const pickedPromise = new Promise((resolve) => {\n",
              "    inputElement.addEventListener('change', (e) => {\n",
              "      resolve(e.target.files);\n",
              "    });\n",
              "  });\n",
              "\n",
              "  const cancel = document.createElement('button');\n",
              "  inputElement.parentElement.appendChild(cancel);\n",
              "  cancel.textContent = 'Cancel upload';\n",
              "  const cancelPromise = new Promise((resolve) => {\n",
              "    cancel.onclick = () => {\n",
              "      resolve(null);\n",
              "    };\n",
              "  });\n",
              "\n",
              "  // Wait for the user to pick the files.\n",
              "  const files = yield {\n",
              "    promise: Promise.race([pickedPromise, cancelPromise]),\n",
              "    response: {\n",
              "      action: 'starting',\n",
              "    }\n",
              "  };\n",
              "\n",
              "  cancel.remove();\n",
              "\n",
              "  // Disable the input element since further picks are not allowed.\n",
              "  inputElement.disabled = true;\n",
              "\n",
              "  if (!files) {\n",
              "    return {\n",
              "      response: {\n",
              "        action: 'complete',\n",
              "      }\n",
              "    };\n",
              "  }\n",
              "\n",
              "  for (const file of files) {\n",
              "    const li = document.createElement('li');\n",
              "    li.append(span(file.name, {fontWeight: 'bold'}));\n",
              "    li.append(span(\n",
              "        `(${file.type || 'n/a'}) - ${file.size} bytes, ` +\n",
              "        `last modified: ${\n",
              "            file.lastModifiedDate ? file.lastModifiedDate.toLocaleDateString() :\n",
              "                                    'n/a'} - `));\n",
              "    const percent = span('0% done');\n",
              "    li.appendChild(percent);\n",
              "\n",
              "    outputElement.appendChild(li);\n",
              "\n",
              "    const fileDataPromise = new Promise((resolve) => {\n",
              "      const reader = new FileReader();\n",
              "      reader.onload = (e) => {\n",
              "        resolve(e.target.result);\n",
              "      };\n",
              "      reader.readAsArrayBuffer(file);\n",
              "    });\n",
              "    // Wait for the data to be ready.\n",
              "    let fileData = yield {\n",
              "      promise: fileDataPromise,\n",
              "      response: {\n",
              "        action: 'continue',\n",
              "      }\n",
              "    };\n",
              "\n",
              "    // Use a chunked sending to avoid message size limits. See b/62115660.\n",
              "    let position = 0;\n",
              "    do {\n",
              "      const length = Math.min(fileData.byteLength - position, MAX_PAYLOAD_SIZE);\n",
              "      const chunk = new Uint8Array(fileData, position, length);\n",
              "      position += length;\n",
              "\n",
              "      const base64 = btoa(String.fromCharCode.apply(null, chunk));\n",
              "      yield {\n",
              "        response: {\n",
              "          action: 'append',\n",
              "          file: file.name,\n",
              "          data: base64,\n",
              "        },\n",
              "      };\n",
              "\n",
              "      let percentDone = fileData.byteLength === 0 ?\n",
              "          100 :\n",
              "          Math.round((position / fileData.byteLength) * 100);\n",
              "      percent.textContent = `${percentDone}% done`;\n",
              "\n",
              "    } while (position < fileData.byteLength);\n",
              "  }\n",
              "\n",
              "  // All done.\n",
              "  yield {\n",
              "    response: {\n",
              "      action: 'complete',\n",
              "    }\n",
              "  };\n",
              "}\n",
              "\n",
              "scope.google = scope.google || {};\n",
              "scope.google.colab = scope.google.colab || {};\n",
              "scope.google.colab._files = {\n",
              "  _uploadFiles,\n",
              "  _uploadFilesContinue,\n",
              "};\n",
              "})(self);\n",
              "</script> "
            ]
          },
          "metadata": {}
        },
        {
          "output_type": "stream",
          "name": "stdout",
          "text": [
            "Saving Metadata.csv to Metadata.csv\n",
            "Saving ClimateData.csv to ClimateData.csv\n"
          ]
        }
      ]
    },
    {
      "cell_type": "code",
      "source": [
        "metadf = pd.read_csv('Metadata.csv')"
      ],
      "metadata": {
        "id": "LQwuLZd84WGY"
      },
      "execution_count": 30,
      "outputs": []
    },
    {
      "cell_type": "code",
      "source": [
        "climatedf = pd.read_csv('ClimateData.csv')"
      ],
      "metadata": {
        "id": "N5I8_40E4XDl"
      },
      "execution_count": 31,
      "outputs": []
    },
    {
      "cell_type": "code",
      "source": [
        "#@title 1. Please take a look at the data types and summary of our variables."
      ],
      "metadata": {
        "cellView": "form",
        "id": "M3wYHQph5Q0H"
      },
      "execution_count": 9,
      "outputs": []
    },
    {
      "cell_type": "code",
      "source": [
        "climatedf.head()"
      ],
      "metadata": {
        "colab": {
          "base_uri": "https://localhost:8080/",
          "height": 250
        },
        "id": "7p42odlQ53tZ",
        "outputId": "0a90f22e-1cf0-4200-8a4b-67590d6739f6"
      },
      "execution_count": 32,
      "outputs": [
        {
          "output_type": "execute_result",
          "data": {
            "text/plain": [
              "   id building_class  floor_area  year_built  precipitation_inches  \\\n",
              "0   0     Commercial     61242.0      1942.0                 16.59   \n",
              "1   1     Commercial    274000.0      1955.0                 16.59   \n",
              "2   2     Commercial    280025.0      1951.0                 16.59   \n",
              "3   3     Commercial     55325.0      1980.0                 16.59   \n",
              "4   4     Commercial     66000.0      1985.0                 16.59   \n",
              "\n",
              "   snowfall_inches   avg_temp  days_with_fog  site_eui  \n",
              "0              0.0  56.972603            NaN    248.68  \n",
              "1              0.0  56.972603           12.0     26.50  \n",
              "2              0.0  56.972603           12.0     24.69  \n",
              "3              0.0  56.972603           12.0     48.41  \n",
              "4              0.0  56.972603            NaN      3.90  "
            ],
            "text/html": [
              "\n",
              "  <div id=\"df-d0579dfa-7e57-43f4-9eba-4325820500d1\">\n",
              "    <div class=\"colab-df-container\">\n",
              "      <div>\n",
              "<style scoped>\n",
              "    .dataframe tbody tr th:only-of-type {\n",
              "        vertical-align: middle;\n",
              "    }\n",
              "\n",
              "    .dataframe tbody tr th {\n",
              "        vertical-align: top;\n",
              "    }\n",
              "\n",
              "    .dataframe thead th {\n",
              "        text-align: right;\n",
              "    }\n",
              "</style>\n",
              "<table border=\"1\" class=\"dataframe\">\n",
              "  <thead>\n",
              "    <tr style=\"text-align: right;\">\n",
              "      <th></th>\n",
              "      <th>id</th>\n",
              "      <th>building_class</th>\n",
              "      <th>floor_area</th>\n",
              "      <th>year_built</th>\n",
              "      <th>precipitation_inches</th>\n",
              "      <th>snowfall_inches</th>\n",
              "      <th>avg_temp</th>\n",
              "      <th>days_with_fog</th>\n",
              "      <th>site_eui</th>\n",
              "    </tr>\n",
              "  </thead>\n",
              "  <tbody>\n",
              "    <tr>\n",
              "      <th>0</th>\n",
              "      <td>0</td>\n",
              "      <td>Commercial</td>\n",
              "      <td>61242.0</td>\n",
              "      <td>1942.0</td>\n",
              "      <td>16.59</td>\n",
              "      <td>0.0</td>\n",
              "      <td>56.972603</td>\n",
              "      <td>NaN</td>\n",
              "      <td>248.68</td>\n",
              "    </tr>\n",
              "    <tr>\n",
              "      <th>1</th>\n",
              "      <td>1</td>\n",
              "      <td>Commercial</td>\n",
              "      <td>274000.0</td>\n",
              "      <td>1955.0</td>\n",
              "      <td>16.59</td>\n",
              "      <td>0.0</td>\n",
              "      <td>56.972603</td>\n",
              "      <td>12.0</td>\n",
              "      <td>26.50</td>\n",
              "    </tr>\n",
              "    <tr>\n",
              "      <th>2</th>\n",
              "      <td>2</td>\n",
              "      <td>Commercial</td>\n",
              "      <td>280025.0</td>\n",
              "      <td>1951.0</td>\n",
              "      <td>16.59</td>\n",
              "      <td>0.0</td>\n",
              "      <td>56.972603</td>\n",
              "      <td>12.0</td>\n",
              "      <td>24.69</td>\n",
              "    </tr>\n",
              "    <tr>\n",
              "      <th>3</th>\n",
              "      <td>3</td>\n",
              "      <td>Commercial</td>\n",
              "      <td>55325.0</td>\n",
              "      <td>1980.0</td>\n",
              "      <td>16.59</td>\n",
              "      <td>0.0</td>\n",
              "      <td>56.972603</td>\n",
              "      <td>12.0</td>\n",
              "      <td>48.41</td>\n",
              "    </tr>\n",
              "    <tr>\n",
              "      <th>4</th>\n",
              "      <td>4</td>\n",
              "      <td>Commercial</td>\n",
              "      <td>66000.0</td>\n",
              "      <td>1985.0</td>\n",
              "      <td>16.59</td>\n",
              "      <td>0.0</td>\n",
              "      <td>56.972603</td>\n",
              "      <td>NaN</td>\n",
              "      <td>3.90</td>\n",
              "    </tr>\n",
              "  </tbody>\n",
              "</table>\n",
              "</div>\n",
              "      <button class=\"colab-df-convert\" onclick=\"convertToInteractive('df-d0579dfa-7e57-43f4-9eba-4325820500d1')\"\n",
              "              title=\"Convert this dataframe to an interactive table.\"\n",
              "              style=\"display:none;\">\n",
              "        \n",
              "  <svg xmlns=\"http://www.w3.org/2000/svg\" height=\"24px\"viewBox=\"0 0 24 24\"\n",
              "       width=\"24px\">\n",
              "    <path d=\"M0 0h24v24H0V0z\" fill=\"none\"/>\n",
              "    <path d=\"M18.56 5.44l.94 2.06.94-2.06 2.06-.94-2.06-.94-.94-2.06-.94 2.06-2.06.94zm-11 1L8.5 8.5l.94-2.06 2.06-.94-2.06-.94L8.5 2.5l-.94 2.06-2.06.94zm10 10l.94 2.06.94-2.06 2.06-.94-2.06-.94-.94-2.06-.94 2.06-2.06.94z\"/><path d=\"M17.41 7.96l-1.37-1.37c-.4-.4-.92-.59-1.43-.59-.52 0-1.04.2-1.43.59L10.3 9.45l-7.72 7.72c-.78.78-.78 2.05 0 2.83L4 21.41c.39.39.9.59 1.41.59.51 0 1.02-.2 1.41-.59l7.78-7.78 2.81-2.81c.8-.78.8-2.07 0-2.86zM5.41 20L4 18.59l7.72-7.72 1.47 1.35L5.41 20z\"/>\n",
              "  </svg>\n",
              "      </button>\n",
              "      \n",
              "  <style>\n",
              "    .colab-df-container {\n",
              "      display:flex;\n",
              "      flex-wrap:wrap;\n",
              "      gap: 12px;\n",
              "    }\n",
              "\n",
              "    .colab-df-convert {\n",
              "      background-color: #E8F0FE;\n",
              "      border: none;\n",
              "      border-radius: 50%;\n",
              "      cursor: pointer;\n",
              "      display: none;\n",
              "      fill: #1967D2;\n",
              "      height: 32px;\n",
              "      padding: 0 0 0 0;\n",
              "      width: 32px;\n",
              "    }\n",
              "\n",
              "    .colab-df-convert:hover {\n",
              "      background-color: #E2EBFA;\n",
              "      box-shadow: 0px 1px 2px rgba(60, 64, 67, 0.3), 0px 1px 3px 1px rgba(60, 64, 67, 0.15);\n",
              "      fill: #174EA6;\n",
              "    }\n",
              "\n",
              "    [theme=dark] .colab-df-convert {\n",
              "      background-color: #3B4455;\n",
              "      fill: #D2E3FC;\n",
              "    }\n",
              "\n",
              "    [theme=dark] .colab-df-convert:hover {\n",
              "      background-color: #434B5C;\n",
              "      box-shadow: 0px 1px 3px 1px rgba(0, 0, 0, 0.15);\n",
              "      filter: drop-shadow(0px 1px 2px rgba(0, 0, 0, 0.3));\n",
              "      fill: #FFFFFF;\n",
              "    }\n",
              "  </style>\n",
              "\n",
              "      <script>\n",
              "        const buttonEl =\n",
              "          document.querySelector('#df-d0579dfa-7e57-43f4-9eba-4325820500d1 button.colab-df-convert');\n",
              "        buttonEl.style.display =\n",
              "          google.colab.kernel.accessAllowed ? 'block' : 'none';\n",
              "\n",
              "        async function convertToInteractive(key) {\n",
              "          const element = document.querySelector('#df-d0579dfa-7e57-43f4-9eba-4325820500d1');\n",
              "          const dataTable =\n",
              "            await google.colab.kernel.invokeFunction('convertToInteractive',\n",
              "                                                     [key], {});\n",
              "          if (!dataTable) return;\n",
              "\n",
              "          const docLinkHtml = 'Like what you see? Visit the ' +\n",
              "            '<a target=\"_blank\" href=https://colab.research.google.com/notebooks/data_table.ipynb>data table notebook</a>'\n",
              "            + ' to learn more about interactive tables.';\n",
              "          element.innerHTML = '';\n",
              "          dataTable['output_type'] = 'display_data';\n",
              "          await google.colab.output.renderOutput(dataTable, element);\n",
              "          const docLink = document.createElement('div');\n",
              "          docLink.innerHTML = docLinkHtml;\n",
              "          element.appendChild(docLink);\n",
              "        }\n",
              "      </script>\n",
              "    </div>\n",
              "  </div>\n",
              "  "
            ]
          },
          "metadata": {},
          "execution_count": 32
        }
      ]
    },
    {
      "cell_type": "code",
      "source": [
        "climatedf.tail()"
      ],
      "metadata": {
        "colab": {
          "base_uri": "https://localhost:8080/",
          "height": 270
        },
        "id": "9wcD6Oyb6JR0",
        "outputId": "ddda37d7-d540-4ebc-e4a1-c02796d2e10c"
      },
      "execution_count": 33,
      "outputs": [
        {
          "output_type": "execute_result",
          "data": {
            "text/plain": [
              "          id building_class  floor_area  year_built  precipitation_inches  \\\n",
              "75752  75752     Commercial     20410.0      1995.0                 45.03   \n",
              "75753  75753    Residential     40489.0      1910.0                 45.03   \n",
              "75754  75754     Commercial     28072.0      1917.0                106.32   \n",
              "75755  75755     Commercial     53575.0      2012.0                106.32   \n",
              "75756  75756    Residential     23888.0      1974.0                107.69   \n",
              "\n",
              "       snowfall_inches   avg_temp  days_with_fog  site_eui  \n",
              "75752              1.4  55.147541            NaN    132.92  \n",
              "75753              1.4  55.147541            NaN     39.48  \n",
              "75754             36.6  47.911202            NaN     48.40  \n",
              "75755             36.6  47.911202            NaN    592.02  \n",
              "75756             28.8  49.127397            NaN     29.15  "
            ],
            "text/html": [
              "\n",
              "  <div id=\"df-a7625f02-009d-4589-a34d-e572877f1203\">\n",
              "    <div class=\"colab-df-container\">\n",
              "      <div>\n",
              "<style scoped>\n",
              "    .dataframe tbody tr th:only-of-type {\n",
              "        vertical-align: middle;\n",
              "    }\n",
              "\n",
              "    .dataframe tbody tr th {\n",
              "        vertical-align: top;\n",
              "    }\n",
              "\n",
              "    .dataframe thead th {\n",
              "        text-align: right;\n",
              "    }\n",
              "</style>\n",
              "<table border=\"1\" class=\"dataframe\">\n",
              "  <thead>\n",
              "    <tr style=\"text-align: right;\">\n",
              "      <th></th>\n",
              "      <th>id</th>\n",
              "      <th>building_class</th>\n",
              "      <th>floor_area</th>\n",
              "      <th>year_built</th>\n",
              "      <th>precipitation_inches</th>\n",
              "      <th>snowfall_inches</th>\n",
              "      <th>avg_temp</th>\n",
              "      <th>days_with_fog</th>\n",
              "      <th>site_eui</th>\n",
              "    </tr>\n",
              "  </thead>\n",
              "  <tbody>\n",
              "    <tr>\n",
              "      <th>75752</th>\n",
              "      <td>75752</td>\n",
              "      <td>Commercial</td>\n",
              "      <td>20410.0</td>\n",
              "      <td>1995.0</td>\n",
              "      <td>45.03</td>\n",
              "      <td>1.4</td>\n",
              "      <td>55.147541</td>\n",
              "      <td>NaN</td>\n",
              "      <td>132.92</td>\n",
              "    </tr>\n",
              "    <tr>\n",
              "      <th>75753</th>\n",
              "      <td>75753</td>\n",
              "      <td>Residential</td>\n",
              "      <td>40489.0</td>\n",
              "      <td>1910.0</td>\n",
              "      <td>45.03</td>\n",
              "      <td>1.4</td>\n",
              "      <td>55.147541</td>\n",
              "      <td>NaN</td>\n",
              "      <td>39.48</td>\n",
              "    </tr>\n",
              "    <tr>\n",
              "      <th>75754</th>\n",
              "      <td>75754</td>\n",
              "      <td>Commercial</td>\n",
              "      <td>28072.0</td>\n",
              "      <td>1917.0</td>\n",
              "      <td>106.32</td>\n",
              "      <td>36.6</td>\n",
              "      <td>47.911202</td>\n",
              "      <td>NaN</td>\n",
              "      <td>48.40</td>\n",
              "    </tr>\n",
              "    <tr>\n",
              "      <th>75755</th>\n",
              "      <td>75755</td>\n",
              "      <td>Commercial</td>\n",
              "      <td>53575.0</td>\n",
              "      <td>2012.0</td>\n",
              "      <td>106.32</td>\n",
              "      <td>36.6</td>\n",
              "      <td>47.911202</td>\n",
              "      <td>NaN</td>\n",
              "      <td>592.02</td>\n",
              "    </tr>\n",
              "    <tr>\n",
              "      <th>75756</th>\n",
              "      <td>75756</td>\n",
              "      <td>Residential</td>\n",
              "      <td>23888.0</td>\n",
              "      <td>1974.0</td>\n",
              "      <td>107.69</td>\n",
              "      <td>28.8</td>\n",
              "      <td>49.127397</td>\n",
              "      <td>NaN</td>\n",
              "      <td>29.15</td>\n",
              "    </tr>\n",
              "  </tbody>\n",
              "</table>\n",
              "</div>\n",
              "      <button class=\"colab-df-convert\" onclick=\"convertToInteractive('df-a7625f02-009d-4589-a34d-e572877f1203')\"\n",
              "              title=\"Convert this dataframe to an interactive table.\"\n",
              "              style=\"display:none;\">\n",
              "        \n",
              "  <svg xmlns=\"http://www.w3.org/2000/svg\" height=\"24px\"viewBox=\"0 0 24 24\"\n",
              "       width=\"24px\">\n",
              "    <path d=\"M0 0h24v24H0V0z\" fill=\"none\"/>\n",
              "    <path d=\"M18.56 5.44l.94 2.06.94-2.06 2.06-.94-2.06-.94-.94-2.06-.94 2.06-2.06.94zm-11 1L8.5 8.5l.94-2.06 2.06-.94-2.06-.94L8.5 2.5l-.94 2.06-2.06.94zm10 10l.94 2.06.94-2.06 2.06-.94-2.06-.94-.94-2.06-.94 2.06-2.06.94z\"/><path d=\"M17.41 7.96l-1.37-1.37c-.4-.4-.92-.59-1.43-.59-.52 0-1.04.2-1.43.59L10.3 9.45l-7.72 7.72c-.78.78-.78 2.05 0 2.83L4 21.41c.39.39.9.59 1.41.59.51 0 1.02-.2 1.41-.59l7.78-7.78 2.81-2.81c.8-.78.8-2.07 0-2.86zM5.41 20L4 18.59l7.72-7.72 1.47 1.35L5.41 20z\"/>\n",
              "  </svg>\n",
              "      </button>\n",
              "      \n",
              "  <style>\n",
              "    .colab-df-container {\n",
              "      display:flex;\n",
              "      flex-wrap:wrap;\n",
              "      gap: 12px;\n",
              "    }\n",
              "\n",
              "    .colab-df-convert {\n",
              "      background-color: #E8F0FE;\n",
              "      border: none;\n",
              "      border-radius: 50%;\n",
              "      cursor: pointer;\n",
              "      display: none;\n",
              "      fill: #1967D2;\n",
              "      height: 32px;\n",
              "      padding: 0 0 0 0;\n",
              "      width: 32px;\n",
              "    }\n",
              "\n",
              "    .colab-df-convert:hover {\n",
              "      background-color: #E2EBFA;\n",
              "      box-shadow: 0px 1px 2px rgba(60, 64, 67, 0.3), 0px 1px 3px 1px rgba(60, 64, 67, 0.15);\n",
              "      fill: #174EA6;\n",
              "    }\n",
              "\n",
              "    [theme=dark] .colab-df-convert {\n",
              "      background-color: #3B4455;\n",
              "      fill: #D2E3FC;\n",
              "    }\n",
              "\n",
              "    [theme=dark] .colab-df-convert:hover {\n",
              "      background-color: #434B5C;\n",
              "      box-shadow: 0px 1px 3px 1px rgba(0, 0, 0, 0.15);\n",
              "      filter: drop-shadow(0px 1px 2px rgba(0, 0, 0, 0.3));\n",
              "      fill: #FFFFFF;\n",
              "    }\n",
              "  </style>\n",
              "\n",
              "      <script>\n",
              "        const buttonEl =\n",
              "          document.querySelector('#df-a7625f02-009d-4589-a34d-e572877f1203 button.colab-df-convert');\n",
              "        buttonEl.style.display =\n",
              "          google.colab.kernel.accessAllowed ? 'block' : 'none';\n",
              "\n",
              "        async function convertToInteractive(key) {\n",
              "          const element = document.querySelector('#df-a7625f02-009d-4589-a34d-e572877f1203');\n",
              "          const dataTable =\n",
              "            await google.colab.kernel.invokeFunction('convertToInteractive',\n",
              "                                                     [key], {});\n",
              "          if (!dataTable) return;\n",
              "\n",
              "          const docLinkHtml = 'Like what you see? Visit the ' +\n",
              "            '<a target=\"_blank\" href=https://colab.research.google.com/notebooks/data_table.ipynb>data table notebook</a>'\n",
              "            + ' to learn more about interactive tables.';\n",
              "          element.innerHTML = '';\n",
              "          dataTable['output_type'] = 'display_data';\n",
              "          await google.colab.output.renderOutput(dataTable, element);\n",
              "          const docLink = document.createElement('div');\n",
              "          docLink.innerHTML = docLinkHtml;\n",
              "          element.appendChild(docLink);\n",
              "        }\n",
              "      </script>\n",
              "    </div>\n",
              "  </div>\n",
              "  "
            ]
          },
          "metadata": {},
          "execution_count": 33
        }
      ]
    },
    {
      "cell_type": "code",
      "source": [
        "climatedf.info()"
      ],
      "metadata": {
        "colab": {
          "base_uri": "https://localhost:8080/"
        },
        "id": "eoNPTMEC6coW",
        "outputId": "eef8310a-8513-4083-ba07-48be185b1081"
      },
      "execution_count": 34,
      "outputs": [
        {
          "output_type": "stream",
          "name": "stdout",
          "text": [
            "<class 'pandas.core.frame.DataFrame'>\n",
            "RangeIndex: 75757 entries, 0 to 75756\n",
            "Data columns (total 9 columns):\n",
            " #   Column                Non-Null Count  Dtype  \n",
            "---  ------                --------------  -----  \n",
            " 0   id                    75757 non-null  int64  \n",
            " 1   building_class        75757 non-null  object \n",
            " 2   floor_area            75757 non-null  float64\n",
            " 3   year_built            73920 non-null  float64\n",
            " 4   precipitation_inches  75757 non-null  float64\n",
            " 5   snowfall_inches       75757 non-null  float64\n",
            " 6   avg_temp              75757 non-null  float64\n",
            " 7   days_with_fog         29961 non-null  float64\n",
            " 8   site_eui              75757 non-null  float64\n",
            "dtypes: float64(7), int64(1), object(1)\n",
            "memory usage: 5.2+ MB\n"
          ]
        }
      ]
    },
    {
      "cell_type": "code",
      "source": [
        "#@title 2. Summarize the number of unique values in each column."
      ],
      "metadata": {
        "id": "c2SReOsG6ph1"
      },
      "execution_count": 12,
      "outputs": []
    },
    {
      "cell_type": "code",
      "source": [
        "column = list(climatedf.columns)\n",
        "column"
      ],
      "metadata": {
        "colab": {
          "base_uri": "https://localhost:8080/"
        },
        "id": "0XOUjVIj80UD",
        "outputId": "47418d55-86a9-46e4-da4f-92abb7df5f79"
      },
      "execution_count": 35,
      "outputs": [
        {
          "output_type": "execute_result",
          "data": {
            "text/plain": [
              "['id',\n",
              " 'building_class',\n",
              " 'floor_area',\n",
              " 'year_built',\n",
              " 'precipitation_inches',\n",
              " 'snowfall_inches',\n",
              " 'avg_temp',\n",
              " 'days_with_fog',\n",
              " 'site_eui']"
            ]
          },
          "metadata": {},
          "execution_count": 35
        }
      ]
    },
    {
      "cell_type": "code",
      "source": [
        "climatedf['building_class'].unique()"
      ],
      "metadata": {
        "colab": {
          "base_uri": "https://localhost:8080/"
        },
        "id": "G2vUhiM0-99G",
        "outputId": "807c5eb1-ed65-4246-bc78-680758f0109b"
      },
      "execution_count": 36,
      "outputs": [
        {
          "output_type": "execute_result",
          "data": {
            "text/plain": [
              "array(['Commercial', 'Residential'], dtype=object)"
            ]
          },
          "metadata": {},
          "execution_count": 36
        }
      ]
    },
    {
      "cell_type": "code",
      "source": [
        "climatedf['floor_area'].unique()"
      ],
      "metadata": {
        "colab": {
          "base_uri": "https://localhost:8080/"
        },
        "id": "Fj7Mb21k-DgS",
        "outputId": "8e72a763-58e8-4214-aac4-479769fd76dd"
      },
      "execution_count": 37,
      "outputs": [
        {
          "output_type": "execute_result",
          "data": {
            "text/plain": [
              "array([ 61242., 274000., 280025., ..., 103345.,  36353.,  40489.])"
            ]
          },
          "metadata": {},
          "execution_count": 37
        }
      ]
    },
    {
      "cell_type": "code",
      "source": [
        "climatedf['year_built'].unique()"
      ],
      "metadata": {
        "colab": {
          "base_uri": "https://localhost:8080/"
        },
        "id": "p_NCFMdl_wYb",
        "outputId": "0730b27e-8c05-4bb2-86f8-297251f64770"
      },
      "execution_count": 38,
      "outputs": [
        {
          "output_type": "execute_result",
          "data": {
            "text/plain": [
              "array([1942., 1955., 1951., 1980., 1985., 1956., 1982., 1947., 1929.,\n",
              "       1979., 1927., 1960., 1924.,   nan, 1949., 1926., 1914., 1973.,\n",
              "       1900., 1913., 1962., 1989., 1967., 1954., 1986., 1906., 1912.,\n",
              "       1902., 1920., 1905., 1997., 1909., 2002., 1974., 1907., 1908.,\n",
              "       1988., 1987., 1923., 1948., 1966., 1975., 1934., 1938., 1983.,\n",
              "       2003., 1915., 1961., 1911., 1925., 1964., 1953., 1957., 2006.,\n",
              "       1990., 1991., 1969., 1968., 1910., 1937., 1971., 1965., 1946.,\n",
              "       1917., 1901., 2000., 2008., 1999., 1981., 2001., 1978., 1898.,\n",
              "       1928., 1970., 1918., 1930., 1903., 1936., 1921., 1922., 1984.,\n",
              "       1976., 1952., 1959., 1916., 1963., 1972., 1919., 1931., 1958.,\n",
              "          0., 1994., 1940., 2010., 2009., 1889., 1939., 1945., 1904.,\n",
              "       1932., 1941., 1977., 1993., 1992., 1950., 1944., 1935., 1996.,\n",
              "       1995., 1933., 1943., 2007., 2005., 2004., 1869., 2011., 2012.,\n",
              "       1864., 1998., 1895., 1896., 1875., 1880., 1888., 1897., 1891.,\n",
              "       2013., 1887., 1882., 1886., 1890., 1789., 1868., 1885., 2014.,\n",
              "       1867., 2015., 1829., 1844., 1871., 1893., 1892., 1879., 1860.,\n",
              "       1894., 1883., 1874., 1884., 1873., 1899., 1872., 1876., 1865.,\n",
              "       1850., 1870., 1600., 1848., 1857., 1877., 1836., 1853., 1881.,\n",
              "       1649., 1827., 1845., 1878., 1846., 1800., 1811., 1859., 1854.,\n",
              "       1833., 1862., 1851., 1799., 1841., 1818., 1756., 1843., 1732.,\n",
              "       1815.])"
            ]
          },
          "metadata": {},
          "execution_count": 38
        }
      ]
    },
    {
      "cell_type": "code",
      "source": [
        "climatedf['precipitation_inches'].unique()"
      ],
      "metadata": {
        "colab": {
          "base_uri": "https://localhost:8080/"
        },
        "id": "6CpGxKnB_wea",
        "outputId": "c8937b52-0a43-4462-da72-09e035635c3d"
      },
      "execution_count": 39,
      "outputs": [
        {
          "output_type": "execute_result",
          "data": {
            "text/plain": [
              "array([ 16.59,  10.43,   6.64,   8.04,   1.69,   3.28,   7.29,   3.51,\n",
              "         8.21,   4.71,   4.41,   6.58,  13.77,   1.86,   9.97,  31.48,\n",
              "        15.34,  19.27,  22.14,  13.1 ,  13.54,  21.15,  10.34,  41.12,\n",
              "        50.77,  29.97,  24.72,  63.43,  18.92,  37.43,  25.54,  77.19,\n",
              "         5.57,  16.07,  15.  ,   3.84,   2.86,   3.02,   2.33,   4.17,\n",
              "         2.56,  10.79,   1.58,   2.97,   4.7 ,   2.99,   3.7 ,   3.17,\n",
              "         3.43,   1.91,   4.07,   1.99,   4.43,   3.01,   3.79,   4.46,\n",
              "         3.8 ,   4.62,   1.33,   4.69,   3.08,   4.5 ,   4.16,   4.59,\n",
              "         5.81,   4.  ,   8.45,  20.89,   7.18,   7.5 ,  21.8 ,  10.3 ,\n",
              "        15.86,   0.  ,  16.6 ,  28.92,   2.03,   7.77,  22.85,   6.62,\n",
              "         7.4 ,   5.32,   9.8 ,   2.81,   3.46,   9.13,  11.5 ,   4.06,\n",
              "         4.02,  10.54,   5.56,  19.45,  25.35,   7.46,  15.06,   8.71,\n",
              "        23.02,  14.23,  28.03,  15.59,  20.69,  17.63,  24.25,  20.94,\n",
              "        30.08,  18.74,  22.82,  45.03,  58.35,  35.09,  30.91,  20.76,\n",
              "        22.66,  26.94,  18.93,  37.5 ,  33.96,  17.07,  49.01,   7.95,\n",
              "        21.39,  47.89,  41.95,  53.08,  53.09,  43.61,  37.12,  41.48,\n",
              "        39.47,  41.11,  37.97,  39.01,  41.77,  45.72,  41.8 ,  41.75,\n",
              "        46.98,  37.9 ,  42.89,  36.39,  72.81,  38.51,  39.27,  49.04,\n",
              "        46.32,  39.22,  59.32,  53.79,  49.83,  52.09,  40.97,  35.21,\n",
              "        39.1 ,  42.17,  46.37,  48.96,  48.82,  50.2 ,  46.62,  45.94,\n",
              "        44.21,  35.78,  41.91,  44.24,  44.41,  45.02,  31.7 ,  39.35,\n",
              "        97.12, 106.32, 107.69])"
            ]
          },
          "metadata": {},
          "execution_count": 39
        }
      ]
    },
    {
      "cell_type": "code",
      "source": [
        "climatedf['avg_temp'].unique()"
      ],
      "metadata": {
        "colab": {
          "base_uri": "https://localhost:8080/"
        },
        "id": "EnBjecxr_wik",
        "outputId": "170d9458-0e55-4094-972a-d6de33987928"
      },
      "execution_count": 40,
      "outputs": [
        {
          "output_type": "execute_result",
          "data": {
            "text/plain": [
              "array([56.97260274, 64.25136612, 64.18306011, 62.94917582, 74.68493151,\n",
              "       63.93306011, 68.44917582, 65.37774725, 65.60519126, 64.73835616,\n",
              "       67.05874317, 63.77747253, 64.6284153 , 63.37568306, 66.75546448,\n",
              "       49.00835655, 60.64617486, 60.24726776, 57.06010929, 59.78356164,\n",
              "       61.76639344, 61.69398907, 63.93956044, 57.92349727, 51.65846995,\n",
              "       61.49453552, 62.59478022, 52.95901639, 62.62861272, 55.17994505,\n",
              "       63.46311475, 53.75      , 64.06027397, 58.19726027, 57.40273973,\n",
              "       67.90547945, 65.26986301, 70.71780822, 64.63013699, 64.44109589,\n",
              "       63.01232877, 48.70684932, 65.25616438, 62.72513812, 60.01232877,\n",
              "       59.0890411 , 63.96694215, 60.32739726, 66.51643836, 61.16712329,\n",
              "       64.57534247, 63.76849315, 56.29395604, 66.92054795, 62.98493151,\n",
              "       63.70360111, 59.98626374, 61.08356164, 57.61369863, 63.26164384,\n",
              "       60.01369863, 60.05616438, 57.08219178, 61.80958904, 61.85068493,\n",
              "       61.54657534, 58.25905292, 52.71840659, 62.51785714, 59.51236264,\n",
              "       53.45342466, 63.71982759, 47.82231405, 63.02222222, 46.38219178,\n",
              "       51.48219178, 50.90410959, 75.6260274 , 67.59315068, 59.35205479,\n",
              "       63.46218487, 69.15753425, 69.1739726 , 67.07260274, 77.24520548,\n",
              "       65.01236264, 64.48082192, 62.63972603, 65.54281768, 69.48493151,\n",
              "       63.01369863, 66.13150685, 59.44093407, 44.7369186 , 69.06027397,\n",
              "       62.24383562, 65.9820442 , 51.34710744, 64.42328767, 58.28493151,\n",
              "       62.62054795, 62.06712329, 63.23287671, 65.07162921, 58.72739726,\n",
              "       60.28493151, 64.40273973, 63.6369863 , 54.9369863 , 58.75      ,\n",
              "       62.27808219, 64.72054795, 64.52465753, 65.90616246, 65.9630137 ,\n",
              "       49.44352617, 54.80958904, 65.03424658, 52.10914454, 53.88718663,\n",
              "       63.39863014, 59.6489071 , 57.83516484, 58.51912568, 55.83333333,\n",
              "       54.65168539, 56.42795389, 57.44318182, 46.74022346, 47.67671233,\n",
              "       46.61157025, 44.51232877, 45.59530387, 50.1565097 , 50.39726027,\n",
              "       49.97123288, 49.8       , 49.35635359, 51.99022346, 53.56267409,\n",
              "       50.88365651, 56.51917808, 57.36612022, 57.95753425, 56.15710383,\n",
              "       55.44931507, 53.09726027, 48.10684932, 54.50136986, 49.41620879,\n",
              "       46.66712329, 56.83561644, 54.30547945, 47.86986301, 57.21584699,\n",
              "       49.44535519, 53.08219178, 56.00688705, 51.7739726 , 52.89589041,\n",
              "       53.23835616, 50.63472222, 53.83933518, 54.2295082 , 58.90136986,\n",
              "       58.55753425, 60.27260274, 60.4057377 , 55.69315068, 50.77534247,\n",
              "       55.14754098, 47.91120219, 49.12739726])"
            ]
          },
          "metadata": {},
          "execution_count": 40
        }
      ]
    },
    {
      "cell_type": "code",
      "source": [
        "climatedf['days_with_fog'].unique()"
      ],
      "metadata": {
        "colab": {
          "base_uri": "https://localhost:8080/"
        },
        "id": "IqZJlkQaARdV",
        "outputId": "83180d02-f20b-4f6b-8074-fdccb5334d1e"
      },
      "execution_count": 41,
      "outputs": [
        {
          "output_type": "execute_result",
          "data": {
            "text/plain": [
              "array([ nan,  12.,  89.,  88.,  90., 104., 113., 184., 126., 107.,  82.,\n",
              "        84., 120., 178., 156., 110., 106., 311.,  86.,  37., 289., 176.,\n",
              "        58., 267.,  73., 161.,  99.,  93., 114.,  79.,  56.,  63., 101.,\n",
              "       111., 148., 131.,  65.,  87.,  31., 125., 116.,  51., 261.])"
            ]
          },
          "metadata": {},
          "execution_count": 41
        }
      ]
    },
    {
      "cell_type": "code",
      "source": [
        "climatedf['site_eui'].unique()"
      ],
      "metadata": {
        "colab": {
          "base_uri": "https://localhost:8080/"
        },
        "id": "pNTV9ND9ARjC",
        "outputId": "1eeda2fb-d9df-4a98-a04f-b01b41667c53"
      },
      "execution_count": 42,
      "outputs": [
        {
          "output_type": "execute_result",
          "data": {
            "text/plain": [
              "array([248.68,  26.5 ,  24.69, ..., 188.52,  40.53, 592.02])"
            ]
          },
          "metadata": {},
          "execution_count": 42
        }
      ]
    },
    {
      "cell_type": "code",
      "source": [
        "#@title 3. Check at descriptive statistics for the Dataset."
      ],
      "metadata": {
        "id": "t5QJs4cG_HZY"
      },
      "execution_count": 21,
      "outputs": []
    },
    {
      "cell_type": "code",
      "source": [
        "climatedf.describe()"
      ],
      "metadata": {
        "colab": {
          "base_uri": "https://localhost:8080/",
          "height": 344
        },
        "id": "J3yWVlkO_OmT",
        "outputId": "b6dd9f34-9611-4675-dd23-345af2174245"
      },
      "execution_count": 43,
      "outputs": [
        {
          "output_type": "execute_result",
          "data": {
            "text/plain": [
              "                 id    floor_area    year_built  precipitation_inches  \\\n",
              "count  75757.000000  7.575700e+04  73920.000000          75757.000000   \n",
              "mean   37878.000000  1.659839e+05   1952.306764             42.430651   \n",
              "std    21869.306509  2.468758e+05     37.053619             10.592205   \n",
              "min        0.000000  9.430000e+02      0.000000              0.000000   \n",
              "25%    18939.000000  6.237900e+04   1927.000000             39.350000   \n",
              "50%    37878.000000  9.136700e+04   1951.000000             42.170000   \n",
              "75%    56817.000000  1.660000e+05   1977.000000             46.320000   \n",
              "max    75756.000000  6.385382e+06   2015.000000            107.690000   \n",
              "\n",
              "       snowfall_inches      avg_temp  days_with_fog      site_eui  \n",
              "count     75757.000000  75757.000000   29961.000000  75757.000000  \n",
              "mean         29.136379     56.176705     109.142051     82.584707  \n",
              "std          17.810894      2.241940      50.699751     58.255413  \n",
              "min           0.000000     44.512329      12.000000      1.000000  \n",
              "25%           9.600000     55.147541      88.000000     54.530000  \n",
              "50%          31.600000     56.835616     104.000000     75.290000  \n",
              "75%          49.100000     57.215847     131.000000     97.280000  \n",
              "max         127.300000     77.245205     311.000000    997.870000  "
            ],
            "text/html": [
              "\n",
              "  <div id=\"df-068eb00a-5e38-4a10-96bb-5f34244a90cf\">\n",
              "    <div class=\"colab-df-container\">\n",
              "      <div>\n",
              "<style scoped>\n",
              "    .dataframe tbody tr th:only-of-type {\n",
              "        vertical-align: middle;\n",
              "    }\n",
              "\n",
              "    .dataframe tbody tr th {\n",
              "        vertical-align: top;\n",
              "    }\n",
              "\n",
              "    .dataframe thead th {\n",
              "        text-align: right;\n",
              "    }\n",
              "</style>\n",
              "<table border=\"1\" class=\"dataframe\">\n",
              "  <thead>\n",
              "    <tr style=\"text-align: right;\">\n",
              "      <th></th>\n",
              "      <th>id</th>\n",
              "      <th>floor_area</th>\n",
              "      <th>year_built</th>\n",
              "      <th>precipitation_inches</th>\n",
              "      <th>snowfall_inches</th>\n",
              "      <th>avg_temp</th>\n",
              "      <th>days_with_fog</th>\n",
              "      <th>site_eui</th>\n",
              "    </tr>\n",
              "  </thead>\n",
              "  <tbody>\n",
              "    <tr>\n",
              "      <th>count</th>\n",
              "      <td>75757.000000</td>\n",
              "      <td>7.575700e+04</td>\n",
              "      <td>73920.000000</td>\n",
              "      <td>75757.000000</td>\n",
              "      <td>75757.000000</td>\n",
              "      <td>75757.000000</td>\n",
              "      <td>29961.000000</td>\n",
              "      <td>75757.000000</td>\n",
              "    </tr>\n",
              "    <tr>\n",
              "      <th>mean</th>\n",
              "      <td>37878.000000</td>\n",
              "      <td>1.659839e+05</td>\n",
              "      <td>1952.306764</td>\n",
              "      <td>42.430651</td>\n",
              "      <td>29.136379</td>\n",
              "      <td>56.176705</td>\n",
              "      <td>109.142051</td>\n",
              "      <td>82.584707</td>\n",
              "    </tr>\n",
              "    <tr>\n",
              "      <th>std</th>\n",
              "      <td>21869.306509</td>\n",
              "      <td>2.468758e+05</td>\n",
              "      <td>37.053619</td>\n",
              "      <td>10.592205</td>\n",
              "      <td>17.810894</td>\n",
              "      <td>2.241940</td>\n",
              "      <td>50.699751</td>\n",
              "      <td>58.255413</td>\n",
              "    </tr>\n",
              "    <tr>\n",
              "      <th>min</th>\n",
              "      <td>0.000000</td>\n",
              "      <td>9.430000e+02</td>\n",
              "      <td>0.000000</td>\n",
              "      <td>0.000000</td>\n",
              "      <td>0.000000</td>\n",
              "      <td>44.512329</td>\n",
              "      <td>12.000000</td>\n",
              "      <td>1.000000</td>\n",
              "    </tr>\n",
              "    <tr>\n",
              "      <th>25%</th>\n",
              "      <td>18939.000000</td>\n",
              "      <td>6.237900e+04</td>\n",
              "      <td>1927.000000</td>\n",
              "      <td>39.350000</td>\n",
              "      <td>9.600000</td>\n",
              "      <td>55.147541</td>\n",
              "      <td>88.000000</td>\n",
              "      <td>54.530000</td>\n",
              "    </tr>\n",
              "    <tr>\n",
              "      <th>50%</th>\n",
              "      <td>37878.000000</td>\n",
              "      <td>9.136700e+04</td>\n",
              "      <td>1951.000000</td>\n",
              "      <td>42.170000</td>\n",
              "      <td>31.600000</td>\n",
              "      <td>56.835616</td>\n",
              "      <td>104.000000</td>\n",
              "      <td>75.290000</td>\n",
              "    </tr>\n",
              "    <tr>\n",
              "      <th>75%</th>\n",
              "      <td>56817.000000</td>\n",
              "      <td>1.660000e+05</td>\n",
              "      <td>1977.000000</td>\n",
              "      <td>46.320000</td>\n",
              "      <td>49.100000</td>\n",
              "      <td>57.215847</td>\n",
              "      <td>131.000000</td>\n",
              "      <td>97.280000</td>\n",
              "    </tr>\n",
              "    <tr>\n",
              "      <th>max</th>\n",
              "      <td>75756.000000</td>\n",
              "      <td>6.385382e+06</td>\n",
              "      <td>2015.000000</td>\n",
              "      <td>107.690000</td>\n",
              "      <td>127.300000</td>\n",
              "      <td>77.245205</td>\n",
              "      <td>311.000000</td>\n",
              "      <td>997.870000</td>\n",
              "    </tr>\n",
              "  </tbody>\n",
              "</table>\n",
              "</div>\n",
              "      <button class=\"colab-df-convert\" onclick=\"convertToInteractive('df-068eb00a-5e38-4a10-96bb-5f34244a90cf')\"\n",
              "              title=\"Convert this dataframe to an interactive table.\"\n",
              "              style=\"display:none;\">\n",
              "        \n",
              "  <svg xmlns=\"http://www.w3.org/2000/svg\" height=\"24px\"viewBox=\"0 0 24 24\"\n",
              "       width=\"24px\">\n",
              "    <path d=\"M0 0h24v24H0V0z\" fill=\"none\"/>\n",
              "    <path d=\"M18.56 5.44l.94 2.06.94-2.06 2.06-.94-2.06-.94-.94-2.06-.94 2.06-2.06.94zm-11 1L8.5 8.5l.94-2.06 2.06-.94-2.06-.94L8.5 2.5l-.94 2.06-2.06.94zm10 10l.94 2.06.94-2.06 2.06-.94-2.06-.94-.94-2.06-.94 2.06-2.06.94z\"/><path d=\"M17.41 7.96l-1.37-1.37c-.4-.4-.92-.59-1.43-.59-.52 0-1.04.2-1.43.59L10.3 9.45l-7.72 7.72c-.78.78-.78 2.05 0 2.83L4 21.41c.39.39.9.59 1.41.59.51 0 1.02-.2 1.41-.59l7.78-7.78 2.81-2.81c.8-.78.8-2.07 0-2.86zM5.41 20L4 18.59l7.72-7.72 1.47 1.35L5.41 20z\"/>\n",
              "  </svg>\n",
              "      </button>\n",
              "      \n",
              "  <style>\n",
              "    .colab-df-container {\n",
              "      display:flex;\n",
              "      flex-wrap:wrap;\n",
              "      gap: 12px;\n",
              "    }\n",
              "\n",
              "    .colab-df-convert {\n",
              "      background-color: #E8F0FE;\n",
              "      border: none;\n",
              "      border-radius: 50%;\n",
              "      cursor: pointer;\n",
              "      display: none;\n",
              "      fill: #1967D2;\n",
              "      height: 32px;\n",
              "      padding: 0 0 0 0;\n",
              "      width: 32px;\n",
              "    }\n",
              "\n",
              "    .colab-df-convert:hover {\n",
              "      background-color: #E2EBFA;\n",
              "      box-shadow: 0px 1px 2px rgba(60, 64, 67, 0.3), 0px 1px 3px 1px rgba(60, 64, 67, 0.15);\n",
              "      fill: #174EA6;\n",
              "    }\n",
              "\n",
              "    [theme=dark] .colab-df-convert {\n",
              "      background-color: #3B4455;\n",
              "      fill: #D2E3FC;\n",
              "    }\n",
              "\n",
              "    [theme=dark] .colab-df-convert:hover {\n",
              "      background-color: #434B5C;\n",
              "      box-shadow: 0px 1px 3px 1px rgba(0, 0, 0, 0.15);\n",
              "      filter: drop-shadow(0px 1px 2px rgba(0, 0, 0, 0.3));\n",
              "      fill: #FFFFFF;\n",
              "    }\n",
              "  </style>\n",
              "\n",
              "      <script>\n",
              "        const buttonEl =\n",
              "          document.querySelector('#df-068eb00a-5e38-4a10-96bb-5f34244a90cf button.colab-df-convert');\n",
              "        buttonEl.style.display =\n",
              "          google.colab.kernel.accessAllowed ? 'block' : 'none';\n",
              "\n",
              "        async function convertToInteractive(key) {\n",
              "          const element = document.querySelector('#df-068eb00a-5e38-4a10-96bb-5f34244a90cf');\n",
              "          const dataTable =\n",
              "            await google.colab.kernel.invokeFunction('convertToInteractive',\n",
              "                                                     [key], {});\n",
              "          if (!dataTable) return;\n",
              "\n",
              "          const docLinkHtml = 'Like what you see? Visit the ' +\n",
              "            '<a target=\"_blank\" href=https://colab.research.google.com/notebooks/data_table.ipynb>data table notebook</a>'\n",
              "            + ' to learn more about interactive tables.';\n",
              "          element.innerHTML = '';\n",
              "          dataTable['output_type'] = 'display_data';\n",
              "          await google.colab.output.renderOutput(dataTable, element);\n",
              "          const docLink = document.createElement('div');\n",
              "          docLink.innerHTML = docLinkHtml;\n",
              "          element.appendChild(docLink);\n",
              "        }\n",
              "      </script>\n",
              "    </div>\n",
              "  </div>\n",
              "  "
            ]
          },
          "metadata": {},
          "execution_count": 43
        }
      ]
    },
    {
      "cell_type": "code",
      "source": [
        "#@title 4. Check the number of missing values."
      ],
      "metadata": {
        "id": "Pwc6e3ZrAf3i"
      },
      "execution_count": 23,
      "outputs": []
    },
    {
      "cell_type": "code",
      "source": [
        "climatedf.isnull().sum()"
      ],
      "metadata": {
        "colab": {
          "base_uri": "https://localhost:8080/"
        },
        "id": "2FqbJho8AjX9",
        "outputId": "fbce1039-2cb0-4ce2-ce91-c3651be5be6c"
      },
      "execution_count": 44,
      "outputs": [
        {
          "output_type": "execute_result",
          "data": {
            "text/plain": [
              "id                          0\n",
              "building_class              0\n",
              "floor_area                  0\n",
              "year_built               1837\n",
              "precipitation_inches        0\n",
              "snowfall_inches             0\n",
              "avg_temp                    0\n",
              "days_with_fog           45796\n",
              "site_eui                    0\n",
              "dtype: int64"
            ]
          },
          "metadata": {},
          "execution_count": 44
        }
      ]
    },
    {
      "cell_type": "code",
      "source": [
        "#@title 5. Take care of missing data. You can decide to remove or use the imputation."
      ],
      "metadata": {
        "id": "Jrnf0jvZBvAu"
      },
      "execution_count": 25,
      "outputs": []
    },
    {
      "cell_type": "code",
      "source": [
        "climatedf['days_with_fog'].fillna(climatedf['days_with_fog'].mean(), inplace=True)"
      ],
      "metadata": {
        "id": "rFfZxiEcN3ug"
      },
      "execution_count": 45,
      "outputs": []
    },
    {
      "cell_type": "code",
      "source": [
        "climatedf.isnull().sum()"
      ],
      "metadata": {
        "colab": {
          "base_uri": "https://localhost:8080/"
        },
        "id": "dGZBnPw4RdWF",
        "outputId": "9e64d596-71dc-44bd-dc69-27e238c325ce"
      },
      "execution_count": 47,
      "outputs": [
        {
          "output_type": "execute_result",
          "data": {
            "text/plain": [
              "id                         0\n",
              "building_class             0\n",
              "floor_area                 0\n",
              "year_built              1837\n",
              "precipitation_inches       0\n",
              "snowfall_inches            0\n",
              "avg_temp                   0\n",
              "days_with_fog              0\n",
              "site_eui                   0\n",
              "dtype: int64"
            ]
          },
          "metadata": {},
          "execution_count": 47
        }
      ]
    },
    {
      "cell_type": "code",
      "source": [
        "climatedf=climatedf.dropna(subset=['year_built'])"
      ],
      "metadata": {
        "id": "kpYStdJGRdZL"
      },
      "execution_count": 50,
      "outputs": []
    },
    {
      "cell_type": "code",
      "source": [
        "climatedf.isnull().sum()"
      ],
      "metadata": {
        "colab": {
          "base_uri": "https://localhost:8080/"
        },
        "id": "FGmRXIkPSFNn",
        "outputId": "05a86bef-0ddb-4766-873c-c57327326229"
      },
      "execution_count": 51,
      "outputs": [
        {
          "output_type": "execute_result",
          "data": {
            "text/plain": [
              "id                      0\n",
              "building_class          0\n",
              "floor_area              0\n",
              "year_built              0\n",
              "precipitation_inches    0\n",
              "snowfall_inches         0\n",
              "avg_temp                0\n",
              "days_with_fog           0\n",
              "site_eui                0\n",
              "dtype: int64"
            ]
          },
          "metadata": {},
          "execution_count": 51
        }
      ]
    },
    {
      "cell_type": "code",
      "source": [
        "#@title 6. Find and remove duplicate variables,"
      ],
      "metadata": {
        "id": "7vOrU1xOSwH5"
      },
      "execution_count": null,
      "outputs": []
    },
    {
      "cell_type": "code",
      "source": [
        "climatedf = climatedf.drop_duplicates()"
      ],
      "metadata": {
        "id": "SnKiHirxSyWV"
      },
      "execution_count": 52,
      "outputs": []
    },
    {
      "cell_type": "code",
      "source": [
        "climatedf"
      ],
      "metadata": {
        "colab": {
          "base_uri": "https://localhost:8080/",
          "height": 488
        },
        "id": "eZxA9EbTT1RN",
        "outputId": "a5c2d3dd-02c8-4ff7-d2e6-7f5703d68387"
      },
      "execution_count": 53,
      "outputs": [
        {
          "output_type": "execute_result",
          "data": {
            "text/plain": [
              "          id building_class  floor_area  year_built  precipitation_inches  \\\n",
              "0          0     Commercial     61242.0      1942.0                 16.59   \n",
              "1          1     Commercial    274000.0      1955.0                 16.59   \n",
              "2          2     Commercial    280025.0      1951.0                 16.59   \n",
              "3          3     Commercial     55325.0      1980.0                 16.59   \n",
              "4          4     Commercial     66000.0      1985.0                 16.59   \n",
              "...      ...            ...         ...         ...                   ...   \n",
              "75752  75752     Commercial     20410.0      1995.0                 45.03   \n",
              "75753  75753    Residential     40489.0      1910.0                 45.03   \n",
              "75754  75754     Commercial     28072.0      1917.0                106.32   \n",
              "75755  75755     Commercial     53575.0      2012.0                106.32   \n",
              "75756  75756    Residential     23888.0      1974.0                107.69   \n",
              "\n",
              "       snowfall_inches   avg_temp  days_with_fog  site_eui  \n",
              "0                  0.0  56.972603     109.142051    248.68  \n",
              "1                  0.0  56.972603      12.000000     26.50  \n",
              "2                  0.0  56.972603      12.000000     24.69  \n",
              "3                  0.0  56.972603      12.000000     48.41  \n",
              "4                  0.0  56.972603     109.142051      3.90  \n",
              "...                ...        ...            ...       ...  \n",
              "75752              1.4  55.147541     109.142051    132.92  \n",
              "75753              1.4  55.147541     109.142051     39.48  \n",
              "75754             36.6  47.911202     109.142051     48.40  \n",
              "75755             36.6  47.911202     109.142051    592.02  \n",
              "75756             28.8  49.127397     109.142051     29.15  \n",
              "\n",
              "[73920 rows x 9 columns]"
            ],
            "text/html": [
              "\n",
              "  <div id=\"df-a92438a7-559a-44cc-bb0b-d14c000489a6\">\n",
              "    <div class=\"colab-df-container\">\n",
              "      <div>\n",
              "<style scoped>\n",
              "    .dataframe tbody tr th:only-of-type {\n",
              "        vertical-align: middle;\n",
              "    }\n",
              "\n",
              "    .dataframe tbody tr th {\n",
              "        vertical-align: top;\n",
              "    }\n",
              "\n",
              "    .dataframe thead th {\n",
              "        text-align: right;\n",
              "    }\n",
              "</style>\n",
              "<table border=\"1\" class=\"dataframe\">\n",
              "  <thead>\n",
              "    <tr style=\"text-align: right;\">\n",
              "      <th></th>\n",
              "      <th>id</th>\n",
              "      <th>building_class</th>\n",
              "      <th>floor_area</th>\n",
              "      <th>year_built</th>\n",
              "      <th>precipitation_inches</th>\n",
              "      <th>snowfall_inches</th>\n",
              "      <th>avg_temp</th>\n",
              "      <th>days_with_fog</th>\n",
              "      <th>site_eui</th>\n",
              "    </tr>\n",
              "  </thead>\n",
              "  <tbody>\n",
              "    <tr>\n",
              "      <th>0</th>\n",
              "      <td>0</td>\n",
              "      <td>Commercial</td>\n",
              "      <td>61242.0</td>\n",
              "      <td>1942.0</td>\n",
              "      <td>16.59</td>\n",
              "      <td>0.0</td>\n",
              "      <td>56.972603</td>\n",
              "      <td>109.142051</td>\n",
              "      <td>248.68</td>\n",
              "    </tr>\n",
              "    <tr>\n",
              "      <th>1</th>\n",
              "      <td>1</td>\n",
              "      <td>Commercial</td>\n",
              "      <td>274000.0</td>\n",
              "      <td>1955.0</td>\n",
              "      <td>16.59</td>\n",
              "      <td>0.0</td>\n",
              "      <td>56.972603</td>\n",
              "      <td>12.000000</td>\n",
              "      <td>26.50</td>\n",
              "    </tr>\n",
              "    <tr>\n",
              "      <th>2</th>\n",
              "      <td>2</td>\n",
              "      <td>Commercial</td>\n",
              "      <td>280025.0</td>\n",
              "      <td>1951.0</td>\n",
              "      <td>16.59</td>\n",
              "      <td>0.0</td>\n",
              "      <td>56.972603</td>\n",
              "      <td>12.000000</td>\n",
              "      <td>24.69</td>\n",
              "    </tr>\n",
              "    <tr>\n",
              "      <th>3</th>\n",
              "      <td>3</td>\n",
              "      <td>Commercial</td>\n",
              "      <td>55325.0</td>\n",
              "      <td>1980.0</td>\n",
              "      <td>16.59</td>\n",
              "      <td>0.0</td>\n",
              "      <td>56.972603</td>\n",
              "      <td>12.000000</td>\n",
              "      <td>48.41</td>\n",
              "    </tr>\n",
              "    <tr>\n",
              "      <th>4</th>\n",
              "      <td>4</td>\n",
              "      <td>Commercial</td>\n",
              "      <td>66000.0</td>\n",
              "      <td>1985.0</td>\n",
              "      <td>16.59</td>\n",
              "      <td>0.0</td>\n",
              "      <td>56.972603</td>\n",
              "      <td>109.142051</td>\n",
              "      <td>3.90</td>\n",
              "    </tr>\n",
              "    <tr>\n",
              "      <th>...</th>\n",
              "      <td>...</td>\n",
              "      <td>...</td>\n",
              "      <td>...</td>\n",
              "      <td>...</td>\n",
              "      <td>...</td>\n",
              "      <td>...</td>\n",
              "      <td>...</td>\n",
              "      <td>...</td>\n",
              "      <td>...</td>\n",
              "    </tr>\n",
              "    <tr>\n",
              "      <th>75752</th>\n",
              "      <td>75752</td>\n",
              "      <td>Commercial</td>\n",
              "      <td>20410.0</td>\n",
              "      <td>1995.0</td>\n",
              "      <td>45.03</td>\n",
              "      <td>1.4</td>\n",
              "      <td>55.147541</td>\n",
              "      <td>109.142051</td>\n",
              "      <td>132.92</td>\n",
              "    </tr>\n",
              "    <tr>\n",
              "      <th>75753</th>\n",
              "      <td>75753</td>\n",
              "      <td>Residential</td>\n",
              "      <td>40489.0</td>\n",
              "      <td>1910.0</td>\n",
              "      <td>45.03</td>\n",
              "      <td>1.4</td>\n",
              "      <td>55.147541</td>\n",
              "      <td>109.142051</td>\n",
              "      <td>39.48</td>\n",
              "    </tr>\n",
              "    <tr>\n",
              "      <th>75754</th>\n",
              "      <td>75754</td>\n",
              "      <td>Commercial</td>\n",
              "      <td>28072.0</td>\n",
              "      <td>1917.0</td>\n",
              "      <td>106.32</td>\n",
              "      <td>36.6</td>\n",
              "      <td>47.911202</td>\n",
              "      <td>109.142051</td>\n",
              "      <td>48.40</td>\n",
              "    </tr>\n",
              "    <tr>\n",
              "      <th>75755</th>\n",
              "      <td>75755</td>\n",
              "      <td>Commercial</td>\n",
              "      <td>53575.0</td>\n",
              "      <td>2012.0</td>\n",
              "      <td>106.32</td>\n",
              "      <td>36.6</td>\n",
              "      <td>47.911202</td>\n",
              "      <td>109.142051</td>\n",
              "      <td>592.02</td>\n",
              "    </tr>\n",
              "    <tr>\n",
              "      <th>75756</th>\n",
              "      <td>75756</td>\n",
              "      <td>Residential</td>\n",
              "      <td>23888.0</td>\n",
              "      <td>1974.0</td>\n",
              "      <td>107.69</td>\n",
              "      <td>28.8</td>\n",
              "      <td>49.127397</td>\n",
              "      <td>109.142051</td>\n",
              "      <td>29.15</td>\n",
              "    </tr>\n",
              "  </tbody>\n",
              "</table>\n",
              "<p>73920 rows × 9 columns</p>\n",
              "</div>\n",
              "      <button class=\"colab-df-convert\" onclick=\"convertToInteractive('df-a92438a7-559a-44cc-bb0b-d14c000489a6')\"\n",
              "              title=\"Convert this dataframe to an interactive table.\"\n",
              "              style=\"display:none;\">\n",
              "        \n",
              "  <svg xmlns=\"http://www.w3.org/2000/svg\" height=\"24px\"viewBox=\"0 0 24 24\"\n",
              "       width=\"24px\">\n",
              "    <path d=\"M0 0h24v24H0V0z\" fill=\"none\"/>\n",
              "    <path d=\"M18.56 5.44l.94 2.06.94-2.06 2.06-.94-2.06-.94-.94-2.06-.94 2.06-2.06.94zm-11 1L8.5 8.5l.94-2.06 2.06-.94-2.06-.94L8.5 2.5l-.94 2.06-2.06.94zm10 10l.94 2.06.94-2.06 2.06-.94-2.06-.94-.94-2.06-.94 2.06-2.06.94z\"/><path d=\"M17.41 7.96l-1.37-1.37c-.4-.4-.92-.59-1.43-.59-.52 0-1.04.2-1.43.59L10.3 9.45l-7.72 7.72c-.78.78-.78 2.05 0 2.83L4 21.41c.39.39.9.59 1.41.59.51 0 1.02-.2 1.41-.59l7.78-7.78 2.81-2.81c.8-.78.8-2.07 0-2.86zM5.41 20L4 18.59l7.72-7.72 1.47 1.35L5.41 20z\"/>\n",
              "  </svg>\n",
              "      </button>\n",
              "      \n",
              "  <style>\n",
              "    .colab-df-container {\n",
              "      display:flex;\n",
              "      flex-wrap:wrap;\n",
              "      gap: 12px;\n",
              "    }\n",
              "\n",
              "    .colab-df-convert {\n",
              "      background-color: #E8F0FE;\n",
              "      border: none;\n",
              "      border-radius: 50%;\n",
              "      cursor: pointer;\n",
              "      display: none;\n",
              "      fill: #1967D2;\n",
              "      height: 32px;\n",
              "      padding: 0 0 0 0;\n",
              "      width: 32px;\n",
              "    }\n",
              "\n",
              "    .colab-df-convert:hover {\n",
              "      background-color: #E2EBFA;\n",
              "      box-shadow: 0px 1px 2px rgba(60, 64, 67, 0.3), 0px 1px 3px 1px rgba(60, 64, 67, 0.15);\n",
              "      fill: #174EA6;\n",
              "    }\n",
              "\n",
              "    [theme=dark] .colab-df-convert {\n",
              "      background-color: #3B4455;\n",
              "      fill: #D2E3FC;\n",
              "    }\n",
              "\n",
              "    [theme=dark] .colab-df-convert:hover {\n",
              "      background-color: #434B5C;\n",
              "      box-shadow: 0px 1px 3px 1px rgba(0, 0, 0, 0.15);\n",
              "      filter: drop-shadow(0px 1px 2px rgba(0, 0, 0, 0.3));\n",
              "      fill: #FFFFFF;\n",
              "    }\n",
              "  </style>\n",
              "\n",
              "      <script>\n",
              "        const buttonEl =\n",
              "          document.querySelector('#df-a92438a7-559a-44cc-bb0b-d14c000489a6 button.colab-df-convert');\n",
              "        buttonEl.style.display =\n",
              "          google.colab.kernel.accessAllowed ? 'block' : 'none';\n",
              "\n",
              "        async function convertToInteractive(key) {\n",
              "          const element = document.querySelector('#df-a92438a7-559a-44cc-bb0b-d14c000489a6');\n",
              "          const dataTable =\n",
              "            await google.colab.kernel.invokeFunction('convertToInteractive',\n",
              "                                                     [key], {});\n",
              "          if (!dataTable) return;\n",
              "\n",
              "          const docLinkHtml = 'Like what you see? Visit the ' +\n",
              "            '<a target=\"_blank\" href=https://colab.research.google.com/notebooks/data_table.ipynb>data table notebook</a>'\n",
              "            + ' to learn more about interactive tables.';\n",
              "          element.innerHTML = '';\n",
              "          dataTable['output_type'] = 'display_data';\n",
              "          await google.colab.output.renderOutput(dataTable, element);\n",
              "          const docLink = document.createElement('div');\n",
              "          docLink.innerHTML = docLinkHtml;\n",
              "          element.appendChild(docLink);\n",
              "        }\n",
              "      </script>\n",
              "    </div>\n",
              "  </div>\n",
              "  "
            ]
          },
          "metadata": {},
          "execution_count": 53
        }
      ]
    },
    {
      "cell_type": "code",
      "source": [
        "#@title 7. Encode the categorical variables; you can use label encoding, one hot encoding, or..."
      ],
      "metadata": {
        "id": "6NxSwNaDT98Y"
      },
      "execution_count": null,
      "outputs": []
    },
    {
      "cell_type": "code",
      "source": [
        "dummies = pd.get_dummies(climatedf.building_class)\n",
        "dummies"
      ],
      "metadata": {
        "colab": {
          "base_uri": "https://localhost:8080/",
          "height": 424
        },
        "id": "kg7qaPAqUDCr",
        "outputId": "02d64d26-4975-42cf-bdd4-2f58943dac59"
      },
      "execution_count": 57,
      "outputs": [
        {
          "output_type": "execute_result",
          "data": {
            "text/plain": [
              "       Commercial  Residential\n",
              "0               1            0\n",
              "1               1            0\n",
              "2               1            0\n",
              "3               1            0\n",
              "4               1            0\n",
              "...           ...          ...\n",
              "75752           1            0\n",
              "75753           0            1\n",
              "75754           1            0\n",
              "75755           1            0\n",
              "75756           0            1\n",
              "\n",
              "[73920 rows x 2 columns]"
            ],
            "text/html": [
              "\n",
              "  <div id=\"df-c5c00f1c-c64e-4af2-8bcc-20d9d8e2f6cb\">\n",
              "    <div class=\"colab-df-container\">\n",
              "      <div>\n",
              "<style scoped>\n",
              "    .dataframe tbody tr th:only-of-type {\n",
              "        vertical-align: middle;\n",
              "    }\n",
              "\n",
              "    .dataframe tbody tr th {\n",
              "        vertical-align: top;\n",
              "    }\n",
              "\n",
              "    .dataframe thead th {\n",
              "        text-align: right;\n",
              "    }\n",
              "</style>\n",
              "<table border=\"1\" class=\"dataframe\">\n",
              "  <thead>\n",
              "    <tr style=\"text-align: right;\">\n",
              "      <th></th>\n",
              "      <th>Commercial</th>\n",
              "      <th>Residential</th>\n",
              "    </tr>\n",
              "  </thead>\n",
              "  <tbody>\n",
              "    <tr>\n",
              "      <th>0</th>\n",
              "      <td>1</td>\n",
              "      <td>0</td>\n",
              "    </tr>\n",
              "    <tr>\n",
              "      <th>1</th>\n",
              "      <td>1</td>\n",
              "      <td>0</td>\n",
              "    </tr>\n",
              "    <tr>\n",
              "      <th>2</th>\n",
              "      <td>1</td>\n",
              "      <td>0</td>\n",
              "    </tr>\n",
              "    <tr>\n",
              "      <th>3</th>\n",
              "      <td>1</td>\n",
              "      <td>0</td>\n",
              "    </tr>\n",
              "    <tr>\n",
              "      <th>4</th>\n",
              "      <td>1</td>\n",
              "      <td>0</td>\n",
              "    </tr>\n",
              "    <tr>\n",
              "      <th>...</th>\n",
              "      <td>...</td>\n",
              "      <td>...</td>\n",
              "    </tr>\n",
              "    <tr>\n",
              "      <th>75752</th>\n",
              "      <td>1</td>\n",
              "      <td>0</td>\n",
              "    </tr>\n",
              "    <tr>\n",
              "      <th>75753</th>\n",
              "      <td>0</td>\n",
              "      <td>1</td>\n",
              "    </tr>\n",
              "    <tr>\n",
              "      <th>75754</th>\n",
              "      <td>1</td>\n",
              "      <td>0</td>\n",
              "    </tr>\n",
              "    <tr>\n",
              "      <th>75755</th>\n",
              "      <td>1</td>\n",
              "      <td>0</td>\n",
              "    </tr>\n",
              "    <tr>\n",
              "      <th>75756</th>\n",
              "      <td>0</td>\n",
              "      <td>1</td>\n",
              "    </tr>\n",
              "  </tbody>\n",
              "</table>\n",
              "<p>73920 rows × 2 columns</p>\n",
              "</div>\n",
              "      <button class=\"colab-df-convert\" onclick=\"convertToInteractive('df-c5c00f1c-c64e-4af2-8bcc-20d9d8e2f6cb')\"\n",
              "              title=\"Convert this dataframe to an interactive table.\"\n",
              "              style=\"display:none;\">\n",
              "        \n",
              "  <svg xmlns=\"http://www.w3.org/2000/svg\" height=\"24px\"viewBox=\"0 0 24 24\"\n",
              "       width=\"24px\">\n",
              "    <path d=\"M0 0h24v24H0V0z\" fill=\"none\"/>\n",
              "    <path d=\"M18.56 5.44l.94 2.06.94-2.06 2.06-.94-2.06-.94-.94-2.06-.94 2.06-2.06.94zm-11 1L8.5 8.5l.94-2.06 2.06-.94-2.06-.94L8.5 2.5l-.94 2.06-2.06.94zm10 10l.94 2.06.94-2.06 2.06-.94-2.06-.94-.94-2.06-.94 2.06-2.06.94z\"/><path d=\"M17.41 7.96l-1.37-1.37c-.4-.4-.92-.59-1.43-.59-.52 0-1.04.2-1.43.59L10.3 9.45l-7.72 7.72c-.78.78-.78 2.05 0 2.83L4 21.41c.39.39.9.59 1.41.59.51 0 1.02-.2 1.41-.59l7.78-7.78 2.81-2.81c.8-.78.8-2.07 0-2.86zM5.41 20L4 18.59l7.72-7.72 1.47 1.35L5.41 20z\"/>\n",
              "  </svg>\n",
              "      </button>\n",
              "      \n",
              "  <style>\n",
              "    .colab-df-container {\n",
              "      display:flex;\n",
              "      flex-wrap:wrap;\n",
              "      gap: 12px;\n",
              "    }\n",
              "\n",
              "    .colab-df-convert {\n",
              "      background-color: #E8F0FE;\n",
              "      border: none;\n",
              "      border-radius: 50%;\n",
              "      cursor: pointer;\n",
              "      display: none;\n",
              "      fill: #1967D2;\n",
              "      height: 32px;\n",
              "      padding: 0 0 0 0;\n",
              "      width: 32px;\n",
              "    }\n",
              "\n",
              "    .colab-df-convert:hover {\n",
              "      background-color: #E2EBFA;\n",
              "      box-shadow: 0px 1px 2px rgba(60, 64, 67, 0.3), 0px 1px 3px 1px rgba(60, 64, 67, 0.15);\n",
              "      fill: #174EA6;\n",
              "    }\n",
              "\n",
              "    [theme=dark] .colab-df-convert {\n",
              "      background-color: #3B4455;\n",
              "      fill: #D2E3FC;\n",
              "    }\n",
              "\n",
              "    [theme=dark] .colab-df-convert:hover {\n",
              "      background-color: #434B5C;\n",
              "      box-shadow: 0px 1px 3px 1px rgba(0, 0, 0, 0.15);\n",
              "      filter: drop-shadow(0px 1px 2px rgba(0, 0, 0, 0.3));\n",
              "      fill: #FFFFFF;\n",
              "    }\n",
              "  </style>\n",
              "\n",
              "      <script>\n",
              "        const buttonEl =\n",
              "          document.querySelector('#df-c5c00f1c-c64e-4af2-8bcc-20d9d8e2f6cb button.colab-df-convert');\n",
              "        buttonEl.style.display =\n",
              "          google.colab.kernel.accessAllowed ? 'block' : 'none';\n",
              "\n",
              "        async function convertToInteractive(key) {\n",
              "          const element = document.querySelector('#df-c5c00f1c-c64e-4af2-8bcc-20d9d8e2f6cb');\n",
              "          const dataTable =\n",
              "            await google.colab.kernel.invokeFunction('convertToInteractive',\n",
              "                                                     [key], {});\n",
              "          if (!dataTable) return;\n",
              "\n",
              "          const docLinkHtml = 'Like what you see? Visit the ' +\n",
              "            '<a target=\"_blank\" href=https://colab.research.google.com/notebooks/data_table.ipynb>data table notebook</a>'\n",
              "            + ' to learn more about interactive tables.';\n",
              "          element.innerHTML = '';\n",
              "          dataTable['output_type'] = 'display_data';\n",
              "          await google.colab.output.renderOutput(dataTable, element);\n",
              "          const docLink = document.createElement('div');\n",
              "          docLink.innerHTML = docLinkHtml;\n",
              "          element.appendChild(docLink);\n",
              "        }\n",
              "      </script>\n",
              "    </div>\n",
              "  </div>\n",
              "  "
            ]
          },
          "metadata": {},
          "execution_count": 57
        }
      ]
    },
    {
      "cell_type": "code",
      "source": [
        "merged = pd.concat([climatedf,dummies],axis=1)\n",
        "merged"
      ],
      "metadata": {
        "colab": {
          "base_uri": "https://localhost:8080/",
          "height": 488
        },
        "id": "N_tqeCWoXkBu",
        "outputId": "ddfa58c6-dee9-4721-e5bd-ac20c88ac1d3"
      },
      "execution_count": 58,
      "outputs": [
        {
          "output_type": "execute_result",
          "data": {
            "text/plain": [
              "          id building_class  floor_area  year_built  precipitation_inches  \\\n",
              "0          0     Commercial     61242.0      1942.0                 16.59   \n",
              "1          1     Commercial    274000.0      1955.0                 16.59   \n",
              "2          2     Commercial    280025.0      1951.0                 16.59   \n",
              "3          3     Commercial     55325.0      1980.0                 16.59   \n",
              "4          4     Commercial     66000.0      1985.0                 16.59   \n",
              "...      ...            ...         ...         ...                   ...   \n",
              "75752  75752     Commercial     20410.0      1995.0                 45.03   \n",
              "75753  75753    Residential     40489.0      1910.0                 45.03   \n",
              "75754  75754     Commercial     28072.0      1917.0                106.32   \n",
              "75755  75755     Commercial     53575.0      2012.0                106.32   \n",
              "75756  75756    Residential     23888.0      1974.0                107.69   \n",
              "\n",
              "       snowfall_inches   avg_temp  days_with_fog  site_eui  Commercial  \\\n",
              "0                  0.0  56.972603     109.142051    248.68           1   \n",
              "1                  0.0  56.972603      12.000000     26.50           1   \n",
              "2                  0.0  56.972603      12.000000     24.69           1   \n",
              "3                  0.0  56.972603      12.000000     48.41           1   \n",
              "4                  0.0  56.972603     109.142051      3.90           1   \n",
              "...                ...        ...            ...       ...         ...   \n",
              "75752              1.4  55.147541     109.142051    132.92           1   \n",
              "75753              1.4  55.147541     109.142051     39.48           0   \n",
              "75754             36.6  47.911202     109.142051     48.40           1   \n",
              "75755             36.6  47.911202     109.142051    592.02           1   \n",
              "75756             28.8  49.127397     109.142051     29.15           0   \n",
              "\n",
              "       Residential  \n",
              "0                0  \n",
              "1                0  \n",
              "2                0  \n",
              "3                0  \n",
              "4                0  \n",
              "...            ...  \n",
              "75752            0  \n",
              "75753            1  \n",
              "75754            0  \n",
              "75755            0  \n",
              "75756            1  \n",
              "\n",
              "[73920 rows x 11 columns]"
            ],
            "text/html": [
              "\n",
              "  <div id=\"df-d93f144a-244e-460d-b6b9-c943c06c9c2d\">\n",
              "    <div class=\"colab-df-container\">\n",
              "      <div>\n",
              "<style scoped>\n",
              "    .dataframe tbody tr th:only-of-type {\n",
              "        vertical-align: middle;\n",
              "    }\n",
              "\n",
              "    .dataframe tbody tr th {\n",
              "        vertical-align: top;\n",
              "    }\n",
              "\n",
              "    .dataframe thead th {\n",
              "        text-align: right;\n",
              "    }\n",
              "</style>\n",
              "<table border=\"1\" class=\"dataframe\">\n",
              "  <thead>\n",
              "    <tr style=\"text-align: right;\">\n",
              "      <th></th>\n",
              "      <th>id</th>\n",
              "      <th>building_class</th>\n",
              "      <th>floor_area</th>\n",
              "      <th>year_built</th>\n",
              "      <th>precipitation_inches</th>\n",
              "      <th>snowfall_inches</th>\n",
              "      <th>avg_temp</th>\n",
              "      <th>days_with_fog</th>\n",
              "      <th>site_eui</th>\n",
              "      <th>Commercial</th>\n",
              "      <th>Residential</th>\n",
              "    </tr>\n",
              "  </thead>\n",
              "  <tbody>\n",
              "    <tr>\n",
              "      <th>0</th>\n",
              "      <td>0</td>\n",
              "      <td>Commercial</td>\n",
              "      <td>61242.0</td>\n",
              "      <td>1942.0</td>\n",
              "      <td>16.59</td>\n",
              "      <td>0.0</td>\n",
              "      <td>56.972603</td>\n",
              "      <td>109.142051</td>\n",
              "      <td>248.68</td>\n",
              "      <td>1</td>\n",
              "      <td>0</td>\n",
              "    </tr>\n",
              "    <tr>\n",
              "      <th>1</th>\n",
              "      <td>1</td>\n",
              "      <td>Commercial</td>\n",
              "      <td>274000.0</td>\n",
              "      <td>1955.0</td>\n",
              "      <td>16.59</td>\n",
              "      <td>0.0</td>\n",
              "      <td>56.972603</td>\n",
              "      <td>12.000000</td>\n",
              "      <td>26.50</td>\n",
              "      <td>1</td>\n",
              "      <td>0</td>\n",
              "    </tr>\n",
              "    <tr>\n",
              "      <th>2</th>\n",
              "      <td>2</td>\n",
              "      <td>Commercial</td>\n",
              "      <td>280025.0</td>\n",
              "      <td>1951.0</td>\n",
              "      <td>16.59</td>\n",
              "      <td>0.0</td>\n",
              "      <td>56.972603</td>\n",
              "      <td>12.000000</td>\n",
              "      <td>24.69</td>\n",
              "      <td>1</td>\n",
              "      <td>0</td>\n",
              "    </tr>\n",
              "    <tr>\n",
              "      <th>3</th>\n",
              "      <td>3</td>\n",
              "      <td>Commercial</td>\n",
              "      <td>55325.0</td>\n",
              "      <td>1980.0</td>\n",
              "      <td>16.59</td>\n",
              "      <td>0.0</td>\n",
              "      <td>56.972603</td>\n",
              "      <td>12.000000</td>\n",
              "      <td>48.41</td>\n",
              "      <td>1</td>\n",
              "      <td>0</td>\n",
              "    </tr>\n",
              "    <tr>\n",
              "      <th>4</th>\n",
              "      <td>4</td>\n",
              "      <td>Commercial</td>\n",
              "      <td>66000.0</td>\n",
              "      <td>1985.0</td>\n",
              "      <td>16.59</td>\n",
              "      <td>0.0</td>\n",
              "      <td>56.972603</td>\n",
              "      <td>109.142051</td>\n",
              "      <td>3.90</td>\n",
              "      <td>1</td>\n",
              "      <td>0</td>\n",
              "    </tr>\n",
              "    <tr>\n",
              "      <th>...</th>\n",
              "      <td>...</td>\n",
              "      <td>...</td>\n",
              "      <td>...</td>\n",
              "      <td>...</td>\n",
              "      <td>...</td>\n",
              "      <td>...</td>\n",
              "      <td>...</td>\n",
              "      <td>...</td>\n",
              "      <td>...</td>\n",
              "      <td>...</td>\n",
              "      <td>...</td>\n",
              "    </tr>\n",
              "    <tr>\n",
              "      <th>75752</th>\n",
              "      <td>75752</td>\n",
              "      <td>Commercial</td>\n",
              "      <td>20410.0</td>\n",
              "      <td>1995.0</td>\n",
              "      <td>45.03</td>\n",
              "      <td>1.4</td>\n",
              "      <td>55.147541</td>\n",
              "      <td>109.142051</td>\n",
              "      <td>132.92</td>\n",
              "      <td>1</td>\n",
              "      <td>0</td>\n",
              "    </tr>\n",
              "    <tr>\n",
              "      <th>75753</th>\n",
              "      <td>75753</td>\n",
              "      <td>Residential</td>\n",
              "      <td>40489.0</td>\n",
              "      <td>1910.0</td>\n",
              "      <td>45.03</td>\n",
              "      <td>1.4</td>\n",
              "      <td>55.147541</td>\n",
              "      <td>109.142051</td>\n",
              "      <td>39.48</td>\n",
              "      <td>0</td>\n",
              "      <td>1</td>\n",
              "    </tr>\n",
              "    <tr>\n",
              "      <th>75754</th>\n",
              "      <td>75754</td>\n",
              "      <td>Commercial</td>\n",
              "      <td>28072.0</td>\n",
              "      <td>1917.0</td>\n",
              "      <td>106.32</td>\n",
              "      <td>36.6</td>\n",
              "      <td>47.911202</td>\n",
              "      <td>109.142051</td>\n",
              "      <td>48.40</td>\n",
              "      <td>1</td>\n",
              "      <td>0</td>\n",
              "    </tr>\n",
              "    <tr>\n",
              "      <th>75755</th>\n",
              "      <td>75755</td>\n",
              "      <td>Commercial</td>\n",
              "      <td>53575.0</td>\n",
              "      <td>2012.0</td>\n",
              "      <td>106.32</td>\n",
              "      <td>36.6</td>\n",
              "      <td>47.911202</td>\n",
              "      <td>109.142051</td>\n",
              "      <td>592.02</td>\n",
              "      <td>1</td>\n",
              "      <td>0</td>\n",
              "    </tr>\n",
              "    <tr>\n",
              "      <th>75756</th>\n",
              "      <td>75756</td>\n",
              "      <td>Residential</td>\n",
              "      <td>23888.0</td>\n",
              "      <td>1974.0</td>\n",
              "      <td>107.69</td>\n",
              "      <td>28.8</td>\n",
              "      <td>49.127397</td>\n",
              "      <td>109.142051</td>\n",
              "      <td>29.15</td>\n",
              "      <td>0</td>\n",
              "      <td>1</td>\n",
              "    </tr>\n",
              "  </tbody>\n",
              "</table>\n",
              "<p>73920 rows × 11 columns</p>\n",
              "</div>\n",
              "      <button class=\"colab-df-convert\" onclick=\"convertToInteractive('df-d93f144a-244e-460d-b6b9-c943c06c9c2d')\"\n",
              "              title=\"Convert this dataframe to an interactive table.\"\n",
              "              style=\"display:none;\">\n",
              "        \n",
              "  <svg xmlns=\"http://www.w3.org/2000/svg\" height=\"24px\"viewBox=\"0 0 24 24\"\n",
              "       width=\"24px\">\n",
              "    <path d=\"M0 0h24v24H0V0z\" fill=\"none\"/>\n",
              "    <path d=\"M18.56 5.44l.94 2.06.94-2.06 2.06-.94-2.06-.94-.94-2.06-.94 2.06-2.06.94zm-11 1L8.5 8.5l.94-2.06 2.06-.94-2.06-.94L8.5 2.5l-.94 2.06-2.06.94zm10 10l.94 2.06.94-2.06 2.06-.94-2.06-.94-.94-2.06-.94 2.06-2.06.94z\"/><path d=\"M17.41 7.96l-1.37-1.37c-.4-.4-.92-.59-1.43-.59-.52 0-1.04.2-1.43.59L10.3 9.45l-7.72 7.72c-.78.78-.78 2.05 0 2.83L4 21.41c.39.39.9.59 1.41.59.51 0 1.02-.2 1.41-.59l7.78-7.78 2.81-2.81c.8-.78.8-2.07 0-2.86zM5.41 20L4 18.59l7.72-7.72 1.47 1.35L5.41 20z\"/>\n",
              "  </svg>\n",
              "      </button>\n",
              "      \n",
              "  <style>\n",
              "    .colab-df-container {\n",
              "      display:flex;\n",
              "      flex-wrap:wrap;\n",
              "      gap: 12px;\n",
              "    }\n",
              "\n",
              "    .colab-df-convert {\n",
              "      background-color: #E8F0FE;\n",
              "      border: none;\n",
              "      border-radius: 50%;\n",
              "      cursor: pointer;\n",
              "      display: none;\n",
              "      fill: #1967D2;\n",
              "      height: 32px;\n",
              "      padding: 0 0 0 0;\n",
              "      width: 32px;\n",
              "    }\n",
              "\n",
              "    .colab-df-convert:hover {\n",
              "      background-color: #E2EBFA;\n",
              "      box-shadow: 0px 1px 2px rgba(60, 64, 67, 0.3), 0px 1px 3px 1px rgba(60, 64, 67, 0.15);\n",
              "      fill: #174EA6;\n",
              "    }\n",
              "\n",
              "    [theme=dark] .colab-df-convert {\n",
              "      background-color: #3B4455;\n",
              "      fill: #D2E3FC;\n",
              "    }\n",
              "\n",
              "    [theme=dark] .colab-df-convert:hover {\n",
              "      background-color: #434B5C;\n",
              "      box-shadow: 0px 1px 3px 1px rgba(0, 0, 0, 0.15);\n",
              "      filter: drop-shadow(0px 1px 2px rgba(0, 0, 0, 0.3));\n",
              "      fill: #FFFFFF;\n",
              "    }\n",
              "  </style>\n",
              "\n",
              "      <script>\n",
              "        const buttonEl =\n",
              "          document.querySelector('#df-d93f144a-244e-460d-b6b9-c943c06c9c2d button.colab-df-convert');\n",
              "        buttonEl.style.display =\n",
              "          google.colab.kernel.accessAllowed ? 'block' : 'none';\n",
              "\n",
              "        async function convertToInteractive(key) {\n",
              "          const element = document.querySelector('#df-d93f144a-244e-460d-b6b9-c943c06c9c2d');\n",
              "          const dataTable =\n",
              "            await google.colab.kernel.invokeFunction('convertToInteractive',\n",
              "                                                     [key], {});\n",
              "          if (!dataTable) return;\n",
              "\n",
              "          const docLinkHtml = 'Like what you see? Visit the ' +\n",
              "            '<a target=\"_blank\" href=https://colab.research.google.com/notebooks/data_table.ipynb>data table notebook</a>'\n",
              "            + ' to learn more about interactive tables.';\n",
              "          element.innerHTML = '';\n",
              "          dataTable['output_type'] = 'display_data';\n",
              "          await google.colab.output.renderOutput(dataTable, element);\n",
              "          const docLink = document.createElement('div');\n",
              "          docLink.innerHTML = docLinkHtml;\n",
              "          element.appendChild(docLink);\n",
              "        }\n",
              "      </script>\n",
              "    </div>\n",
              "  </div>\n",
              "  "
            ]
          },
          "metadata": {},
          "execution_count": 58
        }
      ]
    },
    {
      "cell_type": "code",
      "source": [
        "  final = merged.drop(['building_class'], axis=1)\n",
        "  final"
      ],
      "metadata": {
        "colab": {
          "base_uri": "https://localhost:8080/",
          "height": 488
        },
        "id": "MWa_liNeY_EU",
        "outputId": "cb767eba-c046-4f5e-b199-fc6aa4affe88"
      },
      "execution_count": 60,
      "outputs": [
        {
          "output_type": "execute_result",
          "data": {
            "text/plain": [
              "          id  floor_area  year_built  precipitation_inches  snowfall_inches  \\\n",
              "0          0     61242.0      1942.0                 16.59              0.0   \n",
              "1          1    274000.0      1955.0                 16.59              0.0   \n",
              "2          2    280025.0      1951.0                 16.59              0.0   \n",
              "3          3     55325.0      1980.0                 16.59              0.0   \n",
              "4          4     66000.0      1985.0                 16.59              0.0   \n",
              "...      ...         ...         ...                   ...              ...   \n",
              "75752  75752     20410.0      1995.0                 45.03              1.4   \n",
              "75753  75753     40489.0      1910.0                 45.03              1.4   \n",
              "75754  75754     28072.0      1917.0                106.32             36.6   \n",
              "75755  75755     53575.0      2012.0                106.32             36.6   \n",
              "75756  75756     23888.0      1974.0                107.69             28.8   \n",
              "\n",
              "        avg_temp  days_with_fog  site_eui  Commercial  Residential  \n",
              "0      56.972603     109.142051    248.68           1            0  \n",
              "1      56.972603      12.000000     26.50           1            0  \n",
              "2      56.972603      12.000000     24.69           1            0  \n",
              "3      56.972603      12.000000     48.41           1            0  \n",
              "4      56.972603     109.142051      3.90           1            0  \n",
              "...          ...            ...       ...         ...          ...  \n",
              "75752  55.147541     109.142051    132.92           1            0  \n",
              "75753  55.147541     109.142051     39.48           0            1  \n",
              "75754  47.911202     109.142051     48.40           1            0  \n",
              "75755  47.911202     109.142051    592.02           1            0  \n",
              "75756  49.127397     109.142051     29.15           0            1  \n",
              "\n",
              "[73920 rows x 10 columns]"
            ],
            "text/html": [
              "\n",
              "  <div id=\"df-36c4d450-a571-40d4-b778-eac6c31ff8c3\">\n",
              "    <div class=\"colab-df-container\">\n",
              "      <div>\n",
              "<style scoped>\n",
              "    .dataframe tbody tr th:only-of-type {\n",
              "        vertical-align: middle;\n",
              "    }\n",
              "\n",
              "    .dataframe tbody tr th {\n",
              "        vertical-align: top;\n",
              "    }\n",
              "\n",
              "    .dataframe thead th {\n",
              "        text-align: right;\n",
              "    }\n",
              "</style>\n",
              "<table border=\"1\" class=\"dataframe\">\n",
              "  <thead>\n",
              "    <tr style=\"text-align: right;\">\n",
              "      <th></th>\n",
              "      <th>id</th>\n",
              "      <th>floor_area</th>\n",
              "      <th>year_built</th>\n",
              "      <th>precipitation_inches</th>\n",
              "      <th>snowfall_inches</th>\n",
              "      <th>avg_temp</th>\n",
              "      <th>days_with_fog</th>\n",
              "      <th>site_eui</th>\n",
              "      <th>Commercial</th>\n",
              "      <th>Residential</th>\n",
              "    </tr>\n",
              "  </thead>\n",
              "  <tbody>\n",
              "    <tr>\n",
              "      <th>0</th>\n",
              "      <td>0</td>\n",
              "      <td>61242.0</td>\n",
              "      <td>1942.0</td>\n",
              "      <td>16.59</td>\n",
              "      <td>0.0</td>\n",
              "      <td>56.972603</td>\n",
              "      <td>109.142051</td>\n",
              "      <td>248.68</td>\n",
              "      <td>1</td>\n",
              "      <td>0</td>\n",
              "    </tr>\n",
              "    <tr>\n",
              "      <th>1</th>\n",
              "      <td>1</td>\n",
              "      <td>274000.0</td>\n",
              "      <td>1955.0</td>\n",
              "      <td>16.59</td>\n",
              "      <td>0.0</td>\n",
              "      <td>56.972603</td>\n",
              "      <td>12.000000</td>\n",
              "      <td>26.50</td>\n",
              "      <td>1</td>\n",
              "      <td>0</td>\n",
              "    </tr>\n",
              "    <tr>\n",
              "      <th>2</th>\n",
              "      <td>2</td>\n",
              "      <td>280025.0</td>\n",
              "      <td>1951.0</td>\n",
              "      <td>16.59</td>\n",
              "      <td>0.0</td>\n",
              "      <td>56.972603</td>\n",
              "      <td>12.000000</td>\n",
              "      <td>24.69</td>\n",
              "      <td>1</td>\n",
              "      <td>0</td>\n",
              "    </tr>\n",
              "    <tr>\n",
              "      <th>3</th>\n",
              "      <td>3</td>\n",
              "      <td>55325.0</td>\n",
              "      <td>1980.0</td>\n",
              "      <td>16.59</td>\n",
              "      <td>0.0</td>\n",
              "      <td>56.972603</td>\n",
              "      <td>12.000000</td>\n",
              "      <td>48.41</td>\n",
              "      <td>1</td>\n",
              "      <td>0</td>\n",
              "    </tr>\n",
              "    <tr>\n",
              "      <th>4</th>\n",
              "      <td>4</td>\n",
              "      <td>66000.0</td>\n",
              "      <td>1985.0</td>\n",
              "      <td>16.59</td>\n",
              "      <td>0.0</td>\n",
              "      <td>56.972603</td>\n",
              "      <td>109.142051</td>\n",
              "      <td>3.90</td>\n",
              "      <td>1</td>\n",
              "      <td>0</td>\n",
              "    </tr>\n",
              "    <tr>\n",
              "      <th>...</th>\n",
              "      <td>...</td>\n",
              "      <td>...</td>\n",
              "      <td>...</td>\n",
              "      <td>...</td>\n",
              "      <td>...</td>\n",
              "      <td>...</td>\n",
              "      <td>...</td>\n",
              "      <td>...</td>\n",
              "      <td>...</td>\n",
              "      <td>...</td>\n",
              "    </tr>\n",
              "    <tr>\n",
              "      <th>75752</th>\n",
              "      <td>75752</td>\n",
              "      <td>20410.0</td>\n",
              "      <td>1995.0</td>\n",
              "      <td>45.03</td>\n",
              "      <td>1.4</td>\n",
              "      <td>55.147541</td>\n",
              "      <td>109.142051</td>\n",
              "      <td>132.92</td>\n",
              "      <td>1</td>\n",
              "      <td>0</td>\n",
              "    </tr>\n",
              "    <tr>\n",
              "      <th>75753</th>\n",
              "      <td>75753</td>\n",
              "      <td>40489.0</td>\n",
              "      <td>1910.0</td>\n",
              "      <td>45.03</td>\n",
              "      <td>1.4</td>\n",
              "      <td>55.147541</td>\n",
              "      <td>109.142051</td>\n",
              "      <td>39.48</td>\n",
              "      <td>0</td>\n",
              "      <td>1</td>\n",
              "    </tr>\n",
              "    <tr>\n",
              "      <th>75754</th>\n",
              "      <td>75754</td>\n",
              "      <td>28072.0</td>\n",
              "      <td>1917.0</td>\n",
              "      <td>106.32</td>\n",
              "      <td>36.6</td>\n",
              "      <td>47.911202</td>\n",
              "      <td>109.142051</td>\n",
              "      <td>48.40</td>\n",
              "      <td>1</td>\n",
              "      <td>0</td>\n",
              "    </tr>\n",
              "    <tr>\n",
              "      <th>75755</th>\n",
              "      <td>75755</td>\n",
              "      <td>53575.0</td>\n",
              "      <td>2012.0</td>\n",
              "      <td>106.32</td>\n",
              "      <td>36.6</td>\n",
              "      <td>47.911202</td>\n",
              "      <td>109.142051</td>\n",
              "      <td>592.02</td>\n",
              "      <td>1</td>\n",
              "      <td>0</td>\n",
              "    </tr>\n",
              "    <tr>\n",
              "      <th>75756</th>\n",
              "      <td>75756</td>\n",
              "      <td>23888.0</td>\n",
              "      <td>1974.0</td>\n",
              "      <td>107.69</td>\n",
              "      <td>28.8</td>\n",
              "      <td>49.127397</td>\n",
              "      <td>109.142051</td>\n",
              "      <td>29.15</td>\n",
              "      <td>0</td>\n",
              "      <td>1</td>\n",
              "    </tr>\n",
              "  </tbody>\n",
              "</table>\n",
              "<p>73920 rows × 10 columns</p>\n",
              "</div>\n",
              "      <button class=\"colab-df-convert\" onclick=\"convertToInteractive('df-36c4d450-a571-40d4-b778-eac6c31ff8c3')\"\n",
              "              title=\"Convert this dataframe to an interactive table.\"\n",
              "              style=\"display:none;\">\n",
              "        \n",
              "  <svg xmlns=\"http://www.w3.org/2000/svg\" height=\"24px\"viewBox=\"0 0 24 24\"\n",
              "       width=\"24px\">\n",
              "    <path d=\"M0 0h24v24H0V0z\" fill=\"none\"/>\n",
              "    <path d=\"M18.56 5.44l.94 2.06.94-2.06 2.06-.94-2.06-.94-.94-2.06-.94 2.06-2.06.94zm-11 1L8.5 8.5l.94-2.06 2.06-.94-2.06-.94L8.5 2.5l-.94 2.06-2.06.94zm10 10l.94 2.06.94-2.06 2.06-.94-2.06-.94-.94-2.06-.94 2.06-2.06.94z\"/><path d=\"M17.41 7.96l-1.37-1.37c-.4-.4-.92-.59-1.43-.59-.52 0-1.04.2-1.43.59L10.3 9.45l-7.72 7.72c-.78.78-.78 2.05 0 2.83L4 21.41c.39.39.9.59 1.41.59.51 0 1.02-.2 1.41-.59l7.78-7.78 2.81-2.81c.8-.78.8-2.07 0-2.86zM5.41 20L4 18.59l7.72-7.72 1.47 1.35L5.41 20z\"/>\n",
              "  </svg>\n",
              "      </button>\n",
              "      \n",
              "  <style>\n",
              "    .colab-df-container {\n",
              "      display:flex;\n",
              "      flex-wrap:wrap;\n",
              "      gap: 12px;\n",
              "    }\n",
              "\n",
              "    .colab-df-convert {\n",
              "      background-color: #E8F0FE;\n",
              "      border: none;\n",
              "      border-radius: 50%;\n",
              "      cursor: pointer;\n",
              "      display: none;\n",
              "      fill: #1967D2;\n",
              "      height: 32px;\n",
              "      padding: 0 0 0 0;\n",
              "      width: 32px;\n",
              "    }\n",
              "\n",
              "    .colab-df-convert:hover {\n",
              "      background-color: #E2EBFA;\n",
              "      box-shadow: 0px 1px 2px rgba(60, 64, 67, 0.3), 0px 1px 3px 1px rgba(60, 64, 67, 0.15);\n",
              "      fill: #174EA6;\n",
              "    }\n",
              "\n",
              "    [theme=dark] .colab-df-convert {\n",
              "      background-color: #3B4455;\n",
              "      fill: #D2E3FC;\n",
              "    }\n",
              "\n",
              "    [theme=dark] .colab-df-convert:hover {\n",
              "      background-color: #434B5C;\n",
              "      box-shadow: 0px 1px 3px 1px rgba(0, 0, 0, 0.15);\n",
              "      filter: drop-shadow(0px 1px 2px rgba(0, 0, 0, 0.3));\n",
              "      fill: #FFFFFF;\n",
              "    }\n",
              "  </style>\n",
              "\n",
              "      <script>\n",
              "        const buttonEl =\n",
              "          document.querySelector('#df-36c4d450-a571-40d4-b778-eac6c31ff8c3 button.colab-df-convert');\n",
              "        buttonEl.style.display =\n",
              "          google.colab.kernel.accessAllowed ? 'block' : 'none';\n",
              "\n",
              "        async function convertToInteractive(key) {\n",
              "          const element = document.querySelector('#df-36c4d450-a571-40d4-b778-eac6c31ff8c3');\n",
              "          const dataTable =\n",
              "            await google.colab.kernel.invokeFunction('convertToInteractive',\n",
              "                                                     [key], {});\n",
              "          if (!dataTable) return;\n",
              "\n",
              "          const docLinkHtml = 'Like what you see? Visit the ' +\n",
              "            '<a target=\"_blank\" href=https://colab.research.google.com/notebooks/data_table.ipynb>data table notebook</a>'\n",
              "            + ' to learn more about interactive tables.';\n",
              "          element.innerHTML = '';\n",
              "          dataTable['output_type'] = 'display_data';\n",
              "          await google.colab.output.renderOutput(dataTable, element);\n",
              "          const docLink = document.createElement('div');\n",
              "          docLink.innerHTML = docLinkHtml;\n",
              "          element.appendChild(docLink);\n",
              "        }\n",
              "      </script>\n",
              "    </div>\n",
              "  </div>\n",
              "  "
            ]
          },
          "metadata": {},
          "execution_count": 60
        }
      ]
    },
    {
      "cell_type": "code",
      "source": [
        "#@title 8. Create the boxplot and show the outlier."
      ],
      "metadata": {
        "id": "4pRqYb0hbXLh"
      },
      "execution_count": 62,
      "outputs": []
    },
    {
      "cell_type": "code",
      "source": [
        "import matplotlib.pyplot as plt\n"
      ],
      "metadata": {
        "id": "ulrmXbc5dJ9d"
      },
      "execution_count": 65,
      "outputs": []
    },
    {
      "cell_type": "code",
      "source": [
        "climatedf.boxplot(column=['floor_area','year_built','precipitation_inches','snowfall_inches','avg_temp','days_with_fog','site_eui'], figsize=(15,15))\n",
        "plt.show()"
      ],
      "metadata": {
        "colab": {
          "base_uri": "https://localhost:8080/",
          "height": 875
        },
        "id": "rKrsx3Z3p3Hg",
        "outputId": "57d4da4f-8960-4f8c-c6e2-72d60375c73c"
      },
      "execution_count": 93,
      "outputs": [
        {
          "output_type": "display_data",
          "data": {
            "text/plain": [
              "<Figure size 1080x1080 with 1 Axes>"
            ],
            "image/png": "[encoded data removed]"
          },
          "metadata": {
            "needs_background": "light"
          }
        }
      ]
    },
    {
      "cell_type": "code",
      "source": [
        "climatecols = [\"floor_area\", \"year_built\",\"precipitation_inches\", \"snowfall_inches\", \"avg_temp\", \"days_with_fog\", \"site_eui\"]\n",
        "for col in climatecols:\n",
        "  plt.figure()\n",
        "  plt.boxplot(climatedf[col])"
      ],
      "metadata": {
        "colab": {
          "base_uri": "https://localhost:8080/",
          "height": 1000
        },
        "id": "dx0Mdrp0dbBo",
        "outputId": "a16abcd5-e215-49c7-dec9-2b2b5da08296"
      },
      "execution_count": 96,
      "outputs": [
        {
          "output_type": "display_data",
          "data": {
            "text/plain": [
              "<Figure size 432x288 with 1 Axes>"
            ],
            "image/png": "[encoded data removed]"
          },
          "metadata": {
            "needs_background": "light"
          }
        },
        {
          "output_type": "display_data",
          "data": {
            "text/plain": [
              "<Figure size 432x288 with 1 Axes>"
            ],
            "image/png": "[encoded data removed]"
          },
          "metadata": {
            "needs_background": "light"
          }
        },
        {
          "output_type": "display_data",
          "data": {
            "text/plain": [
              "<Figure size 432x288 with 1 Axes>"
            ],
            "image/png": "[encoded data removed]"
          },
          "metadata": {
            "needs_background": "light"
          }
        },
        {
          "output_type": "display_data",
          "data": {
            "text/plain": [
              "<Figure size 432x288 with 1 Axes>"
            ],
            "image/png": "[encoded data removed]"
          },
          "metadata": {
            "needs_background": "light"
          }
        },
        {
          "output_type": "display_data",
          "data": {
            "text/plain": [
              "<Figure size 432x288 with 1 Axes>"
            ],
            "image/png": "[encoded data removed]"
          },
          "metadata": {
            "needs_background": "light"
          }
        },
        {
          "output_type": "display_data",
          "data": {
            "text/plain": [
              "<Figure size 432x288 with 1 Axes>"
            ],
            "image/png": "[encoded data removed]"
          },
          "metadata": {
            "needs_background": "light"
          }
        },
        {
          "output_type": "display_data",
          "data": {
            "text/plain": [
              "<Figure size 432x288 with 1 Axes>"
            ],
            "image/png": "[encoded data removed]"
          },
          "metadata": {
            "needs_background": "light"
          }
        }
      ]
    },
    {
      "cell_type": "code",
      "source": [
        "#@title 9. Create the histogram and check the outliers."
      ],
      "metadata": {
        "id": "-tSN_g7Eepwt"
      },
      "execution_count": null,
      "outputs": []
    },
    {
      "cell_type": "code",
      "source": [
        "climatedf.hist(column=['floor_area','year_built','precipitation_inches','snowfall_inches','avg_temp','days_with_fog','site_eui'], figsize=(15,15))\n",
        "plt.show()"
      ],
      "metadata": {
        "colab": {
          "base_uri": "https://localhost:8080/",
          "height": 879
        },
        "id": "Xp6IN-TUqlaK",
        "outputId": "3c651a57-9873-4d20-8e04-5b5c3727c139"
      },
      "execution_count": 97,
      "outputs": [
        {
          "output_type": "display_data",
          "data": {
            "text/plain": [
              "<Figure size 1080x1080 with 9 Axes>"
            ],
            "image/png": "[encoded data removed]"
          },
          "metadata": {
            "needs_background": "light"
          }
        }
      ]
    },
    {
      "cell_type": "code",
      "source": [
        "climatecols = [\"floor_area\", \"year_built\",\"precipitation_inches\", \"snowfall_inches\", \"avg_temp\", \"days_with_fog\", \"site_eui\"]\n",
        "for col in climatecols:\n",
        "  plt.figure()\n",
        "  plt.hist(climatedf[col])"
      ],
      "metadata": {
        "colab": {
          "base_uri": "https://localhost:8080/",
          "height": 1000
        },
        "id": "Izmv7lQIerar",
        "outputId": "06c4a3d3-9ea6-4469-b262-690e26d68a26"
      },
      "execution_count": 74,
      "outputs": [
        {
          "output_type": "display_data",
          "data": {
            "text/plain": [
              "<Figure size 432x288 with 1 Axes>"
            ],
            "image/png": "[encoded data removed]"
          },
          "metadata": {
            "needs_background": "light"
          }
        },
        {
          "output_type": "display_data",
          "data": {
            "text/plain": [
              "<Figure size 432x288 with 1 Axes>"
            ],
            "image/png": "[encoded data removed]"
          },
          "metadata": {
            "needs_background": "light"
          }
        },
        {
          "output_type": "display_data",
          "data": {
            "text/plain": [
              "<Figure size 432x288 with 1 Axes>"
            ],
            "image/png": "[encoded data removed]"
          },
          "metadata": {
            "needs_background": "light"
          }
        },
        {
          "output_type": "display_data",
          "data": {
            "text/plain": [
              "<Figure size 432x288 with 1 Axes>"
            ],
            "image/png": "[encoded data removed]"
          },
          "metadata": {
            "needs_background": "light"
          }
        },
        {
          "output_type": "display_data",
          "data": {
            "text/plain": [
              "<Figure size 432x288 with 1 Axes>"
            ],
            "image/png": "[encoded data removed]"
          },
          "metadata": {
            "needs_background": "light"
          }
        },
        {
          "output_type": "display_data",
          "data": {
            "text/plain": [
              "<Figure size 432x288 with 1 Axes>"
            ],
            "image/png": "[encoded data removed]"
          },
          "metadata": {
            "needs_background": "light"
          }
        },
        {
          "output_type": "display_data",
          "data": {
            "text/plain": [
              "<Figure size 432x288 with 1 Axes>"
            ],
            "image/png": "[encoded data removed]"
          },
          "metadata": {
            "needs_background": "light"
          }
        }
      ]
    },
    {
      "cell_type": "code",
      "source": [
        "#@title 10. If feature scaling is needed, do it, please."
      ],
      "metadata": {
        "id": "8TQ-cQGHjKem"
      },
      "execution_count": 80,
      "outputs": []
    },
    {
      "cell_type": "code",
      "source": [
        "import pandas as pd\n",
        "from sklearn.preprocessing import StandardScaler"
      ],
      "metadata": {
        "id": "dSkyaK2kiu_v"
      },
      "execution_count": 77,
      "outputs": []
    },
    {
      "cell_type": "code",
      "source": [
        "climatedfnew = final.drop(['Commercial','Residential'],axis=1)"
      ],
      "metadata": {
        "id": "xhFkl802kHe2"
      },
      "execution_count": 98,
      "outputs": []
    },
    {
      "cell_type": "code",
      "source": [
        "scaler = StandardScaler()"
      ],
      "metadata": {
        "id": "yy8T5bfJjEC4"
      },
      "execution_count": 99,
      "outputs": []
    },
    {
      "cell_type": "code",
      "source": [
        "scaler.fit(final)\n"
      ],
      "metadata": {
        "colab": {
          "base_uri": "https://localhost:8080/"
        },
        "id": "_B2r0M09jUuC",
        "outputId": "95279862-7408-47d8-f023-145bc051dbd9"
      },
      "execution_count": 100,
      "outputs": [
        {
          "output_type": "execute_result",
          "data": {
            "text/plain": [
              "StandardScaler()"
            ]
          },
          "metadata": {},
          "execution_count": 100
        }
      ]
    },
    {
      "cell_type": "code",
      "source": [
        "final.boxplot(column=['floor_area','year_built','precipitation_inches','snowfall_inches','avg_temp','days_with_fog','site_eui'], figsize=(15,15))\n",
        "plt.show()"
      ],
      "metadata": {
        "colab": {
          "base_uri": "https://localhost:8080/",
          "height": 875
        },
        "id": "FRzgplPaq2To",
        "outputId": "fc1c9645-ce88-4504-a151-02cdc6d9e07a"
      },
      "execution_count": 103,
      "outputs": [
        {
          "output_type": "display_data",
          "data": {
            "text/plain": [
              "<Figure size 1080x1080 with 1 Axes>"
            ],
            "image/png": "[encoded data removed]"
          },
          "metadata": {
            "needs_background": "light"
          }
        }
      ]
    }
  ]
}