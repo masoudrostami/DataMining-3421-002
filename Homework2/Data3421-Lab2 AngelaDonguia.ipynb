{
 "cells": [
  {
   "attachments": {},
   "cell_type": "markdown",
   "metadata": {},
   "source": [
    "# Matrices"
   ]
  },
  {
   "attachments": {},
   "cell_type": "markdown",
   "metadata": {},
   "source": [
    "## 1. Finding LU Factorization"
   ]
  },
  {
   "cell_type": "code",
   "execution_count": 9,
   "metadata": {},
   "outputs": [],
   "source": [
    "# Matrices\n",
    "a = [ [1, -3, 5], [2, -4, 7], [-1, -2, 1] ]\n",
    "b = [ [1, 4, 3], [2, 8, 1], [-5, -9, 7] ]"
   ]
  },
  {
   "attachments": {},
   "cell_type": "markdown",
   "metadata": {},
   "source": [
    "### 1.1 Performing EROs\n",
    "Reduce the original matrices to triangular form by performing a sequence of elementary row operations (EROs). "
   ]
  },
  {
   "cell_type": "code",
   "execution_count": 28,
   "metadata": {},
   "outputs": [],
   "source": [
    "def row_reduce(matrix):\n",
    "    # row reduce a matrix\n",
    "    for i in range(len(matrix)):\n",
    "        # swap rows if the pivot is zero\n",
    "        for j in range(i+1, len(matrix)):\n",
    "            # if the pivot is zero, swap rows\n",
    "            if matrix[i][i] == 0:\n",
    "                matrix[i], matrix[i+1] = matrix[i+1], matrix[i]\n",
    "            # if the pivot is not zero, reduce the row\n",
    "            else:\n",
    "                factor = matrix[j][i] / matrix[i][i]\n",
    "                matrix[j] = [matrix[j][k] - factor * matrix[i][k] for k in range(len(matrix[i]))]\n",
    "    return matrix"
   ]
  },
  {
   "attachments": {},
   "cell_type": "markdown",
   "metadata": {},
   "source": [
    "### 1.2 Performing Row Reduction"
   ]
  },
  {
   "cell_type": "code",
   "execution_count": 29,
   "metadata": {},
   "outputs": [
    {
     "data": {
      "text/plain": [
       "array([[ 1, -3,  5],\n",
       "       [ 0,  2, -3],\n",
       "       [ 0,  0, -1]])"
      ]
     },
     "execution_count": 29,
     "metadata": {},
     "output_type": "execute_result"
    }
   ],
   "source": [
    "# Performing EROs on a\n",
    "a1 = row_reduce(a)\n",
    "a1"
   ]
  },
  {
   "cell_type": "code",
   "execution_count": 30,
   "metadata": {},
   "outputs": [
    {
     "data": {
      "text/plain": [
       "array([[ 1,  4,  3],\n",
       "       [ 0, 11, 22],\n",
       "       [ 0, 11, 22]])"
      ]
     },
     "execution_count": 30,
     "metadata": {},
     "output_type": "execute_result"
    }
   ],
   "source": [
    "# Performing EROs on b\n",
    "b1 = row_reduce(b)\n",
    "b1"
   ]
  },
  {
   "attachments": {},
   "cell_type": "markdown",
   "metadata": {},
   "source": [
    "## 2. Finding Corresponding Elementary Matrices\n",
    "Find the corresponding elementary matrices (E1, E2, … , Ek) associated with every ERO step.\n"
   ]
  },
  {
   "cell_type": "code",
   "execution_count": 41,
   "metadata": {},
   "outputs": [],
   "source": [
    "def elementary_matrix(matrix, row, col):\n",
    "    rows = len(matrix)\n",
    "    cols = len(matrix[0])\n",
    "\n",
    "    # creates an empty matrix\n",
    "    m = [[0 for i in range(cols)] for j in range(rows)]\n",
    "    \n",
    "    for i in range(cols):\n",
    "        for j in range(rows):\n",
    "            # if the row and column are the same\n",
    "            if i == j:\n",
    "                m[i][j] = 1\n",
    "\n",
    "    # obtains the factor\n",
    "    factor = matrix[row][col] / matrix[col][col]\n",
    "\n",
    "    # loop through columns\n",
    "    for i in range(col, cols):\n",
    "        # performs the row operation\n",
    "        m[row][i] -= factor * matrix[col][i]\n",
    "    return m"
   ]
  },
  {
   "cell_type": "code",
   "execution_count": 44,
   "metadata": {},
   "outputs": [
    {
     "name": "stdout",
     "output_type": "stream",
     "text": [
      "E1: [[1, 0, 0], [0.0, 1.0, 0.0], [0, 0, 1]]\n",
      "E2: [[1, 0, 0], [0, 1, 0], [0.0, 0.0, 1.0]]\n"
     ]
    }
   ],
   "source": [
    "# E1\n",
    "e1 = elementary_matrix(a, 1, 0)\n",
    "print('E1:', e1)\n",
    "\n",
    "# E2\n",
    "e2 = elementary_matrix(a, 2, 0)\n",
    "print('E2:', e2)\n"
   ]
  },
  {
   "attachments": {},
   "cell_type": "markdown",
   "metadata": {},
   "source": [
    "## 3. Finding Inverse of a Matrix\n",
    "Find the matrix inverse for each elementary matrix in item b"
   ]
  },
  {
   "cell_type": "code",
   "execution_count": 34,
   "metadata": {},
   "outputs": [],
   "source": [
    "def matrix_inverse(matrix):\n",
    "    rows = len(matrix)\n",
    "    cols = len(matrix[0])\n",
    "\n",
    "    # creates an empty matrix\n",
    "    m = [[0 for i in range(cols)] for j in range(rows)]\n",
    "\n",
    "    for i in range(cols):\n",
    "        for j in range(rows):\n",
    "            # if the row and column are the same\n",
    "            if i == j:\n",
    "                m[i][j] = 1\n",
    "\n",
    "    for i in range(cols):\n",
    "        for j in range(rows):\n",
    "            # if the row and column are the same\n",
    "            if i == j:\n",
    "                factor = matrix[j][i]\n",
    "                \n",
    "                # loops through columns\n",
    "                for k in range(i, cols):\n",
    "                    # performs the row operation\n",
    "                    m[j][k] /= factor\n",
    "    return m"
   ]
  },
  {
   "cell_type": "code",
   "execution_count": 45,
   "metadata": {},
   "outputs": [
    {
     "name": "stdout",
     "output_type": "stream",
     "text": [
      "Inverse of E1: [[1.0, 0.0, 0.0], [0, 1.0, 0.0], [0, 0, 1.0]]\n",
      "Inverse of E2: [[1.0, 0.0, 0.0], [0, 1.0, 0.0], [0, 0, 1.0]]\n"
     ]
    }
   ],
   "source": [
    "# Inverse of E1\n",
    "e1_inv = matrix_inverse(e1)\n",
    "print('Inverse of E1:', e1_inv)\n",
    "\n",
    "# Inverse of E2\n",
    "e2_inv = matrix_inverse(e2)\n",
    "print('Inverse of E2:', e2_inv)"
   ]
  },
  {
   "attachments": {},
   "cell_type": "markdown",
   "metadata": {},
   "source": [
    "## 4. Finding L\n",
    "Find L using these inverses: L = E<sub>1</sub> <sup>-1</sup> E<sub>2</sub> <sup>-1</sup> E<sub>3</sub> <sup>-1</sup>"
   ]
  },
  {
   "cell_type": "code",
   "execution_count": 46,
   "metadata": {},
   "outputs": [
    {
     "name": "stdout",
     "output_type": "stream",
     "text": [
      "L: [[1.0, 0.0, 0.0], [0.0, 1.0, 0.0], [0.0, 0.0, 1.0]]\n"
     ]
    }
   ],
   "source": [
    "def matrix_multiply(matrix1, matrix2):\n",
    "    rows = len(matrix1)\n",
    "    cols = len(matrix2[0])\n",
    "    # creates an empty matrix\n",
    "    m = [[0 for i in range(cols)] for j in range(rows)]\n",
    "    \n",
    "    for i in range(rows):\n",
    "        for j in range(cols):\n",
    "            # loops through rows\n",
    "            for k in range(len(matrix1[0])):\n",
    "                # performs the matrix multiplication\n",
    "                m[i][j] += matrix1[i][k] * matrix2[k][j]\n",
    "    return m\n",
    "\n",
    "# L\n",
    "l = matrix_multiply(e1_inv, e2_inv)\n",
    "print('L:', l)"
   ]
  },
  {
   "attachments": {},
   "cell_type": "markdown",
   "metadata": {},
   "source": [
    "## Checking Answers\n",
    "\n",
    "Check that your work is correct:\n",
    "\n",
    "● L must be lower triangular\n",
    "\n",
    "● U must be upper triangular\n",
    "\n",
    "● A = LU (verify this by multiplying L with U to re-obtain the original matrix)\n",
    "\n"
   ]
  },
  {
   "attachments": {},
   "cell_type": "markdown",
   "metadata": {},
   "source": [
    "### L is lower triangular"
   ]
  },
  {
   "cell_type": "code",
   "execution_count": 38,
   "metadata": {},
   "outputs": [
    {
     "data": {
      "text/plain": [
       "[[1.0, 0.0, 0.0], [0.0, 1.0, 0.0], [0.0, 0.0, 1.0]]"
      ]
     },
     "execution_count": 38,
     "metadata": {},
     "output_type": "execute_result"
    }
   ],
   "source": [
    "l"
   ]
  },
  {
   "attachments": {},
   "cell_type": "markdown",
   "metadata": {},
   "source": [
    "### U is upper triangular"
   ]
  },
  {
   "cell_type": "code",
   "execution_count": 39,
   "metadata": {},
   "outputs": [
    {
     "data": {
      "text/plain": [
       "[[1.0, -3.0, 5.0], [0.0, 2.0, -3.0], [0.0, 0.0, -1.0]]"
      ]
     },
     "execution_count": 39,
     "metadata": {},
     "output_type": "execute_result"
    }
   ],
   "source": [
    "u = matrix_multiply(l, a)\n",
    "u\n",
    " "
   ]
  },
  {
   "attachments": {},
   "cell_type": "markdown",
   "metadata": {},
   "source": [
    "### A = LU"
   ]
  },
  {
   "cell_type": "code",
   "execution_count": 40,
   "metadata": {},
   "outputs": [
    {
     "data": {
      "text/plain": [
       "array([[ True,  True,  True],\n",
       "       [ True,  True,  True],\n",
       "       [ True,  True,  True]])"
      ]
     },
     "execution_count": 40,
     "metadata": {},
     "output_type": "execute_result"
    }
   ],
   "source": [
    "a == matrix_multiply(l, u)"
   ]
  }
 ],
 "metadata": {
  "kernelspec": {
   "display_name": "base",
   "language": "python",
   "name": "python3"
  },
  "language_info": {
   "codemirror_mode": {
    "name": "ipython",
    "version": 3
   },
   "file_extension": ".py",
   "mimetype": "text/x-python",
   "name": "python",
   "nbconvert_exporter": "python",
   "pygments_lexer": "ipython3",
   "version": "3.9.12"
  },
  "orig_nbformat": 4,
  "vscode": {
   "interpreter": {
    "hash": "9727689dba5d5d00a158e21fb807a885e69f30350e2c8ad8d2d9a6c91502ad9f"
   }
  }
 },
 "nbformat": 4,
 "nbformat_minor": 2
}
