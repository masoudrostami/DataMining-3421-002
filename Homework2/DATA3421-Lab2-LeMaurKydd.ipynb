{
 "cells": [
  {
   "cell_type": "code",
   "execution_count": 1,
   "id": "e976c92e",
   "metadata": {},
   "outputs": [],
   "source": [
    "import pandas as pd\n",
    "from scipy import stats as st\n",
    "from statistics import mode\n",
    "from tabulate import tabulate\n",
    "import numpy as np\n",
    "import matplotlib.pyplot as plt"
   ]
  },
  {
   "cell_type": "code",
   "execution_count": 2,
   "id": "89302847",
   "metadata": {},
   "outputs": [],
   "source": [
    "with open(\"Metadata.csv\") as file:\n",
    "    metadata = pd.read_csv(file)\n",
    "    \n",
    "with open(\"ClimateData.csv\") as file:\n",
    "    climatedata = pd.read_csv(file)\n",
    "    "
   ]
  },
  {
   "cell_type": "markdown",
   "id": "365b2d85",
   "metadata": {},
   "source": [
    "#### 1.) Please take a look at the data types and summary of our variables."
   ]
  },
  {
   "cell_type": "code",
   "execution_count": 3,
   "id": "c18bf085",
   "metadata": {},
   "outputs": [
    {
     "data": {
      "text/html": [
       "<div>\n",
       "<style scoped>\n",
       "    .dataframe tbody tr th:only-of-type {\n",
       "        vertical-align: middle;\n",
       "    }\n",
       "\n",
       "    .dataframe tbody tr th {\n",
       "        vertical-align: top;\n",
       "    }\n",
       "\n",
       "    .dataframe thead th {\n",
       "        text-align: right;\n",
       "    }\n",
       "</style>\n",
       "<table border=\"1\" class=\"dataframe\">\n",
       "  <thead>\n",
       "    <tr style=\"text-align: right;\">\n",
       "      <th></th>\n",
       "      <th>id</th>\n",
       "      <th>building id</th>\n",
       "    </tr>\n",
       "  </thead>\n",
       "  <tbody>\n",
       "    <tr>\n",
       "      <th>0</th>\n",
       "      <td>building_class</td>\n",
       "      <td>building classification</td>\n",
       "    </tr>\n",
       "    <tr>\n",
       "      <th>1</th>\n",
       "      <td>floor_area</td>\n",
       "      <td>floor area (in square feet) of the building</td>\n",
       "    </tr>\n",
       "    <tr>\n",
       "      <th>2</th>\n",
       "      <td>year_built</td>\n",
       "      <td>year in which the building was constructed</td>\n",
       "    </tr>\n",
       "    <tr>\n",
       "      <th>3</th>\n",
       "      <td>precipitation_inches</td>\n",
       "      <td>annual precipitation in inches at the location...</td>\n",
       "    </tr>\n",
       "    <tr>\n",
       "      <th>4</th>\n",
       "      <td>snowfall_inches</td>\n",
       "      <td>annual snowfall in inches at the location of t...</td>\n",
       "    </tr>\n",
       "    <tr>\n",
       "      <th>5</th>\n",
       "      <td>avg_temp</td>\n",
       "      <td>average temperature over a year at the locatio...</td>\n",
       "    </tr>\n",
       "    <tr>\n",
       "      <th>6</th>\n",
       "      <td>days_with_fog</td>\n",
       "      <td>number of days with fog at the location of the...</td>\n",
       "    </tr>\n",
       "    <tr>\n",
       "      <th>7</th>\n",
       "      <td>eui</td>\n",
       "      <td>Site Energy Usage Intensity is the amount of h...</td>\n",
       "    </tr>\n",
       "  </tbody>\n",
       "</table>\n",
       "</div>"
      ],
      "text/plain": [
       "                     id                                        building id\n",
       "0        building_class                            building classification\n",
       "1            floor_area        floor area (in square feet) of the building\n",
       "2            year_built         year in which the building was constructed\n",
       "3  precipitation_inches  annual precipitation in inches at the location...\n",
       "4       snowfall_inches  annual snowfall in inches at the location of t...\n",
       "5              avg_temp  average temperature over a year at the locatio...\n",
       "6         days_with_fog  number of days with fog at the location of the...\n",
       "7                   eui  Site Energy Usage Intensity is the amount of h..."
      ]
     },
     "execution_count": 3,
     "metadata": {},
     "output_type": "execute_result"
    }
   ],
   "source": [
    "metadata"
   ]
  },
  {
   "cell_type": "code",
   "execution_count": 4,
   "id": "09e142b8",
   "metadata": {},
   "outputs": [
    {
     "data": {
      "text/html": [
       "<div>\n",
       "<style scoped>\n",
       "    .dataframe tbody tr th:only-of-type {\n",
       "        vertical-align: middle;\n",
       "    }\n",
       "\n",
       "    .dataframe tbody tr th {\n",
       "        vertical-align: top;\n",
       "    }\n",
       "\n",
       "    .dataframe thead th {\n",
       "        text-align: right;\n",
       "    }\n",
       "</style>\n",
       "<table border=\"1\" class=\"dataframe\">\n",
       "  <thead>\n",
       "    <tr style=\"text-align: right;\">\n",
       "      <th></th>\n",
       "      <th>id</th>\n",
       "      <th>building_class</th>\n",
       "      <th>floor_area</th>\n",
       "      <th>year_built</th>\n",
       "      <th>precipitation_inches</th>\n",
       "      <th>snowfall_inches</th>\n",
       "      <th>avg_temp</th>\n",
       "      <th>days_with_fog</th>\n",
       "      <th>site_eui</th>\n",
       "    </tr>\n",
       "  </thead>\n",
       "  <tbody>\n",
       "    <tr>\n",
       "      <th>0</th>\n",
       "      <td>0</td>\n",
       "      <td>Commercial</td>\n",
       "      <td>61242.0</td>\n",
       "      <td>1942.0</td>\n",
       "      <td>16.59</td>\n",
       "      <td>0.0</td>\n",
       "      <td>56.972603</td>\n",
       "      <td>NaN</td>\n",
       "      <td>248.68</td>\n",
       "    </tr>\n",
       "    <tr>\n",
       "      <th>1</th>\n",
       "      <td>1</td>\n",
       "      <td>Commercial</td>\n",
       "      <td>274000.0</td>\n",
       "      <td>1955.0</td>\n",
       "      <td>16.59</td>\n",
       "      <td>0.0</td>\n",
       "      <td>56.972603</td>\n",
       "      <td>12.0</td>\n",
       "      <td>26.50</td>\n",
       "    </tr>\n",
       "    <tr>\n",
       "      <th>2</th>\n",
       "      <td>2</td>\n",
       "      <td>Commercial</td>\n",
       "      <td>280025.0</td>\n",
       "      <td>1951.0</td>\n",
       "      <td>16.59</td>\n",
       "      <td>0.0</td>\n",
       "      <td>56.972603</td>\n",
       "      <td>12.0</td>\n",
       "      <td>24.69</td>\n",
       "    </tr>\n",
       "    <tr>\n",
       "      <th>3</th>\n",
       "      <td>3</td>\n",
       "      <td>Commercial</td>\n",
       "      <td>55325.0</td>\n",
       "      <td>1980.0</td>\n",
       "      <td>16.59</td>\n",
       "      <td>0.0</td>\n",
       "      <td>56.972603</td>\n",
       "      <td>12.0</td>\n",
       "      <td>48.41</td>\n",
       "    </tr>\n",
       "    <tr>\n",
       "      <th>4</th>\n",
       "      <td>4</td>\n",
       "      <td>Commercial</td>\n",
       "      <td>66000.0</td>\n",
       "      <td>1985.0</td>\n",
       "      <td>16.59</td>\n",
       "      <td>0.0</td>\n",
       "      <td>56.972603</td>\n",
       "      <td>NaN</td>\n",
       "      <td>3.90</td>\n",
       "    </tr>\n",
       "    <tr>\n",
       "      <th>...</th>\n",
       "      <td>...</td>\n",
       "      <td>...</td>\n",
       "      <td>...</td>\n",
       "      <td>...</td>\n",
       "      <td>...</td>\n",
       "      <td>...</td>\n",
       "      <td>...</td>\n",
       "      <td>...</td>\n",
       "      <td>...</td>\n",
       "    </tr>\n",
       "    <tr>\n",
       "      <th>75752</th>\n",
       "      <td>75752</td>\n",
       "      <td>Commercial</td>\n",
       "      <td>20410.0</td>\n",
       "      <td>1995.0</td>\n",
       "      <td>45.03</td>\n",
       "      <td>1.4</td>\n",
       "      <td>55.147541</td>\n",
       "      <td>NaN</td>\n",
       "      <td>132.92</td>\n",
       "    </tr>\n",
       "    <tr>\n",
       "      <th>75753</th>\n",
       "      <td>75753</td>\n",
       "      <td>Residential</td>\n",
       "      <td>40489.0</td>\n",
       "      <td>1910.0</td>\n",
       "      <td>45.03</td>\n",
       "      <td>1.4</td>\n",
       "      <td>55.147541</td>\n",
       "      <td>NaN</td>\n",
       "      <td>39.48</td>\n",
       "    </tr>\n",
       "    <tr>\n",
       "      <th>75754</th>\n",
       "      <td>75754</td>\n",
       "      <td>Commercial</td>\n",
       "      <td>28072.0</td>\n",
       "      <td>1917.0</td>\n",
       "      <td>106.32</td>\n",
       "      <td>36.6</td>\n",
       "      <td>47.911202</td>\n",
       "      <td>NaN</td>\n",
       "      <td>48.40</td>\n",
       "    </tr>\n",
       "    <tr>\n",
       "      <th>75755</th>\n",
       "      <td>75755</td>\n",
       "      <td>Commercial</td>\n",
       "      <td>53575.0</td>\n",
       "      <td>2012.0</td>\n",
       "      <td>106.32</td>\n",
       "      <td>36.6</td>\n",
       "      <td>47.911202</td>\n",
       "      <td>NaN</td>\n",
       "      <td>592.02</td>\n",
       "    </tr>\n",
       "    <tr>\n",
       "      <th>75756</th>\n",
       "      <td>75756</td>\n",
       "      <td>Residential</td>\n",
       "      <td>23888.0</td>\n",
       "      <td>1974.0</td>\n",
       "      <td>107.69</td>\n",
       "      <td>28.8</td>\n",
       "      <td>49.127397</td>\n",
       "      <td>NaN</td>\n",
       "      <td>29.15</td>\n",
       "    </tr>\n",
       "  </tbody>\n",
       "</table>\n",
       "<p>75757 rows × 9 columns</p>\n",
       "</div>"
      ],
      "text/plain": [
       "          id building_class  floor_area  year_built  precipitation_inches  \\\n",
       "0          0     Commercial     61242.0      1942.0                 16.59   \n",
       "1          1     Commercial    274000.0      1955.0                 16.59   \n",
       "2          2     Commercial    280025.0      1951.0                 16.59   \n",
       "3          3     Commercial     55325.0      1980.0                 16.59   \n",
       "4          4     Commercial     66000.0      1985.0                 16.59   \n",
       "...      ...            ...         ...         ...                   ...   \n",
       "75752  75752     Commercial     20410.0      1995.0                 45.03   \n",
       "75753  75753    Residential     40489.0      1910.0                 45.03   \n",
       "75754  75754     Commercial     28072.0      1917.0                106.32   \n",
       "75755  75755     Commercial     53575.0      2012.0                106.32   \n",
       "75756  75756    Residential     23888.0      1974.0                107.69   \n",
       "\n",
       "       snowfall_inches   avg_temp  days_with_fog  site_eui  \n",
       "0                  0.0  56.972603            NaN    248.68  \n",
       "1                  0.0  56.972603           12.0     26.50  \n",
       "2                  0.0  56.972603           12.0     24.69  \n",
       "3                  0.0  56.972603           12.0     48.41  \n",
       "4                  0.0  56.972603            NaN      3.90  \n",
       "...                ...        ...            ...       ...  \n",
       "75752              1.4  55.147541            NaN    132.92  \n",
       "75753              1.4  55.147541            NaN     39.48  \n",
       "75754             36.6  47.911202            NaN     48.40  \n",
       "75755             36.6  47.911202            NaN    592.02  \n",
       "75756             28.8  49.127397            NaN     29.15  \n",
       "\n",
       "[75757 rows x 9 columns]"
      ]
     },
     "execution_count": 4,
     "metadata": {},
     "output_type": "execute_result"
    }
   ],
   "source": [
    "climatedata"
   ]
  },
  {
   "cell_type": "markdown",
   "id": "369685eb",
   "metadata": {},
   "source": [
    "#### 2.) Summarize the number of unique values in each column."
   ]
  },
  {
   "cell_type": "code",
   "execution_count": 5,
   "id": "0df8f396",
   "metadata": {},
   "outputs": [
    {
     "data": {
      "text/plain": [
       "[('id', 75757),\n",
       " ('building_class', 2),\n",
       " ('floor_area', 20433),\n",
       " ('year_built', 2017),\n",
       " ('precipitation_inches', 171),\n",
       " ('snowfall_inches', 71),\n",
       " ('avg_temp', 173),\n",
       " ('days_with_fog', 45838),\n",
       " ('site_eui', 17203)]"
      ]
     },
     "execution_count": 5,
     "metadata": {},
     "output_type": "execute_result"
    }
   ],
   "source": [
    "unique_column_vals = [(column,len(set(climatedata[column]))) for column in climatedata]\n",
    "unique_column_vals"
   ]
  },
  {
   "cell_type": "markdown",
   "id": "30da11cb",
   "metadata": {},
   "source": [
    "#### 3.) Check the descriptive statistics for the dataset."
   ]
  },
  {
   "cell_type": "code",
   "execution_count": 6,
   "id": "3969655f",
   "metadata": {},
   "outputs": [
    {
     "name": "stdout",
     "output_type": "stream",
     "text": [
      "Qualitative Variable: building_class\n",
      "Proportion Breakdown: Residential    0.57497\n",
      "Commercial     0.42503\n",
      "Name: building_class, dtype: float64\n",
      "Mode: Residential.\n",
      "┌──────────────────────┬─────────────┬────────────┬───────────┬─────────────────┬─────────────────┬────────────────┬──────────────┬────────────┬──────────────┬─────────────┐\n",
      "│ Quantitative         │        mean │     median │   minimum │          ranges │         maximum │       variance │        stdev │         q1 │          iqr │          q3 │\n",
      "├──────────────────────┼─────────────┼────────────┼───────────┼─────────────────┼─────────────────┼────────────────┼──────────────┼────────────┼──────────────┼─────────────┤\n",
      "│ id                   │  37878      │ 37878      │    0      │ 75756           │ 75756           │    4.7826e+08  │  21869.2     │ 18939      │  37878       │  56817      │\n",
      "├──────────────────────┼─────────────┼────────────┼───────────┼─────────────────┼─────────────────┼────────────────┼──────────────┼────────────┼──────────────┼─────────────┤\n",
      "│ floor_area           │ 165984      │ 91367      │  943      │     6.38444e+06 │     6.38538e+06 │    6.09469e+10 │ 246874       │ 62379      │ 103621       │ 166000      │\n",
      "├──────────────────────┼─────────────┼────────────┼───────────┼─────────────────┼─────────────────┼────────────────┼──────────────┼────────────┼──────────────┼─────────────┤\n",
      "│ year_built           │   1952.31   │   nan      │    0      │  2015           │  2015           │ 1372.95        │     37.0534  │   nan      │    nan       │    nan      │\n",
      "├──────────────────────┼─────────────┼────────────┼───────────┼─────────────────┼─────────────────┼────────────────┼──────────────┼────────────┼──────────────┼─────────────┤\n",
      "│ precipitation_inches │     42.4307 │    42.17   │    0      │   107.69        │   107.69        │  112.193       │     10.5921  │    39.35   │      6.97    │     46.32   │\n",
      "├──────────────────────┼─────────────┼────────────┼───────────┼─────────────────┼─────────────────┼────────────────┼──────────────┼────────────┼──────────────┼─────────────┤\n",
      "│ snowfall_inches      │     29.1364 │    31.6    │    0      │   127.3         │   127.3         │  317.224       │     17.8108  │     9.6    │     39.5     │     49.1    │\n",
      "├──────────────────────┼─────────────┼────────────┼───────────┼─────────────────┼─────────────────┼────────────────┼──────────────┼────────────┼──────────────┼─────────────┤\n",
      "│ avg_temp             │     56.1767 │    56.8356 │   44.5123 │    32.7329      │    77.2452      │    5.02623     │      2.24192 │    55.1475 │      2.06831 │     57.2158 │\n",
      "├──────────────────────┼─────────────┼────────────┼───────────┼─────────────────┼─────────────────┼────────────────┼──────────────┼────────────┼──────────────┼─────────────┤\n",
      "│ days_with_fog        │    109.142  │   nan      │  nan      │   nan           │   nan           │ 2570.38        │     50.6989  │   nan      │    nan       │    nan      │\n",
      "├──────────────────────┼─────────────┼────────────┼───────────┼─────────────────┼─────────────────┼────────────────┼──────────────┼────────────┼──────────────┼─────────────┤\n",
      "│ site_eui             │     82.5847 │    75.29   │    1      │   996.87        │   997.87        │ 3393.65        │     58.255   │    54.53   │     42.75    │     97.28   │\n",
      "└──────────────────────┴─────────────┴────────────┴───────────┴─────────────────┴─────────────────┴────────────────┴──────────────┴────────────┴──────────────┴─────────────┘\n"
     ]
    },
    {
     "name": "stderr",
     "output_type": "stream",
     "text": [
      "/tmp/ipykernel_129/2279207217.py:16: DeprecationWarning: the `interpolation=` argument to percentile was renamed to `method=`, which has additional options.\n",
      "Users of the modes 'nearest', 'lower', 'higher', or 'midpoint' are encouraged to review the method they. (Deprecated NumPy 1.22)\n",
      "  qt.append(np.percentile(colData, 25, interpolation = 'midpoint')),\n",
      "/tmp/ipykernel_129/2279207217.py:18: DeprecationWarning: the `interpolation=` argument to percentile was renamed to `method=`, which has additional options.\n",
      "Users of the modes 'nearest', 'lower', 'higher', or 'midpoint' are encouraged to review the method they. (Deprecated NumPy 1.22)\n",
      "  qt.append(np.percentile(colData, 75, interpolation = 'midpoint'))\n",
      "/tmp/ipykernel_129/2279207217.py:16: DeprecationWarning: the `interpolation=` argument to percentile was renamed to `method=`, which has additional options.\n",
      "Users of the modes 'nearest', 'lower', 'higher', or 'midpoint' are encouraged to review the method they. (Deprecated NumPy 1.22)\n",
      "  qt.append(np.percentile(colData, 25, interpolation = 'midpoint')),\n",
      "/tmp/ipykernel_129/2279207217.py:18: DeprecationWarning: the `interpolation=` argument to percentile was renamed to `method=`, which has additional options.\n",
      "Users of the modes 'nearest', 'lower', 'higher', or 'midpoint' are encouraged to review the method they. (Deprecated NumPy 1.22)\n",
      "  qt.append(np.percentile(colData, 75, interpolation = 'midpoint'))\n"
     ]
    }
   ],
   "source": [
    "qt = list()\n",
    "ql = list()\n",
    "\n",
    "floatType = type(climatedata.loc[0][2])\n",
    "intType = type(climatedata.loc[0][0])\n",
    "for colName, colData in climatedata.iteritems():\n",
    "    if type(colData[0]) == floatType or type(colData[0]) == intType:\n",
    "        qt.append(colName)\n",
    "        qt.append(np.mean(colData)),\n",
    "        qt.append(np.median(colData)),\n",
    "        qt.append(min(colData)),\n",
    "        qt.append(max(colData) - min(colData)),\n",
    "        qt.append(max(colData)),\n",
    "        qt.append(np.var(colData)),\n",
    "        qt.append(np.std(colData)),\n",
    "        qt.append(np.percentile(colData, 25, interpolation = 'midpoint')),\n",
    "        qt.append(st.iqr(colData, interpolation='midpoint')),\n",
    "        qt.append(np.percentile(colData, 75, interpolation = 'midpoint'))\n",
    "    else:\n",
    "        ql.append(colName)\n",
    "        ql.append(colData.value_counts() / len(colData)),\n",
    "        ql.append(mode(colData))\n",
    "\n",
    "qt = list(zip(*(iter(qt),) * 11))\n",
    "qt_col_names = [i[0] for i in qt]\n",
    "\n",
    "ql = list(zip(*(iter(ql),) * 1))\n",
    "\n",
    "print(f\"Qualitative Variable: {ql[0][0]}\\nProportion Breakdown: {ql[1][0]}\\nMode: {ql[2][0]}.\")\n",
    "print(tabulate(qt, tablefmt=\"simple_grid\", headers=['Quantitative', 'mean', 'median', 'minimum', 'ranges', 'maximum', 'variance', 'stdev', 'q1', 'iqr', 'q3']))        \n",
    "                     \n",
    "        "
   ]
  },
  {
   "cell_type": "markdown",
   "id": "5470ee9d",
   "metadata": {},
   "source": [
    "#### 4.) Check the number of missing values."
   ]
  },
  {
   "cell_type": "code",
   "execution_count": 7,
   "id": "2755b717",
   "metadata": {},
   "outputs": [
    {
     "data": {
      "text/plain": [
       "id                          0\n",
       "building_class              0\n",
       "floor_area                  0\n",
       "year_built               1837\n",
       "precipitation_inches        0\n",
       "snowfall_inches             0\n",
       "avg_temp                    0\n",
       "days_with_fog           45796\n",
       "site_eui                    0\n",
       "dtype: int64"
      ]
     },
     "execution_count": 7,
     "metadata": {},
     "output_type": "execute_result"
    }
   ],
   "source": [
    "climatedata.isna().sum()"
   ]
  },
  {
   "cell_type": "markdown",
   "id": "235efeb4",
   "metadata": {},
   "source": [
    "#### 5.) Take care of missing data. You can decide to remove or use the imputation."
   ]
  },
  {
   "cell_type": "code",
   "execution_count": 8,
   "id": "e35648e9",
   "metadata": {},
   "outputs": [
    {
     "name": "stdout",
     "output_type": "stream",
     "text": [
      "Dimensions Before Drop: (75757, 9)\n",
      "Dimensions After Drop: (75757, 8)\n"
     ]
    }
   ],
   "source": [
    "print(f'Dimensions Before Drop: {climatedata.shape}')\n",
    "climatedata = climatedata.drop('days_with_fog', axis=1)\n",
    "print(f'Dimensions After Drop: {climatedata.shape}')"
   ]
  },
  {
   "cell_type": "code",
   "execution_count": 9,
   "id": "e615cbfe",
   "metadata": {},
   "outputs": [
    {
     "name": "stdout",
     "output_type": "stream",
     "text": [
      "Dimensions Before Drop: (75757, 8)\n",
      "Dimensions After Drop: (73920, 8)\n"
     ]
    }
   ],
   "source": [
    "print(f'Dimensions Before Drop: {climatedata.shape}')\n",
    "climatedata = climatedata.dropna()\n",
    "print(f'Dimensions After Drop: {climatedata.shape}')"
   ]
  },
  {
   "cell_type": "markdown",
   "id": "37a1306c",
   "metadata": {},
   "source": [
    "#### 6.) Find and remove duplicate variables."
   ]
  },
  {
   "cell_type": "code",
   "execution_count": 10,
   "id": "cb73d063",
   "metadata": {},
   "outputs": [
    {
     "name": "stdout",
     "output_type": "stream",
     "text": [
      "Dimensions Before Drop: (73920, 8)\n",
      "Dimensions After Drop: (73920, 8)\n"
     ]
    }
   ],
   "source": [
    "print(f'Dimensions Before Drop: {climatedata.shape}')\n",
    "climatedata = climatedata.drop_duplicates()\n",
    "print(f'Dimensions After Drop: {climatedata.shape}')"
   ]
  },
  {
   "cell_type": "markdown",
   "id": "739141c1",
   "metadata": {},
   "source": [
    "There are no duplicate rows or columns"
   ]
  },
  {
   "cell_type": "markdown",
   "id": "e7eac579",
   "metadata": {},
   "source": [
    "#### 7.) Encode the categorical variables; you can use label encoding, one hot encoding, or..."
   ]
  },
  {
   "cell_type": "code",
   "execution_count": 11,
   "id": "72b76125",
   "metadata": {},
   "outputs": [],
   "source": [
    "climatedata['building_class'] = climatedata['building_class'].replace({'Commercial':1, 'Residential':0})"
   ]
  },
  {
   "cell_type": "code",
   "execution_count": 12,
   "id": "73d9be87",
   "metadata": {},
   "outputs": [
    {
     "data": {
      "text/plain": [
       "0        1\n",
       "1        1\n",
       "2        1\n",
       "3        1\n",
       "4        1\n",
       "        ..\n",
       "75752    1\n",
       "75753    0\n",
       "75754    1\n",
       "75755    1\n",
       "75756    0\n",
       "Name: building_class, Length: 73920, dtype: int64"
      ]
     },
     "execution_count": 12,
     "metadata": {},
     "output_type": "execute_result"
    }
   ],
   "source": [
    "climatedata['building_class']"
   ]
  },
  {
   "cell_type": "markdown",
   "id": "3bba49af",
   "metadata": {},
   "source": [
    "#### 8.) Create boxplots and show the outlier."
   ]
  },
  {
   "cell_type": "code",
   "execution_count": 13,
   "id": "cd3ece2f",
   "metadata": {},
   "outputs": [
    {
     "data": {
      "image/png": "[encoded data removed]",
      "text/plain": [
       "<Figure size 1080x1440 with 1 Axes>"
      ]
     },
     "metadata": {
      "needs_background": "light"
     },
     "output_type": "display_data"
    },
    {
     "data": {
      "image/png": "[encoded data removed]",
      "text/plain": [
       "<Figure size 1080x1440 with 1 Axes>"
      ]
     },
     "metadata": {
      "needs_background": "light"
     },
     "output_type": "display_data"
    },
    {
     "data": {
      "image/png": "[encoded data removed]",
      "text/plain": [
       "<Figure size 1080x1440 with 1 Axes>"
      ]
     },
     "metadata": {
      "needs_background": "light"
     },
     "output_type": "display_data"
    },
    {
     "data": {
      "image/png": "[encoded data removed]",
      "text/plain": [
       "<Figure size 1080x1440 with 1 Axes>"
      ]
     },
     "metadata": {
      "needs_background": "light"
     },
     "output_type": "display_data"
    },
    {
     "data": {
      "image/png": "[encoded data removed]",
      "text/plain": [
       "<Figure size 1080x1440 with 1 Axes>"
      ]
     },
     "metadata": {
      "needs_background": "light"
     },
     "output_type": "display_data"
    },
    {
     "data": {
      "image/png": "[encoded data removed]",
      "text/plain": [
       "<Figure size 1080x1440 with 1 Axes>"
      ]
     },
     "metadata": {
      "needs_background": "light"
     },
     "output_type": "display_data"
    },
    {
     "data": {
      "image/png": "[encoded data removed]",
      "text/plain": [
       "<Figure size 1080x1440 with 1 Axes>"
      ]
     },
     "metadata": {
      "needs_background": "light"
     },
     "output_type": "display_data"
    },
    {
     "data": {
      "image/png": "[encoded data removed]",
      "text/plain": [
       "<Figure size 1080x1440 with 1 Axes>"
      ]
     },
     "metadata": {
      "needs_background": "light"
     },
     "output_type": "display_data"
    }
   ],
   "source": [
    "def boxplots(dataset):\n",
    "    index = 1\n",
    "    for column_name in dataset:\n",
    "        plt.figure(figsize=(15,20))\n",
    "        plt.subplot(4,2,index)\n",
    "        plt.boxplot(climatedata[column_name])\n",
    "        plt.title(column_name.upper())\n",
    "        index += 1\n",
    "        plt.show()\n",
    "        \n",
    "boxplots(climatedata)"
   ]
  },
  {
   "cell_type": "markdown",
   "id": "504fc0b9",
   "metadata": {},
   "source": [
    "#### 9.) Create histograms and check the outliers."
   ]
  },
  {
   "cell_type": "code",
   "execution_count": 14,
   "id": "e93aa88d",
   "metadata": {},
   "outputs": [
    {
     "data": {
      "image/png": "[encoded data removed]",
      "text/plain": [
       "<Figure size 1080x1440 with 1 Axes>"
      ]
     },
     "metadata": {
      "needs_background": "light"
     },
     "output_type": "display_data"
    },
    {
     "data": {
      "image/png": "[encoded data removed]",
      "text/plain": [
       "<Figure size 1080x1440 with 1 Axes>"
      ]
     },
     "metadata": {
      "needs_background": "light"
     },
     "output_type": "display_data"
    },
    {
     "data": {
      "image/png": "[encoded data removed]",
      "text/plain": [
       "<Figure size 1080x1440 with 1 Axes>"
      ]
     },
     "metadata": {
      "needs_background": "light"
     },
     "output_type": "display_data"
    },
    {
     "data": {
      "image/png": "[encoded data removed]",
      "text/plain": [
       "<Figure size 1080x1440 with 1 Axes>"
      ]
     },
     "metadata": {
      "needs_background": "light"
     },
     "output_type": "display_data"
    },
    {
     "data": {
      "image/png": "[encoded data removed]",
      "text/plain": [
       "<Figure size 1080x1440 with 1 Axes>"
      ]
     },
     "metadata": {
      "needs_background": "light"
     },
     "output_type": "display_data"
    },
    {
     "data": {
      "image/png": "[encoded data removed]",
      "text/plain": [
       "<Figure size 1080x1440 with 1 Axes>"
      ]
     },
     "metadata": {
      "needs_background": "light"
     },
     "output_type": "display_data"
    },
    {
     "data": {
      "image/png": "[encoded data removed]",
      "text/plain": [
       "<Figure size 1080x1440 with 1 Axes>"
      ]
     },
     "metadata": {
      "needs_background": "light"
     },
     "output_type": "display_data"
    },
    {
     "data": {
      "image/png": "[encoded data removed]",
      "text/plain": [
       "<Figure size 1080x1440 with 1 Axes>"
      ]
     },
     "metadata": {
      "needs_background": "light"
     },
     "output_type": "display_data"
    }
   ],
   "source": [
    "def histograms(dataset):\n",
    "    index = 1\n",
    "    for column_name in dataset:\n",
    "        plt.figure(figsize=(15,20))\n",
    "        plt.subplot(4,2,index)\n",
    "        plt.hist(climatedata[column_name])\n",
    "        plt.title(column_name.upper())\n",
    "        index += 1\n",
    "        plt.show()\n",
    "        \n",
    "histograms(climatedata)"
   ]
  },
  {
   "cell_type": "markdown",
   "id": "658c3c87",
   "metadata": {},
   "source": [
    "#### 10.) If feature scaling is needed, do it, please."
   ]
  },
  {
   "cell_type": "code",
   "execution_count": 15,
   "id": "21512bfc",
   "metadata": {},
   "outputs": [],
   "source": [
    "varibles_to_be_normalized = ['floor_area', 'precipitation_inches', 'avg_temp', 'site_eui']"
   ]
  },
  {
   "cell_type": "code",
   "execution_count": 16,
   "id": "c9995b0b",
   "metadata": {},
   "outputs": [
    {
     "data": {
      "text/html": [
       "<div>\n",
       "<style scoped>\n",
       "    .dataframe tbody tr th:only-of-type {\n",
       "        vertical-align: middle;\n",
       "    }\n",
       "\n",
       "    .dataframe tbody tr th {\n",
       "        vertical-align: top;\n",
       "    }\n",
       "\n",
       "    .dataframe thead th {\n",
       "        text-align: right;\n",
       "    }\n",
       "</style>\n",
       "<table border=\"1\" class=\"dataframe\">\n",
       "  <thead>\n",
       "    <tr style=\"text-align: right;\">\n",
       "      <th></th>\n",
       "      <th>id</th>\n",
       "      <th>building_class</th>\n",
       "      <th>floor_area</th>\n",
       "      <th>year_built</th>\n",
       "      <th>precipitation_inches</th>\n",
       "      <th>snowfall_inches</th>\n",
       "      <th>avg_temp</th>\n",
       "      <th>site_eui</th>\n",
       "    </tr>\n",
       "  </thead>\n",
       "  <tbody>\n",
       "    <tr>\n",
       "      <th>0</th>\n",
       "      <td>0</td>\n",
       "      <td>1</td>\n",
       "      <td>0.009359</td>\n",
       "      <td>1942.0</td>\n",
       "      <td>0.120062</td>\n",
       "      <td>0.0</td>\n",
       "      <td>0.659752</td>\n",
       "      <td>0.248458</td>\n",
       "    </tr>\n",
       "    <tr>\n",
       "      <th>1</th>\n",
       "      <td>1</td>\n",
       "      <td>1</td>\n",
       "      <td>0.042855</td>\n",
       "      <td>1955.0</td>\n",
       "      <td>0.120062</td>\n",
       "      <td>0.0</td>\n",
       "      <td>0.659752</td>\n",
       "      <td>0.025580</td>\n",
       "    </tr>\n",
       "    <tr>\n",
       "      <th>2</th>\n",
       "      <td>2</td>\n",
       "      <td>1</td>\n",
       "      <td>0.043804</td>\n",
       "      <td>1951.0</td>\n",
       "      <td>0.120062</td>\n",
       "      <td>0.0</td>\n",
       "      <td>0.659752</td>\n",
       "      <td>0.023764</td>\n",
       "    </tr>\n",
       "    <tr>\n",
       "      <th>3</th>\n",
       "      <td>3</td>\n",
       "      <td>1</td>\n",
       "      <td>0.008427</td>\n",
       "      <td>1980.0</td>\n",
       "      <td>0.120062</td>\n",
       "      <td>0.0</td>\n",
       "      <td>0.659752</td>\n",
       "      <td>0.047559</td>\n",
       "    </tr>\n",
       "    <tr>\n",
       "      <th>4</th>\n",
       "      <td>4</td>\n",
       "      <td>1</td>\n",
       "      <td>0.010108</td>\n",
       "      <td>1985.0</td>\n",
       "      <td>0.120062</td>\n",
       "      <td>0.0</td>\n",
       "      <td>0.659752</td>\n",
       "      <td>0.002909</td>\n",
       "    </tr>\n",
       "    <tr>\n",
       "      <th>...</th>\n",
       "      <td>...</td>\n",
       "      <td>...</td>\n",
       "      <td>...</td>\n",
       "      <td>...</td>\n",
       "      <td>...</td>\n",
       "      <td>...</td>\n",
       "      <td>...</td>\n",
       "      <td>...</td>\n",
       "    </tr>\n",
       "    <tr>\n",
       "      <th>75752</th>\n",
       "      <td>75752</td>\n",
       "      <td>1</td>\n",
       "      <td>0.002930</td>\n",
       "      <td>1995.0</td>\n",
       "      <td>0.394765</td>\n",
       "      <td>1.4</td>\n",
       "      <td>0.563118</td>\n",
       "      <td>0.132334</td>\n",
       "    </tr>\n",
       "    <tr>\n",
       "      <th>75753</th>\n",
       "      <td>75753</td>\n",
       "      <td>0</td>\n",
       "      <td>0.006091</td>\n",
       "      <td>1910.0</td>\n",
       "      <td>0.394765</td>\n",
       "      <td>1.4</td>\n",
       "      <td>0.563118</td>\n",
       "      <td>0.038601</td>\n",
       "    </tr>\n",
       "    <tr>\n",
       "      <th>75754</th>\n",
       "      <td>75754</td>\n",
       "      <td>1</td>\n",
       "      <td>0.004136</td>\n",
       "      <td>1917.0</td>\n",
       "      <td>0.986767</td>\n",
       "      <td>36.6</td>\n",
       "      <td>0.179965</td>\n",
       "      <td>0.047549</td>\n",
       "    </tr>\n",
       "    <tr>\n",
       "      <th>75755</th>\n",
       "      <td>75755</td>\n",
       "      <td>1</td>\n",
       "      <td>0.008151</td>\n",
       "      <td>2012.0</td>\n",
       "      <td>0.986767</td>\n",
       "      <td>36.6</td>\n",
       "      <td>0.179965</td>\n",
       "      <td>0.592876</td>\n",
       "    </tr>\n",
       "    <tr>\n",
       "      <th>75756</th>\n",
       "      <td>75756</td>\n",
       "      <td>0</td>\n",
       "      <td>0.003478</td>\n",
       "      <td>1974.0</td>\n",
       "      <td>1.000000</td>\n",
       "      <td>28.8</td>\n",
       "      <td>0.244361</td>\n",
       "      <td>0.028238</td>\n",
       "    </tr>\n",
       "  </tbody>\n",
       "</table>\n",
       "<p>73920 rows × 8 columns</p>\n",
       "</div>"
      ],
      "text/plain": [
       "          id  building_class  floor_area  year_built  precipitation_inches  \\\n",
       "0          0               1    0.009359      1942.0              0.120062   \n",
       "1          1               1    0.042855      1955.0              0.120062   \n",
       "2          2               1    0.043804      1951.0              0.120062   \n",
       "3          3               1    0.008427      1980.0              0.120062   \n",
       "4          4               1    0.010108      1985.0              0.120062   \n",
       "...      ...             ...         ...         ...                   ...   \n",
       "75752  75752               1    0.002930      1995.0              0.394765   \n",
       "75753  75753               0    0.006091      1910.0              0.394765   \n",
       "75754  75754               1    0.004136      1917.0              0.986767   \n",
       "75755  75755               1    0.008151      2012.0              0.986767   \n",
       "75756  75756               0    0.003478      1974.0              1.000000   \n",
       "\n",
       "       snowfall_inches  avg_temp  site_eui  \n",
       "0                  0.0  0.659752  0.248458  \n",
       "1                  0.0  0.659752  0.025580  \n",
       "2                  0.0  0.659752  0.023764  \n",
       "3                  0.0  0.659752  0.047559  \n",
       "4                  0.0  0.659752  0.002909  \n",
       "...                ...       ...       ...  \n",
       "75752              1.4  0.563118  0.132334  \n",
       "75753              1.4  0.563118  0.038601  \n",
       "75754             36.6  0.179965  0.047549  \n",
       "75755             36.6  0.179965  0.592876  \n",
       "75756             28.8  0.244361  0.028238  \n",
       "\n",
       "[73920 rows x 8 columns]"
      ]
     },
     "execution_count": 16,
     "metadata": {},
     "output_type": "execute_result"
    }
   ],
   "source": [
    "def normalizing(data,columns):\n",
    "    for column in columns:\n",
    "        data[column] = (data[column] - data[column].min()) / (data[column].max() - data[column].min())\n",
    "    return data\n",
    "\n",
    "normalizing(climatedata,varibles_to_be_normalized)"
   ]
  }
 ],
 "metadata": {
  "kernelspec": {
   "display_name": "Python 3 (ipykernel)",
   "language": "python",
   "name": "python3"
  },
  "language_info": {
   "codemirror_mode": {
    "name": "ipython",
    "version": 3
   },
   "file_extension": ".py",
   "mimetype": "text/x-python",
   "name": "python",
   "nbconvert_exporter": "python",
   "pygments_lexer": "ipython3",
   "version": "3.8.10"
  }
 },
 "nbformat": 4,
 "nbformat_minor": 5
}
