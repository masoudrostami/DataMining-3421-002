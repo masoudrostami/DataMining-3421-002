{
 "cells": [
  {
   "cell_type": "markdown",
   "id": "678f6e2c",
   "metadata": {},
   "source": [
    "# Homework 2: (Data Preprocessing)"
   ]
  },
  {
   "cell_type": "code",
   "execution_count": 3,
   "id": "40afe44b",
   "metadata": {},
   "outputs": [],
   "source": [
    "import pandas as pd"
   ]
  },
  {
   "cell_type": "code",
   "execution_count": 4,
   "id": "0e7e3624",
   "metadata": {},
   "outputs": [
    {
     "data": {
      "text/html": [
       "<div>\n",
       "<style scoped>\n",
       "    .dataframe tbody tr th:only-of-type {\n",
       "        vertical-align: middle;\n",
       "    }\n",
       "\n",
       "    .dataframe tbody tr th {\n",
       "        vertical-align: top;\n",
       "    }\n",
       "\n",
       "    .dataframe thead th {\n",
       "        text-align: right;\n",
       "    }\n",
       "</style>\n",
       "<table border=\"1\" class=\"dataframe\">\n",
       "  <thead>\n",
       "    <tr style=\"text-align: right;\">\n",
       "      <th></th>\n",
       "      <th>id</th>\n",
       "      <th>building_class</th>\n",
       "      <th>floor_area</th>\n",
       "      <th>year_built</th>\n",
       "      <th>precipitation_inches</th>\n",
       "      <th>snowfall_inches</th>\n",
       "      <th>avg_temp</th>\n",
       "      <th>days_with_fog</th>\n",
       "      <th>site_eui</th>\n",
       "    </tr>\n",
       "  </thead>\n",
       "  <tbody>\n",
       "    <tr>\n",
       "      <th>0</th>\n",
       "      <td>0</td>\n",
       "      <td>Commercial</td>\n",
       "      <td>61242.0</td>\n",
       "      <td>1942.0</td>\n",
       "      <td>16.59</td>\n",
       "      <td>0.0</td>\n",
       "      <td>56.972603</td>\n",
       "      <td>NaN</td>\n",
       "      <td>248.68</td>\n",
       "    </tr>\n",
       "    <tr>\n",
       "      <th>1</th>\n",
       "      <td>1</td>\n",
       "      <td>Commercial</td>\n",
       "      <td>274000.0</td>\n",
       "      <td>1955.0</td>\n",
       "      <td>16.59</td>\n",
       "      <td>0.0</td>\n",
       "      <td>56.972603</td>\n",
       "      <td>12.0</td>\n",
       "      <td>26.50</td>\n",
       "    </tr>\n",
       "    <tr>\n",
       "      <th>2</th>\n",
       "      <td>2</td>\n",
       "      <td>Commercial</td>\n",
       "      <td>280025.0</td>\n",
       "      <td>1951.0</td>\n",
       "      <td>16.59</td>\n",
       "      <td>0.0</td>\n",
       "      <td>56.972603</td>\n",
       "      <td>12.0</td>\n",
       "      <td>24.69</td>\n",
       "    </tr>\n",
       "    <tr>\n",
       "      <th>3</th>\n",
       "      <td>3</td>\n",
       "      <td>Commercial</td>\n",
       "      <td>55325.0</td>\n",
       "      <td>1980.0</td>\n",
       "      <td>16.59</td>\n",
       "      <td>0.0</td>\n",
       "      <td>56.972603</td>\n",
       "      <td>12.0</td>\n",
       "      <td>48.41</td>\n",
       "    </tr>\n",
       "    <tr>\n",
       "      <th>4</th>\n",
       "      <td>4</td>\n",
       "      <td>Commercial</td>\n",
       "      <td>66000.0</td>\n",
       "      <td>1985.0</td>\n",
       "      <td>16.59</td>\n",
       "      <td>0.0</td>\n",
       "      <td>56.972603</td>\n",
       "      <td>NaN</td>\n",
       "      <td>3.90</td>\n",
       "    </tr>\n",
       "    <tr>\n",
       "      <th>...</th>\n",
       "      <td>...</td>\n",
       "      <td>...</td>\n",
       "      <td>...</td>\n",
       "      <td>...</td>\n",
       "      <td>...</td>\n",
       "      <td>...</td>\n",
       "      <td>...</td>\n",
       "      <td>...</td>\n",
       "      <td>...</td>\n",
       "    </tr>\n",
       "    <tr>\n",
       "      <th>75752</th>\n",
       "      <td>75752</td>\n",
       "      <td>Commercial</td>\n",
       "      <td>20410.0</td>\n",
       "      <td>1995.0</td>\n",
       "      <td>45.03</td>\n",
       "      <td>1.4</td>\n",
       "      <td>55.147541</td>\n",
       "      <td>NaN</td>\n",
       "      <td>132.92</td>\n",
       "    </tr>\n",
       "    <tr>\n",
       "      <th>75753</th>\n",
       "      <td>75753</td>\n",
       "      <td>Residential</td>\n",
       "      <td>40489.0</td>\n",
       "      <td>1910.0</td>\n",
       "      <td>45.03</td>\n",
       "      <td>1.4</td>\n",
       "      <td>55.147541</td>\n",
       "      <td>NaN</td>\n",
       "      <td>39.48</td>\n",
       "    </tr>\n",
       "    <tr>\n",
       "      <th>75754</th>\n",
       "      <td>75754</td>\n",
       "      <td>Commercial</td>\n",
       "      <td>28072.0</td>\n",
       "      <td>1917.0</td>\n",
       "      <td>106.32</td>\n",
       "      <td>36.6</td>\n",
       "      <td>47.911202</td>\n",
       "      <td>NaN</td>\n",
       "      <td>48.40</td>\n",
       "    </tr>\n",
       "    <tr>\n",
       "      <th>75755</th>\n",
       "      <td>75755</td>\n",
       "      <td>Commercial</td>\n",
       "      <td>53575.0</td>\n",
       "      <td>2012.0</td>\n",
       "      <td>106.32</td>\n",
       "      <td>36.6</td>\n",
       "      <td>47.911202</td>\n",
       "      <td>NaN</td>\n",
       "      <td>592.02</td>\n",
       "    </tr>\n",
       "    <tr>\n",
       "      <th>75756</th>\n",
       "      <td>75756</td>\n",
       "      <td>Residential</td>\n",
       "      <td>23888.0</td>\n",
       "      <td>1974.0</td>\n",
       "      <td>107.69</td>\n",
       "      <td>28.8</td>\n",
       "      <td>49.127397</td>\n",
       "      <td>NaN</td>\n",
       "      <td>29.15</td>\n",
       "    </tr>\n",
       "  </tbody>\n",
       "</table>\n",
       "<p>75757 rows × 9 columns</p>\n",
       "</div>"
      ],
      "text/plain": [
       "          id building_class  floor_area  year_built  precipitation_inches  \\\n",
       "0          0     Commercial     61242.0      1942.0                 16.59   \n",
       "1          1     Commercial    274000.0      1955.0                 16.59   \n",
       "2          2     Commercial    280025.0      1951.0                 16.59   \n",
       "3          3     Commercial     55325.0      1980.0                 16.59   \n",
       "4          4     Commercial     66000.0      1985.0                 16.59   \n",
       "...      ...            ...         ...         ...                   ...   \n",
       "75752  75752     Commercial     20410.0      1995.0                 45.03   \n",
       "75753  75753    Residential     40489.0      1910.0                 45.03   \n",
       "75754  75754     Commercial     28072.0      1917.0                106.32   \n",
       "75755  75755     Commercial     53575.0      2012.0                106.32   \n",
       "75756  75756    Residential     23888.0      1974.0                107.69   \n",
       "\n",
       "       snowfall_inches   avg_temp  days_with_fog  site_eui  \n",
       "0                  0.0  56.972603            NaN    248.68  \n",
       "1                  0.0  56.972603           12.0     26.50  \n",
       "2                  0.0  56.972603           12.0     24.69  \n",
       "3                  0.0  56.972603           12.0     48.41  \n",
       "4                  0.0  56.972603            NaN      3.90  \n",
       "...                ...        ...            ...       ...  \n",
       "75752              1.4  55.147541            NaN    132.92  \n",
       "75753              1.4  55.147541            NaN     39.48  \n",
       "75754             36.6  47.911202            NaN     48.40  \n",
       "75755             36.6  47.911202            NaN    592.02  \n",
       "75756             28.8  49.127397            NaN     29.15  \n",
       "\n",
       "[75757 rows x 9 columns]"
      ]
     },
     "execution_count": 4,
     "metadata": {},
     "output_type": "execute_result"
    }
   ],
   "source": [
    "df = pd.read_csv('ClimateData.csv')\n",
    "df"
   ]
  },
  {
   "cell_type": "code",
   "execution_count": 5,
   "id": "2883a01e",
   "metadata": {},
   "outputs": [
    {
     "data": {
      "text/html": [
       "<div>\n",
       "<style scoped>\n",
       "    .dataframe tbody tr th:only-of-type {\n",
       "        vertical-align: middle;\n",
       "    }\n",
       "\n",
       "    .dataframe tbody tr th {\n",
       "        vertical-align: top;\n",
       "    }\n",
       "\n",
       "    .dataframe thead th {\n",
       "        text-align: right;\n",
       "    }\n",
       "</style>\n",
       "<table border=\"1\" class=\"dataframe\">\n",
       "  <thead>\n",
       "    <tr style=\"text-align: right;\">\n",
       "      <th></th>\n",
       "      <th>id</th>\n",
       "      <th>building_class</th>\n",
       "      <th>floor_area</th>\n",
       "      <th>year_built</th>\n",
       "      <th>precipitation_inches</th>\n",
       "      <th>snowfall_inches</th>\n",
       "      <th>avg_temp</th>\n",
       "      <th>days_with_fog</th>\n",
       "      <th>site_eui</th>\n",
       "    </tr>\n",
       "  </thead>\n",
       "  <tbody>\n",
       "    <tr>\n",
       "      <th>0</th>\n",
       "      <td>0</td>\n",
       "      <td>Commercial</td>\n",
       "      <td>61242.0</td>\n",
       "      <td>1942.0</td>\n",
       "      <td>16.59</td>\n",
       "      <td>0.0</td>\n",
       "      <td>56.972603</td>\n",
       "      <td>NaN</td>\n",
       "      <td>248.68</td>\n",
       "    </tr>\n",
       "    <tr>\n",
       "      <th>1</th>\n",
       "      <td>1</td>\n",
       "      <td>Commercial</td>\n",
       "      <td>274000.0</td>\n",
       "      <td>1955.0</td>\n",
       "      <td>16.59</td>\n",
       "      <td>0.0</td>\n",
       "      <td>56.972603</td>\n",
       "      <td>12.0</td>\n",
       "      <td>26.50</td>\n",
       "    </tr>\n",
       "    <tr>\n",
       "      <th>2</th>\n",
       "      <td>2</td>\n",
       "      <td>Commercial</td>\n",
       "      <td>280025.0</td>\n",
       "      <td>1951.0</td>\n",
       "      <td>16.59</td>\n",
       "      <td>0.0</td>\n",
       "      <td>56.972603</td>\n",
       "      <td>12.0</td>\n",
       "      <td>24.69</td>\n",
       "    </tr>\n",
       "    <tr>\n",
       "      <th>3</th>\n",
       "      <td>3</td>\n",
       "      <td>Commercial</td>\n",
       "      <td>55325.0</td>\n",
       "      <td>1980.0</td>\n",
       "      <td>16.59</td>\n",
       "      <td>0.0</td>\n",
       "      <td>56.972603</td>\n",
       "      <td>12.0</td>\n",
       "      <td>48.41</td>\n",
       "    </tr>\n",
       "    <tr>\n",
       "      <th>4</th>\n",
       "      <td>4</td>\n",
       "      <td>Commercial</td>\n",
       "      <td>66000.0</td>\n",
       "      <td>1985.0</td>\n",
       "      <td>16.59</td>\n",
       "      <td>0.0</td>\n",
       "      <td>56.972603</td>\n",
       "      <td>NaN</td>\n",
       "      <td>3.90</td>\n",
       "    </tr>\n",
       "  </tbody>\n",
       "</table>\n",
       "</div>"
      ],
      "text/plain": [
       "   id building_class  floor_area  year_built  precipitation_inches  \\\n",
       "0   0     Commercial     61242.0      1942.0                 16.59   \n",
       "1   1     Commercial    274000.0      1955.0                 16.59   \n",
       "2   2     Commercial    280025.0      1951.0                 16.59   \n",
       "3   3     Commercial     55325.0      1980.0                 16.59   \n",
       "4   4     Commercial     66000.0      1985.0                 16.59   \n",
       "\n",
       "   snowfall_inches   avg_temp  days_with_fog  site_eui  \n",
       "0              0.0  56.972603            NaN    248.68  \n",
       "1              0.0  56.972603           12.0     26.50  \n",
       "2              0.0  56.972603           12.0     24.69  \n",
       "3              0.0  56.972603           12.0     48.41  \n",
       "4              0.0  56.972603            NaN      3.90  "
      ]
     },
     "execution_count": 5,
     "metadata": {},
     "output_type": "execute_result"
    }
   ],
   "source": [
    "# Checking head and tail of data\n",
    "df.head()"
   ]
  },
  {
   "cell_type": "code",
   "execution_count": 6,
   "id": "37e3385b",
   "metadata": {},
   "outputs": [
    {
     "data": {
      "text/html": [
       "<div>\n",
       "<style scoped>\n",
       "    .dataframe tbody tr th:only-of-type {\n",
       "        vertical-align: middle;\n",
       "    }\n",
       "\n",
       "    .dataframe tbody tr th {\n",
       "        vertical-align: top;\n",
       "    }\n",
       "\n",
       "    .dataframe thead th {\n",
       "        text-align: right;\n",
       "    }\n",
       "</style>\n",
       "<table border=\"1\" class=\"dataframe\">\n",
       "  <thead>\n",
       "    <tr style=\"text-align: right;\">\n",
       "      <th></th>\n",
       "      <th>id</th>\n",
       "      <th>building_class</th>\n",
       "      <th>floor_area</th>\n",
       "      <th>year_built</th>\n",
       "      <th>precipitation_inches</th>\n",
       "      <th>snowfall_inches</th>\n",
       "      <th>avg_temp</th>\n",
       "      <th>days_with_fog</th>\n",
       "      <th>site_eui</th>\n",
       "    </tr>\n",
       "  </thead>\n",
       "  <tbody>\n",
       "    <tr>\n",
       "      <th>75752</th>\n",
       "      <td>75752</td>\n",
       "      <td>Commercial</td>\n",
       "      <td>20410.0</td>\n",
       "      <td>1995.0</td>\n",
       "      <td>45.03</td>\n",
       "      <td>1.4</td>\n",
       "      <td>55.147541</td>\n",
       "      <td>NaN</td>\n",
       "      <td>132.92</td>\n",
       "    </tr>\n",
       "    <tr>\n",
       "      <th>75753</th>\n",
       "      <td>75753</td>\n",
       "      <td>Residential</td>\n",
       "      <td>40489.0</td>\n",
       "      <td>1910.0</td>\n",
       "      <td>45.03</td>\n",
       "      <td>1.4</td>\n",
       "      <td>55.147541</td>\n",
       "      <td>NaN</td>\n",
       "      <td>39.48</td>\n",
       "    </tr>\n",
       "    <tr>\n",
       "      <th>75754</th>\n",
       "      <td>75754</td>\n",
       "      <td>Commercial</td>\n",
       "      <td>28072.0</td>\n",
       "      <td>1917.0</td>\n",
       "      <td>106.32</td>\n",
       "      <td>36.6</td>\n",
       "      <td>47.911202</td>\n",
       "      <td>NaN</td>\n",
       "      <td>48.40</td>\n",
       "    </tr>\n",
       "    <tr>\n",
       "      <th>75755</th>\n",
       "      <td>75755</td>\n",
       "      <td>Commercial</td>\n",
       "      <td>53575.0</td>\n",
       "      <td>2012.0</td>\n",
       "      <td>106.32</td>\n",
       "      <td>36.6</td>\n",
       "      <td>47.911202</td>\n",
       "      <td>NaN</td>\n",
       "      <td>592.02</td>\n",
       "    </tr>\n",
       "    <tr>\n",
       "      <th>75756</th>\n",
       "      <td>75756</td>\n",
       "      <td>Residential</td>\n",
       "      <td>23888.0</td>\n",
       "      <td>1974.0</td>\n",
       "      <td>107.69</td>\n",
       "      <td>28.8</td>\n",
       "      <td>49.127397</td>\n",
       "      <td>NaN</td>\n",
       "      <td>29.15</td>\n",
       "    </tr>\n",
       "  </tbody>\n",
       "</table>\n",
       "</div>"
      ],
      "text/plain": [
       "          id building_class  floor_area  year_built  precipitation_inches  \\\n",
       "75752  75752     Commercial     20410.0      1995.0                 45.03   \n",
       "75753  75753    Residential     40489.0      1910.0                 45.03   \n",
       "75754  75754     Commercial     28072.0      1917.0                106.32   \n",
       "75755  75755     Commercial     53575.0      2012.0                106.32   \n",
       "75756  75756    Residential     23888.0      1974.0                107.69   \n",
       "\n",
       "       snowfall_inches   avg_temp  days_with_fog  site_eui  \n",
       "75752              1.4  55.147541            NaN    132.92  \n",
       "75753              1.4  55.147541            NaN     39.48  \n",
       "75754             36.6  47.911202            NaN     48.40  \n",
       "75755             36.6  47.911202            NaN    592.02  \n",
       "75756             28.8  49.127397            NaN     29.15  "
      ]
     },
     "execution_count": 6,
     "metadata": {},
     "output_type": "execute_result"
    }
   ],
   "source": [
    "df.tail()"
   ]
  },
  {
   "cell_type": "markdown",
   "id": "4e8fa3f2",
   "metadata": {},
   "source": [
    "### Question 1\n",
    "Please take a look at the data types and summary of our variables."
   ]
  },
  {
   "cell_type": "code",
   "execution_count": 7,
   "id": "93cafd9e",
   "metadata": {},
   "outputs": [
    {
     "data": {
      "text/plain": [
       "id                        int64\n",
       "building_class           object\n",
       "floor_area              float64\n",
       "year_built              float64\n",
       "precipitation_inches    float64\n",
       "snowfall_inches         float64\n",
       "avg_temp                float64\n",
       "days_with_fog           float64\n",
       "site_eui                float64\n",
       "dtype: object"
      ]
     },
     "execution_count": 7,
     "metadata": {},
     "output_type": "execute_result"
    }
   ],
   "source": [
    "df.dtypes"
   ]
  },
  {
   "cell_type": "code",
   "execution_count": 8,
   "id": "c28b4ace",
   "metadata": {},
   "outputs": [
    {
     "name": "stdout",
     "output_type": "stream",
     "text": [
      "<class 'pandas.core.frame.DataFrame'>\n",
      "RangeIndex: 75757 entries, 0 to 75756\n",
      "Data columns (total 9 columns):\n",
      " #   Column                Non-Null Count  Dtype  \n",
      "---  ------                --------------  -----  \n",
      " 0   id                    75757 non-null  int64  \n",
      " 1   building_class        75757 non-null  object \n",
      " 2   floor_area            75757 non-null  float64\n",
      " 3   year_built            73920 non-null  float64\n",
      " 4   precipitation_inches  75757 non-null  float64\n",
      " 5   snowfall_inches       75757 non-null  float64\n",
      " 6   avg_temp              75757 non-null  float64\n",
      " 7   days_with_fog         29961 non-null  float64\n",
      " 8   site_eui              75757 non-null  float64\n",
      "dtypes: float64(7), int64(1), object(1)\n",
      "memory usage: 5.2+ MB\n"
     ]
    }
   ],
   "source": [
    "df.info()"
   ]
  },
  {
   "cell_type": "markdown",
   "id": "f8fe39dd",
   "metadata": {},
   "source": [
    "### Question 2\n",
    "Summarize the number of unique values in each column."
   ]
  },
  {
   "cell_type": "code",
   "execution_count": 9,
   "id": "6f2f9ed6",
   "metadata": {},
   "outputs": [
    {
     "name": "stdout",
     "output_type": "stream",
     "text": [
      "id\n",
      "[    0     1     2 ... 75754 75755 75756]\n",
      "The number of values in this column are 75757 and the number of unique values 75757.\n",
      "\n",
      "building_class\n",
      "['Commercial' 'Residential']\n",
      "The number of values in this column are 75757 and the number of unique values 2.\n",
      "\n",
      "floor_area\n",
      "[ 61242. 274000. 280025. ... 103345.  36353.  40489.]\n",
      "The number of values in this column are 75757 and the number of unique values 20433.\n",
      "\n",
      "year_built\n",
      "[1942. 1955. 1951. 1980. 1985. 1956. 1982. 1947. 1929. 1979. 1927. 1960.\n",
      " 1924.   nan 1949. 1926. 1914. 1973. 1900. 1913. 1962. 1989. 1967. 1954.\n",
      " 1986. 1906. 1912. 1902. 1920. 1905. 1997. 1909. 2002. 1974. 1907. 1908.\n",
      " 1988. 1987. 1923. 1948. 1966. 1975. 1934. 1938. 1983. 2003. 1915. 1961.\n",
      " 1911. 1925. 1964. 1953. 1957. 2006. 1990. 1991. 1969. 1968. 1910. 1937.\n",
      " 1971. 1965. 1946. 1917. 1901. 2000. 2008. 1999. 1981. 2001. 1978. 1898.\n",
      " 1928. 1970. 1918. 1930. 1903. 1936. 1921. 1922. 1984. 1976. 1952. 1959.\n",
      " 1916. 1963. 1972. 1919. 1931. 1958.    0. 1994. 1940. 2010. 2009. 1889.\n",
      " 1939. 1945. 1904. 1932. 1941. 1977. 1993. 1992. 1950. 1944. 1935. 1996.\n",
      " 1995. 1933. 1943. 2007. 2005. 2004. 1869. 2011. 2012. 1864. 1998. 1895.\n",
      " 1896. 1875. 1880. 1888. 1897. 1891. 2013. 1887. 1882. 1886. 1890. 1789.\n",
      " 1868. 1885. 2014. 1867. 2015. 1829. 1844. 1871. 1893. 1892. 1879. 1860.\n",
      " 1894. 1883. 1874. 1884. 1873. 1899. 1872. 1876. 1865. 1850. 1870. 1600.\n",
      " 1848. 1857. 1877. 1836. 1853. 1881. 1649. 1827. 1845. 1878. 1846. 1800.\n",
      " 1811. 1859. 1854. 1833. 1862. 1851. 1799. 1841. 1818. 1756. 1843. 1732.\n",
      " 1815.]\n",
      "The number of values in this column are 75757 and the number of unique values 181.\n",
      "\n",
      "precipitation_inches\n",
      "[ 16.59  10.43   6.64   8.04   1.69   3.28   7.29   3.51   8.21   4.71\n",
      "   4.41   6.58  13.77   1.86   9.97  31.48  15.34  19.27  22.14  13.1\n",
      "  13.54  21.15  10.34  41.12  50.77  29.97  24.72  63.43  18.92  37.43\n",
      "  25.54  77.19   5.57  16.07  15.     3.84   2.86   3.02   2.33   4.17\n",
      "   2.56  10.79   1.58   2.97   4.7    2.99   3.7    3.17   3.43   1.91\n",
      "   4.07   1.99   4.43   3.01   3.79   4.46   3.8    4.62   1.33   4.69\n",
      "   3.08   4.5    4.16   4.59   5.81   4.     8.45  20.89   7.18   7.5\n",
      "  21.8   10.3   15.86   0.    16.6   28.92   2.03   7.77  22.85   6.62\n",
      "   7.4    5.32   9.8    2.81   3.46   9.13  11.5    4.06   4.02  10.54\n",
      "   5.56  19.45  25.35   7.46  15.06   8.71  23.02  14.23  28.03  15.59\n",
      "  20.69  17.63  24.25  20.94  30.08  18.74  22.82  45.03  58.35  35.09\n",
      "  30.91  20.76  22.66  26.94  18.93  37.5   33.96  17.07  49.01   7.95\n",
      "  21.39  47.89  41.95  53.08  53.09  43.61  37.12  41.48  39.47  41.11\n",
      "  37.97  39.01  41.77  45.72  41.8   41.75  46.98  37.9   42.89  36.39\n",
      "  72.81  38.51  39.27  49.04  46.32  39.22  59.32  53.79  49.83  52.09\n",
      "  40.97  35.21  39.1   42.17  46.37  48.96  48.82  50.2   46.62  45.94\n",
      "  44.21  35.78  41.91  44.24  44.41  45.02  31.7   39.35  97.12 106.32\n",
      " 107.69]\n",
      "The number of values in this column are 75757 and the number of unique values 171.\n",
      "\n",
      "snowfall_inches\n",
      "[  0.    1.3  84.8  54.9  27.5  62.9  16.   27.    3.5  54.3   2.    0.5\n",
      "  27.1  27.8   3.    4.   15.3   0.4 127.3  46.5   6.    9.9  10.   11.5\n",
      "   6.9   1.    5.9  31.6  14.8  30.   45.   69.8  59.3  58.9  56.4  32.7\n",
      "  45.6  43.8  44.8  47.5  21.9  27.3  44.7   9.6  10.8  29.6  50.5  51.4\n",
      "  50.   54.6  49.1  63.5  52.8  36.   35.2  19.4  42.1  50.9  29.8  31.3\n",
      "  33.7  13.9  34.6   4.4  30.5  18.3  22.2  39.9   1.4  36.6  28.8]\n",
      "The number of values in this column are 75757 and the number of unique values 71.\n",
      "\n",
      "avg_temp\n",
      "[56.97260274 64.25136612 64.18306011 62.94917582 74.68493151 63.93306011\n",
      " 68.44917582 65.37774725 65.60519126 64.73835616 67.05874317 63.77747253\n",
      " 64.6284153  63.37568306 66.75546448 49.00835655 60.64617486 60.24726776\n",
      " 57.06010929 59.78356164 61.76639344 61.69398907 63.93956044 57.92349727\n",
      " 51.65846995 61.49453552 62.59478022 52.95901639 62.62861272 55.17994505\n",
      " 63.46311475 53.75       64.06027397 58.19726027 57.40273973 67.90547945\n",
      " 65.26986301 70.71780822 64.63013699 64.44109589 63.01232877 48.70684932\n",
      " 65.25616438 62.72513812 60.01232877 59.0890411  63.96694215 60.32739726\n",
      " 66.51643836 61.16712329 64.57534247 63.76849315 56.29395604 66.92054795\n",
      " 62.98493151 63.70360111 59.98626374 61.08356164 57.61369863 63.26164384\n",
      " 60.01369863 60.05616438 57.08219178 61.80958904 61.85068493 61.54657534\n",
      " 58.25905292 52.71840659 62.51785714 59.51236264 53.45342466 63.71982759\n",
      " 47.82231405 63.02222222 46.38219178 51.48219178 50.90410959 75.6260274\n",
      " 67.59315068 59.35205479 63.46218487 69.15753425 69.1739726  67.07260274\n",
      " 77.24520548 65.01236264 64.48082192 62.63972603 65.54281768 69.48493151\n",
      " 63.01369863 66.13150685 59.44093407 44.7369186  69.06027397 62.24383562\n",
      " 65.9820442  51.34710744 64.42328767 58.28493151 62.62054795 62.06712329\n",
      " 63.23287671 65.07162921 58.72739726 60.28493151 64.40273973 63.6369863\n",
      " 54.9369863  58.75       62.27808219 64.72054795 64.52465753 65.90616246\n",
      " 65.9630137  49.44352617 54.80958904 65.03424658 52.10914454 53.88718663\n",
      " 63.39863014 59.6489071  57.83516484 58.51912568 55.83333333 54.65168539\n",
      " 56.42795389 57.44318182 46.74022346 47.67671233 46.61157025 44.51232877\n",
      " 45.59530387 50.1565097  50.39726027 49.97123288 49.8        49.35635359\n",
      " 51.99022346 53.56267409 50.88365651 56.51917808 57.36612022 57.95753425\n",
      " 56.15710383 55.44931507 53.09726027 48.10684932 54.50136986 49.41620879\n",
      " 46.66712329 56.83561644 54.30547945 47.86986301 57.21584699 49.44535519\n",
      " 53.08219178 56.00688705 51.7739726  52.89589041 53.23835616 50.63472222\n",
      " 53.83933518 54.2295082  58.90136986 58.55753425 60.27260274 60.4057377\n",
      " 55.69315068 50.77534247 55.14754098 47.91120219 49.12739726]\n",
      "The number of values in this column are 75757 and the number of unique values 173.\n",
      "\n",
      "days_with_fog\n",
      "[ nan  12.  89.  88.  90. 104. 113. 184. 126. 107.  82.  84. 120. 178.\n",
      " 156. 110. 106. 311.  86.  37. 289. 176.  58. 267.  73. 161.  99.  93.\n",
      " 114.  79.  56.  63. 101. 111. 148. 131.  65.  87.  31. 125. 116.  51.\n",
      " 261.]\n",
      "The number of values in this column are 75757 and the number of unique values 43.\n",
      "\n",
      "site_eui\n",
      "[248.68  26.5   24.69 ... 188.52  40.53 592.02]\n",
      "The number of values in this column are 75757 and the number of unique values 17203.\n",
      "\n"
     ]
    }
   ],
   "source": [
    "for col in df:\n",
    "    uniq_vals = df[col].unique()\n",
    "    print(col)\n",
    "    print(uniq_vals)\n",
    "    print(f'The number of values in this column are {df[col].size} and the number of unique values {len(uniq_vals)}.')\n",
    "    print()"
   ]
  },
  {
   "cell_type": "markdown",
   "id": "049bcf8f",
   "metadata": {},
   "source": [
    "1. For building_class, we can see that there are only two values: \"Commercial\" or \"Residential.\"\n",
    "1. For the floor_area and site_eui columns, we can see that there are a large amount of unique values (20,433 and 17,203 respectively).\n",
    "1. For the other columns (year_built, precipitation_inches, snowfall_inches, avg_temp, days_with fog), we can see that there are a low amount of unique values with such a large dataset. This means that there are many values that are repeated."
   ]
  },
  {
   "cell_type": "markdown",
   "id": "5b741c2b",
   "metadata": {},
   "source": [
    "### Question 3\n",
    "Check at descriptive statistics for the dataset."
   ]
  },
  {
   "cell_type": "code",
   "execution_count": 12,
   "id": "397070ac",
   "metadata": {},
   "outputs": [
    {
     "name": "stderr",
     "output_type": "stream",
     "text": [
      "/tmp/ipykernel_214/2681518468.py:1: FutureWarning: Dropping of nuisance columns in DataFrame reductions (with 'numeric_only=None') is deprecated; in a future version this will raise TypeError.  Select only valid columns before calling the reduction.\n",
      "  df.mean(axis=0)\n"
     ]
    },
    {
     "data": {
      "text/plain": [
       "id                       37878.000000\n",
       "floor_area              165983.865858\n",
       "year_built                1952.306764\n",
       "precipitation_inches        42.430651\n",
       "snowfall_inches             29.136379\n",
       "avg_temp                    56.176705\n",
       "days_with_fog              109.142051\n",
       "site_eui                    82.584707\n",
       "dtype: float64"
      ]
     },
     "execution_count": 12,
     "metadata": {},
     "output_type": "execute_result"
    }
   ],
   "source": [
    "df.mean(axis=0)"
   ]
  },
  {
   "cell_type": "code",
   "execution_count": 13,
   "id": "c2b3e797",
   "metadata": {},
   "outputs": [
    {
     "name": "stderr",
     "output_type": "stream",
     "text": [
      "/tmp/ipykernel_214/2228440589.py:1: FutureWarning: Dropping of nuisance columns in DataFrame reductions (with 'numeric_only=None') is deprecated; in a future version this will raise TypeError.  Select only valid columns before calling the reduction.\n",
      "  df.median(axis=0)\n"
     ]
    },
    {
     "data": {
      "text/plain": [
       "id                      37878.000000\n",
       "floor_area              91367.000000\n",
       "year_built               1951.000000\n",
       "precipitation_inches       42.170000\n",
       "snowfall_inches            31.600000\n",
       "avg_temp                   56.835616\n",
       "days_with_fog             104.000000\n",
       "site_eui                   75.290000\n",
       "dtype: float64"
      ]
     },
     "execution_count": 13,
     "metadata": {},
     "output_type": "execute_result"
    }
   ],
   "source": [
    "df.median(axis=0)"
   ]
  },
  {
   "cell_type": "code",
   "execution_count": 16,
   "id": "01a8d8a9",
   "metadata": {},
   "outputs": [
    {
     "data": {
      "text/html": [
       "<div>\n",
       "<style scoped>\n",
       "    .dataframe tbody tr th:only-of-type {\n",
       "        vertical-align: middle;\n",
       "    }\n",
       "\n",
       "    .dataframe tbody tr th {\n",
       "        vertical-align: top;\n",
       "    }\n",
       "\n",
       "    .dataframe thead th {\n",
       "        text-align: right;\n",
       "    }\n",
       "</style>\n",
       "<table border=\"1\" class=\"dataframe\">\n",
       "  <thead>\n",
       "    <tr style=\"text-align: right;\">\n",
       "      <th></th>\n",
       "      <th>id</th>\n",
       "      <th>building_class</th>\n",
       "      <th>floor_area</th>\n",
       "      <th>year_built</th>\n",
       "      <th>precipitation_inches</th>\n",
       "      <th>snowfall_inches</th>\n",
       "      <th>avg_temp</th>\n",
       "      <th>days_with_fog</th>\n",
       "      <th>site_eui</th>\n",
       "    </tr>\n",
       "  </thead>\n",
       "  <tbody>\n",
       "    <tr>\n",
       "      <th>0</th>\n",
       "      <td>0</td>\n",
       "      <td>Residential</td>\n",
       "      <td>60000.0</td>\n",
       "      <td>1927.0</td>\n",
       "      <td>42.17</td>\n",
       "      <td>36.0</td>\n",
       "      <td>57.215847</td>\n",
       "      <td>131.0</td>\n",
       "      <td>79.78</td>\n",
       "    </tr>\n",
       "    <tr>\n",
       "      <th>1</th>\n",
       "      <td>1</td>\n",
       "      <td>NaN</td>\n",
       "      <td>NaN</td>\n",
       "      <td>NaN</td>\n",
       "      <td>NaN</td>\n",
       "      <td>NaN</td>\n",
       "      <td>NaN</td>\n",
       "      <td>NaN</td>\n",
       "      <td>NaN</td>\n",
       "    </tr>\n",
       "    <tr>\n",
       "      <th>2</th>\n",
       "      <td>2</td>\n",
       "      <td>NaN</td>\n",
       "      <td>NaN</td>\n",
       "      <td>NaN</td>\n",
       "      <td>NaN</td>\n",
       "      <td>NaN</td>\n",
       "      <td>NaN</td>\n",
       "      <td>NaN</td>\n",
       "      <td>NaN</td>\n",
       "    </tr>\n",
       "    <tr>\n",
       "      <th>3</th>\n",
       "      <td>3</td>\n",
       "      <td>NaN</td>\n",
       "      <td>NaN</td>\n",
       "      <td>NaN</td>\n",
       "      <td>NaN</td>\n",
       "      <td>NaN</td>\n",
       "      <td>NaN</td>\n",
       "      <td>NaN</td>\n",
       "      <td>NaN</td>\n",
       "    </tr>\n",
       "    <tr>\n",
       "      <th>4</th>\n",
       "      <td>4</td>\n",
       "      <td>NaN</td>\n",
       "      <td>NaN</td>\n",
       "      <td>NaN</td>\n",
       "      <td>NaN</td>\n",
       "      <td>NaN</td>\n",
       "      <td>NaN</td>\n",
       "      <td>NaN</td>\n",
       "      <td>NaN</td>\n",
       "    </tr>\n",
       "    <tr>\n",
       "      <th>...</th>\n",
       "      <td>...</td>\n",
       "      <td>...</td>\n",
       "      <td>...</td>\n",
       "      <td>...</td>\n",
       "      <td>...</td>\n",
       "      <td>...</td>\n",
       "      <td>...</td>\n",
       "      <td>...</td>\n",
       "      <td>...</td>\n",
       "    </tr>\n",
       "    <tr>\n",
       "      <th>75752</th>\n",
       "      <td>75752</td>\n",
       "      <td>NaN</td>\n",
       "      <td>NaN</td>\n",
       "      <td>NaN</td>\n",
       "      <td>NaN</td>\n",
       "      <td>NaN</td>\n",
       "      <td>NaN</td>\n",
       "      <td>NaN</td>\n",
       "      <td>NaN</td>\n",
       "    </tr>\n",
       "    <tr>\n",
       "      <th>75753</th>\n",
       "      <td>75753</td>\n",
       "      <td>NaN</td>\n",
       "      <td>NaN</td>\n",
       "      <td>NaN</td>\n",
       "      <td>NaN</td>\n",
       "      <td>NaN</td>\n",
       "      <td>NaN</td>\n",
       "      <td>NaN</td>\n",
       "      <td>NaN</td>\n",
       "    </tr>\n",
       "    <tr>\n",
       "      <th>75754</th>\n",
       "      <td>75754</td>\n",
       "      <td>NaN</td>\n",
       "      <td>NaN</td>\n",
       "      <td>NaN</td>\n",
       "      <td>NaN</td>\n",
       "      <td>NaN</td>\n",
       "      <td>NaN</td>\n",
       "      <td>NaN</td>\n",
       "      <td>NaN</td>\n",
       "    </tr>\n",
       "    <tr>\n",
       "      <th>75755</th>\n",
       "      <td>75755</td>\n",
       "      <td>NaN</td>\n",
       "      <td>NaN</td>\n",
       "      <td>NaN</td>\n",
       "      <td>NaN</td>\n",
       "      <td>NaN</td>\n",
       "      <td>NaN</td>\n",
       "      <td>NaN</td>\n",
       "      <td>NaN</td>\n",
       "    </tr>\n",
       "    <tr>\n",
       "      <th>75756</th>\n",
       "      <td>75756</td>\n",
       "      <td>NaN</td>\n",
       "      <td>NaN</td>\n",
       "      <td>NaN</td>\n",
       "      <td>NaN</td>\n",
       "      <td>NaN</td>\n",
       "      <td>NaN</td>\n",
       "      <td>NaN</td>\n",
       "      <td>NaN</td>\n",
       "    </tr>\n",
       "  </tbody>\n",
       "</table>\n",
       "<p>75757 rows × 9 columns</p>\n",
       "</div>"
      ],
      "text/plain": [
       "          id building_class  floor_area  year_built  precipitation_inches  \\\n",
       "0          0    Residential     60000.0      1927.0                 42.17   \n",
       "1          1            NaN         NaN         NaN                   NaN   \n",
       "2          2            NaN         NaN         NaN                   NaN   \n",
       "3          3            NaN         NaN         NaN                   NaN   \n",
       "4          4            NaN         NaN         NaN                   NaN   \n",
       "...      ...            ...         ...         ...                   ...   \n",
       "75752  75752            NaN         NaN         NaN                   NaN   \n",
       "75753  75753            NaN         NaN         NaN                   NaN   \n",
       "75754  75754            NaN         NaN         NaN                   NaN   \n",
       "75755  75755            NaN         NaN         NaN                   NaN   \n",
       "75756  75756            NaN         NaN         NaN                   NaN   \n",
       "\n",
       "       snowfall_inches   avg_temp  days_with_fog  site_eui  \n",
       "0                 36.0  57.215847          131.0     79.78  \n",
       "1                  NaN        NaN            NaN       NaN  \n",
       "2                  NaN        NaN            NaN       NaN  \n",
       "3                  NaN        NaN            NaN       NaN  \n",
       "4                  NaN        NaN            NaN       NaN  \n",
       "...                ...        ...            ...       ...  \n",
       "75752              NaN        NaN            NaN       NaN  \n",
       "75753              NaN        NaN            NaN       NaN  \n",
       "75754              NaN        NaN            NaN       NaN  \n",
       "75755              NaN        NaN            NaN       NaN  \n",
       "75756              NaN        NaN            NaN       NaN  \n",
       "\n",
       "[75757 rows x 9 columns]"
      ]
     },
     "execution_count": 16,
     "metadata": {},
     "output_type": "execute_result"
    }
   ],
   "source": [
    "df.mode(axis=0)"
   ]
  },
  {
   "cell_type": "code",
   "execution_count": 17,
   "id": "66509ff2",
   "metadata": {},
   "outputs": [
    {
     "data": {
      "text/html": [
       "<div>\n",
       "<style scoped>\n",
       "    .dataframe tbody tr th:only-of-type {\n",
       "        vertical-align: middle;\n",
       "    }\n",
       "\n",
       "    .dataframe tbody tr th {\n",
       "        vertical-align: top;\n",
       "    }\n",
       "\n",
       "    .dataframe thead th {\n",
       "        text-align: right;\n",
       "    }\n",
       "</style>\n",
       "<table border=\"1\" class=\"dataframe\">\n",
       "  <thead>\n",
       "    <tr style=\"text-align: right;\">\n",
       "      <th></th>\n",
       "      <th>id</th>\n",
       "      <th>building_class</th>\n",
       "      <th>floor_area</th>\n",
       "      <th>year_built</th>\n",
       "      <th>precipitation_inches</th>\n",
       "      <th>snowfall_inches</th>\n",
       "      <th>avg_temp</th>\n",
       "      <th>days_with_fog</th>\n",
       "      <th>site_eui</th>\n",
       "    </tr>\n",
       "  </thead>\n",
       "  <tbody>\n",
       "    <tr>\n",
       "      <th>count</th>\n",
       "      <td>75757.000000</td>\n",
       "      <td>75757</td>\n",
       "      <td>7.575700e+04</td>\n",
       "      <td>73920.000000</td>\n",
       "      <td>75757.000000</td>\n",
       "      <td>75757.000000</td>\n",
       "      <td>75757.000000</td>\n",
       "      <td>29961.000000</td>\n",
       "      <td>75757.000000</td>\n",
       "    </tr>\n",
       "    <tr>\n",
       "      <th>unique</th>\n",
       "      <td>NaN</td>\n",
       "      <td>2</td>\n",
       "      <td>NaN</td>\n",
       "      <td>NaN</td>\n",
       "      <td>NaN</td>\n",
       "      <td>NaN</td>\n",
       "      <td>NaN</td>\n",
       "      <td>NaN</td>\n",
       "      <td>NaN</td>\n",
       "    </tr>\n",
       "    <tr>\n",
       "      <th>top</th>\n",
       "      <td>NaN</td>\n",
       "      <td>Residential</td>\n",
       "      <td>NaN</td>\n",
       "      <td>NaN</td>\n",
       "      <td>NaN</td>\n",
       "      <td>NaN</td>\n",
       "      <td>NaN</td>\n",
       "      <td>NaN</td>\n",
       "      <td>NaN</td>\n",
       "    </tr>\n",
       "    <tr>\n",
       "      <th>freq</th>\n",
       "      <td>NaN</td>\n",
       "      <td>43558</td>\n",
       "      <td>NaN</td>\n",
       "      <td>NaN</td>\n",
       "      <td>NaN</td>\n",
       "      <td>NaN</td>\n",
       "      <td>NaN</td>\n",
       "      <td>NaN</td>\n",
       "      <td>NaN</td>\n",
       "    </tr>\n",
       "    <tr>\n",
       "      <th>mean</th>\n",
       "      <td>37878.000000</td>\n",
       "      <td>NaN</td>\n",
       "      <td>1.659839e+05</td>\n",
       "      <td>1952.306764</td>\n",
       "      <td>42.430651</td>\n",
       "      <td>29.136379</td>\n",
       "      <td>56.176705</td>\n",
       "      <td>109.142051</td>\n",
       "      <td>82.584707</td>\n",
       "    </tr>\n",
       "    <tr>\n",
       "      <th>std</th>\n",
       "      <td>21869.306509</td>\n",
       "      <td>NaN</td>\n",
       "      <td>2.468758e+05</td>\n",
       "      <td>37.053619</td>\n",
       "      <td>10.592205</td>\n",
       "      <td>17.810894</td>\n",
       "      <td>2.241940</td>\n",
       "      <td>50.699751</td>\n",
       "      <td>58.255413</td>\n",
       "    </tr>\n",
       "    <tr>\n",
       "      <th>min</th>\n",
       "      <td>0.000000</td>\n",
       "      <td>NaN</td>\n",
       "      <td>9.430000e+02</td>\n",
       "      <td>0.000000</td>\n",
       "      <td>0.000000</td>\n",
       "      <td>0.000000</td>\n",
       "      <td>44.512329</td>\n",
       "      <td>12.000000</td>\n",
       "      <td>1.000000</td>\n",
       "    </tr>\n",
       "    <tr>\n",
       "      <th>25%</th>\n",
       "      <td>18939.000000</td>\n",
       "      <td>NaN</td>\n",
       "      <td>6.237900e+04</td>\n",
       "      <td>1927.000000</td>\n",
       "      <td>39.350000</td>\n",
       "      <td>9.600000</td>\n",
       "      <td>55.147541</td>\n",
       "      <td>88.000000</td>\n",
       "      <td>54.530000</td>\n",
       "    </tr>\n",
       "    <tr>\n",
       "      <th>50%</th>\n",
       "      <td>37878.000000</td>\n",
       "      <td>NaN</td>\n",
       "      <td>9.136700e+04</td>\n",
       "      <td>1951.000000</td>\n",
       "      <td>42.170000</td>\n",
       "      <td>31.600000</td>\n",
       "      <td>56.835616</td>\n",
       "      <td>104.000000</td>\n",
       "      <td>75.290000</td>\n",
       "    </tr>\n",
       "    <tr>\n",
       "      <th>75%</th>\n",
       "      <td>56817.000000</td>\n",
       "      <td>NaN</td>\n",
       "      <td>1.660000e+05</td>\n",
       "      <td>1977.000000</td>\n",
       "      <td>46.320000</td>\n",
       "      <td>49.100000</td>\n",
       "      <td>57.215847</td>\n",
       "      <td>131.000000</td>\n",
       "      <td>97.280000</td>\n",
       "    </tr>\n",
       "    <tr>\n",
       "      <th>max</th>\n",
       "      <td>75756.000000</td>\n",
       "      <td>NaN</td>\n",
       "      <td>6.385382e+06</td>\n",
       "      <td>2015.000000</td>\n",
       "      <td>107.690000</td>\n",
       "      <td>127.300000</td>\n",
       "      <td>77.245205</td>\n",
       "      <td>311.000000</td>\n",
       "      <td>997.870000</td>\n",
       "    </tr>\n",
       "  </tbody>\n",
       "</table>\n",
       "</div>"
      ],
      "text/plain": [
       "                  id building_class    floor_area    year_built  \\\n",
       "count   75757.000000          75757  7.575700e+04  73920.000000   \n",
       "unique           NaN              2           NaN           NaN   \n",
       "top              NaN    Residential           NaN           NaN   \n",
       "freq             NaN          43558           NaN           NaN   \n",
       "mean    37878.000000            NaN  1.659839e+05   1952.306764   \n",
       "std     21869.306509            NaN  2.468758e+05     37.053619   \n",
       "min         0.000000            NaN  9.430000e+02      0.000000   \n",
       "25%     18939.000000            NaN  6.237900e+04   1927.000000   \n",
       "50%     37878.000000            NaN  9.136700e+04   1951.000000   \n",
       "75%     56817.000000            NaN  1.660000e+05   1977.000000   \n",
       "max     75756.000000            NaN  6.385382e+06   2015.000000   \n",
       "\n",
       "        precipitation_inches  snowfall_inches      avg_temp  days_with_fog  \\\n",
       "count           75757.000000     75757.000000  75757.000000   29961.000000   \n",
       "unique                   NaN              NaN           NaN            NaN   \n",
       "top                      NaN              NaN           NaN            NaN   \n",
       "freq                     NaN              NaN           NaN            NaN   \n",
       "mean               42.430651        29.136379     56.176705     109.142051   \n",
       "std                10.592205        17.810894      2.241940      50.699751   \n",
       "min                 0.000000         0.000000     44.512329      12.000000   \n",
       "25%                39.350000         9.600000     55.147541      88.000000   \n",
       "50%                42.170000        31.600000     56.835616     104.000000   \n",
       "75%                46.320000        49.100000     57.215847     131.000000   \n",
       "max               107.690000       127.300000     77.245205     311.000000   \n",
       "\n",
       "            site_eui  \n",
       "count   75757.000000  \n",
       "unique           NaN  \n",
       "top              NaN  \n",
       "freq             NaN  \n",
       "mean       82.584707  \n",
       "std        58.255413  \n",
       "min         1.000000  \n",
       "25%        54.530000  \n",
       "50%        75.290000  \n",
       "75%        97.280000  \n",
       "max       997.870000  "
      ]
     },
     "execution_count": 17,
     "metadata": {},
     "output_type": "execute_result"
    }
   ],
   "source": [
    "df.describe(include='all')"
   ]
  },
  {
   "cell_type": "markdown",
   "id": "ef7a760d",
   "metadata": {},
   "source": [
    "### Question 4\n",
    "Check the number of missing values."
   ]
  },
  {
   "cell_type": "code",
   "execution_count": 19,
   "id": "b2032f28",
   "metadata": {},
   "outputs": [
    {
     "data": {
      "text/plain": [
       "id                          0\n",
       "building_class              0\n",
       "floor_area                  0\n",
       "year_built               1837\n",
       "precipitation_inches        0\n",
       "snowfall_inches             0\n",
       "avg_temp                    0\n",
       "days_with_fog           45796\n",
       "site_eui                    0\n",
       "dtype: int64"
      ]
     },
     "execution_count": 19,
     "metadata": {},
     "output_type": "execute_result"
    }
   ],
   "source": [
    "df.isnull().sum()"
   ]
  },
  {
   "cell_type": "markdown",
   "id": "6a059206",
   "metadata": {},
   "source": [
    "### Question 5\n",
    "Take care of missing data. You can decide to remove or use the imputation."
   ]
  },
  {
   "cell_type": "markdown",
   "id": "6e41568e",
   "metadata": {},
   "source": [
    "**I'm choosing to replace the missing data with the mean of that column.**"
   ]
  },
  {
   "cell_type": "code",
   "execution_count": 23,
   "id": "987389b3",
   "metadata": {},
   "outputs": [
    {
     "data": {
      "text/plain": [
       "id                          0\n",
       "building_class              0\n",
       "floor_area                  0\n",
       "year_built                  0\n",
       "precipitation_inches        0\n",
       "snowfall_inches             0\n",
       "avg_temp                    0\n",
       "days_with_fog           45796\n",
       "site_eui                    0\n",
       "dtype: int64"
      ]
     },
     "execution_count": 23,
     "metadata": {},
     "output_type": "execute_result"
    }
   ],
   "source": [
    "# year_built\n",
    "mean1 = df['year_built'].mean()\n",
    "df['year_built'].fillna(value=mean1,inplace=True)\n",
    "df.isnull().sum()"
   ]
  },
  {
   "cell_type": "code",
   "execution_count": 25,
   "id": "3dc3c430",
   "metadata": {},
   "outputs": [
    {
     "data": {
      "text/plain": [
       "id                      0\n",
       "building_class          0\n",
       "floor_area              0\n",
       "year_built              0\n",
       "precipitation_inches    0\n",
       "snowfall_inches         0\n",
       "avg_temp                0\n",
       "days_with_fog           0\n",
       "site_eui                0\n",
       "dtype: int64"
      ]
     },
     "execution_count": 25,
     "metadata": {},
     "output_type": "execute_result"
    }
   ],
   "source": [
    "# days_with_fog\n",
    "mean2 = df['days_with_fog'].mean()\n",
    "df['days_with_fog'].fillna(value=mean2,inplace=True)\n",
    "df.isnull().sum()"
   ]
  },
  {
   "cell_type": "markdown",
   "id": "9c25b0cb",
   "metadata": {},
   "source": [
    "### Question 6\n",
    "Find and remove duplicate variables."
   ]
  },
  {
   "cell_type": "code",
   "execution_count": 28,
   "id": "514d0f03",
   "metadata": {},
   "outputs": [],
   "source": [
    "df = df.drop_duplicates()"
   ]
  },
  {
   "cell_type": "markdown",
   "id": "fc37753a",
   "metadata": {},
   "source": [
    "### Question 7\n",
    "Encode the categorical variables; you can use label encoding, one hot encoding, etc."
   ]
  },
  {
   "cell_type": "code",
   "execution_count": 31,
   "id": "3f650cf7",
   "metadata": {},
   "outputs": [
    {
     "data": {
      "text/html": [
       "<div>\n",
       "<style scoped>\n",
       "    .dataframe tbody tr th:only-of-type {\n",
       "        vertical-align: middle;\n",
       "    }\n",
       "\n",
       "    .dataframe tbody tr th {\n",
       "        vertical-align: top;\n",
       "    }\n",
       "\n",
       "    .dataframe thead th {\n",
       "        text-align: right;\n",
       "    }\n",
       "</style>\n",
       "<table border=\"1\" class=\"dataframe\">\n",
       "  <thead>\n",
       "    <tr style=\"text-align: right;\">\n",
       "      <th></th>\n",
       "      <th>id</th>\n",
       "      <th>building_class</th>\n",
       "      <th>floor_area</th>\n",
       "      <th>year_built</th>\n",
       "      <th>precipitation_inches</th>\n",
       "      <th>snowfall_inches</th>\n",
       "      <th>avg_temp</th>\n",
       "      <th>days_with_fog</th>\n",
       "      <th>site_eui</th>\n",
       "      <th>0</th>\n",
       "      <th>1</th>\n",
       "    </tr>\n",
       "  </thead>\n",
       "  <tbody>\n",
       "    <tr>\n",
       "      <th>0</th>\n",
       "      <td>0</td>\n",
       "      <td>Commercial</td>\n",
       "      <td>61242.0</td>\n",
       "      <td>1942.0</td>\n",
       "      <td>16.59</td>\n",
       "      <td>0.0</td>\n",
       "      <td>56.972603</td>\n",
       "      <td>109.142051</td>\n",
       "      <td>248.68</td>\n",
       "      <td>1.0</td>\n",
       "      <td>0.0</td>\n",
       "    </tr>\n",
       "    <tr>\n",
       "      <th>1</th>\n",
       "      <td>1</td>\n",
       "      <td>Commercial</td>\n",
       "      <td>274000.0</td>\n",
       "      <td>1955.0</td>\n",
       "      <td>16.59</td>\n",
       "      <td>0.0</td>\n",
       "      <td>56.972603</td>\n",
       "      <td>12.000000</td>\n",
       "      <td>26.50</td>\n",
       "      <td>1.0</td>\n",
       "      <td>0.0</td>\n",
       "    </tr>\n",
       "    <tr>\n",
       "      <th>2</th>\n",
       "      <td>2</td>\n",
       "      <td>Commercial</td>\n",
       "      <td>280025.0</td>\n",
       "      <td>1951.0</td>\n",
       "      <td>16.59</td>\n",
       "      <td>0.0</td>\n",
       "      <td>56.972603</td>\n",
       "      <td>12.000000</td>\n",
       "      <td>24.69</td>\n",
       "      <td>1.0</td>\n",
       "      <td>0.0</td>\n",
       "    </tr>\n",
       "    <tr>\n",
       "      <th>3</th>\n",
       "      <td>3</td>\n",
       "      <td>Commercial</td>\n",
       "      <td>55325.0</td>\n",
       "      <td>1980.0</td>\n",
       "      <td>16.59</td>\n",
       "      <td>0.0</td>\n",
       "      <td>56.972603</td>\n",
       "      <td>12.000000</td>\n",
       "      <td>48.41</td>\n",
       "      <td>1.0</td>\n",
       "      <td>0.0</td>\n",
       "    </tr>\n",
       "    <tr>\n",
       "      <th>4</th>\n",
       "      <td>4</td>\n",
       "      <td>Commercial</td>\n",
       "      <td>66000.0</td>\n",
       "      <td>1985.0</td>\n",
       "      <td>16.59</td>\n",
       "      <td>0.0</td>\n",
       "      <td>56.972603</td>\n",
       "      <td>109.142051</td>\n",
       "      <td>3.90</td>\n",
       "      <td>1.0</td>\n",
       "      <td>0.0</td>\n",
       "    </tr>\n",
       "    <tr>\n",
       "      <th>...</th>\n",
       "      <td>...</td>\n",
       "      <td>...</td>\n",
       "      <td>...</td>\n",
       "      <td>...</td>\n",
       "      <td>...</td>\n",
       "      <td>...</td>\n",
       "      <td>...</td>\n",
       "      <td>...</td>\n",
       "      <td>...</td>\n",
       "      <td>...</td>\n",
       "      <td>...</td>\n",
       "    </tr>\n",
       "    <tr>\n",
       "      <th>75752</th>\n",
       "      <td>75752</td>\n",
       "      <td>Commercial</td>\n",
       "      <td>20410.0</td>\n",
       "      <td>1995.0</td>\n",
       "      <td>45.03</td>\n",
       "      <td>1.4</td>\n",
       "      <td>55.147541</td>\n",
       "      <td>109.142051</td>\n",
       "      <td>132.92</td>\n",
       "      <td>1.0</td>\n",
       "      <td>0.0</td>\n",
       "    </tr>\n",
       "    <tr>\n",
       "      <th>75753</th>\n",
       "      <td>75753</td>\n",
       "      <td>Residential</td>\n",
       "      <td>40489.0</td>\n",
       "      <td>1910.0</td>\n",
       "      <td>45.03</td>\n",
       "      <td>1.4</td>\n",
       "      <td>55.147541</td>\n",
       "      <td>109.142051</td>\n",
       "      <td>39.48</td>\n",
       "      <td>0.0</td>\n",
       "      <td>1.0</td>\n",
       "    </tr>\n",
       "    <tr>\n",
       "      <th>75754</th>\n",
       "      <td>75754</td>\n",
       "      <td>Commercial</td>\n",
       "      <td>28072.0</td>\n",
       "      <td>1917.0</td>\n",
       "      <td>106.32</td>\n",
       "      <td>36.6</td>\n",
       "      <td>47.911202</td>\n",
       "      <td>109.142051</td>\n",
       "      <td>48.40</td>\n",
       "      <td>1.0</td>\n",
       "      <td>0.0</td>\n",
       "    </tr>\n",
       "    <tr>\n",
       "      <th>75755</th>\n",
       "      <td>75755</td>\n",
       "      <td>Commercial</td>\n",
       "      <td>53575.0</td>\n",
       "      <td>2012.0</td>\n",
       "      <td>106.32</td>\n",
       "      <td>36.6</td>\n",
       "      <td>47.911202</td>\n",
       "      <td>109.142051</td>\n",
       "      <td>592.02</td>\n",
       "      <td>1.0</td>\n",
       "      <td>0.0</td>\n",
       "    </tr>\n",
       "    <tr>\n",
       "      <th>75756</th>\n",
       "      <td>75756</td>\n",
       "      <td>Residential</td>\n",
       "      <td>23888.0</td>\n",
       "      <td>1974.0</td>\n",
       "      <td>107.69</td>\n",
       "      <td>28.8</td>\n",
       "      <td>49.127397</td>\n",
       "      <td>109.142051</td>\n",
       "      <td>29.15</td>\n",
       "      <td>0.0</td>\n",
       "      <td>1.0</td>\n",
       "    </tr>\n",
       "  </tbody>\n",
       "</table>\n",
       "<p>75757 rows × 11 columns</p>\n",
       "</div>"
      ],
      "text/plain": [
       "          id building_class  floor_area  year_built  precipitation_inches  \\\n",
       "0          0     Commercial     61242.0      1942.0                 16.59   \n",
       "1          1     Commercial    274000.0      1955.0                 16.59   \n",
       "2          2     Commercial    280025.0      1951.0                 16.59   \n",
       "3          3     Commercial     55325.0      1980.0                 16.59   \n",
       "4          4     Commercial     66000.0      1985.0                 16.59   \n",
       "...      ...            ...         ...         ...                   ...   \n",
       "75752  75752     Commercial     20410.0      1995.0                 45.03   \n",
       "75753  75753    Residential     40489.0      1910.0                 45.03   \n",
       "75754  75754     Commercial     28072.0      1917.0                106.32   \n",
       "75755  75755     Commercial     53575.0      2012.0                106.32   \n",
       "75756  75756    Residential     23888.0      1974.0                107.69   \n",
       "\n",
       "       snowfall_inches   avg_temp  days_with_fog  site_eui    0    1  \n",
       "0                  0.0  56.972603     109.142051    248.68  1.0  0.0  \n",
       "1                  0.0  56.972603      12.000000     26.50  1.0  0.0  \n",
       "2                  0.0  56.972603      12.000000     24.69  1.0  0.0  \n",
       "3                  0.0  56.972603      12.000000     48.41  1.0  0.0  \n",
       "4                  0.0  56.972603     109.142051      3.90  1.0  0.0  \n",
       "...                ...        ...            ...       ...  ...  ...  \n",
       "75752              1.4  55.147541     109.142051    132.92  1.0  0.0  \n",
       "75753              1.4  55.147541     109.142051     39.48  0.0  1.0  \n",
       "75754             36.6  47.911202     109.142051     48.40  1.0  0.0  \n",
       "75755             36.6  47.911202     109.142051    592.02  1.0  0.0  \n",
       "75756             28.8  49.127397     109.142051     29.15  0.0  1.0  \n",
       "\n",
       "[75757 rows x 11 columns]"
      ]
     },
     "execution_count": 31,
     "metadata": {},
     "output_type": "execute_result"
    }
   ],
   "source": [
    "from sklearn.preprocessing import OneHotEncoder\n",
    "encoder = OneHotEncoder(handle_unknown='ignore')\n",
    "encoder_df = pd.DataFrame(encoder.fit_transform(df[['building_class']]).toarray())\n",
    "new_df = df.join(encoder_df)\n",
    "new_df"
   ]
  },
  {
   "cell_type": "markdown",
   "id": "87a20052",
   "metadata": {},
   "source": [
    "### Question 8\n",
    "Create the boxplot and show the outlier."
   ]
  },
  {
   "cell_type": "code",
   "execution_count": 33,
   "id": "17a76136",
   "metadata": {},
   "outputs": [],
   "source": [
    "import matplotlib.pyplot as plt"
   ]
  },
  {
   "cell_type": "code",
   "execution_count": null,
   "id": "9d73d09f",
   "metadata": {},
   "outputs": [],
   "source": []
  },
  {
   "cell_type": "code",
   "execution_count": 44,
   "id": "ed1a1686",
   "metadata": {},
   "outputs": [
    {
     "name": "stdout",
     "output_type": "stream",
     "text": [
      "floor_area\n"
     ]
    },
    {
     "data": {
      "image/png": "[encoded data removed]",
      "text/plain": [
       "<Figure size 432x288 with 1 Axes>"
      ]
     },
     "metadata": {
      "needs_background": "light"
     },
     "output_type": "display_data"
    }
   ],
   "source": [
    "print('floor_area')\n",
    "plt.boxplot(df['floor_area'])\n",
    "plt.show()"
   ]
  },
  {
   "cell_type": "code",
   "execution_count": null,
   "id": "6c290cc8",
   "metadata": {},
   "outputs": [],
   "source": [
    "print('year_built')\n",
    "plt.boxplot(df['R&D Spend'],bins=30)\n",
    "plt.show()"
   ]
  },
  {
   "cell_type": "code",
   "execution_count": null,
   "id": "1f984328",
   "metadata": {},
   "outputs": [],
   "source": [
    "print('precipitation_inches')\n",
    "plt.boxplot(df['R&D Spend'],bins=30)\n",
    "plt.show()"
   ]
  },
  {
   "cell_type": "code",
   "execution_count": null,
   "id": "749bc71d",
   "metadata": {},
   "outputs": [],
   "source": [
    "print('snowfall_inches')\n",
    "plt.boxplot(df['R&D Spend'],bins=30)\n",
    "plt.show()"
   ]
  },
  {
   "cell_type": "code",
   "execution_count": null,
   "id": "1b25f3f0",
   "metadata": {},
   "outputs": [],
   "source": [
    "print('avg_temp')\n",
    "plt.boxplot(df['R&D Spend'],bins=30)\n",
    "plt.show()"
   ]
  },
  {
   "cell_type": "code",
   "execution_count": null,
   "id": "74dbcebf",
   "metadata": {},
   "outputs": [],
   "source": [
    "print('days_with_fog')\n",
    "plt.boxplot(df['R&D Spend'],bins=30)\n",
    "plt.show()"
   ]
  },
  {
   "cell_type": "code",
   "execution_count": null,
   "id": "d4f173c1",
   "metadata": {},
   "outputs": [],
   "source": [
    "print('site_eui')\n",
    "plt.boxplot(df['R&D Spend'],bins=30)\n",
    "plt.show()"
   ]
  },
  {
   "cell_type": "markdown",
   "id": "1fa9a9be",
   "metadata": {},
   "source": [
    "### Question 9\n",
    "Create the histogram and check the outliers."
   ]
  },
  {
   "cell_type": "code",
   "execution_count": 34,
   "id": "8a7a7384",
   "metadata": {},
   "outputs": [
    {
     "name": "stdout",
     "output_type": "stream",
     "text": [
      "building_class\n"
     ]
    },
    {
     "data": {
      "image/png": "[encoded data removed]",
      "text/plain": [
       "<Figure size 432x288 with 1 Axes>"
      ]
     },
     "metadata": {
      "needs_background": "light"
     },
     "output_type": "display_data"
    }
   ],
   "source": [
    "print('building_class')\n",
    "plt.hist(df['building_class'],bins=30)\n",
    "plt.show()"
   ]
  },
  {
   "cell_type": "code",
   "execution_count": 35,
   "id": "dd50f941",
   "metadata": {},
   "outputs": [
    {
     "name": "stdout",
     "output_type": "stream",
     "text": [
      "floor_area\n"
     ]
    },
    {
     "data": {
      "image/png": "[encoded data removed]",
      "text/plain": [
       "<Figure size 432x288 with 1 Axes>"
      ]
     },
     "metadata": {
      "needs_background": "light"
     },
     "output_type": "display_data"
    }
   ],
   "source": [
    "print('floor_area')\n",
    "plt.hist(df['floor_area'],bins=30)\n",
    "plt.show()"
   ]
  },
  {
   "cell_type": "code",
   "execution_count": 36,
   "id": "43ec74f5",
   "metadata": {},
   "outputs": [
    {
     "name": "stdout",
     "output_type": "stream",
     "text": [
      "year_built\n"
     ]
    },
    {
     "data": {
      "image/png": "[encoded data removed]",
      "text/plain": [
       "<Figure size 432x288 with 1 Axes>"
      ]
     },
     "metadata": {
      "needs_background": "light"
     },
     "output_type": "display_data"
    }
   ],
   "source": [
    "print('year_built')\n",
    "plt.hist(df['year_built'],bins=30)\n",
    "plt.show()"
   ]
  },
  {
   "cell_type": "code",
   "execution_count": 37,
   "id": "a47dac6b",
   "metadata": {},
   "outputs": [
    {
     "name": "stdout",
     "output_type": "stream",
     "text": [
      "precipitation_inches\n"
     ]
    },
    {
     "data": {
      "image/png": "[encoded data removed]",
      "text/plain": [
       "<Figure size 432x288 with 1 Axes>"
      ]
     },
     "metadata": {
      "needs_background": "light"
     },
     "output_type": "display_data"
    }
   ],
   "source": [
    "print('precipitation_inches')\n",
    "plt.hist(df['precipitation_inches'],bins=30)\n",
    "plt.show()"
   ]
  },
  {
   "cell_type": "code",
   "execution_count": 38,
   "id": "0c31b5d2",
   "metadata": {},
   "outputs": [
    {
     "name": "stdout",
     "output_type": "stream",
     "text": [
      "snowfall_inches\n"
     ]
    },
    {
     "data": {
      "image/png": "[encoded data removed]",
      "text/plain": [
       "<Figure size 432x288 with 1 Axes>"
      ]
     },
     "metadata": {
      "needs_background": "light"
     },
     "output_type": "display_data"
    }
   ],
   "source": [
    "print('snowfall_inches')\n",
    "plt.hist(df['snowfall_inches'],bins=30)\n",
    "plt.show()"
   ]
  },
  {
   "cell_type": "code",
   "execution_count": 39,
   "id": "eb7c4acf",
   "metadata": {},
   "outputs": [
    {
     "name": "stdout",
     "output_type": "stream",
     "text": [
      "avg_temp\n"
     ]
    },
    {
     "data": {
      "image/png": "[encoded data removed]",
      "text/plain": [
       "<Figure size 432x288 with 1 Axes>"
      ]
     },
     "metadata": {
      "needs_background": "light"
     },
     "output_type": "display_data"
    }
   ],
   "source": [
    "print('avg_temp')\n",
    "plt.hist(df['avg_temp'],bins=30)\n",
    "plt.show()"
   ]
  },
  {
   "cell_type": "code",
   "execution_count": 40,
   "id": "e8a4b270",
   "metadata": {},
   "outputs": [
    {
     "name": "stdout",
     "output_type": "stream",
     "text": [
      "days_with_fog\n"
     ]
    },
    {
     "data": {
      "image/png": "[encoded data removed]",
      "text/plain": [
       "<Figure size 432x288 with 1 Axes>"
      ]
     },
     "metadata": {
      "needs_background": "light"
     },
     "output_type": "display_data"
    }
   ],
   "source": [
    "print('days_with_fog')\n",
    "plt.hist(df['days_with_fog'],bins=30)\n",
    "plt.show()"
   ]
  },
  {
   "cell_type": "code",
   "execution_count": 41,
   "id": "ae74a32e",
   "metadata": {},
   "outputs": [
    {
     "name": "stdout",
     "output_type": "stream",
     "text": [
      "site_eui\n"
     ]
    },
    {
     "data": {
      "image/png": "[encoded data removed]",
      "text/plain": [
       "<Figure size 432x288 with 1 Axes>"
      ]
     },
     "metadata": {
      "needs_background": "light"
     },
     "output_type": "display_data"
    }
   ],
   "source": [
    "print('site_eui')\n",
    "plt.hist(df['site_eui'],bins=30)\n",
    "plt.show()"
   ]
  },
  {
   "cell_type": "markdown",
   "id": "ee5c10c2",
   "metadata": {},
   "source": [
    "### Question 10\n",
    "If feature scaling is needed, do it."
   ]
  },
  {
   "cell_type": "code",
   "execution_count": null,
   "id": "e987db49",
   "metadata": {},
   "outputs": [],
   "source": []
  }
 ],
 "metadata": {
  "kernelspec": {
   "display_name": "Python 3 (ipykernel)",
   "language": "python",
   "name": "python3"
  },
  "language_info": {
   "codemirror_mode": {
    "name": "ipython",
    "version": 3
   },
   "file_extension": ".py",
   "mimetype": "text/x-python",
   "name": "python",
   "nbconvert_exporter": "python",
   "pygments_lexer": "ipython3",
   "version": "3.8.10"
  }
 },
 "nbformat": 4,
 "nbformat_minor": 5
}
