{
 "cells": [
  {
   "cell_type": "markdown",
   "id": "e64e8493",
   "metadata": {},
   "source": [
    "# Homework 2"
   ]
  },
  {
   "cell_type": "code",
   "execution_count": 1,
   "id": "8a032ac5",
   "metadata": {},
   "outputs": [],
   "source": [
    "import numpy as np\n",
    "import matplotlib\n",
    "from matplotlib import pyplot as plt\n",
    "import pandas as pd"
   ]
  },
  {
   "cell_type": "code",
   "execution_count": 2,
   "id": "ef19d5ab",
   "metadata": {},
   "outputs": [
    {
     "data": {
      "text/plain": [
       "['ArrowDtype',\n",
       " 'BooleanDtype',\n",
       " 'Categorical',\n",
       " 'CategoricalDtype',\n",
       " 'CategoricalIndex',\n",
       " 'DataFrame',\n",
       " 'DateOffset',\n",
       " 'DatetimeIndex',\n",
       " 'DatetimeTZDtype',\n",
       " 'ExcelFile',\n",
       " 'ExcelWriter',\n",
       " 'Flags',\n",
       " 'Float32Dtype',\n",
       " 'Float64Dtype',\n",
       " 'Float64Index',\n",
       " 'Grouper',\n",
       " 'HDFStore',\n",
       " 'Index',\n",
       " 'IndexSlice',\n",
       " 'Int16Dtype',\n",
       " 'Int32Dtype',\n",
       " 'Int64Dtype',\n",
       " 'Int64Index',\n",
       " 'Int8Dtype',\n",
       " 'Interval',\n",
       " 'IntervalDtype',\n",
       " 'IntervalIndex',\n",
       " 'MultiIndex',\n",
       " 'NA',\n",
       " 'NaT',\n",
       " 'NamedAgg',\n",
       " 'Period',\n",
       " 'PeriodDtype',\n",
       " 'PeriodIndex',\n",
       " 'RangeIndex',\n",
       " 'Series',\n",
       " 'SparseDtype',\n",
       " 'StringDtype',\n",
       " 'Timedelta',\n",
       " 'TimedeltaIndex',\n",
       " 'Timestamp',\n",
       " 'UInt16Dtype',\n",
       " 'UInt32Dtype',\n",
       " 'UInt64Dtype',\n",
       " 'UInt64Index',\n",
       " 'UInt8Dtype',\n",
       " '__all__',\n",
       " '__builtins__',\n",
       " '__cached__',\n",
       " '__deprecated_num_index_names',\n",
       " '__dir__',\n",
       " '__doc__',\n",
       " '__docformat__',\n",
       " '__file__',\n",
       " '__getattr__',\n",
       " '__git_version__',\n",
       " '__loader__',\n",
       " '__name__',\n",
       " '__package__',\n",
       " '__path__',\n",
       " '__spec__',\n",
       " '__version__',\n",
       " '_config',\n",
       " '_is_numpy_dev',\n",
       " '_libs',\n",
       " '_testing',\n",
       " '_typing',\n",
       " '_version',\n",
       " 'annotations',\n",
       " 'api',\n",
       " 'array',\n",
       " 'arrays',\n",
       " 'bdate_range',\n",
       " 'compat',\n",
       " 'concat',\n",
       " 'core',\n",
       " 'crosstab',\n",
       " 'cut',\n",
       " 'date_range',\n",
       " 'describe_option',\n",
       " 'errors',\n",
       " 'eval',\n",
       " 'factorize',\n",
       " 'from_dummies',\n",
       " 'get_dummies',\n",
       " 'get_option',\n",
       " 'infer_freq',\n",
       " 'interval_range',\n",
       " 'io',\n",
       " 'isna',\n",
       " 'isnull',\n",
       " 'json_normalize',\n",
       " 'lreshape',\n",
       " 'melt',\n",
       " 'merge',\n",
       " 'merge_asof',\n",
       " 'merge_ordered',\n",
       " 'notna',\n",
       " 'notnull',\n",
       " 'offsets',\n",
       " 'option_context',\n",
       " 'options',\n",
       " 'pandas',\n",
       " 'period_range',\n",
       " 'pivot',\n",
       " 'pivot_table',\n",
       " 'plotting',\n",
       " 'qcut',\n",
       " 'read_clipboard',\n",
       " 'read_csv',\n",
       " 'read_excel',\n",
       " 'read_feather',\n",
       " 'read_fwf',\n",
       " 'read_gbq',\n",
       " 'read_hdf',\n",
       " 'read_html',\n",
       " 'read_json',\n",
       " 'read_orc',\n",
       " 'read_parquet',\n",
       " 'read_pickle',\n",
       " 'read_sas',\n",
       " 'read_spss',\n",
       " 'read_sql',\n",
       " 'read_sql_query',\n",
       " 'read_sql_table',\n",
       " 'read_stata',\n",
       " 'read_table',\n",
       " 'read_xml',\n",
       " 'reset_option',\n",
       " 'set_eng_float_format',\n",
       " 'set_option',\n",
       " 'show_versions',\n",
       " 'test',\n",
       " 'testing',\n",
       " 'timedelta_range',\n",
       " 'to_datetime',\n",
       " 'to_numeric',\n",
       " 'to_pickle',\n",
       " 'to_timedelta',\n",
       " 'tseries',\n",
       " 'unique',\n",
       " 'util',\n",
       " 'value_counts',\n",
       " 'wide_to_long']"
      ]
     },
     "execution_count": 2,
     "metadata": {},
     "output_type": "execute_result"
    }
   ],
   "source": [
    "dir(pd)"
   ]
  },
  {
   "cell_type": "markdown",
   "id": "d2af02b0",
   "metadata": {},
   "source": [
    "## Data Sets"
   ]
  },
  {
   "cell_type": "code",
   "execution_count": 3,
   "id": "44e2cbe1",
   "metadata": {},
   "outputs": [
    {
     "data": {
      "text/html": [
       "<div>\n",
       "<style scoped>\n",
       "    .dataframe tbody tr th:only-of-type {\n",
       "        vertical-align: middle;\n",
       "    }\n",
       "\n",
       "    .dataframe tbody tr th {\n",
       "        vertical-align: top;\n",
       "    }\n",
       "\n",
       "    .dataframe thead th {\n",
       "        text-align: right;\n",
       "    }\n",
       "</style>\n",
       "<table border=\"1\" class=\"dataframe\">\n",
       "  <thead>\n",
       "    <tr style=\"text-align: right;\">\n",
       "      <th></th>\n",
       "      <th>0</th>\n",
       "      <th>1</th>\n",
       "    </tr>\n",
       "  </thead>\n",
       "  <tbody>\n",
       "    <tr>\n",
       "      <th>0</th>\n",
       "      <td>id</td>\n",
       "      <td>building id</td>\n",
       "    </tr>\n",
       "    <tr>\n",
       "      <th>1</th>\n",
       "      <td>building_class</td>\n",
       "      <td>building classification</td>\n",
       "    </tr>\n",
       "    <tr>\n",
       "      <th>2</th>\n",
       "      <td>floor_area</td>\n",
       "      <td>floor area (in square feet) of the building</td>\n",
       "    </tr>\n",
       "    <tr>\n",
       "      <th>3</th>\n",
       "      <td>year_built</td>\n",
       "      <td>year in which the building was constructed</td>\n",
       "    </tr>\n",
       "    <tr>\n",
       "      <th>4</th>\n",
       "      <td>precipitation_inches</td>\n",
       "      <td>annual precipitation in inches at the location...</td>\n",
       "    </tr>\n",
       "    <tr>\n",
       "      <th>5</th>\n",
       "      <td>snowfall_inches</td>\n",
       "      <td>annual snowfall in inches at the location of t...</td>\n",
       "    </tr>\n",
       "    <tr>\n",
       "      <th>6</th>\n",
       "      <td>avg_temp</td>\n",
       "      <td>average temperature over a year at the locatio...</td>\n",
       "    </tr>\n",
       "    <tr>\n",
       "      <th>7</th>\n",
       "      <td>days_with_fog</td>\n",
       "      <td>number of days with fog at the location of the...</td>\n",
       "    </tr>\n",
       "    <tr>\n",
       "      <th>8</th>\n",
       "      <td>eui</td>\n",
       "      <td>Site Energy Usage Intensity is the amount of h...</td>\n",
       "    </tr>\n",
       "  </tbody>\n",
       "</table>\n",
       "</div>"
      ],
      "text/plain": [
       "                      0                                                  1\n",
       "0                    id                                        building id\n",
       "1        building_class                            building classification\n",
       "2            floor_area        floor area (in square feet) of the building\n",
       "3            year_built         year in which the building was constructed\n",
       "4  precipitation_inches  annual precipitation in inches at the location...\n",
       "5       snowfall_inches  annual snowfall in inches at the location of t...\n",
       "6              avg_temp  average temperature over a year at the locatio...\n",
       "7         days_with_fog  number of days with fog at the location of the...\n",
       "8                   eui  Site Energy Usage Intensity is the amount of h..."
      ]
     },
     "execution_count": 3,
     "metadata": {},
     "output_type": "execute_result"
    }
   ],
   "source": [
    "df = pd.read_csv('ClimateData.csv')\n",
    "Labels = pd.read_csv('Metadata.csv', header = None)\n",
    "\n",
    "Labels"
   ]
  },
  {
   "cell_type": "code",
   "execution_count": 4,
   "id": "25e32cd7",
   "metadata": {},
   "outputs": [
    {
     "data": {
      "text/html": [
       "<div>\n",
       "<style scoped>\n",
       "    .dataframe tbody tr th:only-of-type {\n",
       "        vertical-align: middle;\n",
       "    }\n",
       "\n",
       "    .dataframe tbody tr th {\n",
       "        vertical-align: top;\n",
       "    }\n",
       "\n",
       "    .dataframe thead th {\n",
       "        text-align: right;\n",
       "    }\n",
       "</style>\n",
       "<table border=\"1\" class=\"dataframe\">\n",
       "  <thead>\n",
       "    <tr style=\"text-align: right;\">\n",
       "      <th></th>\n",
       "      <th>id</th>\n",
       "      <th>building_class</th>\n",
       "      <th>floor_area</th>\n",
       "      <th>year_built</th>\n",
       "      <th>precipitation_inches</th>\n",
       "      <th>snowfall_inches</th>\n",
       "      <th>avg_temp</th>\n",
       "      <th>days_with_fog</th>\n",
       "      <th>site_eui</th>\n",
       "    </tr>\n",
       "  </thead>\n",
       "  <tbody>\n",
       "    <tr>\n",
       "      <th>0</th>\n",
       "      <td>0</td>\n",
       "      <td>Commercial</td>\n",
       "      <td>61242.0</td>\n",
       "      <td>1942.0</td>\n",
       "      <td>16.59</td>\n",
       "      <td>0.0</td>\n",
       "      <td>56.972603</td>\n",
       "      <td>NaN</td>\n",
       "      <td>248.68</td>\n",
       "    </tr>\n",
       "    <tr>\n",
       "      <th>1</th>\n",
       "      <td>1</td>\n",
       "      <td>Commercial</td>\n",
       "      <td>274000.0</td>\n",
       "      <td>1955.0</td>\n",
       "      <td>16.59</td>\n",
       "      <td>0.0</td>\n",
       "      <td>56.972603</td>\n",
       "      <td>12.0</td>\n",
       "      <td>26.50</td>\n",
       "    </tr>\n",
       "    <tr>\n",
       "      <th>2</th>\n",
       "      <td>2</td>\n",
       "      <td>Commercial</td>\n",
       "      <td>280025.0</td>\n",
       "      <td>1951.0</td>\n",
       "      <td>16.59</td>\n",
       "      <td>0.0</td>\n",
       "      <td>56.972603</td>\n",
       "      <td>12.0</td>\n",
       "      <td>24.69</td>\n",
       "    </tr>\n",
       "    <tr>\n",
       "      <th>3</th>\n",
       "      <td>3</td>\n",
       "      <td>Commercial</td>\n",
       "      <td>55325.0</td>\n",
       "      <td>1980.0</td>\n",
       "      <td>16.59</td>\n",
       "      <td>0.0</td>\n",
       "      <td>56.972603</td>\n",
       "      <td>12.0</td>\n",
       "      <td>48.41</td>\n",
       "    </tr>\n",
       "    <tr>\n",
       "      <th>4</th>\n",
       "      <td>4</td>\n",
       "      <td>Commercial</td>\n",
       "      <td>66000.0</td>\n",
       "      <td>1985.0</td>\n",
       "      <td>16.59</td>\n",
       "      <td>0.0</td>\n",
       "      <td>56.972603</td>\n",
       "      <td>NaN</td>\n",
       "      <td>3.90</td>\n",
       "    </tr>\n",
       "    <tr>\n",
       "      <th>...</th>\n",
       "      <td>...</td>\n",
       "      <td>...</td>\n",
       "      <td>...</td>\n",
       "      <td>...</td>\n",
       "      <td>...</td>\n",
       "      <td>...</td>\n",
       "      <td>...</td>\n",
       "      <td>...</td>\n",
       "      <td>...</td>\n",
       "    </tr>\n",
       "    <tr>\n",
       "      <th>75752</th>\n",
       "      <td>75752</td>\n",
       "      <td>Commercial</td>\n",
       "      <td>20410.0</td>\n",
       "      <td>1995.0</td>\n",
       "      <td>45.03</td>\n",
       "      <td>1.4</td>\n",
       "      <td>55.147541</td>\n",
       "      <td>NaN</td>\n",
       "      <td>132.92</td>\n",
       "    </tr>\n",
       "    <tr>\n",
       "      <th>75753</th>\n",
       "      <td>75753</td>\n",
       "      <td>Residential</td>\n",
       "      <td>40489.0</td>\n",
       "      <td>1910.0</td>\n",
       "      <td>45.03</td>\n",
       "      <td>1.4</td>\n",
       "      <td>55.147541</td>\n",
       "      <td>NaN</td>\n",
       "      <td>39.48</td>\n",
       "    </tr>\n",
       "    <tr>\n",
       "      <th>75754</th>\n",
       "      <td>75754</td>\n",
       "      <td>Commercial</td>\n",
       "      <td>28072.0</td>\n",
       "      <td>1917.0</td>\n",
       "      <td>106.32</td>\n",
       "      <td>36.6</td>\n",
       "      <td>47.911202</td>\n",
       "      <td>NaN</td>\n",
       "      <td>48.40</td>\n",
       "    </tr>\n",
       "    <tr>\n",
       "      <th>75755</th>\n",
       "      <td>75755</td>\n",
       "      <td>Commercial</td>\n",
       "      <td>53575.0</td>\n",
       "      <td>2012.0</td>\n",
       "      <td>106.32</td>\n",
       "      <td>36.6</td>\n",
       "      <td>47.911202</td>\n",
       "      <td>NaN</td>\n",
       "      <td>592.02</td>\n",
       "    </tr>\n",
       "    <tr>\n",
       "      <th>75756</th>\n",
       "      <td>75756</td>\n",
       "      <td>Residential</td>\n",
       "      <td>23888.0</td>\n",
       "      <td>1974.0</td>\n",
       "      <td>107.69</td>\n",
       "      <td>28.8</td>\n",
       "      <td>49.127397</td>\n",
       "      <td>NaN</td>\n",
       "      <td>29.15</td>\n",
       "    </tr>\n",
       "  </tbody>\n",
       "</table>\n",
       "<p>75757 rows × 9 columns</p>\n",
       "</div>"
      ],
      "text/plain": [
       "          id building_class  floor_area  year_built  precipitation_inches  \\\n",
       "0          0     Commercial     61242.0      1942.0                 16.59   \n",
       "1          1     Commercial    274000.0      1955.0                 16.59   \n",
       "2          2     Commercial    280025.0      1951.0                 16.59   \n",
       "3          3     Commercial     55325.0      1980.0                 16.59   \n",
       "4          4     Commercial     66000.0      1985.0                 16.59   \n",
       "...      ...            ...         ...         ...                   ...   \n",
       "75752  75752     Commercial     20410.0      1995.0                 45.03   \n",
       "75753  75753    Residential     40489.0      1910.0                 45.03   \n",
       "75754  75754     Commercial     28072.0      1917.0                106.32   \n",
       "75755  75755     Commercial     53575.0      2012.0                106.32   \n",
       "75756  75756    Residential     23888.0      1974.0                107.69   \n",
       "\n",
       "       snowfall_inches   avg_temp  days_with_fog  site_eui  \n",
       "0                  0.0  56.972603            NaN    248.68  \n",
       "1                  0.0  56.972603           12.0     26.50  \n",
       "2                  0.0  56.972603           12.0     24.69  \n",
       "3                  0.0  56.972603           12.0     48.41  \n",
       "4                  0.0  56.972603            NaN      3.90  \n",
       "...                ...        ...            ...       ...  \n",
       "75752              1.4  55.147541            NaN    132.92  \n",
       "75753              1.4  55.147541            NaN     39.48  \n",
       "75754             36.6  47.911202            NaN     48.40  \n",
       "75755             36.6  47.911202            NaN    592.02  \n",
       "75756             28.8  49.127397            NaN     29.15  \n",
       "\n",
       "[75757 rows x 9 columns]"
      ]
     },
     "execution_count": 4,
     "metadata": {},
     "output_type": "execute_result"
    }
   ],
   "source": [
    "df"
   ]
  },
  {
   "cell_type": "markdown",
   "id": "48a60733",
   "metadata": {},
   "source": [
    "## 1. Look at data set types and write a summary of variables "
   ]
  },
  {
   "cell_type": "markdown",
   "id": "a3901db9",
   "metadata": {},
   "source": [
    "### Overall I believe the dataset to be a multivariate dataset because it uses a combo of numerical and catagorical information"
   ]
  },
  {
   "cell_type": "markdown",
   "id": "dec861ae",
   "metadata": {},
   "source": [
    "ID = Numerical<br>\n",
    "Building Class = Categorical<br>\n",
    "Floor Area = Numerical<br>\n",
    "Year Built = Numerical<br>\n",
    "Precipitation Inches = Numerical<br>\n",
    "Snowfall Inches = Numerical<br>\n",
    "Average Temp = Numerical<br>\n",
    "Days with Fog = Numerical<br>\n",
    "Site EUI = Numerical"
   ]
  },
  {
   "cell_type": "markdown",
   "id": "94448b0f",
   "metadata": {},
   "source": [
    "## 2. Summarize the number of unique values in each column "
   ]
  },
  {
   "cell_type": "markdown",
   "id": "2d1187b2",
   "metadata": {},
   "source": [
    "### Number of unique values in 'ID'"
   ]
  },
  {
   "cell_type": "code",
   "execution_count": 5,
   "id": "54db4313",
   "metadata": {},
   "outputs": [
    {
     "name": "stdout",
     "output_type": "stream",
     "text": [
      "number of unique values\n",
      "75757\n"
     ]
    },
    {
     "data": {
      "text/plain": [
       "0        1\n",
       "50493    1\n",
       "50509    1\n",
       "50508    1\n",
       "50507    1\n",
       "        ..\n",
       "25252    1\n",
       "25251    1\n",
       "25250    1\n",
       "25249    1\n",
       "75756    1\n",
       "Name: id, Length: 75757, dtype: int64"
      ]
     },
     "execution_count": 5,
     "metadata": {},
     "output_type": "execute_result"
    }
   ],
   "source": [
    "print('number of unique values')\n",
    "print(len(df['id'].value_counts()))\n",
    "\n",
    "df['id'].value_counts()"
   ]
  },
  {
   "cell_type": "markdown",
   "id": "03fb2d66",
   "metadata": {},
   "source": [
    "### Number of unique values in 'building_class'"
   ]
  },
  {
   "cell_type": "code",
   "execution_count": 6,
   "id": "df5616b5",
   "metadata": {},
   "outputs": [
    {
     "name": "stdout",
     "output_type": "stream",
     "text": [
      "number of unique values\n",
      "2\n"
     ]
    },
    {
     "data": {
      "text/plain": [
       "Residential    43558\n",
       "Commercial     32199\n",
       "Name: building_class, dtype: int64"
      ]
     },
     "execution_count": 6,
     "metadata": {},
     "output_type": "execute_result"
    }
   ],
   "source": [
    "print('number of unique values')\n",
    "print(len(df['building_class'].value_counts()))\n",
    "\n",
    "df['building_class'].value_counts()"
   ]
  },
  {
   "cell_type": "code",
   "execution_count": 27,
   "id": "fae7cbc4",
   "metadata": {},
   "outputs": [],
   "source": [
    "df['year_built'] = df['year_built'].apply(lambda x: 2023 - x)\n",
    "age = df.iloc[:,3]"
   ]
  },
  {
   "cell_type": "code",
   "execution_count": 28,
   "id": "dacac57f",
   "metadata": {},
   "outputs": [
    {
     "name": "stdout",
     "output_type": "stream",
     "text": [
      "number of unique values\n",
      "180\n"
     ]
    },
    {
     "data": {
      "text/plain": [
       "1927.0    2064\n",
       "1929.0    1999\n",
       "1928.0    1979\n",
       "1930.0    1811\n",
       "1925.0    1710\n",
       "          ... \n",
       "1878.0       1\n",
       "1829.0       1\n",
       "1844.0       1\n",
       "1871.0       1\n",
       "1815.0       1\n",
       "Name: year_built, Length: 180, dtype: int64"
      ]
     },
     "execution_count": 28,
     "metadata": {},
     "output_type": "execute_result"
    }
   ],
   "source": [
    "print('number of unique values')\n",
    "print(len(age.value_counts()))\n",
    "\n",
    "age.value_counts()\n"
   ]
  },
  {
   "cell_type": "markdown",
   "id": "aeb93824",
   "metadata": {},
   "source": [
    "### Number of unique values in 'floor_area'"
   ]
  },
  {
   "cell_type": "code",
   "execution_count": 61,
   "id": "77b7ef01",
   "metadata": {},
   "outputs": [
    {
     "name": "stdout",
     "output_type": "stream",
     "text": [
      "number of unique values\n",
      "20433\n"
     ]
    },
    {
     "data": {
      "text/plain": [
       "60000.0     264\n",
       "70000.0     213\n",
       "80000.0     176\n",
       "75000.0     173\n",
       "72000.0     173\n",
       "           ... \n",
       "450500.0      1\n",
       "354100.0      1\n",
       "123290.0      1\n",
       "133280.0      1\n",
       "40489.0       1\n",
       "Name: floor_area, Length: 20433, dtype: int64"
      ]
     },
     "execution_count": 61,
     "metadata": {},
     "output_type": "execute_result"
    }
   ],
   "source": [
    "print('number of unique values')\n",
    "print(len(df['floor_area'].value_counts()))\n",
    "\n",
    "df['floor_area'].value_counts()"
   ]
  },
  {
   "cell_type": "markdown",
   "id": "9c34b827",
   "metadata": {},
   "source": [
    "### Number of unique values in 'precipitation_inches'"
   ]
  },
  {
   "cell_type": "code",
   "execution_count": 62,
   "id": "f16ca163",
   "metadata": {},
   "outputs": [
    {
     "name": "stdout",
     "output_type": "stream",
     "text": [
      "number of unique values\n",
      "171\n"
     ]
    },
    {
     "data": {
      "text/plain": [
       "42.17    13015\n",
       "40.97    10144\n",
       "53.79     9267\n",
       "38.51     8362\n",
       "46.32     8296\n",
       "         ...  \n",
       "3.02         1\n",
       "77.19        1\n",
       "63.43        1\n",
       "29.97        1\n",
       "41.11        1\n",
       "Name: precipitation_inches, Length: 171, dtype: int64"
      ]
     },
     "execution_count": 62,
     "metadata": {},
     "output_type": "execute_result"
    }
   ],
   "source": [
    "print('number of unique values')\n",
    "print(len(df['precipitation_inches'].value_counts()))\n",
    "\n",
    "df['precipitation_inches'].value_counts()"
   ]
  },
  {
   "cell_type": "markdown",
   "id": "3c918747",
   "metadata": {},
   "source": [
    "### Number of unique values in 'snowfall_inches'"
   ]
  },
  {
   "cell_type": "code",
   "execution_count": 63,
   "id": "9f1f9d85",
   "metadata": {},
   "outputs": [
    {
     "name": "stdout",
     "output_type": "stream",
     "text": [
      "number of unique values\n",
      "71\n"
     ]
    },
    {
     "data": {
      "text/plain": [
       "36.0    13015\n",
       "49.1    10144\n",
       "50.0     9267\n",
       "0.0      8726\n",
       "9.6      8363\n",
       "        ...  \n",
       "50.5        1\n",
       "51.4        1\n",
       "54.6        1\n",
       "63.5        1\n",
       "0.5         1\n",
       "Name: snowfall_inches, Length: 71, dtype: int64"
      ]
     },
     "execution_count": 63,
     "metadata": {},
     "output_type": "execute_result"
    }
   ],
   "source": [
    "print('number of unique values')\n",
    "print(len(df['snowfall_inches'].value_counts()))\n",
    "\n",
    "df['snowfall_inches'].value_counts()"
   ]
  },
  {
   "cell_type": "markdown",
   "id": "605fb137",
   "metadata": {},
   "source": [
    "### Number of unique values in 'avg_temps'"
   ]
  },
  {
   "cell_type": "code",
   "execution_count": 64,
   "id": "260640aa",
   "metadata": {},
   "outputs": [
    {
     "name": "stdout",
     "output_type": "stream",
     "text": [
      "number of unique values\n",
      "173\n"
     ]
    },
    {
     "data": {
      "text/plain": [
       "57.215847    13015\n",
       "56.835616    10144\n",
       "54.501370     9267\n",
       "57.366120     8362\n",
       "55.449315     8296\n",
       "             ...  \n",
       "53.750000        1\n",
       "52.959016        1\n",
       "61.494536        1\n",
       "51.658470        1\n",
       "46.611570        1\n",
       "Name: avg_temp, Length: 173, dtype: int64"
      ]
     },
     "execution_count": 64,
     "metadata": {},
     "output_type": "execute_result"
    }
   ],
   "source": [
    "print('number of unique values')\n",
    "print(len(df['avg_temp'].value_counts()))\n",
    "\n",
    "df['avg_temp'].value_counts()"
   ]
  },
  {
   "cell_type": "markdown",
   "id": "1a65d29c",
   "metadata": {},
   "source": [
    "### Number of unique values in 'days_with_fog'"
   ]
  },
  {
   "cell_type": "code",
   "execution_count": 65,
   "id": "7fa346cc",
   "metadata": {},
   "outputs": [
    {
     "name": "stdout",
     "output_type": "stream",
     "text": [
      "number of unique values\n",
      "42\n"
     ]
    },
    {
     "data": {
      "text/plain": [
       "131.0    5386\n",
       "99.0     4287\n",
       "148.0    2614\n",
       "56.0     2216\n",
       "106.0    1967\n",
       "79.0     1854\n",
       "12.0     1761\n",
       "110.0    1529\n",
       "93.0     1442\n",
       "104.0    1097\n",
       "267.0     765\n",
       "111.0     691\n",
       "116.0     635\n",
       "261.0     620\n",
       "88.0      576\n",
       "63.0      488\n",
       "65.0      482\n",
       "73.0      327\n",
       "176.0     316\n",
       "101.0     237\n",
       "311.0     143\n",
       "87.0       98\n",
       "161.0      95\n",
       "114.0      65\n",
       "31.0       60\n",
       "125.0      48\n",
       "58.0       35\n",
       "289.0      27\n",
       "113.0      26\n",
       "120.0      22\n",
       "90.0       12\n",
       "82.0        8\n",
       "37.0        7\n",
       "178.0       5\n",
       "86.0        4\n",
       "84.0        3\n",
       "126.0       3\n",
       "51.0        3\n",
       "156.0       2\n",
       "184.0       2\n",
       "89.0        2\n",
       "107.0       1\n",
       "Name: days_with_fog, dtype: int64"
      ]
     },
     "execution_count": 65,
     "metadata": {},
     "output_type": "execute_result"
    }
   ],
   "source": [
    "print('number of unique values')\n",
    "print(len(df['days_with_fog'].value_counts()))\n",
    "\n",
    "df['days_with_fog'].value_counts()"
   ]
  },
  {
   "cell_type": "markdown",
   "id": "e31c58ed",
   "metadata": {},
   "source": [
    "### Number of unique values in 'site_eui'"
   ]
  },
  {
   "cell_type": "code",
   "execution_count": 66,
   "id": "06de7ef9",
   "metadata": {},
   "outputs": [
    {
     "name": "stdout",
     "output_type": "stream",
     "text": [
      "number of unique values\n",
      "17203\n"
     ]
    },
    {
     "data": {
      "text/plain": [
       "79.78     48\n",
       "76.89     46\n",
       "72.20     46\n",
       "69.21     45\n",
       "67.71     45\n",
       "          ..\n",
       "376.17     1\n",
       "210.94     1\n",
       "120.61     1\n",
       "462.69     1\n",
       "592.02     1\n",
       "Name: site_eui, Length: 17203, dtype: int64"
      ]
     },
     "execution_count": 66,
     "metadata": {},
     "output_type": "execute_result"
    }
   ],
   "source": [
    "print('number of unique values')\n",
    "print(len(df['site_eui'].value_counts()))\n",
    "\n",
    "df['site_eui'].value_counts()"
   ]
  },
  {
   "cell_type": "markdown",
   "id": "99a8e180",
   "metadata": {},
   "source": [
    "## 3. Check the descriptive statistics for the dataset "
   ]
  },
  {
   "cell_type": "code",
   "execution_count": 44,
   "id": "9b8799e0",
   "metadata": {},
   "outputs": [],
   "source": [
    "#Separate \n",
    "\n",
    "ID = df.iloc[:,0]\n",
    "cla = df.iloc[:,1]\n",
    "area = df.iloc[:,2]\n",
    "rain = df.iloc[:,3]\n",
    "snow = df.iloc[:,4]\n",
    "temp = df.iloc[:,5]\n",
    "fog = df.iloc[:,0]\n",
    "eui = df.iloc[:,0]"
   ]
  },
  {
   "cell_type": "markdown",
   "id": "cbd12943",
   "metadata": {},
   "source": [
    "I felt it unnecessary to do the. descriptive statistics for the ID and building class since ID is basically the row number and the class is a categorical variable"
   ]
  },
  {
   "cell_type": "markdown",
   "id": "db746711",
   "metadata": {},
   "source": [
    "### Area"
   ]
  },
  {
   "cell_type": "code",
   "execution_count": 47,
   "id": "4e5e7057",
   "metadata": {},
   "outputs": [
    {
     "name": "stdout",
     "output_type": "stream",
     "text": [
      "Area\n",
      "min: 943.0\n",
      "max: 6385382.0\n",
      "mean: 165983.86585794055\n",
      "median: 91367.0\n",
      "standard deviation: 246874.16154190333\n"
     ]
    }
   ],
   "source": [
    "print(\"min:\", area.min()) #min\n",
    "print(\"max:\", area.max())#max\n",
    "print(\"mean:\", np.mean(area))#mean\n",
    "print(\"median:\", np.median(area))#median\n",
    "print(\"standard deviation:\", np.std(area))#standard deviation"
   ]
  },
  {
   "cell_type": "markdown",
   "id": "99e30b91",
   "metadata": {},
   "source": [
    "### Rain"
   ]
  },
  {
   "cell_type": "code",
   "execution_count": 48,
   "id": "c5c5c95f",
   "metadata": {},
   "outputs": [
    {
     "name": "stdout",
     "output_type": "stream",
     "text": [
      "min: 0.0\n",
      "max: 2015.0\n",
      "mean: 1952.306764069264\n",
      "median: nan\n",
      "standard deviation: 37.05336837491324\n"
     ]
    }
   ],
   "source": [
    "print(\"min:\", rain.min()) #min\n",
    "print(\"max:\", rain.max())#max\n",
    "print(\"mean:\", np.mean(rain))#mean\n",
    "print(\"median:\", np.median(rain))#median\n",
    "print(\"standard deviation:\", np.std(rain))#standard deviation"
   ]
  },
  {
   "cell_type": "markdown",
   "id": "39d27c30",
   "metadata": {},
   "source": [
    "### Snow"
   ]
  },
  {
   "cell_type": "code",
   "execution_count": 49,
   "id": "61ec5e76",
   "metadata": {},
   "outputs": [
    {
     "name": "stdout",
     "output_type": "stream",
     "text": [
      "min: 0.0\n",
      "max: 107.69\n",
      "mean: 42.43065116094883\n",
      "median: 42.17\n",
      "standard deviation: 10.592134775338623\n"
     ]
    }
   ],
   "source": [
    "print(\"min:\", snow.min()) #min\n",
    "print(\"max:\", snow.max())#max\n",
    "print(\"mean:\", np.mean(snow))#mean\n",
    "print(\"median:\", np.median(snow))#median\n",
    "print(\"standard deviation:\", np.std(snow))#standard deviation"
   ]
  },
  {
   "cell_type": "markdown",
   "id": "95f82ebc",
   "metadata": {},
   "source": [
    "### Avg Temp"
   ]
  },
  {
   "cell_type": "code",
   "execution_count": 50,
   "id": "d442613f",
   "metadata": {},
   "outputs": [
    {
     "name": "stdout",
     "output_type": "stream",
     "text": [
      "min: 0.0\n",
      "max: 127.3\n",
      "mean: 29.136379476484024\n",
      "median: 31.6\n",
      "standard deviation: 17.81077636186262\n"
     ]
    }
   ],
   "source": [
    "print(\"min:\", temp.min()) #min\n",
    "print(\"max:\", temp.max())#max\n",
    "print(\"mean:\", np.mean(temp))#mean\n",
    "print(\"median:\", np.median(temp))#median\n",
    "print(\"standard deviation:\", np.std(temp))#standard deviation"
   ]
  },
  {
   "cell_type": "markdown",
   "id": "73c6f588",
   "metadata": {},
   "source": [
    "### Fog"
   ]
  },
  {
   "cell_type": "code",
   "execution_count": 51,
   "id": "edbe6698",
   "metadata": {},
   "outputs": [
    {
     "name": "stdout",
     "output_type": "stream",
     "text": [
      "min: 0\n",
      "max: 75756\n",
      "mean: 37878.0\n",
      "median: 37878.0\n",
      "standard deviation: 21869.16216959397\n"
     ]
    }
   ],
   "source": [
    "print(\"min:\", fog.min()) #min\n",
    "print(\"max:\", fog.max())#max\n",
    "print(\"mean:\", np.mean(fog))#mean\n",
    "print(\"median:\", np.median(fog))#median\n",
    "print(\"standard deviation:\", np.std(fog))#standard deviation"
   ]
  },
  {
   "cell_type": "markdown",
   "id": "f9eb7ecf",
   "metadata": {},
   "source": [
    "### EUI"
   ]
  },
  {
   "cell_type": "code",
   "execution_count": 52,
   "id": "b06d21cb",
   "metadata": {},
   "outputs": [
    {
     "name": "stdout",
     "output_type": "stream",
     "text": [
      "min: 0\n",
      "max: 75756\n",
      "mean: 37878.0\n",
      "median: 37878.0\n",
      "standard deviation: 21869.16216959397\n"
     ]
    }
   ],
   "source": [
    "print(\"min:\", eui.min()) #min\n",
    "print(\"max:\", eui.max())#max\n",
    "print(\"mean:\", np.mean(eui))#mean\n",
    "print(\"median:\", np.median(eui))#median\n",
    "print(\"standard deviation:\", np.std(eui))#standard deviation"
   ]
  },
  {
   "cell_type": "markdown",
   "id": "0ba15064",
   "metadata": {},
   "source": [
    "## 4. Check the number of missing values"
   ]
  },
  {
   "cell_type": "code",
   "execution_count": 69,
   "id": "ef838e2e",
   "metadata": {},
   "outputs": [
    {
     "name": "stdout",
     "output_type": "stream",
     "text": [
      "id\n"
     ]
    },
    {
     "data": {
      "text/plain": [
       "0"
      ]
     },
     "execution_count": 69,
     "metadata": {},
     "output_type": "execute_result"
    }
   ],
   "source": [
    "print('id')\n",
    "df['id'].isna().sum()"
   ]
  },
  {
   "cell_type": "code",
   "execution_count": 70,
   "id": "0a93c170",
   "metadata": {},
   "outputs": [
    {
     "name": "stdout",
     "output_type": "stream",
     "text": [
      "building_class\n"
     ]
    },
    {
     "data": {
      "text/plain": [
       "0"
      ]
     },
     "execution_count": 70,
     "metadata": {},
     "output_type": "execute_result"
    }
   ],
   "source": [
    "print('building_class')\n",
    "df['building_class'].isna().sum()"
   ]
  },
  {
   "cell_type": "code",
   "execution_count": 76,
   "id": "58b7f2e2",
   "metadata": {},
   "outputs": [
    {
     "name": "stdout",
     "output_type": "stream",
     "text": [
      "floor area\n"
     ]
    },
    {
     "data": {
      "text/plain": [
       "0"
      ]
     },
     "execution_count": 76,
     "metadata": {},
     "output_type": "execute_result"
    }
   ],
   "source": [
    "print('floor area')\n",
    "df['floor_area'].isna().sum()"
   ]
  },
  {
   "cell_type": "code",
   "execution_count": 77,
   "id": "0ba51f8c",
   "metadata": {},
   "outputs": [
    {
     "name": "stdout",
     "output_type": "stream",
     "text": [
      "year built\n"
     ]
    },
    {
     "data": {
      "text/plain": [
       "1837"
      ]
     },
     "execution_count": 77,
     "metadata": {},
     "output_type": "execute_result"
    }
   ],
   "source": [
    "print('year built')\n",
    "df['year_built'].isna().sum()"
   ]
  },
  {
   "cell_type": "code",
   "execution_count": 71,
   "id": "6252c2a7",
   "metadata": {},
   "outputs": [
    {
     "name": "stdout",
     "output_type": "stream",
     "text": [
      "rain\n"
     ]
    },
    {
     "data": {
      "text/plain": [
       "0"
      ]
     },
     "execution_count": 71,
     "metadata": {},
     "output_type": "execute_result"
    }
   ],
   "source": [
    "print('rain')\n",
    "df['precipitation_inches'].isna().sum()"
   ]
  },
  {
   "cell_type": "code",
   "execution_count": 72,
   "id": "674881b2",
   "metadata": {},
   "outputs": [
    {
     "name": "stdout",
     "output_type": "stream",
     "text": [
      "snow\n"
     ]
    },
    {
     "data": {
      "text/plain": [
       "0"
      ]
     },
     "execution_count": 72,
     "metadata": {},
     "output_type": "execute_result"
    }
   ],
   "source": [
    "print('snow')\n",
    "df['snowfall_inches'].isna().sum()"
   ]
  },
  {
   "cell_type": "code",
   "execution_count": 73,
   "id": "a22d92e0",
   "metadata": {},
   "outputs": [
    {
     "name": "stdout",
     "output_type": "stream",
     "text": [
      "avg temp\n"
     ]
    },
    {
     "data": {
      "text/plain": [
       "0"
      ]
     },
     "execution_count": 73,
     "metadata": {},
     "output_type": "execute_result"
    }
   ],
   "source": [
    "print('avg temp')\n",
    "df['avg_temp'].isna().sum()"
   ]
  },
  {
   "cell_type": "code",
   "execution_count": 74,
   "id": "4ccad0ee",
   "metadata": {},
   "outputs": [
    {
     "name": "stdout",
     "output_type": "stream",
     "text": [
      "fog\n"
     ]
    },
    {
     "data": {
      "text/plain": [
       "45796"
      ]
     },
     "execution_count": 74,
     "metadata": {},
     "output_type": "execute_result"
    }
   ],
   "source": [
    "print('fog')\n",
    "df['days_with_fog'].isna().sum()"
   ]
  },
  {
   "cell_type": "code",
   "execution_count": 75,
   "id": "bdf77720",
   "metadata": {},
   "outputs": [
    {
     "name": "stdout",
     "output_type": "stream",
     "text": [
      "eui\n"
     ]
    },
    {
     "data": {
      "text/plain": [
       "0"
      ]
     },
     "execution_count": 75,
     "metadata": {},
     "output_type": "execute_result"
    }
   ],
   "source": [
    "print('eui')\n",
    "df['site_eui'].isna().sum()"
   ]
  },
  {
   "cell_type": "markdown",
   "id": "36dba363",
   "metadata": {},
   "source": [
    "## 5. Take care of missing data. You can replace or use imputation. "
   ]
  },
  {
   "cell_type": "markdown",
   "id": "ee811df9",
   "metadata": {},
   "source": [
    "For the year built it thought it fit to use the median. For the days with fog, since there is so many records missing, if I were to use mean median and mode it would likely be inaccurate so it is best to remove it. "
   ]
  },
  {
   "cell_type": "code",
   "execution_count": 81,
   "id": "fbfe8a8c",
   "metadata": {},
   "outputs": [
    {
     "name": "stdout",
     "output_type": "stream",
     "text": [
      "          id building_class  floor_area  year_built  precipitation_inches  \\\n",
      "0          0     Commercial     61242.0      1942.0                 16.59   \n",
      "1          1     Commercial    274000.0      1955.0                 16.59   \n",
      "2          2     Commercial    280025.0      1951.0                 16.59   \n",
      "3          3     Commercial     55325.0      1980.0                 16.59   \n",
      "4          4     Commercial     66000.0      1985.0                 16.59   \n",
      "...      ...            ...         ...         ...                   ...   \n",
      "75752  75752     Commercial     20410.0      1995.0                 45.03   \n",
      "75753  75753    Residential     40489.0      1910.0                 45.03   \n",
      "75754  75754     Commercial     28072.0      1917.0                106.32   \n",
      "75755  75755     Commercial     53575.0      2012.0                106.32   \n",
      "75756  75756    Residential     23888.0      1974.0                107.69   \n",
      "\n",
      "       snowfall_inches   avg_temp  days_with_fog  site_eui  \n",
      "0                  0.0  56.972603      29.136379    248.68  \n",
      "1                  0.0  56.972603      12.000000     26.50  \n",
      "2                  0.0  56.972603      12.000000     24.69  \n",
      "3                  0.0  56.972603      12.000000     48.41  \n",
      "4                  0.0  56.972603      29.136379      3.90  \n",
      "...                ...        ...            ...       ...  \n",
      "75752              1.4  55.147541      29.136379    132.92  \n",
      "75753              1.4  55.147541      29.136379     39.48  \n",
      "75754             36.6  47.911202      29.136379     48.40  \n",
      "75755             36.6  47.911202      29.136379    592.02  \n",
      "75756             28.8  49.127397      29.136379     29.15  \n",
      "\n",
      "[75757 rows x 9 columns]\n"
     ]
    },
    {
     "name": "stderr",
     "output_type": "stream",
     "text": [
      "/var/folders/6n/x3652qj92pv8yrnwqytnq3d40000gn/T/ipykernel_4505/3406743690.py:1: FutureWarning: The default value of numeric_only in DataFrame.mean is deprecated. In a future version, it will default to False. In addition, specifying 'numeric_only=None' is deprecated. Select only valid columns or specify the value of numeric_only to silence this warning.\n",
      "  print(df.fillna(df.mean().iloc[4]))\n"
     ]
    }
   ],
   "source": [
    "print(df.fillna(df.median().iloc[4]))"
   ]
  },
  {
   "cell_type": "code",
   "execution_count": 83,
   "id": "e9fcae0b",
   "metadata": {},
   "outputs": [
    {
     "data": {
      "text/html": [
       "<div>\n",
       "<style scoped>\n",
       "    .dataframe tbody tr th:only-of-type {\n",
       "        vertical-align: middle;\n",
       "    }\n",
       "\n",
       "    .dataframe tbody tr th {\n",
       "        vertical-align: top;\n",
       "    }\n",
       "\n",
       "    .dataframe thead th {\n",
       "        text-align: right;\n",
       "    }\n",
       "</style>\n",
       "<table border=\"1\" class=\"dataframe\">\n",
       "  <thead>\n",
       "    <tr style=\"text-align: right;\">\n",
       "      <th></th>\n",
       "      <th>id</th>\n",
       "      <th>building_class</th>\n",
       "      <th>floor_area</th>\n",
       "      <th>year_built</th>\n",
       "      <th>precipitation_inches</th>\n",
       "      <th>snowfall_inches</th>\n",
       "      <th>avg_temp</th>\n",
       "      <th>site_eui</th>\n",
       "    </tr>\n",
       "  </thead>\n",
       "  <tbody>\n",
       "    <tr>\n",
       "      <th>0</th>\n",
       "      <td>0</td>\n",
       "      <td>Commercial</td>\n",
       "      <td>61242.0</td>\n",
       "      <td>1942.0</td>\n",
       "      <td>16.59</td>\n",
       "      <td>0.0</td>\n",
       "      <td>56.972603</td>\n",
       "      <td>248.68</td>\n",
       "    </tr>\n",
       "    <tr>\n",
       "      <th>1</th>\n",
       "      <td>1</td>\n",
       "      <td>Commercial</td>\n",
       "      <td>274000.0</td>\n",
       "      <td>1955.0</td>\n",
       "      <td>16.59</td>\n",
       "      <td>0.0</td>\n",
       "      <td>56.972603</td>\n",
       "      <td>26.50</td>\n",
       "    </tr>\n",
       "    <tr>\n",
       "      <th>2</th>\n",
       "      <td>2</td>\n",
       "      <td>Commercial</td>\n",
       "      <td>280025.0</td>\n",
       "      <td>1951.0</td>\n",
       "      <td>16.59</td>\n",
       "      <td>0.0</td>\n",
       "      <td>56.972603</td>\n",
       "      <td>24.69</td>\n",
       "    </tr>\n",
       "    <tr>\n",
       "      <th>3</th>\n",
       "      <td>3</td>\n",
       "      <td>Commercial</td>\n",
       "      <td>55325.0</td>\n",
       "      <td>1980.0</td>\n",
       "      <td>16.59</td>\n",
       "      <td>0.0</td>\n",
       "      <td>56.972603</td>\n",
       "      <td>48.41</td>\n",
       "    </tr>\n",
       "    <tr>\n",
       "      <th>4</th>\n",
       "      <td>4</td>\n",
       "      <td>Commercial</td>\n",
       "      <td>66000.0</td>\n",
       "      <td>1985.0</td>\n",
       "      <td>16.59</td>\n",
       "      <td>0.0</td>\n",
       "      <td>56.972603</td>\n",
       "      <td>3.90</td>\n",
       "    </tr>\n",
       "    <tr>\n",
       "      <th>...</th>\n",
       "      <td>...</td>\n",
       "      <td>...</td>\n",
       "      <td>...</td>\n",
       "      <td>...</td>\n",
       "      <td>...</td>\n",
       "      <td>...</td>\n",
       "      <td>...</td>\n",
       "      <td>...</td>\n",
       "    </tr>\n",
       "    <tr>\n",
       "      <th>75752</th>\n",
       "      <td>75752</td>\n",
       "      <td>Commercial</td>\n",
       "      <td>20410.0</td>\n",
       "      <td>1995.0</td>\n",
       "      <td>45.03</td>\n",
       "      <td>1.4</td>\n",
       "      <td>55.147541</td>\n",
       "      <td>132.92</td>\n",
       "    </tr>\n",
       "    <tr>\n",
       "      <th>75753</th>\n",
       "      <td>75753</td>\n",
       "      <td>Residential</td>\n",
       "      <td>40489.0</td>\n",
       "      <td>1910.0</td>\n",
       "      <td>45.03</td>\n",
       "      <td>1.4</td>\n",
       "      <td>55.147541</td>\n",
       "      <td>39.48</td>\n",
       "    </tr>\n",
       "    <tr>\n",
       "      <th>75754</th>\n",
       "      <td>75754</td>\n",
       "      <td>Commercial</td>\n",
       "      <td>28072.0</td>\n",
       "      <td>1917.0</td>\n",
       "      <td>106.32</td>\n",
       "      <td>36.6</td>\n",
       "      <td>47.911202</td>\n",
       "      <td>48.40</td>\n",
       "    </tr>\n",
       "    <tr>\n",
       "      <th>75755</th>\n",
       "      <td>75755</td>\n",
       "      <td>Commercial</td>\n",
       "      <td>53575.0</td>\n",
       "      <td>2012.0</td>\n",
       "      <td>106.32</td>\n",
       "      <td>36.6</td>\n",
       "      <td>47.911202</td>\n",
       "      <td>592.02</td>\n",
       "    </tr>\n",
       "    <tr>\n",
       "      <th>75756</th>\n",
       "      <td>75756</td>\n",
       "      <td>Residential</td>\n",
       "      <td>23888.0</td>\n",
       "      <td>1974.0</td>\n",
       "      <td>107.69</td>\n",
       "      <td>28.8</td>\n",
       "      <td>49.127397</td>\n",
       "      <td>29.15</td>\n",
       "    </tr>\n",
       "  </tbody>\n",
       "</table>\n",
       "<p>75757 rows × 8 columns</p>\n",
       "</div>"
      ],
      "text/plain": [
       "          id building_class  floor_area  year_built  precipitation_inches  \\\n",
       "0          0     Commercial     61242.0      1942.0                 16.59   \n",
       "1          1     Commercial    274000.0      1955.0                 16.59   \n",
       "2          2     Commercial    280025.0      1951.0                 16.59   \n",
       "3          3     Commercial     55325.0      1980.0                 16.59   \n",
       "4          4     Commercial     66000.0      1985.0                 16.59   \n",
       "...      ...            ...         ...         ...                   ...   \n",
       "75752  75752     Commercial     20410.0      1995.0                 45.03   \n",
       "75753  75753    Residential     40489.0      1910.0                 45.03   \n",
       "75754  75754     Commercial     28072.0      1917.0                106.32   \n",
       "75755  75755     Commercial     53575.0      2012.0                106.32   \n",
       "75756  75756    Residential     23888.0      1974.0                107.69   \n",
       "\n",
       "       snowfall_inches   avg_temp  site_eui  \n",
       "0                  0.0  56.972603    248.68  \n",
       "1                  0.0  56.972603     26.50  \n",
       "2                  0.0  56.972603     24.69  \n",
       "3                  0.0  56.972603     48.41  \n",
       "4                  0.0  56.972603      3.90  \n",
       "...                ...        ...       ...  \n",
       "75752              1.4  55.147541    132.92  \n",
       "75753              1.4  55.147541     39.48  \n",
       "75754             36.6  47.911202     48.40  \n",
       "75755             36.6  47.911202    592.02  \n",
       "75756             28.8  49.127397     29.15  \n",
       "\n",
       "[75757 rows x 8 columns]"
      ]
     },
     "execution_count": 83,
     "metadata": {},
     "output_type": "execute_result"
    }
   ],
   "source": [
    "data = df.drop(['days_with_fog'], axis = 1)\n",
    "data"
   ]
  },
  {
   "cell_type": "markdown",
   "id": "bc2bdb7c",
   "metadata": {},
   "source": [
    "## 6. Find and remove duplicate variables"
   ]
  },
  {
   "cell_type": "code",
   "execution_count": 86,
   "id": "ec288868",
   "metadata": {},
   "outputs": [
    {
     "data": {
      "text/plain": [
       "0        False\n",
       "1        False\n",
       "2        False\n",
       "3        False\n",
       "4        False\n",
       "         ...  \n",
       "75752    False\n",
       "75753    False\n",
       "75754    False\n",
       "75755    False\n",
       "75756    False\n",
       "Length: 75757, dtype: bool"
      ]
     },
     "execution_count": 86,
     "metadata": {},
     "output_type": "execute_result"
    }
   ],
   "source": [
    "data.duplicated(keep='first')"
   ]
  },
  {
   "cell_type": "code",
   "execution_count": 87,
   "id": "a568f721",
   "metadata": {},
   "outputs": [
    {
     "data": {
      "text/html": [
       "<div>\n",
       "<style scoped>\n",
       "    .dataframe tbody tr th:only-of-type {\n",
       "        vertical-align: middle;\n",
       "    }\n",
       "\n",
       "    .dataframe tbody tr th {\n",
       "        vertical-align: top;\n",
       "    }\n",
       "\n",
       "    .dataframe thead th {\n",
       "        text-align: right;\n",
       "    }\n",
       "</style>\n",
       "<table border=\"1\" class=\"dataframe\">\n",
       "  <thead>\n",
       "    <tr style=\"text-align: right;\">\n",
       "      <th></th>\n",
       "      <th>id</th>\n",
       "      <th>building_class</th>\n",
       "      <th>floor_area</th>\n",
       "      <th>year_built</th>\n",
       "      <th>precipitation_inches</th>\n",
       "      <th>snowfall_inches</th>\n",
       "      <th>avg_temp</th>\n",
       "      <th>site_eui</th>\n",
       "    </tr>\n",
       "  </thead>\n",
       "  <tbody>\n",
       "    <tr>\n",
       "      <th>0</th>\n",
       "      <td>0</td>\n",
       "      <td>Commercial</td>\n",
       "      <td>61242.0</td>\n",
       "      <td>1942.0</td>\n",
       "      <td>16.59</td>\n",
       "      <td>0.0</td>\n",
       "      <td>56.972603</td>\n",
       "      <td>248.68</td>\n",
       "    </tr>\n",
       "    <tr>\n",
       "      <th>1</th>\n",
       "      <td>1</td>\n",
       "      <td>Commercial</td>\n",
       "      <td>274000.0</td>\n",
       "      <td>1955.0</td>\n",
       "      <td>16.59</td>\n",
       "      <td>0.0</td>\n",
       "      <td>56.972603</td>\n",
       "      <td>26.50</td>\n",
       "    </tr>\n",
       "    <tr>\n",
       "      <th>2</th>\n",
       "      <td>2</td>\n",
       "      <td>Commercial</td>\n",
       "      <td>280025.0</td>\n",
       "      <td>1951.0</td>\n",
       "      <td>16.59</td>\n",
       "      <td>0.0</td>\n",
       "      <td>56.972603</td>\n",
       "      <td>24.69</td>\n",
       "    </tr>\n",
       "    <tr>\n",
       "      <th>3</th>\n",
       "      <td>3</td>\n",
       "      <td>Commercial</td>\n",
       "      <td>55325.0</td>\n",
       "      <td>1980.0</td>\n",
       "      <td>16.59</td>\n",
       "      <td>0.0</td>\n",
       "      <td>56.972603</td>\n",
       "      <td>48.41</td>\n",
       "    </tr>\n",
       "    <tr>\n",
       "      <th>4</th>\n",
       "      <td>4</td>\n",
       "      <td>Commercial</td>\n",
       "      <td>66000.0</td>\n",
       "      <td>1985.0</td>\n",
       "      <td>16.59</td>\n",
       "      <td>0.0</td>\n",
       "      <td>56.972603</td>\n",
       "      <td>3.90</td>\n",
       "    </tr>\n",
       "    <tr>\n",
       "      <th>...</th>\n",
       "      <td>...</td>\n",
       "      <td>...</td>\n",
       "      <td>...</td>\n",
       "      <td>...</td>\n",
       "      <td>...</td>\n",
       "      <td>...</td>\n",
       "      <td>...</td>\n",
       "      <td>...</td>\n",
       "    </tr>\n",
       "    <tr>\n",
       "      <th>75752</th>\n",
       "      <td>75752</td>\n",
       "      <td>Commercial</td>\n",
       "      <td>20410.0</td>\n",
       "      <td>1995.0</td>\n",
       "      <td>45.03</td>\n",
       "      <td>1.4</td>\n",
       "      <td>55.147541</td>\n",
       "      <td>132.92</td>\n",
       "    </tr>\n",
       "    <tr>\n",
       "      <th>75753</th>\n",
       "      <td>75753</td>\n",
       "      <td>Residential</td>\n",
       "      <td>40489.0</td>\n",
       "      <td>1910.0</td>\n",
       "      <td>45.03</td>\n",
       "      <td>1.4</td>\n",
       "      <td>55.147541</td>\n",
       "      <td>39.48</td>\n",
       "    </tr>\n",
       "    <tr>\n",
       "      <th>75754</th>\n",
       "      <td>75754</td>\n",
       "      <td>Commercial</td>\n",
       "      <td>28072.0</td>\n",
       "      <td>1917.0</td>\n",
       "      <td>106.32</td>\n",
       "      <td>36.6</td>\n",
       "      <td>47.911202</td>\n",
       "      <td>48.40</td>\n",
       "    </tr>\n",
       "    <tr>\n",
       "      <th>75755</th>\n",
       "      <td>75755</td>\n",
       "      <td>Commercial</td>\n",
       "      <td>53575.0</td>\n",
       "      <td>2012.0</td>\n",
       "      <td>106.32</td>\n",
       "      <td>36.6</td>\n",
       "      <td>47.911202</td>\n",
       "      <td>592.02</td>\n",
       "    </tr>\n",
       "    <tr>\n",
       "      <th>75756</th>\n",
       "      <td>75756</td>\n",
       "      <td>Residential</td>\n",
       "      <td>23888.0</td>\n",
       "      <td>1974.0</td>\n",
       "      <td>107.69</td>\n",
       "      <td>28.8</td>\n",
       "      <td>49.127397</td>\n",
       "      <td>29.15</td>\n",
       "    </tr>\n",
       "  </tbody>\n",
       "</table>\n",
       "<p>75757 rows × 8 columns</p>\n",
       "</div>"
      ],
      "text/plain": [
       "          id building_class  floor_area  year_built  precipitation_inches  \\\n",
       "0          0     Commercial     61242.0      1942.0                 16.59   \n",
       "1          1     Commercial    274000.0      1955.0                 16.59   \n",
       "2          2     Commercial    280025.0      1951.0                 16.59   \n",
       "3          3     Commercial     55325.0      1980.0                 16.59   \n",
       "4          4     Commercial     66000.0      1985.0                 16.59   \n",
       "...      ...            ...         ...         ...                   ...   \n",
       "75752  75752     Commercial     20410.0      1995.0                 45.03   \n",
       "75753  75753    Residential     40489.0      1910.0                 45.03   \n",
       "75754  75754     Commercial     28072.0      1917.0                106.32   \n",
       "75755  75755     Commercial     53575.0      2012.0                106.32   \n",
       "75756  75756    Residential     23888.0      1974.0                107.69   \n",
       "\n",
       "       snowfall_inches   avg_temp  site_eui  \n",
       "0                  0.0  56.972603    248.68  \n",
       "1                  0.0  56.972603     26.50  \n",
       "2                  0.0  56.972603     24.69  \n",
       "3                  0.0  56.972603     48.41  \n",
       "4                  0.0  56.972603      3.90  \n",
       "...                ...        ...       ...  \n",
       "75752              1.4  55.147541    132.92  \n",
       "75753              1.4  55.147541     39.48  \n",
       "75754             36.6  47.911202     48.40  \n",
       "75755             36.6  47.911202    592.02  \n",
       "75756             28.8  49.127397     29.15  \n",
       "\n",
       "[75757 rows x 8 columns]"
      ]
     },
     "execution_count": 87,
     "metadata": {},
     "output_type": "execute_result"
    }
   ],
   "source": [
    "data"
   ]
  },
  {
   "cell_type": "markdown",
   "id": "7c959e6a",
   "metadata": {},
   "source": [
    "## 7. Encode categorical variables; you can use label coding or hot encoding, or..."
   ]
  },
  {
   "cell_type": "code",
   "execution_count": 89,
   "id": "49c7bc1d",
   "metadata": {},
   "outputs": [
    {
     "data": {
      "text/html": [
       "<div>\n",
       "<style scoped>\n",
       "    .dataframe tbody tr th:only-of-type {\n",
       "        vertical-align: middle;\n",
       "    }\n",
       "\n",
       "    .dataframe tbody tr th {\n",
       "        vertical-align: top;\n",
       "    }\n",
       "\n",
       "    .dataframe thead th {\n",
       "        text-align: right;\n",
       "    }\n",
       "</style>\n",
       "<table border=\"1\" class=\"dataframe\">\n",
       "  <thead>\n",
       "    <tr style=\"text-align: right;\">\n",
       "      <th></th>\n",
       "      <th>id</th>\n",
       "      <th>building_class</th>\n",
       "      <th>floor_area</th>\n",
       "      <th>year_built</th>\n",
       "      <th>precipitation_inches</th>\n",
       "      <th>snowfall_inches</th>\n",
       "      <th>avg_temp</th>\n",
       "      <th>site_eui</th>\n",
       "    </tr>\n",
       "  </thead>\n",
       "  <tbody>\n",
       "    <tr>\n",
       "      <th>0</th>\n",
       "      <td>0</td>\n",
       "      <td>1</td>\n",
       "      <td>61242.0</td>\n",
       "      <td>1942.0</td>\n",
       "      <td>16.59</td>\n",
       "      <td>0.0</td>\n",
       "      <td>56.972603</td>\n",
       "      <td>248.68</td>\n",
       "    </tr>\n",
       "    <tr>\n",
       "      <th>1</th>\n",
       "      <td>1</td>\n",
       "      <td>1</td>\n",
       "      <td>274000.0</td>\n",
       "      <td>1955.0</td>\n",
       "      <td>16.59</td>\n",
       "      <td>0.0</td>\n",
       "      <td>56.972603</td>\n",
       "      <td>26.50</td>\n",
       "    </tr>\n",
       "    <tr>\n",
       "      <th>2</th>\n",
       "      <td>2</td>\n",
       "      <td>1</td>\n",
       "      <td>280025.0</td>\n",
       "      <td>1951.0</td>\n",
       "      <td>16.59</td>\n",
       "      <td>0.0</td>\n",
       "      <td>56.972603</td>\n",
       "      <td>24.69</td>\n",
       "    </tr>\n",
       "    <tr>\n",
       "      <th>3</th>\n",
       "      <td>3</td>\n",
       "      <td>1</td>\n",
       "      <td>55325.0</td>\n",
       "      <td>1980.0</td>\n",
       "      <td>16.59</td>\n",
       "      <td>0.0</td>\n",
       "      <td>56.972603</td>\n",
       "      <td>48.41</td>\n",
       "    </tr>\n",
       "    <tr>\n",
       "      <th>4</th>\n",
       "      <td>4</td>\n",
       "      <td>1</td>\n",
       "      <td>66000.0</td>\n",
       "      <td>1985.0</td>\n",
       "      <td>16.59</td>\n",
       "      <td>0.0</td>\n",
       "      <td>56.972603</td>\n",
       "      <td>3.90</td>\n",
       "    </tr>\n",
       "    <tr>\n",
       "      <th>...</th>\n",
       "      <td>...</td>\n",
       "      <td>...</td>\n",
       "      <td>...</td>\n",
       "      <td>...</td>\n",
       "      <td>...</td>\n",
       "      <td>...</td>\n",
       "      <td>...</td>\n",
       "      <td>...</td>\n",
       "    </tr>\n",
       "    <tr>\n",
       "      <th>75752</th>\n",
       "      <td>75752</td>\n",
       "      <td>1</td>\n",
       "      <td>20410.0</td>\n",
       "      <td>1995.0</td>\n",
       "      <td>45.03</td>\n",
       "      <td>1.4</td>\n",
       "      <td>55.147541</td>\n",
       "      <td>132.92</td>\n",
       "    </tr>\n",
       "    <tr>\n",
       "      <th>75753</th>\n",
       "      <td>75753</td>\n",
       "      <td>0</td>\n",
       "      <td>40489.0</td>\n",
       "      <td>1910.0</td>\n",
       "      <td>45.03</td>\n",
       "      <td>1.4</td>\n",
       "      <td>55.147541</td>\n",
       "      <td>39.48</td>\n",
       "    </tr>\n",
       "    <tr>\n",
       "      <th>75754</th>\n",
       "      <td>75754</td>\n",
       "      <td>1</td>\n",
       "      <td>28072.0</td>\n",
       "      <td>1917.0</td>\n",
       "      <td>106.32</td>\n",
       "      <td>36.6</td>\n",
       "      <td>47.911202</td>\n",
       "      <td>48.40</td>\n",
       "    </tr>\n",
       "    <tr>\n",
       "      <th>75755</th>\n",
       "      <td>75755</td>\n",
       "      <td>1</td>\n",
       "      <td>53575.0</td>\n",
       "      <td>2012.0</td>\n",
       "      <td>106.32</td>\n",
       "      <td>36.6</td>\n",
       "      <td>47.911202</td>\n",
       "      <td>592.02</td>\n",
       "    </tr>\n",
       "    <tr>\n",
       "      <th>75756</th>\n",
       "      <td>75756</td>\n",
       "      <td>0</td>\n",
       "      <td>23888.0</td>\n",
       "      <td>1974.0</td>\n",
       "      <td>107.69</td>\n",
       "      <td>28.8</td>\n",
       "      <td>49.127397</td>\n",
       "      <td>29.15</td>\n",
       "    </tr>\n",
       "  </tbody>\n",
       "</table>\n",
       "<p>75757 rows × 8 columns</p>\n",
       "</div>"
      ],
      "text/plain": [
       "          id  building_class  floor_area  year_built  precipitation_inches  \\\n",
       "0          0               1     61242.0      1942.0                 16.59   \n",
       "1          1               1    274000.0      1955.0                 16.59   \n",
       "2          2               1    280025.0      1951.0                 16.59   \n",
       "3          3               1     55325.0      1980.0                 16.59   \n",
       "4          4               1     66000.0      1985.0                 16.59   \n",
       "...      ...             ...         ...         ...                   ...   \n",
       "75752  75752               1     20410.0      1995.0                 45.03   \n",
       "75753  75753               0     40489.0      1910.0                 45.03   \n",
       "75754  75754               1     28072.0      1917.0                106.32   \n",
       "75755  75755               1     53575.0      2012.0                106.32   \n",
       "75756  75756               0     23888.0      1974.0                107.69   \n",
       "\n",
       "       snowfall_inches   avg_temp  site_eui  \n",
       "0                  0.0  56.972603    248.68  \n",
       "1                  0.0  56.972603     26.50  \n",
       "2                  0.0  56.972603     24.69  \n",
       "3                  0.0  56.972603     48.41  \n",
       "4                  0.0  56.972603      3.90  \n",
       "...                ...        ...       ...  \n",
       "75752              1.4  55.147541    132.92  \n",
       "75753              1.4  55.147541     39.48  \n",
       "75754             36.6  47.911202     48.40  \n",
       "75755             36.6  47.911202    592.02  \n",
       "75756             28.8  49.127397     29.15  \n",
       "\n",
       "[75757 rows x 8 columns]"
      ]
     },
     "execution_count": 89,
     "metadata": {},
     "output_type": "execute_result"
    }
   ],
   "source": [
    "data.replace(('Commercial', 'Residential'), (1, 0), inplace=True) \n",
    "data"
   ]
  },
  {
   "cell_type": "markdown",
   "id": "b75a5f6b",
   "metadata": {},
   "source": [
    "## 8. Create a boxplot and show the outlier"
   ]
  },
  {
   "cell_type": "code",
   "execution_count": 99,
   "id": "c0ad2ee3",
   "metadata": {},
   "outputs": [
    {
     "ename": "TypeError",
     "evalue": "list indices must be integers or slices, not str",
     "output_type": "error",
     "traceback": [
      "\u001b[0;31m---------------------------------------------------------------------------\u001b[0m",
      "\u001b[0;31mTypeError\u001b[0m                                 Traceback (most recent call last)",
      "Cell \u001b[0;32mIn [99], line 1\u001b[0m\n\u001b[0;32m----> 1\u001b[0m data_1 \u001b[38;5;241m=\u001b[39m \u001b[43mdata\u001b[49m\u001b[43m[\u001b[49m\u001b[38;5;124;43m'\u001b[39;49m\u001b[38;5;124;43mfloor_area\u001b[39;49m\u001b[38;5;124;43m'\u001b[39;49m\u001b[43m]\u001b[49m\n\u001b[1;32m      2\u001b[0m data_2 \u001b[38;5;241m=\u001b[39m data[\u001b[38;5;124m'\u001b[39m\u001b[38;5;124myear_built\u001b[39m\u001b[38;5;124m'\u001b[39m]\n\u001b[1;32m      3\u001b[0m data_3 \u001b[38;5;241m=\u001b[39m data[\u001b[38;5;124m'\u001b[39m\u001b[38;5;124mprecipitation_inches\u001b[39m\u001b[38;5;124m'\u001b[39m]\n",
      "\u001b[0;31mTypeError\u001b[0m: list indices must be integers or slices, not str"
     ]
    }
   ],
   "source": [
    "data_1 = data['floor_area']\n",
    "data_2 = data['year_built']\n",
    "data_3 = data['precipitation_inches']\n",
    "data_4 = data['snowfall_inches']\n",
    "data_5 = data['avg_temp'] \n",
    "data_6 = data['site_eui'] "
   ]
  },
  {
   "cell_type": "code",
   "execution_count": 100,
   "id": "5942ef23",
   "metadata": {},
   "outputs": [
    {
     "data": {
      "image/png": "[encoded data removed]",
      "text/plain": [
       "<Figure size 1000x700 with 1 Axes>"
      ]
     },
     "metadata": {},
     "output_type": "display_data"
    }
   ],
   "source": [
    "fig = plt.figure(figsize =(10, 7))\n",
    "ax = fig.add_subplot(111)\n",
    " \n",
    "# Creating axes instance\n",
    "bp = ax.boxplot(data_1, patch_artist = True,\n",
    "                notch ='True', vert = 0)\n",
    " \n",
    "for median in bp['medians']:\n",
    "    median.set(color ='red',\n",
    "               linewidth = 3)\n",
    " # x-axis labels\n",
    "ax.set_yticklabels(['Floor Area'])\n",
    " \n",
    "# Adding title\n",
    "plt.title(\"Floor area boxplot\")\n",
    " \n",
    "# Removing top axes and right axes\n",
    "ax.get_xaxis().tick_bottom()\n",
    "ax.get_yaxis().tick_left()\n",
    "     \n",
    "# show plot\n",
    "plt.show()"
   ]
  },
  {
   "cell_type": "code",
   "execution_count": 101,
   "id": "d098d7d4",
   "metadata": {},
   "outputs": [
    {
     "data": {
      "image/png": "[encoded data removed]",
      "text/plain": [
       "<Figure size 1000x700 with 1 Axes>"
      ]
     },
     "metadata": {},
     "output_type": "display_data"
    }
   ],
   "source": [
    "fig = plt.figure(figsize =(10, 7))\n",
    "ax = fig.add_subplot(111)\n",
    " \n",
    "# Creating axes instance\n",
    "bp = ax.boxplot(data_2, patch_artist = True,\n",
    "                notch ='True', vert = 0)\n",
    " \n",
    "for median in bp['medians']:\n",
    "    median.set(color ='red',\n",
    "               linewidth = 3)\n",
    " # x-axis labels\n",
    "ax.set_yticklabels(['Year Built'])\n",
    " \n",
    "# Adding title\n",
    "plt.title(\"Year Boxplot\")\n",
    " \n",
    "# Removing top axes and right axes\n",
    "ax.get_xaxis().tick_bottom()\n",
    "ax.get_yaxis().tick_left()\n",
    "     \n",
    "# show plot\n",
    "plt.show()"
   ]
  },
  {
   "cell_type": "code",
   "execution_count": 102,
   "id": "902013fd",
   "metadata": {},
   "outputs": [
    {
     "data": {
      "image/png": "[encoded data removed]",
      "text/plain": [
       "<Figure size 1000x700 with 1 Axes>"
      ]
     },
     "metadata": {},
     "output_type": "display_data"
    }
   ],
   "source": [
    "fig = plt.figure(figsize =(10, 7))\n",
    "ax = fig.add_subplot(111)\n",
    " \n",
    "# Creating axes instance\n",
    "bp = ax.boxplot(data_3, patch_artist = True,\n",
    "                notch ='True', vert = 0)\n",
    " \n",
    "for median in bp['medians']:\n",
    "    median.set(color ='red',\n",
    "               linewidth = 3)\n",
    " # x-axis labels\n",
    "ax.set_yticklabels(['Rain Inches'])\n",
    " \n",
    "# Adding title\n",
    "plt.title(\"Rain Boxplot\")\n",
    " \n",
    "# Removing top axes and right axes\n",
    "ax.get_xaxis().tick_bottom()\n",
    "ax.get_yaxis().tick_left()\n",
    "     \n",
    "# show plot\n",
    "plt.show()"
   ]
  },
  {
   "cell_type": "code",
   "execution_count": 103,
   "id": "f4bbbd7d",
   "metadata": {},
   "outputs": [
    {
     "data": {
      "image/png": "[encoded data removed]",
      "text/plain": [
       "<Figure size 1000x700 with 1 Axes>"
      ]
     },
     "metadata": {},
     "output_type": "display_data"
    }
   ],
   "source": [
    "fig = plt.figure(figsize =(10, 7))\n",
    "ax = fig.add_subplot(111)\n",
    " \n",
    "# Creating axes instance\n",
    "bp = ax.boxplot(data_4, patch_artist = True,\n",
    "                notch ='True', vert = 0)\n",
    " \n",
    "for median in bp['medians']:\n",
    "    median.set(color ='red',\n",
    "               linewidth = 3)\n",
    " # x-axis labels\n",
    "ax.set_yticklabels(['Snow Inches'])\n",
    " \n",
    "# Adding title\n",
    "plt.title(\"Snow Boxplot\")\n",
    " \n",
    "# Removing top axes and right axes\n",
    "ax.get_xaxis().tick_bottom()\n",
    "ax.get_yaxis().tick_left()\n",
    "     \n",
    "# show plot\n",
    "plt.show()"
   ]
  },
  {
   "cell_type": "code",
   "execution_count": 104,
   "id": "1c297310",
   "metadata": {},
   "outputs": [
    {
     "data": {
      "image/png": "[encoded data removed]",
      "text/plain": [
       "<Figure size 1000x700 with 1 Axes>"
      ]
     },
     "metadata": {},
     "output_type": "display_data"
    }
   ],
   "source": [
    "fig = plt.figure(figsize =(10, 7))\n",
    "ax = fig.add_subplot(111)\n",
    " \n",
    "# Creating axes instance\n",
    "bp = ax.boxplot(data_5, patch_artist = True,\n",
    "                notch ='True', vert = 0)\n",
    " \n",
    "for median in bp['medians']:\n",
    "    median.set(color ='red',\n",
    "               linewidth = 3)\n",
    " # x-axis labels\n",
    "ax.set_yticklabels(['Avg temp'])\n",
    " \n",
    "# Adding title\n",
    "plt.title(\"Avg Temp Boxplot\")\n",
    " \n",
    "# Removing top axes and right axes\n",
    "ax.get_xaxis().tick_bottom()\n",
    "ax.get_yaxis().tick_left()\n",
    "     \n",
    "# show plot\n",
    "plt.show()"
   ]
  },
  {
   "cell_type": "code",
   "execution_count": 105,
   "id": "e2af0971",
   "metadata": {},
   "outputs": [
    {
     "data": {
      "image/png": "[encoded data removed]",
      "text/plain": [
       "<Figure size 1000x700 with 1 Axes>"
      ]
     },
     "metadata": {},
     "output_type": "display_data"
    }
   ],
   "source": [
    "fig = plt.figure(figsize =(10, 7))\n",
    "ax = fig.add_subplot(111)\n",
    " \n",
    "# Creating axes instance\n",
    "bp = ax.boxplot(data_6, patch_artist = True,\n",
    "                notch ='True', vert = 0)\n",
    " \n",
    "for median in bp['medians']:\n",
    "    median.set(color ='red',\n",
    "               linewidth = 3)\n",
    " # x-axis labels\n",
    "ax.set_yticklabels(['EUI'])\n",
    " \n",
    "# Adding title\n",
    "plt.title(\"EUI Boxplot\")\n",
    " \n",
    "# Removing top axes and right axes\n",
    "ax.get_xaxis().tick_bottom()\n",
    "ax.get_yaxis().tick_left()\n",
    "     \n",
    "# show plot\n",
    "plt.show()"
   ]
  },
  {
   "cell_type": "markdown",
   "id": "aebb2ade",
   "metadata": {},
   "source": [
    "## 9. Create a histogram and check the outlier"
   ]
  },
  {
   "cell_type": "code",
   "execution_count": 106,
   "id": "b8642a32",
   "metadata": {
    "scrolled": true
   },
   "outputs": [
    {
     "data": {
      "image/png": "[encoded data removed]",
      "text/plain": [
       "<Figure size 640x480 with 1 Axes>"
      ]
     },
     "metadata": {},
     "output_type": "display_data"
    },
    {
     "data": {
      "image/png": "[encoded data removed]",
      "text/plain": [
       "<Figure size 640x480 with 1 Axes>"
      ]
     },
     "metadata": {},
     "output_type": "display_data"
    },
    {
     "data": {
      "image/png": "[encoded data removed]",
      "text/plain": [
       "<Figure size 640x480 with 1 Axes>"
      ]
     },
     "metadata": {},
     "output_type": "display_data"
    },
    {
     "data": {
      "image/png": "[encoded data removed]",
      "text/plain": [
       "<Figure size 640x480 with 1 Axes>"
      ]
     },
     "metadata": {},
     "output_type": "display_data"
    },
    {
     "data": {
      "image/png": "[encoded data removed]",
      "text/plain": [
       "<Figure size 640x480 with 1 Axes>"
      ]
     },
     "metadata": {},
     "output_type": "display_data"
    },
    {
     "data": {
      "image/png": "[encoded data removed]",
      "text/plain": [
       "<Figure size 640x480 with 1 Axes>"
      ]
     },
     "metadata": {},
     "output_type": "display_data"
    }
   ],
   "source": [
    "plt.hist(data_1, bins = 15)\n",
    "plt.show()\n",
    "plt.hist(data_2, bins = 15)\n",
    "plt.show()\n",
    "plt.hist(data_3, bins = 15)\n",
    "plt.show()\n",
    "plt.hist(data_4, bins = 15)\n",
    "plt.show()\n",
    "plt.hist(data_5, bins = 15)\n",
    "plt.show()\n",
    "plt.hist(data_6, bins = 15)\n",
    "plt.show()"
   ]
  },
  {
   "cell_type": "markdown",
   "id": "609ca7aa",
   "metadata": {},
   "source": [
    "## 10. If feature scaling is needed, please do it."
   ]
  },
  {
   "cell_type": "code",
   "execution_count": null,
   "id": "3331c848",
   "metadata": {},
   "outputs": [],
   "source": []
  }
 ],
 "metadata": {
  "kernelspec": {
   "display_name": "Python 3 (ipykernel)",
   "language": "python",
   "name": "python3"
  },
  "language_info": {
   "codemirror_mode": {
    "name": "ipython",
    "version": 3
   },
   "file_extension": ".py",
   "mimetype": "text/x-python",
   "name": "python",
   "nbconvert_exporter": "python",
   "pygments_lexer": "ipython3",
   "version": "3.10.8"
  }
 },
 "nbformat": 4,
 "nbformat_minor": 5
}
