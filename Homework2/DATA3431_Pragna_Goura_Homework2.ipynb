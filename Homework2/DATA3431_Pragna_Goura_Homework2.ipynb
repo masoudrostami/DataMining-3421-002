{
 "cells": [
  {
   "cell_type": "code",
   "execution_count": 2,
   "id": "837b93a5",
   "metadata": {},
   "outputs": [
    {
     "data": {
      "text/html": [
       "<div>\n",
       "<style scoped>\n",
       "    .dataframe tbody tr th:only-of-type {\n",
       "        vertical-align: middle;\n",
       "    }\n",
       "\n",
       "    .dataframe tbody tr th {\n",
       "        vertical-align: top;\n",
       "    }\n",
       "\n",
       "    .dataframe thead th {\n",
       "        text-align: right;\n",
       "    }\n",
       "</style>\n",
       "<table border=\"1\" class=\"dataframe\">\n",
       "  <thead>\n",
       "    <tr style=\"text-align: right;\">\n",
       "      <th></th>\n",
       "      <th>id</th>\n",
       "      <th>building id</th>\n",
       "    </tr>\n",
       "  </thead>\n",
       "  <tbody>\n",
       "    <tr>\n",
       "      <th>0</th>\n",
       "      <td>building_class</td>\n",
       "      <td>building classification</td>\n",
       "    </tr>\n",
       "    <tr>\n",
       "      <th>1</th>\n",
       "      <td>floor_area</td>\n",
       "      <td>floor area (in square feet) of the building</td>\n",
       "    </tr>\n",
       "    <tr>\n",
       "      <th>2</th>\n",
       "      <td>year_built</td>\n",
       "      <td>year in which the building was constructed</td>\n",
       "    </tr>\n",
       "    <tr>\n",
       "      <th>3</th>\n",
       "      <td>precipitation_inches</td>\n",
       "      <td>annual precipitation in inches at the location...</td>\n",
       "    </tr>\n",
       "    <tr>\n",
       "      <th>4</th>\n",
       "      <td>snowfall_inches</td>\n",
       "      <td>annual snowfall in inches at the location of t...</td>\n",
       "    </tr>\n",
       "    <tr>\n",
       "      <th>5</th>\n",
       "      <td>avg_temp</td>\n",
       "      <td>average temperature over a year at the locatio...</td>\n",
       "    </tr>\n",
       "    <tr>\n",
       "      <th>6</th>\n",
       "      <td>days_with_fog</td>\n",
       "      <td>number of days with fog at the location of the...</td>\n",
       "    </tr>\n",
       "    <tr>\n",
       "      <th>7</th>\n",
       "      <td>eui</td>\n",
       "      <td>Site Energy Usage Intensity is the amount of h...</td>\n",
       "    </tr>\n",
       "  </tbody>\n",
       "</table>\n",
       "</div>"
      ],
      "text/plain": [
       "                     id                                        building id\n",
       "0        building_class                            building classification\n",
       "1            floor_area        floor area (in square feet) of the building\n",
       "2            year_built         year in which the building was constructed\n",
       "3  precipitation_inches  annual precipitation in inches at the location...\n",
       "4       snowfall_inches  annual snowfall in inches at the location of t...\n",
       "5              avg_temp  average temperature over a year at the locatio...\n",
       "6         days_with_fog  number of days with fog at the location of the...\n",
       "7                   eui  Site Energy Usage Intensity is the amount of h..."
      ]
     },
     "execution_count": 2,
     "metadata": {},
     "output_type": "execute_result"
    }
   ],
   "source": [
    "import pandas as pd\n",
    "import numpy as np\n",
    "import math\n",
    "import matplotlib\n",
    "import matplotlib.pyplot as plt\n",
    "\n",
    "id_data = pd.read_csv('Metadata.csv')\n",
    "id_data"
   ]
  },
  {
   "cell_type": "code",
   "execution_count": 3,
   "id": "c6674d3d",
   "metadata": {},
   "outputs": [
    {
     "name": "stderr",
     "output_type": "stream",
     "text": [
      "IOPub data rate exceeded.\n",
      "The notebook server will temporarily stop sending output\n",
      "to the client in order to avoid crashing it.\n",
      "To change this limit, set the config variable\n",
      "`--NotebookApp.iopub_data_rate_limit`.\n",
      "\n",
      "Current values:\n",
      "NotebookApp.iopub_data_rate_limit=1000000.0 (bytes/sec)\n",
      "NotebookApp.rate_limit_window=3.0 (secs)\n",
      "\n"
     ]
    }
   ],
   "source": [
    "print(open('ClimateData.csv', 'r').read())"
   ]
  },
  {
   "cell_type": "code",
   "execution_count": 4,
   "id": "5a094695",
   "metadata": {},
   "outputs": [
    {
     "data": {
      "text/html": [
       "<div>\n",
       "<style scoped>\n",
       "    .dataframe tbody tr th:only-of-type {\n",
       "        vertical-align: middle;\n",
       "    }\n",
       "\n",
       "    .dataframe tbody tr th {\n",
       "        vertical-align: top;\n",
       "    }\n",
       "\n",
       "    .dataframe thead th {\n",
       "        text-align: right;\n",
       "    }\n",
       "</style>\n",
       "<table border=\"1\" class=\"dataframe\">\n",
       "  <thead>\n",
       "    <tr style=\"text-align: right;\">\n",
       "      <th></th>\n",
       "      <th>id</th>\n",
       "      <th>building_class</th>\n",
       "      <th>floor_area</th>\n",
       "      <th>year_built</th>\n",
       "      <th>precipitation_inches</th>\n",
       "      <th>snowfall_inches</th>\n",
       "      <th>avg_temp</th>\n",
       "      <th>days_with_fog</th>\n",
       "      <th>site_eui</th>\n",
       "    </tr>\n",
       "  </thead>\n",
       "  <tbody>\n",
       "    <tr>\n",
       "      <th>0</th>\n",
       "      <td>0</td>\n",
       "      <td>Commercial</td>\n",
       "      <td>61242.0</td>\n",
       "      <td>1942.0</td>\n",
       "      <td>16.59</td>\n",
       "      <td>0.0</td>\n",
       "      <td>56.972603</td>\n",
       "      <td>NaN</td>\n",
       "      <td>248.68</td>\n",
       "    </tr>\n",
       "    <tr>\n",
       "      <th>1</th>\n",
       "      <td>1</td>\n",
       "      <td>Commercial</td>\n",
       "      <td>274000.0</td>\n",
       "      <td>1955.0</td>\n",
       "      <td>16.59</td>\n",
       "      <td>0.0</td>\n",
       "      <td>56.972603</td>\n",
       "      <td>12.0</td>\n",
       "      <td>26.50</td>\n",
       "    </tr>\n",
       "    <tr>\n",
       "      <th>2</th>\n",
       "      <td>2</td>\n",
       "      <td>Commercial</td>\n",
       "      <td>280025.0</td>\n",
       "      <td>1951.0</td>\n",
       "      <td>16.59</td>\n",
       "      <td>0.0</td>\n",
       "      <td>56.972603</td>\n",
       "      <td>12.0</td>\n",
       "      <td>24.69</td>\n",
       "    </tr>\n",
       "    <tr>\n",
       "      <th>3</th>\n",
       "      <td>3</td>\n",
       "      <td>Commercial</td>\n",
       "      <td>55325.0</td>\n",
       "      <td>1980.0</td>\n",
       "      <td>16.59</td>\n",
       "      <td>0.0</td>\n",
       "      <td>56.972603</td>\n",
       "      <td>12.0</td>\n",
       "      <td>48.41</td>\n",
       "    </tr>\n",
       "    <tr>\n",
       "      <th>4</th>\n",
       "      <td>4</td>\n",
       "      <td>Commercial</td>\n",
       "      <td>66000.0</td>\n",
       "      <td>1985.0</td>\n",
       "      <td>16.59</td>\n",
       "      <td>0.0</td>\n",
       "      <td>56.972603</td>\n",
       "      <td>NaN</td>\n",
       "      <td>3.90</td>\n",
       "    </tr>\n",
       "    <tr>\n",
       "      <th>...</th>\n",
       "      <td>...</td>\n",
       "      <td>...</td>\n",
       "      <td>...</td>\n",
       "      <td>...</td>\n",
       "      <td>...</td>\n",
       "      <td>...</td>\n",
       "      <td>...</td>\n",
       "      <td>...</td>\n",
       "      <td>...</td>\n",
       "    </tr>\n",
       "    <tr>\n",
       "      <th>75752</th>\n",
       "      <td>75752</td>\n",
       "      <td>Commercial</td>\n",
       "      <td>20410.0</td>\n",
       "      <td>1995.0</td>\n",
       "      <td>45.03</td>\n",
       "      <td>1.4</td>\n",
       "      <td>55.147541</td>\n",
       "      <td>NaN</td>\n",
       "      <td>132.92</td>\n",
       "    </tr>\n",
       "    <tr>\n",
       "      <th>75753</th>\n",
       "      <td>75753</td>\n",
       "      <td>Residential</td>\n",
       "      <td>40489.0</td>\n",
       "      <td>1910.0</td>\n",
       "      <td>45.03</td>\n",
       "      <td>1.4</td>\n",
       "      <td>55.147541</td>\n",
       "      <td>NaN</td>\n",
       "      <td>39.48</td>\n",
       "    </tr>\n",
       "    <tr>\n",
       "      <th>75754</th>\n",
       "      <td>75754</td>\n",
       "      <td>Commercial</td>\n",
       "      <td>28072.0</td>\n",
       "      <td>1917.0</td>\n",
       "      <td>106.32</td>\n",
       "      <td>36.6</td>\n",
       "      <td>47.911202</td>\n",
       "      <td>NaN</td>\n",
       "      <td>48.40</td>\n",
       "    </tr>\n",
       "    <tr>\n",
       "      <th>75755</th>\n",
       "      <td>75755</td>\n",
       "      <td>Commercial</td>\n",
       "      <td>53575.0</td>\n",
       "      <td>2012.0</td>\n",
       "      <td>106.32</td>\n",
       "      <td>36.6</td>\n",
       "      <td>47.911202</td>\n",
       "      <td>NaN</td>\n",
       "      <td>592.02</td>\n",
       "    </tr>\n",
       "    <tr>\n",
       "      <th>75756</th>\n",
       "      <td>75756</td>\n",
       "      <td>Residential</td>\n",
       "      <td>23888.0</td>\n",
       "      <td>1974.0</td>\n",
       "      <td>107.69</td>\n",
       "      <td>28.8</td>\n",
       "      <td>49.127397</td>\n",
       "      <td>NaN</td>\n",
       "      <td>29.15</td>\n",
       "    </tr>\n",
       "  </tbody>\n",
       "</table>\n",
       "<p>75757 rows × 9 columns</p>\n",
       "</div>"
      ],
      "text/plain": [
       "          id building_class  floor_area  year_built  precipitation_inches  \\\n",
       "0          0     Commercial     61242.0      1942.0                 16.59   \n",
       "1          1     Commercial    274000.0      1955.0                 16.59   \n",
       "2          2     Commercial    280025.0      1951.0                 16.59   \n",
       "3          3     Commercial     55325.0      1980.0                 16.59   \n",
       "4          4     Commercial     66000.0      1985.0                 16.59   \n",
       "...      ...            ...         ...         ...                   ...   \n",
       "75752  75752     Commercial     20410.0      1995.0                 45.03   \n",
       "75753  75753    Residential     40489.0      1910.0                 45.03   \n",
       "75754  75754     Commercial     28072.0      1917.0                106.32   \n",
       "75755  75755     Commercial     53575.0      2012.0                106.32   \n",
       "75756  75756    Residential     23888.0      1974.0                107.69   \n",
       "\n",
       "       snowfall_inches   avg_temp  days_with_fog  site_eui  \n",
       "0                  0.0  56.972603            NaN    248.68  \n",
       "1                  0.0  56.972603           12.0     26.50  \n",
       "2                  0.0  56.972603           12.0     24.69  \n",
       "3                  0.0  56.972603           12.0     48.41  \n",
       "4                  0.0  56.972603            NaN      3.90  \n",
       "...                ...        ...            ...       ...  \n",
       "75752              1.4  55.147541            NaN    132.92  \n",
       "75753              1.4  55.147541            NaN     39.48  \n",
       "75754             36.6  47.911202            NaN     48.40  \n",
       "75755             36.6  47.911202            NaN    592.02  \n",
       "75756             28.8  49.127397            NaN     29.15  \n",
       "\n",
       "[75757 rows x 9 columns]"
      ]
     },
     "execution_count": 4,
     "metadata": {},
     "output_type": "execute_result"
    }
   ],
   "source": [
    "data = pd.read_csv('ClimateData.csv')\n",
    "data"
   ]
  },
  {
   "cell_type": "markdown",
   "id": "95da426b",
   "metadata": {},
   "source": [
    "# 1.\n",
    "Take a look at the data types and summary of our variables."
   ]
  },
  {
   "cell_type": "code",
   "execution_count": 5,
   "id": "d8dc8a64",
   "metadata": {},
   "outputs": [
    {
     "name": "stdout",
     "output_type": "stream",
     "text": [
      "<class 'pandas.core.frame.DataFrame'>\n",
      "RangeIndex: 75757 entries, 0 to 75756\n",
      "Data columns (total 9 columns):\n",
      " #   Column                Non-Null Count  Dtype  \n",
      "---  ------                --------------  -----  \n",
      " 0   id                    75757 non-null  int64  \n",
      " 1   building_class        75757 non-null  object \n",
      " 2   floor_area            75757 non-null  float64\n",
      " 3   year_built            73920 non-null  float64\n",
      " 4   precipitation_inches  75757 non-null  float64\n",
      " 5   snowfall_inches       75757 non-null  float64\n",
      " 6   avg_temp              75757 non-null  float64\n",
      " 7   days_with_fog         29961 non-null  float64\n",
      " 8   site_eui              75757 non-null  float64\n",
      "dtypes: float64(7), int64(1), object(1)\n",
      "memory usage: 5.2+ MB\n"
     ]
    }
   ],
   "source": [
    "data.info()"
   ]
  },
  {
   "cell_type": "markdown",
   "id": "0eb683b9",
   "metadata": {},
   "source": [
    "# 2.\n",
    "Summarize the number of unique values in each column."
   ]
  },
  {
   "cell_type": "code",
   "execution_count": 6,
   "id": "a2b0eb4c",
   "metadata": {},
   "outputs": [
    {
     "data": {
      "text/plain": [
       "0        1\n",
       "50493    1\n",
       "50509    1\n",
       "50508    1\n",
       "50507    1\n",
       "        ..\n",
       "25252    1\n",
       "25251    1\n",
       "25250    1\n",
       "25249    1\n",
       "75756    1\n",
       "Name: id, Length: 75757, dtype: int64"
      ]
     },
     "execution_count": 6,
     "metadata": {},
     "output_type": "execute_result"
    }
   ],
   "source": [
    "pd.value_counts(data['id'])"
   ]
  },
  {
   "cell_type": "code",
   "execution_count": 7,
   "id": "026059e1",
   "metadata": {},
   "outputs": [
    {
     "data": {
      "text/plain": [
       "Residential    43558\n",
       "Commercial     32199\n",
       "Name: building_class, dtype: int64"
      ]
     },
     "execution_count": 7,
     "metadata": {},
     "output_type": "execute_result"
    }
   ],
   "source": [
    "pd.value_counts(data['building_class'])"
   ]
  },
  {
   "cell_type": "code",
   "execution_count": 8,
   "id": "446bc0d1",
   "metadata": {},
   "outputs": [
    {
     "data": {
      "text/plain": [
       "60000.0     264\n",
       "70000.0     213\n",
       "80000.0     176\n",
       "75000.0     173\n",
       "72000.0     173\n",
       "           ... \n",
       "450500.0      1\n",
       "354100.0      1\n",
       "123290.0      1\n",
       "133280.0      1\n",
       "40489.0       1\n",
       "Name: floor_area, Length: 20433, dtype: int64"
      ]
     },
     "execution_count": 8,
     "metadata": {},
     "output_type": "execute_result"
    }
   ],
   "source": [
    "pd.value_counts(data['floor_area'])"
   ]
  },
  {
   "cell_type": "code",
   "execution_count": 9,
   "id": "c515fd3b",
   "metadata": {},
   "outputs": [
    {
     "data": {
      "text/plain": [
       "1927.0    2064\n",
       "1929.0    1999\n",
       "1928.0    1979\n",
       "1930.0    1811\n",
       "1925.0    1710\n",
       "          ... \n",
       "1878.0       1\n",
       "1829.0       1\n",
       "1844.0       1\n",
       "1871.0       1\n",
       "1815.0       1\n",
       "Name: year_built, Length: 180, dtype: int64"
      ]
     },
     "execution_count": 9,
     "metadata": {},
     "output_type": "execute_result"
    }
   ],
   "source": [
    "pd.value_counts(data['year_built'])"
   ]
  },
  {
   "cell_type": "code",
   "execution_count": 10,
   "id": "2048a348",
   "metadata": {},
   "outputs": [
    {
     "data": {
      "text/plain": [
       "42.17    13015\n",
       "40.97    10144\n",
       "53.79     9267\n",
       "38.51     8362\n",
       "46.32     8296\n",
       "         ...  \n",
       "3.02         1\n",
       "77.19        1\n",
       "63.43        1\n",
       "29.97        1\n",
       "41.11        1\n",
       "Name: precipitation_inches, Length: 171, dtype: int64"
      ]
     },
     "execution_count": 10,
     "metadata": {},
     "output_type": "execute_result"
    }
   ],
   "source": [
    "pd.value_counts(data['precipitation_inches'])"
   ]
  },
  {
   "cell_type": "code",
   "execution_count": 11,
   "id": "281c742e",
   "metadata": {},
   "outputs": [
    {
     "data": {
      "text/plain": [
       "36.0    13015\n",
       "49.1    10144\n",
       "50.0     9267\n",
       "0.0      8726\n",
       "9.6      8363\n",
       "        ...  \n",
       "50.5        1\n",
       "51.4        1\n",
       "54.6        1\n",
       "63.5        1\n",
       "0.5         1\n",
       "Name: snowfall_inches, Length: 71, dtype: int64"
      ]
     },
     "execution_count": 11,
     "metadata": {},
     "output_type": "execute_result"
    }
   ],
   "source": [
    "pd.value_counts(data['snowfall_inches'])"
   ]
  },
  {
   "cell_type": "code",
   "execution_count": 12,
   "id": "06566f02",
   "metadata": {},
   "outputs": [
    {
     "data": {
      "text/plain": [
       "57.215847    13015\n",
       "56.835616    10144\n",
       "54.501370     9267\n",
       "57.366120     8362\n",
       "55.449315     8296\n",
       "             ...  \n",
       "53.750000        1\n",
       "52.959016        1\n",
       "61.494536        1\n",
       "51.658470        1\n",
       "46.611570        1\n",
       "Name: avg_temp, Length: 173, dtype: int64"
      ]
     },
     "execution_count": 12,
     "metadata": {},
     "output_type": "execute_result"
    }
   ],
   "source": [
    "pd.value_counts(data['avg_temp'])"
   ]
  },
  {
   "cell_type": "code",
   "execution_count": 13,
   "id": "63da2dd0",
   "metadata": {},
   "outputs": [
    {
     "data": {
      "text/plain": [
       "131.0    5386\n",
       "99.0     4287\n",
       "148.0    2614\n",
       "56.0     2216\n",
       "106.0    1967\n",
       "79.0     1854\n",
       "12.0     1761\n",
       "110.0    1529\n",
       "93.0     1442\n",
       "104.0    1097\n",
       "267.0     765\n",
       "111.0     691\n",
       "116.0     635\n",
       "261.0     620\n",
       "88.0      576\n",
       "63.0      488\n",
       "65.0      482\n",
       "73.0      327\n",
       "176.0     316\n",
       "101.0     237\n",
       "311.0     143\n",
       "87.0       98\n",
       "161.0      95\n",
       "114.0      65\n",
       "31.0       60\n",
       "125.0      48\n",
       "58.0       35\n",
       "289.0      27\n",
       "113.0      26\n",
       "120.0      22\n",
       "90.0       12\n",
       "82.0        8\n",
       "37.0        7\n",
       "178.0       5\n",
       "86.0        4\n",
       "84.0        3\n",
       "126.0       3\n",
       "51.0        3\n",
       "156.0       2\n",
       "184.0       2\n",
       "89.0        2\n",
       "107.0       1\n",
       "Name: days_with_fog, dtype: int64"
      ]
     },
     "execution_count": 13,
     "metadata": {},
     "output_type": "execute_result"
    }
   ],
   "source": [
    "pd.value_counts(data['days_with_fog'])"
   ]
  },
  {
   "cell_type": "code",
   "execution_count": 14,
   "id": "4be8553c",
   "metadata": {},
   "outputs": [
    {
     "data": {
      "text/plain": [
       "79.78     48\n",
       "76.89     46\n",
       "72.20     46\n",
       "69.21     45\n",
       "67.71     45\n",
       "          ..\n",
       "376.17     1\n",
       "210.94     1\n",
       "120.61     1\n",
       "462.69     1\n",
       "592.02     1\n",
       "Name: site_eui, Length: 17203, dtype: int64"
      ]
     },
     "execution_count": 14,
     "metadata": {},
     "output_type": "execute_result"
    }
   ],
   "source": [
    "pd.value_counts(data['site_eui'])"
   ]
  },
  {
   "cell_type": "markdown",
   "id": "f17a62ed",
   "metadata": {},
   "source": [
    "# 3.\n",
    "Check at descriptive statistics for the Dataset"
   ]
  },
  {
   "cell_type": "code",
   "execution_count": 15,
   "id": "1412e372",
   "metadata": {},
   "outputs": [
    {
     "data": {
      "text/html": [
       "<div>\n",
       "<style scoped>\n",
       "    .dataframe tbody tr th:only-of-type {\n",
       "        vertical-align: middle;\n",
       "    }\n",
       "\n",
       "    .dataframe tbody tr th {\n",
       "        vertical-align: top;\n",
       "    }\n",
       "\n",
       "    .dataframe thead th {\n",
       "        text-align: right;\n",
       "    }\n",
       "</style>\n",
       "<table border=\"1\" class=\"dataframe\">\n",
       "  <thead>\n",
       "    <tr style=\"text-align: right;\">\n",
       "      <th></th>\n",
       "      <th>id</th>\n",
       "      <th>floor_area</th>\n",
       "      <th>year_built</th>\n",
       "      <th>precipitation_inches</th>\n",
       "      <th>snowfall_inches</th>\n",
       "      <th>avg_temp</th>\n",
       "      <th>days_with_fog</th>\n",
       "      <th>site_eui</th>\n",
       "    </tr>\n",
       "  </thead>\n",
       "  <tbody>\n",
       "    <tr>\n",
       "      <th>count</th>\n",
       "      <td>75757.000000</td>\n",
       "      <td>7.575700e+04</td>\n",
       "      <td>73920.000000</td>\n",
       "      <td>75757.000000</td>\n",
       "      <td>75757.000000</td>\n",
       "      <td>75757.000000</td>\n",
       "      <td>29961.000000</td>\n",
       "      <td>75757.000000</td>\n",
       "    </tr>\n",
       "    <tr>\n",
       "      <th>mean</th>\n",
       "      <td>37878.000000</td>\n",
       "      <td>1.659839e+05</td>\n",
       "      <td>1952.306764</td>\n",
       "      <td>42.430651</td>\n",
       "      <td>29.136379</td>\n",
       "      <td>56.176705</td>\n",
       "      <td>109.142051</td>\n",
       "      <td>82.584707</td>\n",
       "    </tr>\n",
       "    <tr>\n",
       "      <th>std</th>\n",
       "      <td>21869.306509</td>\n",
       "      <td>2.468758e+05</td>\n",
       "      <td>37.053619</td>\n",
       "      <td>10.592205</td>\n",
       "      <td>17.810894</td>\n",
       "      <td>2.241940</td>\n",
       "      <td>50.699751</td>\n",
       "      <td>58.255413</td>\n",
       "    </tr>\n",
       "    <tr>\n",
       "      <th>min</th>\n",
       "      <td>0.000000</td>\n",
       "      <td>9.430000e+02</td>\n",
       "      <td>0.000000</td>\n",
       "      <td>0.000000</td>\n",
       "      <td>0.000000</td>\n",
       "      <td>44.512329</td>\n",
       "      <td>12.000000</td>\n",
       "      <td>1.000000</td>\n",
       "    </tr>\n",
       "    <tr>\n",
       "      <th>25%</th>\n",
       "      <td>18939.000000</td>\n",
       "      <td>6.237900e+04</td>\n",
       "      <td>1927.000000</td>\n",
       "      <td>39.350000</td>\n",
       "      <td>9.600000</td>\n",
       "      <td>55.147541</td>\n",
       "      <td>88.000000</td>\n",
       "      <td>54.530000</td>\n",
       "    </tr>\n",
       "    <tr>\n",
       "      <th>50%</th>\n",
       "      <td>37878.000000</td>\n",
       "      <td>9.136700e+04</td>\n",
       "      <td>1951.000000</td>\n",
       "      <td>42.170000</td>\n",
       "      <td>31.600000</td>\n",
       "      <td>56.835616</td>\n",
       "      <td>104.000000</td>\n",
       "      <td>75.290000</td>\n",
       "    </tr>\n",
       "    <tr>\n",
       "      <th>75%</th>\n",
       "      <td>56817.000000</td>\n",
       "      <td>1.660000e+05</td>\n",
       "      <td>1977.000000</td>\n",
       "      <td>46.320000</td>\n",
       "      <td>49.100000</td>\n",
       "      <td>57.215847</td>\n",
       "      <td>131.000000</td>\n",
       "      <td>97.280000</td>\n",
       "    </tr>\n",
       "    <tr>\n",
       "      <th>max</th>\n",
       "      <td>75756.000000</td>\n",
       "      <td>6.385382e+06</td>\n",
       "      <td>2015.000000</td>\n",
       "      <td>107.690000</td>\n",
       "      <td>127.300000</td>\n",
       "      <td>77.245205</td>\n",
       "      <td>311.000000</td>\n",
       "      <td>997.870000</td>\n",
       "    </tr>\n",
       "  </tbody>\n",
       "</table>\n",
       "</div>"
      ],
      "text/plain": [
       "                 id    floor_area    year_built  precipitation_inches  \\\n",
       "count  75757.000000  7.575700e+04  73920.000000          75757.000000   \n",
       "mean   37878.000000  1.659839e+05   1952.306764             42.430651   \n",
       "std    21869.306509  2.468758e+05     37.053619             10.592205   \n",
       "min        0.000000  9.430000e+02      0.000000              0.000000   \n",
       "25%    18939.000000  6.237900e+04   1927.000000             39.350000   \n",
       "50%    37878.000000  9.136700e+04   1951.000000             42.170000   \n",
       "75%    56817.000000  1.660000e+05   1977.000000             46.320000   \n",
       "max    75756.000000  6.385382e+06   2015.000000            107.690000   \n",
       "\n",
       "       snowfall_inches      avg_temp  days_with_fog      site_eui  \n",
       "count     75757.000000  75757.000000   29961.000000  75757.000000  \n",
       "mean         29.136379     56.176705     109.142051     82.584707  \n",
       "std          17.810894      2.241940      50.699751     58.255413  \n",
       "min           0.000000     44.512329      12.000000      1.000000  \n",
       "25%           9.600000     55.147541      88.000000     54.530000  \n",
       "50%          31.600000     56.835616     104.000000     75.290000  \n",
       "75%          49.100000     57.215847     131.000000     97.280000  \n",
       "max         127.300000     77.245205     311.000000    997.870000  "
      ]
     },
     "execution_count": 15,
     "metadata": {},
     "output_type": "execute_result"
    }
   ],
   "source": [
    "data.describe()"
   ]
  },
  {
   "cell_type": "markdown",
   "id": "4344e398",
   "metadata": {},
   "source": [
    "# 4.\n",
    "Check the number of missing values."
   ]
  },
  {
   "cell_type": "code",
   "execution_count": 16,
   "id": "bb0b305b",
   "metadata": {},
   "outputs": [
    {
     "data": {
      "text/html": [
       "<div>\n",
       "<style scoped>\n",
       "    .dataframe tbody tr th:only-of-type {\n",
       "        vertical-align: middle;\n",
       "    }\n",
       "\n",
       "    .dataframe tbody tr th {\n",
       "        vertical-align: top;\n",
       "    }\n",
       "\n",
       "    .dataframe thead th {\n",
       "        text-align: right;\n",
       "    }\n",
       "</style>\n",
       "<table border=\"1\" class=\"dataframe\">\n",
       "  <thead>\n",
       "    <tr style=\"text-align: right;\">\n",
       "      <th></th>\n",
       "      <th>id</th>\n",
       "      <th>building_class</th>\n",
       "      <th>floor_area</th>\n",
       "      <th>year_built</th>\n",
       "      <th>precipitation_inches</th>\n",
       "      <th>snowfall_inches</th>\n",
       "      <th>avg_temp</th>\n",
       "      <th>days_with_fog</th>\n",
       "      <th>site_eui</th>\n",
       "    </tr>\n",
       "  </thead>\n",
       "  <tbody>\n",
       "    <tr>\n",
       "      <th>0</th>\n",
       "      <td>False</td>\n",
       "      <td>False</td>\n",
       "      <td>False</td>\n",
       "      <td>False</td>\n",
       "      <td>False</td>\n",
       "      <td>False</td>\n",
       "      <td>False</td>\n",
       "      <td>True</td>\n",
       "      <td>False</td>\n",
       "    </tr>\n",
       "    <tr>\n",
       "      <th>1</th>\n",
       "      <td>False</td>\n",
       "      <td>False</td>\n",
       "      <td>False</td>\n",
       "      <td>False</td>\n",
       "      <td>False</td>\n",
       "      <td>False</td>\n",
       "      <td>False</td>\n",
       "      <td>False</td>\n",
       "      <td>False</td>\n",
       "    </tr>\n",
       "    <tr>\n",
       "      <th>2</th>\n",
       "      <td>False</td>\n",
       "      <td>False</td>\n",
       "      <td>False</td>\n",
       "      <td>False</td>\n",
       "      <td>False</td>\n",
       "      <td>False</td>\n",
       "      <td>False</td>\n",
       "      <td>False</td>\n",
       "      <td>False</td>\n",
       "    </tr>\n",
       "    <tr>\n",
       "      <th>3</th>\n",
       "      <td>False</td>\n",
       "      <td>False</td>\n",
       "      <td>False</td>\n",
       "      <td>False</td>\n",
       "      <td>False</td>\n",
       "      <td>False</td>\n",
       "      <td>False</td>\n",
       "      <td>False</td>\n",
       "      <td>False</td>\n",
       "    </tr>\n",
       "    <tr>\n",
       "      <th>4</th>\n",
       "      <td>False</td>\n",
       "      <td>False</td>\n",
       "      <td>False</td>\n",
       "      <td>False</td>\n",
       "      <td>False</td>\n",
       "      <td>False</td>\n",
       "      <td>False</td>\n",
       "      <td>True</td>\n",
       "      <td>False</td>\n",
       "    </tr>\n",
       "    <tr>\n",
       "      <th>...</th>\n",
       "      <td>...</td>\n",
       "      <td>...</td>\n",
       "      <td>...</td>\n",
       "      <td>...</td>\n",
       "      <td>...</td>\n",
       "      <td>...</td>\n",
       "      <td>...</td>\n",
       "      <td>...</td>\n",
       "      <td>...</td>\n",
       "    </tr>\n",
       "    <tr>\n",
       "      <th>75752</th>\n",
       "      <td>False</td>\n",
       "      <td>False</td>\n",
       "      <td>False</td>\n",
       "      <td>False</td>\n",
       "      <td>False</td>\n",
       "      <td>False</td>\n",
       "      <td>False</td>\n",
       "      <td>True</td>\n",
       "      <td>False</td>\n",
       "    </tr>\n",
       "    <tr>\n",
       "      <th>75753</th>\n",
       "      <td>False</td>\n",
       "      <td>False</td>\n",
       "      <td>False</td>\n",
       "      <td>False</td>\n",
       "      <td>False</td>\n",
       "      <td>False</td>\n",
       "      <td>False</td>\n",
       "      <td>True</td>\n",
       "      <td>False</td>\n",
       "    </tr>\n",
       "    <tr>\n",
       "      <th>75754</th>\n",
       "      <td>False</td>\n",
       "      <td>False</td>\n",
       "      <td>False</td>\n",
       "      <td>False</td>\n",
       "      <td>False</td>\n",
       "      <td>False</td>\n",
       "      <td>False</td>\n",
       "      <td>True</td>\n",
       "      <td>False</td>\n",
       "    </tr>\n",
       "    <tr>\n",
       "      <th>75755</th>\n",
       "      <td>False</td>\n",
       "      <td>False</td>\n",
       "      <td>False</td>\n",
       "      <td>False</td>\n",
       "      <td>False</td>\n",
       "      <td>False</td>\n",
       "      <td>False</td>\n",
       "      <td>True</td>\n",
       "      <td>False</td>\n",
       "    </tr>\n",
       "    <tr>\n",
       "      <th>75756</th>\n",
       "      <td>False</td>\n",
       "      <td>False</td>\n",
       "      <td>False</td>\n",
       "      <td>False</td>\n",
       "      <td>False</td>\n",
       "      <td>False</td>\n",
       "      <td>False</td>\n",
       "      <td>True</td>\n",
       "      <td>False</td>\n",
       "    </tr>\n",
       "  </tbody>\n",
       "</table>\n",
       "<p>75757 rows × 9 columns</p>\n",
       "</div>"
      ],
      "text/plain": [
       "          id  building_class  floor_area  year_built  precipitation_inches  \\\n",
       "0      False           False       False       False                 False   \n",
       "1      False           False       False       False                 False   \n",
       "2      False           False       False       False                 False   \n",
       "3      False           False       False       False                 False   \n",
       "4      False           False       False       False                 False   \n",
       "...      ...             ...         ...         ...                   ...   \n",
       "75752  False           False       False       False                 False   \n",
       "75753  False           False       False       False                 False   \n",
       "75754  False           False       False       False                 False   \n",
       "75755  False           False       False       False                 False   \n",
       "75756  False           False       False       False                 False   \n",
       "\n",
       "       snowfall_inches  avg_temp  days_with_fog  site_eui  \n",
       "0                False     False           True     False  \n",
       "1                False     False          False     False  \n",
       "2                False     False          False     False  \n",
       "3                False     False          False     False  \n",
       "4                False     False           True     False  \n",
       "...                ...       ...            ...       ...  \n",
       "75752            False     False           True     False  \n",
       "75753            False     False           True     False  \n",
       "75754            False     False           True     False  \n",
       "75755            False     False           True     False  \n",
       "75756            False     False           True     False  \n",
       "\n",
       "[75757 rows x 9 columns]"
      ]
     },
     "execution_count": 16,
     "metadata": {},
     "output_type": "execute_result"
    }
   ],
   "source": [
    "#checking the data set for null values\n",
    "data.isnull()"
   ]
  },
  {
   "cell_type": "code",
   "execution_count": 17,
   "id": "3cd076ce",
   "metadata": {},
   "outputs": [
    {
     "data": {
      "text/plain": [
       "id                          0\n",
       "building_class              0\n",
       "floor_area                  0\n",
       "year_built               1837\n",
       "precipitation_inches        0\n",
       "snowfall_inches             0\n",
       "avg_temp                    0\n",
       "days_with_fog           45796\n",
       "site_eui                    0\n",
       "dtype: int64"
      ]
     },
     "execution_count": 17,
     "metadata": {},
     "output_type": "execute_result"
    }
   ],
   "source": [
    "data.isnull().sum()"
   ]
  },
  {
   "cell_type": "markdown",
   "id": "49c94b83",
   "metadata": {},
   "source": [
    "# 5.\n",
    "Take care of missing data"
   ]
  },
  {
   "cell_type": "code",
   "execution_count": 18,
   "id": "16cb63df",
   "metadata": {},
   "outputs": [
    {
     "data": {
      "text/html": [
       "<div>\n",
       "<style scoped>\n",
       "    .dataframe tbody tr th:only-of-type {\n",
       "        vertical-align: middle;\n",
       "    }\n",
       "\n",
       "    .dataframe tbody tr th {\n",
       "        vertical-align: top;\n",
       "    }\n",
       "\n",
       "    .dataframe thead th {\n",
       "        text-align: right;\n",
       "    }\n",
       "</style>\n",
       "<table border=\"1\" class=\"dataframe\">\n",
       "  <thead>\n",
       "    <tr style=\"text-align: right;\">\n",
       "      <th></th>\n",
       "      <th>id</th>\n",
       "      <th>building_class</th>\n",
       "      <th>floor_area</th>\n",
       "      <th>year_built</th>\n",
       "      <th>precipitation_inches</th>\n",
       "      <th>snowfall_inches</th>\n",
       "      <th>avg_temp</th>\n",
       "      <th>days_with_fog</th>\n",
       "      <th>site_eui</th>\n",
       "    </tr>\n",
       "  </thead>\n",
       "  <tbody>\n",
       "    <tr>\n",
       "      <th>0</th>\n",
       "      <td>0</td>\n",
       "      <td>Commercial</td>\n",
       "      <td>61242.0</td>\n",
       "      <td>1942.0</td>\n",
       "      <td>16.59</td>\n",
       "      <td>0.0</td>\n",
       "      <td>56.972603</td>\n",
       "      <td>109.142051</td>\n",
       "      <td>248.68</td>\n",
       "    </tr>\n",
       "    <tr>\n",
       "      <th>1</th>\n",
       "      <td>1</td>\n",
       "      <td>Commercial</td>\n",
       "      <td>274000.0</td>\n",
       "      <td>1955.0</td>\n",
       "      <td>16.59</td>\n",
       "      <td>0.0</td>\n",
       "      <td>56.972603</td>\n",
       "      <td>12.000000</td>\n",
       "      <td>26.50</td>\n",
       "    </tr>\n",
       "    <tr>\n",
       "      <th>2</th>\n",
       "      <td>2</td>\n",
       "      <td>Commercial</td>\n",
       "      <td>280025.0</td>\n",
       "      <td>1951.0</td>\n",
       "      <td>16.59</td>\n",
       "      <td>0.0</td>\n",
       "      <td>56.972603</td>\n",
       "      <td>12.000000</td>\n",
       "      <td>24.69</td>\n",
       "    </tr>\n",
       "    <tr>\n",
       "      <th>3</th>\n",
       "      <td>3</td>\n",
       "      <td>Commercial</td>\n",
       "      <td>55325.0</td>\n",
       "      <td>1980.0</td>\n",
       "      <td>16.59</td>\n",
       "      <td>0.0</td>\n",
       "      <td>56.972603</td>\n",
       "      <td>12.000000</td>\n",
       "      <td>48.41</td>\n",
       "    </tr>\n",
       "    <tr>\n",
       "      <th>4</th>\n",
       "      <td>4</td>\n",
       "      <td>Commercial</td>\n",
       "      <td>66000.0</td>\n",
       "      <td>1985.0</td>\n",
       "      <td>16.59</td>\n",
       "      <td>0.0</td>\n",
       "      <td>56.972603</td>\n",
       "      <td>109.142051</td>\n",
       "      <td>3.90</td>\n",
       "    </tr>\n",
       "    <tr>\n",
       "      <th>...</th>\n",
       "      <td>...</td>\n",
       "      <td>...</td>\n",
       "      <td>...</td>\n",
       "      <td>...</td>\n",
       "      <td>...</td>\n",
       "      <td>...</td>\n",
       "      <td>...</td>\n",
       "      <td>...</td>\n",
       "      <td>...</td>\n",
       "    </tr>\n",
       "    <tr>\n",
       "      <th>75752</th>\n",
       "      <td>75752</td>\n",
       "      <td>Commercial</td>\n",
       "      <td>20410.0</td>\n",
       "      <td>1995.0</td>\n",
       "      <td>45.03</td>\n",
       "      <td>1.4</td>\n",
       "      <td>55.147541</td>\n",
       "      <td>109.142051</td>\n",
       "      <td>132.92</td>\n",
       "    </tr>\n",
       "    <tr>\n",
       "      <th>75753</th>\n",
       "      <td>75753</td>\n",
       "      <td>Residential</td>\n",
       "      <td>40489.0</td>\n",
       "      <td>1910.0</td>\n",
       "      <td>45.03</td>\n",
       "      <td>1.4</td>\n",
       "      <td>55.147541</td>\n",
       "      <td>109.142051</td>\n",
       "      <td>39.48</td>\n",
       "    </tr>\n",
       "    <tr>\n",
       "      <th>75754</th>\n",
       "      <td>75754</td>\n",
       "      <td>Commercial</td>\n",
       "      <td>28072.0</td>\n",
       "      <td>1917.0</td>\n",
       "      <td>106.32</td>\n",
       "      <td>36.6</td>\n",
       "      <td>47.911202</td>\n",
       "      <td>109.142051</td>\n",
       "      <td>48.40</td>\n",
       "    </tr>\n",
       "    <tr>\n",
       "      <th>75755</th>\n",
       "      <td>75755</td>\n",
       "      <td>Commercial</td>\n",
       "      <td>53575.0</td>\n",
       "      <td>2012.0</td>\n",
       "      <td>106.32</td>\n",
       "      <td>36.6</td>\n",
       "      <td>47.911202</td>\n",
       "      <td>109.142051</td>\n",
       "      <td>592.02</td>\n",
       "    </tr>\n",
       "    <tr>\n",
       "      <th>75756</th>\n",
       "      <td>75756</td>\n",
       "      <td>Residential</td>\n",
       "      <td>23888.0</td>\n",
       "      <td>1974.0</td>\n",
       "      <td>107.69</td>\n",
       "      <td>28.8</td>\n",
       "      <td>49.127397</td>\n",
       "      <td>109.142051</td>\n",
       "      <td>29.15</td>\n",
       "    </tr>\n",
       "  </tbody>\n",
       "</table>\n",
       "<p>75757 rows × 9 columns</p>\n",
       "</div>"
      ],
      "text/plain": [
       "          id building_class  floor_area  year_built  precipitation_inches  \\\n",
       "0          0     Commercial     61242.0      1942.0                 16.59   \n",
       "1          1     Commercial    274000.0      1955.0                 16.59   \n",
       "2          2     Commercial    280025.0      1951.0                 16.59   \n",
       "3          3     Commercial     55325.0      1980.0                 16.59   \n",
       "4          4     Commercial     66000.0      1985.0                 16.59   \n",
       "...      ...            ...         ...         ...                   ...   \n",
       "75752  75752     Commercial     20410.0      1995.0                 45.03   \n",
       "75753  75753    Residential     40489.0      1910.0                 45.03   \n",
       "75754  75754     Commercial     28072.0      1917.0                106.32   \n",
       "75755  75755     Commercial     53575.0      2012.0                106.32   \n",
       "75756  75756    Residential     23888.0      1974.0                107.69   \n",
       "\n",
       "       snowfall_inches   avg_temp  days_with_fog  site_eui  \n",
       "0                  0.0  56.972603     109.142051    248.68  \n",
       "1                  0.0  56.972603      12.000000     26.50  \n",
       "2                  0.0  56.972603      12.000000     24.69  \n",
       "3                  0.0  56.972603      12.000000     48.41  \n",
       "4                  0.0  56.972603     109.142051      3.90  \n",
       "...                ...        ...            ...       ...  \n",
       "75752              1.4  55.147541     109.142051    132.92  \n",
       "75753              1.4  55.147541     109.142051     39.48  \n",
       "75754             36.6  47.911202     109.142051     48.40  \n",
       "75755             36.6  47.911202     109.142051    592.02  \n",
       "75756             28.8  49.127397     109.142051     29.15  \n",
       "\n",
       "[75757 rows x 9 columns]"
      ]
     },
     "execution_count": 18,
     "metadata": {},
     "output_type": "execute_result"
    }
   ],
   "source": [
    "# the years built were mostly in the 1900 and a few in the 2000s, so I used the mean to fill the empty data with the average. \n",
    "years_built=data.fillna(value=data['year_built'].mean())\n",
    "fog=data.fillna(value=data['days_with_fog'].mean())\n",
    "\n",
    "fog\n"
   ]
  },
  {
   "cell_type": "code",
   "execution_count": 19,
   "id": "3ea73c01",
   "metadata": {},
   "outputs": [
    {
     "data": {
      "text/plain": [
       "0        1942.0\n",
       "1        1955.0\n",
       "2        1951.0\n",
       "3        1980.0\n",
       "4        1985.0\n",
       "          ...  \n",
       "75752    1995.0\n",
       "75753    1910.0\n",
       "75754    1917.0\n",
       "75755    2012.0\n",
       "75756    1974.0\n",
       "Name: year_built, Length: 75757, dtype: float64"
      ]
     },
     "execution_count": 19,
     "metadata": {},
     "output_type": "execute_result"
    }
   ],
   "source": [
    "fog['year_built']\n"
   ]
  },
  {
   "cell_type": "code",
   "execution_count": 20,
   "id": "dbec22d9",
   "metadata": {},
   "outputs": [
    {
     "data": {
      "text/plain": [
       "id                      0\n",
       "building_class          0\n",
       "floor_area              0\n",
       "year_built              0\n",
       "precipitation_inches    0\n",
       "snowfall_inches         0\n",
       "avg_temp                0\n",
       "days_with_fog           0\n",
       "site_eui                0\n",
       "dtype: int64"
      ]
     },
     "execution_count": 20,
     "metadata": {},
     "output_type": "execute_result"
    }
   ],
   "source": [
    "fog.isnull().sum()"
   ]
  },
  {
   "cell_type": "markdown",
   "id": "ff036e03",
   "metadata": {},
   "source": [
    "# 6.\n",
    "Find and remove duplicate variables"
   ]
  },
  {
   "cell_type": "code",
   "execution_count": 21,
   "id": "19f92b45",
   "metadata": {},
   "outputs": [
    {
     "data": {
      "text/html": [
       "<div>\n",
       "<style scoped>\n",
       "    .dataframe tbody tr th:only-of-type {\n",
       "        vertical-align: middle;\n",
       "    }\n",
       "\n",
       "    .dataframe tbody tr th {\n",
       "        vertical-align: top;\n",
       "    }\n",
       "\n",
       "    .dataframe thead th {\n",
       "        text-align: right;\n",
       "    }\n",
       "</style>\n",
       "<table border=\"1\" class=\"dataframe\">\n",
       "  <thead>\n",
       "    <tr style=\"text-align: right;\">\n",
       "      <th></th>\n",
       "      <th>id</th>\n",
       "      <th>building_class</th>\n",
       "      <th>floor_area</th>\n",
       "      <th>year_built</th>\n",
       "      <th>precipitation_inches</th>\n",
       "      <th>avg_temp</th>\n",
       "      <th>days_with_fog</th>\n",
       "      <th>site_eui</th>\n",
       "    </tr>\n",
       "  </thead>\n",
       "  <tbody>\n",
       "    <tr>\n",
       "      <th>0</th>\n",
       "      <td>0</td>\n",
       "      <td>Commercial</td>\n",
       "      <td>61242.0</td>\n",
       "      <td>1942.0</td>\n",
       "      <td>16.59</td>\n",
       "      <td>56.972603</td>\n",
       "      <td>109.142051</td>\n",
       "      <td>248.68</td>\n",
       "    </tr>\n",
       "    <tr>\n",
       "      <th>1</th>\n",
       "      <td>1</td>\n",
       "      <td>Commercial</td>\n",
       "      <td>274000.0</td>\n",
       "      <td>1955.0</td>\n",
       "      <td>16.59</td>\n",
       "      <td>56.972603</td>\n",
       "      <td>12.000000</td>\n",
       "      <td>26.50</td>\n",
       "    </tr>\n",
       "    <tr>\n",
       "      <th>2</th>\n",
       "      <td>2</td>\n",
       "      <td>Commercial</td>\n",
       "      <td>280025.0</td>\n",
       "      <td>1951.0</td>\n",
       "      <td>16.59</td>\n",
       "      <td>56.972603</td>\n",
       "      <td>12.000000</td>\n",
       "      <td>24.69</td>\n",
       "    </tr>\n",
       "    <tr>\n",
       "      <th>3</th>\n",
       "      <td>3</td>\n",
       "      <td>Commercial</td>\n",
       "      <td>55325.0</td>\n",
       "      <td>1980.0</td>\n",
       "      <td>16.59</td>\n",
       "      <td>56.972603</td>\n",
       "      <td>12.000000</td>\n",
       "      <td>48.41</td>\n",
       "    </tr>\n",
       "    <tr>\n",
       "      <th>4</th>\n",
       "      <td>4</td>\n",
       "      <td>Commercial</td>\n",
       "      <td>66000.0</td>\n",
       "      <td>1985.0</td>\n",
       "      <td>16.59</td>\n",
       "      <td>56.972603</td>\n",
       "      <td>109.142051</td>\n",
       "      <td>3.90</td>\n",
       "    </tr>\n",
       "    <tr>\n",
       "      <th>...</th>\n",
       "      <td>...</td>\n",
       "      <td>...</td>\n",
       "      <td>...</td>\n",
       "      <td>...</td>\n",
       "      <td>...</td>\n",
       "      <td>...</td>\n",
       "      <td>...</td>\n",
       "      <td>...</td>\n",
       "    </tr>\n",
       "    <tr>\n",
       "      <th>75752</th>\n",
       "      <td>75752</td>\n",
       "      <td>Commercial</td>\n",
       "      <td>20410.0</td>\n",
       "      <td>1995.0</td>\n",
       "      <td>45.03</td>\n",
       "      <td>55.147541</td>\n",
       "      <td>109.142051</td>\n",
       "      <td>132.92</td>\n",
       "    </tr>\n",
       "    <tr>\n",
       "      <th>75753</th>\n",
       "      <td>75753</td>\n",
       "      <td>Residential</td>\n",
       "      <td>40489.0</td>\n",
       "      <td>1910.0</td>\n",
       "      <td>45.03</td>\n",
       "      <td>55.147541</td>\n",
       "      <td>109.142051</td>\n",
       "      <td>39.48</td>\n",
       "    </tr>\n",
       "    <tr>\n",
       "      <th>75754</th>\n",
       "      <td>75754</td>\n",
       "      <td>Commercial</td>\n",
       "      <td>28072.0</td>\n",
       "      <td>1917.0</td>\n",
       "      <td>106.32</td>\n",
       "      <td>47.911202</td>\n",
       "      <td>109.142051</td>\n",
       "      <td>48.40</td>\n",
       "    </tr>\n",
       "    <tr>\n",
       "      <th>75755</th>\n",
       "      <td>75755</td>\n",
       "      <td>Commercial</td>\n",
       "      <td>53575.0</td>\n",
       "      <td>2012.0</td>\n",
       "      <td>106.32</td>\n",
       "      <td>47.911202</td>\n",
       "      <td>109.142051</td>\n",
       "      <td>592.02</td>\n",
       "    </tr>\n",
       "    <tr>\n",
       "      <th>75756</th>\n",
       "      <td>75756</td>\n",
       "      <td>Residential</td>\n",
       "      <td>23888.0</td>\n",
       "      <td>1974.0</td>\n",
       "      <td>107.69</td>\n",
       "      <td>49.127397</td>\n",
       "      <td>109.142051</td>\n",
       "      <td>29.15</td>\n",
       "    </tr>\n",
       "  </tbody>\n",
       "</table>\n",
       "<p>75757 rows × 8 columns</p>\n",
       "</div>"
      ],
      "text/plain": [
       "          id building_class  floor_area  year_built  precipitation_inches  \\\n",
       "0          0     Commercial     61242.0      1942.0                 16.59   \n",
       "1          1     Commercial    274000.0      1955.0                 16.59   \n",
       "2          2     Commercial    280025.0      1951.0                 16.59   \n",
       "3          3     Commercial     55325.0      1980.0                 16.59   \n",
       "4          4     Commercial     66000.0      1985.0                 16.59   \n",
       "...      ...            ...         ...         ...                   ...   \n",
       "75752  75752     Commercial     20410.0      1995.0                 45.03   \n",
       "75753  75753    Residential     40489.0      1910.0                 45.03   \n",
       "75754  75754     Commercial     28072.0      1917.0                106.32   \n",
       "75755  75755     Commercial     53575.0      2012.0                106.32   \n",
       "75756  75756    Residential     23888.0      1974.0                107.69   \n",
       "\n",
       "        avg_temp  days_with_fog  site_eui  \n",
       "0      56.972603     109.142051    248.68  \n",
       "1      56.972603      12.000000     26.50  \n",
       "2      56.972603      12.000000     24.69  \n",
       "3      56.972603      12.000000     48.41  \n",
       "4      56.972603     109.142051      3.90  \n",
       "...          ...            ...       ...  \n",
       "75752  55.147541     109.142051    132.92  \n",
       "75753  55.147541     109.142051     39.48  \n",
       "75754  47.911202     109.142051     48.40  \n",
       "75755  47.911202     109.142051    592.02  \n",
       "75756  49.127397     109.142051     29.15  \n",
       "\n",
       "[75757 rows x 8 columns]"
      ]
     },
     "execution_count": 21,
     "metadata": {},
     "output_type": "execute_result"
    }
   ],
   "source": [
    "# Bacuse snow falls under the category of precipitation, we can remove it because we already have data on precipitation\n",
    "# Presipitation is an ubrella term for any liquid forms falling from the sky\n",
    "drop=fog.drop('snowfall_inches',axis=1)\n",
    "drop"
   ]
  },
  {
   "cell_type": "code",
   "execution_count": 22,
   "id": "e9c8e7f6",
   "metadata": {},
   "outputs": [
    {
     "data": {
      "text/html": [
       "<div>\n",
       "<style scoped>\n",
       "    .dataframe tbody tr th:only-of-type {\n",
       "        vertical-align: middle;\n",
       "    }\n",
       "\n",
       "    .dataframe tbody tr th {\n",
       "        vertical-align: top;\n",
       "    }\n",
       "\n",
       "    .dataframe thead th {\n",
       "        text-align: right;\n",
       "    }\n",
       "</style>\n",
       "<table border=\"1\" class=\"dataframe\">\n",
       "  <thead>\n",
       "    <tr style=\"text-align: right;\">\n",
       "      <th></th>\n",
       "      <th>id</th>\n",
       "      <th>building_class</th>\n",
       "      <th>floor_area</th>\n",
       "      <th>precipitation_inches</th>\n",
       "      <th>avg_temp</th>\n",
       "      <th>days_with_fog</th>\n",
       "      <th>site_eui</th>\n",
       "    </tr>\n",
       "  </thead>\n",
       "  <tbody>\n",
       "    <tr>\n",
       "      <th>0</th>\n",
       "      <td>0</td>\n",
       "      <td>Commercial</td>\n",
       "      <td>61242.0</td>\n",
       "      <td>16.59</td>\n",
       "      <td>56.972603</td>\n",
       "      <td>109.142051</td>\n",
       "      <td>248.68</td>\n",
       "    </tr>\n",
       "    <tr>\n",
       "      <th>1</th>\n",
       "      <td>1</td>\n",
       "      <td>Commercial</td>\n",
       "      <td>274000.0</td>\n",
       "      <td>16.59</td>\n",
       "      <td>56.972603</td>\n",
       "      <td>12.000000</td>\n",
       "      <td>26.50</td>\n",
       "    </tr>\n",
       "    <tr>\n",
       "      <th>2</th>\n",
       "      <td>2</td>\n",
       "      <td>Commercial</td>\n",
       "      <td>280025.0</td>\n",
       "      <td>16.59</td>\n",
       "      <td>56.972603</td>\n",
       "      <td>12.000000</td>\n",
       "      <td>24.69</td>\n",
       "    </tr>\n",
       "    <tr>\n",
       "      <th>3</th>\n",
       "      <td>3</td>\n",
       "      <td>Commercial</td>\n",
       "      <td>55325.0</td>\n",
       "      <td>16.59</td>\n",
       "      <td>56.972603</td>\n",
       "      <td>12.000000</td>\n",
       "      <td>48.41</td>\n",
       "    </tr>\n",
       "    <tr>\n",
       "      <th>4</th>\n",
       "      <td>4</td>\n",
       "      <td>Commercial</td>\n",
       "      <td>66000.0</td>\n",
       "      <td>16.59</td>\n",
       "      <td>56.972603</td>\n",
       "      <td>109.142051</td>\n",
       "      <td>3.90</td>\n",
       "    </tr>\n",
       "    <tr>\n",
       "      <th>...</th>\n",
       "      <td>...</td>\n",
       "      <td>...</td>\n",
       "      <td>...</td>\n",
       "      <td>...</td>\n",
       "      <td>...</td>\n",
       "      <td>...</td>\n",
       "      <td>...</td>\n",
       "    </tr>\n",
       "    <tr>\n",
       "      <th>75752</th>\n",
       "      <td>75752</td>\n",
       "      <td>Commercial</td>\n",
       "      <td>20410.0</td>\n",
       "      <td>45.03</td>\n",
       "      <td>55.147541</td>\n",
       "      <td>109.142051</td>\n",
       "      <td>132.92</td>\n",
       "    </tr>\n",
       "    <tr>\n",
       "      <th>75753</th>\n",
       "      <td>75753</td>\n",
       "      <td>Residential</td>\n",
       "      <td>40489.0</td>\n",
       "      <td>45.03</td>\n",
       "      <td>55.147541</td>\n",
       "      <td>109.142051</td>\n",
       "      <td>39.48</td>\n",
       "    </tr>\n",
       "    <tr>\n",
       "      <th>75754</th>\n",
       "      <td>75754</td>\n",
       "      <td>Commercial</td>\n",
       "      <td>28072.0</td>\n",
       "      <td>106.32</td>\n",
       "      <td>47.911202</td>\n",
       "      <td>109.142051</td>\n",
       "      <td>48.40</td>\n",
       "    </tr>\n",
       "    <tr>\n",
       "      <th>75755</th>\n",
       "      <td>75755</td>\n",
       "      <td>Commercial</td>\n",
       "      <td>53575.0</td>\n",
       "      <td>106.32</td>\n",
       "      <td>47.911202</td>\n",
       "      <td>109.142051</td>\n",
       "      <td>592.02</td>\n",
       "    </tr>\n",
       "    <tr>\n",
       "      <th>75756</th>\n",
       "      <td>75756</td>\n",
       "      <td>Residential</td>\n",
       "      <td>23888.0</td>\n",
       "      <td>107.69</td>\n",
       "      <td>49.127397</td>\n",
       "      <td>109.142051</td>\n",
       "      <td>29.15</td>\n",
       "    </tr>\n",
       "  </tbody>\n",
       "</table>\n",
       "<p>75757 rows × 7 columns</p>\n",
       "</div>"
      ],
      "text/plain": [
       "          id building_class  floor_area  precipitation_inches   avg_temp  \\\n",
       "0          0     Commercial     61242.0                 16.59  56.972603   \n",
       "1          1     Commercial    274000.0                 16.59  56.972603   \n",
       "2          2     Commercial    280025.0                 16.59  56.972603   \n",
       "3          3     Commercial     55325.0                 16.59  56.972603   \n",
       "4          4     Commercial     66000.0                 16.59  56.972603   \n",
       "...      ...            ...         ...                   ...        ...   \n",
       "75752  75752     Commercial     20410.0                 45.03  55.147541   \n",
       "75753  75753    Residential     40489.0                 45.03  55.147541   \n",
       "75754  75754     Commercial     28072.0                106.32  47.911202   \n",
       "75755  75755     Commercial     53575.0                106.32  47.911202   \n",
       "75756  75756    Residential     23888.0                107.69  49.127397   \n",
       "\n",
       "       days_with_fog  site_eui  \n",
       "0         109.142051    248.68  \n",
       "1          12.000000     26.50  \n",
       "2          12.000000     24.69  \n",
       "3          12.000000     48.41  \n",
       "4         109.142051      3.90  \n",
       "...              ...       ...  \n",
       "75752     109.142051    132.92  \n",
       "75753     109.142051     39.48  \n",
       "75754     109.142051     48.40  \n",
       "75755     109.142051    592.02  \n",
       "75756     109.142051     29.15  \n",
       "\n",
       "[75757 rows x 7 columns]"
      ]
     },
     "execution_count": 22,
     "metadata": {},
     "output_type": "execute_result"
    }
   ],
   "source": [
    "# the year the building was built doesnt pertain to climate change\n",
    "droptwo=drop.drop('year_built',axis=1)\n",
    "droptwo"
   ]
  },
  {
   "cell_type": "markdown",
   "id": "accd6e76",
   "metadata": {},
   "source": [
    "# 7.\n",
    "Encode the categorical variables; you can use label encoding, one hot encoding, or..."
   ]
  },
  {
   "cell_type": "code",
   "execution_count": 24,
   "id": "f243383e",
   "metadata": {},
   "outputs": [
    {
     "data": {
      "text/html": [
       "<div>\n",
       "<style scoped>\n",
       "    .dataframe tbody tr th:only-of-type {\n",
       "        vertical-align: middle;\n",
       "    }\n",
       "\n",
       "    .dataframe tbody tr th {\n",
       "        vertical-align: top;\n",
       "    }\n",
       "\n",
       "    .dataframe thead th {\n",
       "        text-align: right;\n",
       "    }\n",
       "</style>\n",
       "<table border=\"1\" class=\"dataframe\">\n",
       "  <thead>\n",
       "    <tr style=\"text-align: right;\">\n",
       "      <th></th>\n",
       "      <th>id</th>\n",
       "      <th>building_class</th>\n",
       "      <th>floor_area</th>\n",
       "      <th>precipitation_inches</th>\n",
       "      <th>avg_temp</th>\n",
       "      <th>days_with_fog</th>\n",
       "      <th>site_eui</th>\n",
       "    </tr>\n",
       "  </thead>\n",
       "  <tbody>\n",
       "    <tr>\n",
       "      <th>0</th>\n",
       "      <td>0</td>\n",
       "      <td>1</td>\n",
       "      <td>61242.0</td>\n",
       "      <td>16.59</td>\n",
       "      <td>56.972603</td>\n",
       "      <td>109.142051</td>\n",
       "      <td>248.68</td>\n",
       "    </tr>\n",
       "    <tr>\n",
       "      <th>1</th>\n",
       "      <td>1</td>\n",
       "      <td>1</td>\n",
       "      <td>274000.0</td>\n",
       "      <td>16.59</td>\n",
       "      <td>56.972603</td>\n",
       "      <td>12.000000</td>\n",
       "      <td>26.50</td>\n",
       "    </tr>\n",
       "    <tr>\n",
       "      <th>2</th>\n",
       "      <td>2</td>\n",
       "      <td>1</td>\n",
       "      <td>280025.0</td>\n",
       "      <td>16.59</td>\n",
       "      <td>56.972603</td>\n",
       "      <td>12.000000</td>\n",
       "      <td>24.69</td>\n",
       "    </tr>\n",
       "    <tr>\n",
       "      <th>3</th>\n",
       "      <td>3</td>\n",
       "      <td>1</td>\n",
       "      <td>55325.0</td>\n",
       "      <td>16.59</td>\n",
       "      <td>56.972603</td>\n",
       "      <td>12.000000</td>\n",
       "      <td>48.41</td>\n",
       "    </tr>\n",
       "    <tr>\n",
       "      <th>4</th>\n",
       "      <td>4</td>\n",
       "      <td>1</td>\n",
       "      <td>66000.0</td>\n",
       "      <td>16.59</td>\n",
       "      <td>56.972603</td>\n",
       "      <td>109.142051</td>\n",
       "      <td>3.90</td>\n",
       "    </tr>\n",
       "    <tr>\n",
       "      <th>...</th>\n",
       "      <td>...</td>\n",
       "      <td>...</td>\n",
       "      <td>...</td>\n",
       "      <td>...</td>\n",
       "      <td>...</td>\n",
       "      <td>...</td>\n",
       "      <td>...</td>\n",
       "    </tr>\n",
       "    <tr>\n",
       "      <th>75752</th>\n",
       "      <td>75752</td>\n",
       "      <td>1</td>\n",
       "      <td>20410.0</td>\n",
       "      <td>45.03</td>\n",
       "      <td>55.147541</td>\n",
       "      <td>109.142051</td>\n",
       "      <td>132.92</td>\n",
       "    </tr>\n",
       "    <tr>\n",
       "      <th>75753</th>\n",
       "      <td>75753</td>\n",
       "      <td>0</td>\n",
       "      <td>40489.0</td>\n",
       "      <td>45.03</td>\n",
       "      <td>55.147541</td>\n",
       "      <td>109.142051</td>\n",
       "      <td>39.48</td>\n",
       "    </tr>\n",
       "    <tr>\n",
       "      <th>75754</th>\n",
       "      <td>75754</td>\n",
       "      <td>1</td>\n",
       "      <td>28072.0</td>\n",
       "      <td>106.32</td>\n",
       "      <td>47.911202</td>\n",
       "      <td>109.142051</td>\n",
       "      <td>48.40</td>\n",
       "    </tr>\n",
       "    <tr>\n",
       "      <th>75755</th>\n",
       "      <td>75755</td>\n",
       "      <td>1</td>\n",
       "      <td>53575.0</td>\n",
       "      <td>106.32</td>\n",
       "      <td>47.911202</td>\n",
       "      <td>109.142051</td>\n",
       "      <td>592.02</td>\n",
       "    </tr>\n",
       "    <tr>\n",
       "      <th>75756</th>\n",
       "      <td>75756</td>\n",
       "      <td>0</td>\n",
       "      <td>23888.0</td>\n",
       "      <td>107.69</td>\n",
       "      <td>49.127397</td>\n",
       "      <td>109.142051</td>\n",
       "      <td>29.15</td>\n",
       "    </tr>\n",
       "  </tbody>\n",
       "</table>\n",
       "<p>75757 rows × 7 columns</p>\n",
       "</div>"
      ],
      "text/plain": [
       "          id  building_class  floor_area  precipitation_inches   avg_temp  \\\n",
       "0          0               1     61242.0                 16.59  56.972603   \n",
       "1          1               1    274000.0                 16.59  56.972603   \n",
       "2          2               1    280025.0                 16.59  56.972603   \n",
       "3          3               1     55325.0                 16.59  56.972603   \n",
       "4          4               1     66000.0                 16.59  56.972603   \n",
       "...      ...             ...         ...                   ...        ...   \n",
       "75752  75752               1     20410.0                 45.03  55.147541   \n",
       "75753  75753               0     40489.0                 45.03  55.147541   \n",
       "75754  75754               1     28072.0                106.32  47.911202   \n",
       "75755  75755               1     53575.0                106.32  47.911202   \n",
       "75756  75756               0     23888.0                107.69  49.127397   \n",
       "\n",
       "       days_with_fog  site_eui  \n",
       "0         109.142051    248.68  \n",
       "1          12.000000     26.50  \n",
       "2          12.000000     24.69  \n",
       "3          12.000000     48.41  \n",
       "4         109.142051      3.90  \n",
       "...              ...       ...  \n",
       "75752     109.142051    132.92  \n",
       "75753     109.142051     39.48  \n",
       "75754     109.142051     48.40  \n",
       "75755     109.142051    592.02  \n",
       "75756     109.142051     29.15  \n",
       "\n",
       "[75757 rows x 7 columns]"
      ]
     },
     "execution_count": 24,
     "metadata": {},
     "output_type": "execute_result"
    }
   ],
   "source": [
    "# the only catergorical variable is building class and it is a binomial\n",
    "newdata = droptwo.replace(('Residential', 'Commercial'),(0,1))\n",
    "newdata"
   ]
  },
  {
   "cell_type": "markdown",
   "id": "6058bfbf",
   "metadata": {},
   "source": [
    "# 8.\n",
    "Create the boxplot and show the outlier."
   ]
  },
  {
   "cell_type": "code",
   "execution_count": 25,
   "id": "34ed49f5",
   "metadata": {},
   "outputs": [
    {
     "data": {
      "text/plain": [
       "Text(0.5, 1.0, 'Floor Area Boxplot')"
      ]
     },
     "execution_count": 25,
     "metadata": {},
     "output_type": "execute_result"
    },
    {
     "data": {
      "image/png": "[encoded data removed]",
      "text/plain": [
       "<Figure size 500x500 with 1 Axes>"
      ]
     },
     "metadata": {},
     "output_type": "display_data"
    }
   ],
   "source": [
    "import seaborn as sns\n",
    "sns.set(style='white')\n",
    "plt.subplots(figsize=(5,5))\n",
    "sns.boxplot(newdata['floor_area'],color='plum', width=0.5, orient ='v')\n",
    "plt.title('Floor Area Boxplot')"
   ]
  },
  {
   "cell_type": "code",
   "execution_count": 26,
   "id": "8dcf023e",
   "metadata": {},
   "outputs": [
    {
     "data": {
      "text/plain": [
       "Text(0.5, 1.0, 'Percipitation Boxplot')"
      ]
     },
     "execution_count": 26,
     "metadata": {},
     "output_type": "execute_result"
    },
    {
     "data": {
      "image/png": "[encoded data removed]",
      "text/plain": [
       "<Figure size 500x500 with 1 Axes>"
      ]
     },
     "metadata": {},
     "output_type": "display_data"
    }
   ],
   "source": [
    "import seaborn as sns\n",
    "sns.set(style='white')\n",
    "plt.subplots(figsize=(5,5))\n",
    "sns.boxplot(newdata['precipitation_inches'],color='plum', width=0.5, orient ='v')\n",
    "plt.title('Percipitation Boxplot')"
   ]
  },
  {
   "cell_type": "code",
   "execution_count": 27,
   "id": "5fcbe431",
   "metadata": {},
   "outputs": [
    {
     "data": {
      "text/plain": [
       "Text(0.5, 1.0, 'Average Temp Boxplot')"
      ]
     },
     "execution_count": 27,
     "metadata": {},
     "output_type": "execute_result"
    },
    {
     "data": {
      "image/png": "[encoded data removed]",
      "text/plain": [
       "<Figure size 500x500 with 1 Axes>"
      ]
     },
     "metadata": {},
     "output_type": "display_data"
    }
   ],
   "source": [
    "import seaborn as sns\n",
    "sns.set(style='white')\n",
    "plt.subplots(figsize=(5,5))\n",
    "sns.boxplot(newdata['avg_temp'],color='plum', width=0.5, orient ='v')\n",
    "plt.title('Average Temp Boxplot')"
   ]
  },
  {
   "cell_type": "code",
   "execution_count": 28,
   "id": "984e1892",
   "metadata": {},
   "outputs": [
    {
     "data": {
      "text/plain": [
       "Text(0.5, 1.0, 'Fog Boxplot')"
      ]
     },
     "execution_count": 28,
     "metadata": {},
     "output_type": "execute_result"
    },
    {
     "data": {
      "image/png": "[encoded data removed]",
      "text/plain": [
       "<Figure size 500x500 with 1 Axes>"
      ]
     },
     "metadata": {},
     "output_type": "display_data"
    }
   ],
   "source": [
    "import seaborn as sns\n",
    "sns.set(style='white')\n",
    "plt.subplots(figsize=(5,5))\n",
    "sns.boxplot(newdata['days_with_fog'],color='plum', width=0.5, orient ='v')\n",
    "plt.title('Fog Boxplot')"
   ]
  },
  {
   "cell_type": "code",
   "execution_count": 29,
   "id": "f6b56c9f",
   "metadata": {},
   "outputs": [
    {
     "data": {
      "text/plain": [
       "Text(0.5, 1.0, 'Site Energy Usage Boxplot')"
      ]
     },
     "execution_count": 29,
     "metadata": {},
     "output_type": "execute_result"
    },
    {
     "data": {
      "image/png": "[encoded data removed]",
      "text/plain": [
       "<Figure size 500x500 with 1 Axes>"
      ]
     },
     "metadata": {},
     "output_type": "display_data"
    }
   ],
   "source": [
    "import seaborn as sns\n",
    "sns.set(style='white')\n",
    "plt.subplots(figsize=(5,5))\n",
    "sns.boxplot(newdata['site_eui'],color='plum', width=0.5, orient ='v')\n",
    "plt.title('Site Energy Usage Boxplot')"
   ]
  },
  {
   "cell_type": "markdown",
   "id": "b2c37d41",
   "metadata": {},
   "source": [
    "# 9.\n",
    "Create thehistogram and check the outliers"
   ]
  },
  {
   "cell_type": "code",
   "execution_count": 30,
   "id": "9c659664",
   "metadata": {},
   "outputs": [
    {
     "data": {
      "text/plain": [
       "array([[<AxesSubplot:title={'center':'floor_area'}>]], dtype=object)"
      ]
     },
     "execution_count": 30,
     "metadata": {},
     "output_type": "execute_result"
    },
    {
     "data": {
      "image/png": "[encoded data removed]",
      "text/plain": [
       "<Figure size 400x400 with 1 Axes>"
      ]
     },
     "metadata": {},
     "output_type": "display_data"
    }
   ],
   "source": [
    "newdata.hist(column='floor_area', bins=15, grid= False, figsize= (4,4), color='pink')"
   ]
  },
  {
   "cell_type": "code",
   "execution_count": 31,
   "id": "f4441740",
   "metadata": {},
   "outputs": [
    {
     "data": {
      "text/plain": [
       "array([[<AxesSubplot:title={'center':'precipitation_inches'}>]],\n",
       "      dtype=object)"
      ]
     },
     "execution_count": 31,
     "metadata": {},
     "output_type": "execute_result"
    },
    {
     "data": {
      "image/png": "[encoded data removed]",
      "text/plain": [
       "<Figure size 400x400 with 1 Axes>"
      ]
     },
     "metadata": {},
     "output_type": "display_data"
    }
   ],
   "source": [
    "newdata.hist(column='precipitation_inches', bins=15, grid= False, figsize= (4,4), color='pink')"
   ]
  },
  {
   "cell_type": "code",
   "execution_count": 32,
   "id": "9d52b6dd",
   "metadata": {},
   "outputs": [
    {
     "data": {
      "text/plain": [
       "array([[<AxesSubplot:title={'center':'avg_temp'}>]], dtype=object)"
      ]
     },
     "execution_count": 32,
     "metadata": {},
     "output_type": "execute_result"
    },
    {
     "data": {
      "image/png": "[encoded data removed]",
      "text/plain": [
       "<Figure size 400x400 with 1 Axes>"
      ]
     },
     "metadata": {},
     "output_type": "display_data"
    }
   ],
   "source": [
    "newdata.hist(column='avg_temp', bins=15, grid= False, figsize= (4,4), color='pink')"
   ]
  },
  {
   "cell_type": "code",
   "execution_count": 33,
   "id": "fb581540",
   "metadata": {},
   "outputs": [
    {
     "data": {
      "text/plain": [
       "array([[<AxesSubplot:title={'center':'days_with_fog'}>]], dtype=object)"
      ]
     },
     "execution_count": 33,
     "metadata": {},
     "output_type": "execute_result"
    },
    {
     "data": {
      "image/png": "[encoded data removed]",
      "text/plain": [
       "<Figure size 400x400 with 1 Axes>"
      ]
     },
     "metadata": {},
     "output_type": "display_data"
    }
   ],
   "source": [
    "newdata.hist(column='days_with_fog', bins=15, grid= False, figsize= (4,4), color='pink')"
   ]
  },
  {
   "cell_type": "code",
   "execution_count": null,
   "id": "409a90a3",
   "metadata": {},
   "outputs": [],
   "source": [
    "newdata.hist(column='site_eui', bins=15, grid= False, figsize= (4,4), color='pink')"
   ]
  }
 ],
 "metadata": {
  "kernelspec": {
   "display_name": "Python 3 (ipykernel)",
   "language": "python",
   "name": "python3"
  },
  "language_info": {
   "codemirror_mode": {
    "name": "ipython",
    "version": 3
   },
   "file_extension": ".py",
   "mimetype": "text/x-python",
   "name": "python",
   "nbconvert_exporter": "python",
   "pygments_lexer": "ipython3",
   "version": "3.10.4"
  }
 },
 "nbformat": 4,
 "nbformat_minor": 5
}
