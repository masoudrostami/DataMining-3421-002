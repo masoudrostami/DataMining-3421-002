{
 "cells": [
  {
   "cell_type": "markdown",
   "id": "ca113e6c",
   "metadata": {},
   "source": [
    "Questions:\n",
    "Answer these questions with graphs and tables and paste your coding here."
   ]
  },
  {
   "cell_type": "code",
   "execution_count": 214,
   "id": "b875095f",
   "metadata": {},
   "outputs": [],
   "source": [
    "# All Imports\n",
    "import pandas\n",
    "import numpy as np\n",
    "import matplotlib.pyplot as plt\n",
    "import seaborn as sns\n",
    "from sklearn.preprocessing import LabelEncoder\n",
    "from sklearn.preprocessing import OneHotEncoder\n",
    "from sklearn.compose import ColumnTransformer\n",
    "from sklearn.preprocessing import StandardScaler"
   ]
  },
  {
   "attachments": {},
   "cell_type": "markdown",
   "id": "6bbcf388",
   "metadata": {},
   "source": [
    "#### 1. Please take a look at the data types and summary of our variables."
   ]
  },
  {
   "cell_type": "code",
   "execution_count": 215,
   "id": "1c61ce41",
   "metadata": {},
   "outputs": [],
   "source": [
    "df = pandas.read_csv('ClimateData.csv')"
   ]
  },
  {
   "cell_type": "code",
   "execution_count": 216,
   "id": "b0266f04",
   "metadata": {},
   "outputs": [
    {
     "data": {
      "text/html": [
       "<div>\n",
       "<style scoped>\n",
       "    .dataframe tbody tr th:only-of-type {\n",
       "        vertical-align: middle;\n",
       "    }\n",
       "\n",
       "    .dataframe tbody tr th {\n",
       "        vertical-align: top;\n",
       "    }\n",
       "\n",
       "    .dataframe thead th {\n",
       "        text-align: right;\n",
       "    }\n",
       "</style>\n",
       "<table border=\"1\" class=\"dataframe\">\n",
       "  <thead>\n",
       "    <tr style=\"text-align: right;\">\n",
       "      <th></th>\n",
       "      <th>id</th>\n",
       "      <th>building_class</th>\n",
       "      <th>floor_area</th>\n",
       "      <th>year_built</th>\n",
       "      <th>precipitation_inches</th>\n",
       "      <th>snowfall_inches</th>\n",
       "      <th>avg_temp</th>\n",
       "      <th>days_with_fog</th>\n",
       "      <th>site_eui</th>\n",
       "    </tr>\n",
       "  </thead>\n",
       "  <tbody>\n",
       "    <tr>\n",
       "      <th>0</th>\n",
       "      <td>0</td>\n",
       "      <td>Commercial</td>\n",
       "      <td>61242.0</td>\n",
       "      <td>1942.0</td>\n",
       "      <td>16.59</td>\n",
       "      <td>0.0</td>\n",
       "      <td>56.972603</td>\n",
       "      <td>NaN</td>\n",
       "      <td>248.68</td>\n",
       "    </tr>\n",
       "    <tr>\n",
       "      <th>1</th>\n",
       "      <td>1</td>\n",
       "      <td>Commercial</td>\n",
       "      <td>274000.0</td>\n",
       "      <td>1955.0</td>\n",
       "      <td>16.59</td>\n",
       "      <td>0.0</td>\n",
       "      <td>56.972603</td>\n",
       "      <td>12.0</td>\n",
       "      <td>26.50</td>\n",
       "    </tr>\n",
       "    <tr>\n",
       "      <th>2</th>\n",
       "      <td>2</td>\n",
       "      <td>Commercial</td>\n",
       "      <td>280025.0</td>\n",
       "      <td>1951.0</td>\n",
       "      <td>16.59</td>\n",
       "      <td>0.0</td>\n",
       "      <td>56.972603</td>\n",
       "      <td>12.0</td>\n",
       "      <td>24.69</td>\n",
       "    </tr>\n",
       "    <tr>\n",
       "      <th>3</th>\n",
       "      <td>3</td>\n",
       "      <td>Commercial</td>\n",
       "      <td>55325.0</td>\n",
       "      <td>1980.0</td>\n",
       "      <td>16.59</td>\n",
       "      <td>0.0</td>\n",
       "      <td>56.972603</td>\n",
       "      <td>12.0</td>\n",
       "      <td>48.41</td>\n",
       "    </tr>\n",
       "    <tr>\n",
       "      <th>4</th>\n",
       "      <td>4</td>\n",
       "      <td>Commercial</td>\n",
       "      <td>66000.0</td>\n",
       "      <td>1985.0</td>\n",
       "      <td>16.59</td>\n",
       "      <td>0.0</td>\n",
       "      <td>56.972603</td>\n",
       "      <td>NaN</td>\n",
       "      <td>3.90</td>\n",
       "    </tr>\n",
       "  </tbody>\n",
       "</table>\n",
       "</div>"
      ],
      "text/plain": [
       "   id building_class  floor_area  year_built  precipitation_inches  \\\n",
       "0   0     Commercial     61242.0      1942.0                 16.59   \n",
       "1   1     Commercial    274000.0      1955.0                 16.59   \n",
       "2   2     Commercial    280025.0      1951.0                 16.59   \n",
       "3   3     Commercial     55325.0      1980.0                 16.59   \n",
       "4   4     Commercial     66000.0      1985.0                 16.59   \n",
       "\n",
       "   snowfall_inches   avg_temp  days_with_fog  site_eui  \n",
       "0              0.0  56.972603            NaN    248.68  \n",
       "1              0.0  56.972603           12.0     26.50  \n",
       "2              0.0  56.972603           12.0     24.69  \n",
       "3              0.0  56.972603           12.0     48.41  \n",
       "4              0.0  56.972603            NaN      3.90  "
      ]
     },
     "execution_count": 216,
     "metadata": {},
     "output_type": "execute_result"
    }
   ],
   "source": [
    "df.head()"
   ]
  },
  {
   "cell_type": "code",
   "execution_count": 217,
   "id": "d2adb1f0",
   "metadata": {},
   "outputs": [
    {
     "data": {
      "text/html": [
       "<div>\n",
       "<style scoped>\n",
       "    .dataframe tbody tr th:only-of-type {\n",
       "        vertical-align: middle;\n",
       "    }\n",
       "\n",
       "    .dataframe tbody tr th {\n",
       "        vertical-align: top;\n",
       "    }\n",
       "\n",
       "    .dataframe thead th {\n",
       "        text-align: right;\n",
       "    }\n",
       "</style>\n",
       "<table border=\"1\" class=\"dataframe\">\n",
       "  <thead>\n",
       "    <tr style=\"text-align: right;\">\n",
       "      <th></th>\n",
       "      <th>id</th>\n",
       "      <th>building_class</th>\n",
       "      <th>floor_area</th>\n",
       "      <th>year_built</th>\n",
       "      <th>precipitation_inches</th>\n",
       "      <th>snowfall_inches</th>\n",
       "      <th>avg_temp</th>\n",
       "      <th>days_with_fog</th>\n",
       "      <th>site_eui</th>\n",
       "    </tr>\n",
       "  </thead>\n",
       "  <tbody>\n",
       "    <tr>\n",
       "      <th>75752</th>\n",
       "      <td>75752</td>\n",
       "      <td>Commercial</td>\n",
       "      <td>20410.0</td>\n",
       "      <td>1995.0</td>\n",
       "      <td>45.03</td>\n",
       "      <td>1.4</td>\n",
       "      <td>55.147541</td>\n",
       "      <td>NaN</td>\n",
       "      <td>132.92</td>\n",
       "    </tr>\n",
       "    <tr>\n",
       "      <th>75753</th>\n",
       "      <td>75753</td>\n",
       "      <td>Residential</td>\n",
       "      <td>40489.0</td>\n",
       "      <td>1910.0</td>\n",
       "      <td>45.03</td>\n",
       "      <td>1.4</td>\n",
       "      <td>55.147541</td>\n",
       "      <td>NaN</td>\n",
       "      <td>39.48</td>\n",
       "    </tr>\n",
       "    <tr>\n",
       "      <th>75754</th>\n",
       "      <td>75754</td>\n",
       "      <td>Commercial</td>\n",
       "      <td>28072.0</td>\n",
       "      <td>1917.0</td>\n",
       "      <td>106.32</td>\n",
       "      <td>36.6</td>\n",
       "      <td>47.911202</td>\n",
       "      <td>NaN</td>\n",
       "      <td>48.40</td>\n",
       "    </tr>\n",
       "    <tr>\n",
       "      <th>75755</th>\n",
       "      <td>75755</td>\n",
       "      <td>Commercial</td>\n",
       "      <td>53575.0</td>\n",
       "      <td>2012.0</td>\n",
       "      <td>106.32</td>\n",
       "      <td>36.6</td>\n",
       "      <td>47.911202</td>\n",
       "      <td>NaN</td>\n",
       "      <td>592.02</td>\n",
       "    </tr>\n",
       "    <tr>\n",
       "      <th>75756</th>\n",
       "      <td>75756</td>\n",
       "      <td>Residential</td>\n",
       "      <td>23888.0</td>\n",
       "      <td>1974.0</td>\n",
       "      <td>107.69</td>\n",
       "      <td>28.8</td>\n",
       "      <td>49.127397</td>\n",
       "      <td>NaN</td>\n",
       "      <td>29.15</td>\n",
       "    </tr>\n",
       "  </tbody>\n",
       "</table>\n",
       "</div>"
      ],
      "text/plain": [
       "          id building_class  floor_area  year_built  precipitation_inches  \\\n",
       "75752  75752     Commercial     20410.0      1995.0                 45.03   \n",
       "75753  75753    Residential     40489.0      1910.0                 45.03   \n",
       "75754  75754     Commercial     28072.0      1917.0                106.32   \n",
       "75755  75755     Commercial     53575.0      2012.0                106.32   \n",
       "75756  75756    Residential     23888.0      1974.0                107.69   \n",
       "\n",
       "       snowfall_inches   avg_temp  days_with_fog  site_eui  \n",
       "75752              1.4  55.147541            NaN    132.92  \n",
       "75753              1.4  55.147541            NaN     39.48  \n",
       "75754             36.6  47.911202            NaN     48.40  \n",
       "75755             36.6  47.911202            NaN    592.02  \n",
       "75756             28.8  49.127397            NaN     29.15  "
      ]
     },
     "execution_count": 217,
     "metadata": {},
     "output_type": "execute_result"
    }
   ],
   "source": [
    "df.tail()"
   ]
  },
  {
   "cell_type": "code",
   "execution_count": 218,
   "id": "2f06c597",
   "metadata": {},
   "outputs": [
    {
     "data": {
      "text/plain": [
       "(75757, 9)"
      ]
     },
     "execution_count": 218,
     "metadata": {},
     "output_type": "execute_result"
    }
   ],
   "source": [
    "df.shape"
   ]
  },
  {
   "cell_type": "code",
   "execution_count": 219,
   "id": "0d097c3a",
   "metadata": {},
   "outputs": [
    {
     "data": {
      "text/plain": [
       "id                        int64\n",
       "building_class           object\n",
       "floor_area              float64\n",
       "year_built              float64\n",
       "precipitation_inches    float64\n",
       "snowfall_inches         float64\n",
       "avg_temp                float64\n",
       "days_with_fog           float64\n",
       "site_eui                float64\n",
       "dtype: object"
      ]
     },
     "execution_count": 219,
     "metadata": {},
     "output_type": "execute_result"
    }
   ],
   "source": [
    "df.dtypes"
   ]
  },
  {
   "attachments": {},
   "cell_type": "markdown",
   "id": "121bf4cd",
   "metadata": {},
   "source": [
    "#### 2. Summarize the number of unique values in each column."
   ]
  },
  {
   "cell_type": "code",
   "execution_count": 220,
   "id": "f90014da",
   "metadata": {},
   "outputs": [
    {
     "name": "stdout",
     "output_type": "stream",
     "text": [
      "\n",
      " id \n",
      "\n",
      "[    0     1     2 ... 75754 75755 75756]\n",
      "\n",
      " building_class \n",
      "\n",
      "['Commercial' 'Residential']\n",
      "\n",
      " floor_area \n",
      "\n",
      "[ 61242. 274000. 280025. ... 103345.  36353.  40489.]\n",
      "\n",
      " year_built \n",
      "\n",
      "[1942. 1955. 1951. 1980. 1985. 1956. 1982. 1947. 1929. 1979. 1927. 1960.\n",
      " 1924.   nan 1949. 1926. 1914. 1973. 1900. 1913. 1962. 1989. 1967. 1954.\n",
      " 1986. 1906. 1912. 1902. 1920. 1905. 1997. 1909. 2002. 1974. 1907. 1908.\n",
      " 1988. 1987. 1923. 1948. 1966. 1975. 1934. 1938. 1983. 2003. 1915. 1961.\n",
      " 1911. 1925. 1964. 1953. 1957. 2006. 1990. 1991. 1969. 1968. 1910. 1937.\n",
      " 1971. 1965. 1946. 1917. 1901. 2000. 2008. 1999. 1981. 2001. 1978. 1898.\n",
      " 1928. 1970. 1918. 1930. 1903. 1936. 1921. 1922. 1984. 1976. 1952. 1959.\n",
      " 1916. 1963. 1972. 1919. 1931. 1958.    0. 1994. 1940. 2010. 2009. 1889.\n",
      " 1939. 1945. 1904. 1932. 1941. 1977. 1993. 1992. 1950. 1944. 1935. 1996.\n",
      " 1995. 1933. 1943. 2007. 2005. 2004. 1869. 2011. 2012. 1864. 1998. 1895.\n",
      " 1896. 1875. 1880. 1888. 1897. 1891. 2013. 1887. 1882. 1886. 1890. 1789.\n",
      " 1868. 1885. 2014. 1867. 2015. 1829. 1844. 1871. 1893. 1892. 1879. 1860.\n",
      " 1894. 1883. 1874. 1884. 1873. 1899. 1872. 1876. 1865. 1850. 1870. 1600.\n",
      " 1848. 1857. 1877. 1836. 1853. 1881. 1649. 1827. 1845. 1878. 1846. 1800.\n",
      " 1811. 1859. 1854. 1833. 1862. 1851. 1799. 1841. 1818. 1756. 1843. 1732.\n",
      " 1815.]\n",
      "\n",
      " precipitation_inches \n",
      "\n",
      "[ 16.59  10.43   6.64   8.04   1.69   3.28   7.29   3.51   8.21   4.71\n",
      "   4.41   6.58  13.77   1.86   9.97  31.48  15.34  19.27  22.14  13.1\n",
      "  13.54  21.15  10.34  41.12  50.77  29.97  24.72  63.43  18.92  37.43\n",
      "  25.54  77.19   5.57  16.07  15.     3.84   2.86   3.02   2.33   4.17\n",
      "   2.56  10.79   1.58   2.97   4.7    2.99   3.7    3.17   3.43   1.91\n",
      "   4.07   1.99   4.43   3.01   3.79   4.46   3.8    4.62   1.33   4.69\n",
      "   3.08   4.5    4.16   4.59   5.81   4.     8.45  20.89   7.18   7.5\n",
      "  21.8   10.3   15.86   0.    16.6   28.92   2.03   7.77  22.85   6.62\n",
      "   7.4    5.32   9.8    2.81   3.46   9.13  11.5    4.06   4.02  10.54\n",
      "   5.56  19.45  25.35   7.46  15.06   8.71  23.02  14.23  28.03  15.59\n",
      "  20.69  17.63  24.25  20.94  30.08  18.74  22.82  45.03  58.35  35.09\n",
      "  30.91  20.76  22.66  26.94  18.93  37.5   33.96  17.07  49.01   7.95\n",
      "  21.39  47.89  41.95  53.08  53.09  43.61  37.12  41.48  39.47  41.11\n",
      "  37.97  39.01  41.77  45.72  41.8   41.75  46.98  37.9   42.89  36.39\n",
      "  72.81  38.51  39.27  49.04  46.32  39.22  59.32  53.79  49.83  52.09\n",
      "  40.97  35.21  39.1   42.17  46.37  48.96  48.82  50.2   46.62  45.94\n",
      "  44.21  35.78  41.91  44.24  44.41  45.02  31.7   39.35  97.12 106.32\n",
      " 107.69]\n",
      "\n",
      " snowfall_inches \n",
      "\n",
      "[  0.    1.3  84.8  54.9  27.5  62.9  16.   27.    3.5  54.3   2.    0.5\n",
      "  27.1  27.8   3.    4.   15.3   0.4 127.3  46.5   6.    9.9  10.   11.5\n",
      "   6.9   1.    5.9  31.6  14.8  30.   45.   69.8  59.3  58.9  56.4  32.7\n",
      "  45.6  43.8  44.8  47.5  21.9  27.3  44.7   9.6  10.8  29.6  50.5  51.4\n",
      "  50.   54.6  49.1  63.5  52.8  36.   35.2  19.4  42.1  50.9  29.8  31.3\n",
      "  33.7  13.9  34.6   4.4  30.5  18.3  22.2  39.9   1.4  36.6  28.8]\n",
      "\n",
      " avg_temp \n",
      "\n",
      "[56.97260274 64.25136612 64.18306011 62.94917582 74.68493151 63.93306011\n",
      " 68.44917582 65.37774725 65.60519126 64.73835616 67.05874317 63.77747253\n",
      " 64.6284153  63.37568306 66.75546448 49.00835655 60.64617486 60.24726776\n",
      " 57.06010929 59.78356164 61.76639344 61.69398907 63.93956044 57.92349727\n",
      " 51.65846995 61.49453552 62.59478022 52.95901639 62.62861272 55.17994505\n",
      " 63.46311475 53.75       64.06027397 58.19726027 57.40273973 67.90547945\n",
      " 65.26986301 70.71780822 64.63013699 64.44109589 63.01232877 48.70684932\n",
      " 65.25616438 62.72513812 60.01232877 59.0890411  63.96694215 60.32739726\n",
      " 66.51643836 61.16712329 64.57534247 63.76849315 56.29395604 66.92054795\n",
      " 62.98493151 63.70360111 59.98626374 61.08356164 57.61369863 63.26164384\n",
      " 60.01369863 60.05616438 57.08219178 61.80958904 61.85068493 61.54657534\n",
      " 58.25905292 52.71840659 62.51785714 59.51236264 53.45342466 63.71982759\n",
      " 47.82231405 63.02222222 46.38219178 51.48219178 50.90410959 75.6260274\n",
      " 67.59315068 59.35205479 63.46218487 69.15753425 69.1739726  67.07260274\n",
      " 77.24520548 65.01236264 64.48082192 62.63972603 65.54281768 69.48493151\n",
      " 63.01369863 66.13150685 59.44093407 44.7369186  69.06027397 62.24383562\n",
      " 65.9820442  51.34710744 64.42328767 58.28493151 62.62054795 62.06712329\n",
      " 63.23287671 65.07162921 58.72739726 60.28493151 64.40273973 63.6369863\n",
      " 54.9369863  58.75       62.27808219 64.72054795 64.52465753 65.90616246\n",
      " 65.9630137  49.44352617 54.80958904 65.03424658 52.10914454 53.88718663\n",
      " 63.39863014 59.6489071  57.83516484 58.51912568 55.83333333 54.65168539\n",
      " 56.42795389 57.44318182 46.74022346 47.67671233 46.61157025 44.51232877\n",
      " 45.59530387 50.1565097  50.39726027 49.97123288 49.8        49.35635359\n",
      " 51.99022346 53.56267409 50.88365651 56.51917808 57.36612022 57.95753425\n",
      " 56.15710383 55.44931507 53.09726027 48.10684932 54.50136986 49.41620879\n",
      " 46.66712329 56.83561644 54.30547945 47.86986301 57.21584699 49.44535519\n",
      " 53.08219178 56.00688705 51.7739726  52.89589041 53.23835616 50.63472222\n",
      " 53.83933518 54.2295082  58.90136986 58.55753425 60.27260274 60.4057377\n",
      " 55.69315068 50.77534247 55.14754098 47.91120219 49.12739726]\n",
      "\n",
      " days_with_fog \n",
      "\n",
      "[ nan  12.  89.  88.  90. 104. 113. 184. 126. 107.  82.  84. 120. 178.\n",
      " 156. 110. 106. 311.  86.  37. 289. 176.  58. 267.  73. 161.  99.  93.\n",
      " 114.  79.  56.  63. 101. 111. 148. 131.  65.  87.  31. 125. 116.  51.\n",
      " 261.]\n",
      "\n",
      " site_eui \n",
      "\n",
      "[248.68  26.5   24.69 ... 188.52  40.53 592.02]\n"
     ]
    }
   ],
   "source": [
    "for col in df:\n",
    "    print(\"\\n\",col,\"\\n\")\n",
    "    print(df[col].unique())"
   ]
  },
  {
   "attachments": {},
   "cell_type": "markdown",
   "id": "afb93f4b",
   "metadata": {},
   "source": [
    "#### 3. Check at descriptive statistics for the Dataset."
   ]
  },
  {
   "cell_type": "code",
   "execution_count": 221,
   "id": "0a96a72f",
   "metadata": {},
   "outputs": [
    {
     "data": {
      "text/html": [
       "<div>\n",
       "<style scoped>\n",
       "    .dataframe tbody tr th:only-of-type {\n",
       "        vertical-align: middle;\n",
       "    }\n",
       "\n",
       "    .dataframe tbody tr th {\n",
       "        vertical-align: top;\n",
       "    }\n",
       "\n",
       "    .dataframe thead th {\n",
       "        text-align: right;\n",
       "    }\n",
       "</style>\n",
       "<table border=\"1\" class=\"dataframe\">\n",
       "  <thead>\n",
       "    <tr style=\"text-align: right;\">\n",
       "      <th></th>\n",
       "      <th>id</th>\n",
       "      <th>floor_area</th>\n",
       "      <th>year_built</th>\n",
       "      <th>precipitation_inches</th>\n",
       "      <th>snowfall_inches</th>\n",
       "      <th>avg_temp</th>\n",
       "      <th>days_with_fog</th>\n",
       "      <th>site_eui</th>\n",
       "    </tr>\n",
       "  </thead>\n",
       "  <tbody>\n",
       "    <tr>\n",
       "      <th>count</th>\n",
       "      <td>75757.000000</td>\n",
       "      <td>7.575700e+04</td>\n",
       "      <td>73920.000000</td>\n",
       "      <td>75757.000000</td>\n",
       "      <td>75757.000000</td>\n",
       "      <td>75757.000000</td>\n",
       "      <td>29961.000000</td>\n",
       "      <td>75757.000000</td>\n",
       "    </tr>\n",
       "    <tr>\n",
       "      <th>mean</th>\n",
       "      <td>37878.000000</td>\n",
       "      <td>1.659839e+05</td>\n",
       "      <td>1952.306764</td>\n",
       "      <td>42.430651</td>\n",
       "      <td>29.136379</td>\n",
       "      <td>56.176705</td>\n",
       "      <td>109.142051</td>\n",
       "      <td>82.584707</td>\n",
       "    </tr>\n",
       "    <tr>\n",
       "      <th>std</th>\n",
       "      <td>21869.306509</td>\n",
       "      <td>2.468758e+05</td>\n",
       "      <td>37.053619</td>\n",
       "      <td>10.592205</td>\n",
       "      <td>17.810894</td>\n",
       "      <td>2.241940</td>\n",
       "      <td>50.699751</td>\n",
       "      <td>58.255413</td>\n",
       "    </tr>\n",
       "    <tr>\n",
       "      <th>min</th>\n",
       "      <td>0.000000</td>\n",
       "      <td>9.430000e+02</td>\n",
       "      <td>0.000000</td>\n",
       "      <td>0.000000</td>\n",
       "      <td>0.000000</td>\n",
       "      <td>44.512329</td>\n",
       "      <td>12.000000</td>\n",
       "      <td>1.000000</td>\n",
       "    </tr>\n",
       "    <tr>\n",
       "      <th>25%</th>\n",
       "      <td>18939.000000</td>\n",
       "      <td>6.237900e+04</td>\n",
       "      <td>1927.000000</td>\n",
       "      <td>39.350000</td>\n",
       "      <td>9.600000</td>\n",
       "      <td>55.147541</td>\n",
       "      <td>88.000000</td>\n",
       "      <td>54.530000</td>\n",
       "    </tr>\n",
       "    <tr>\n",
       "      <th>50%</th>\n",
       "      <td>37878.000000</td>\n",
       "      <td>9.136700e+04</td>\n",
       "      <td>1951.000000</td>\n",
       "      <td>42.170000</td>\n",
       "      <td>31.600000</td>\n",
       "      <td>56.835616</td>\n",
       "      <td>104.000000</td>\n",
       "      <td>75.290000</td>\n",
       "    </tr>\n",
       "    <tr>\n",
       "      <th>75%</th>\n",
       "      <td>56817.000000</td>\n",
       "      <td>1.660000e+05</td>\n",
       "      <td>1977.000000</td>\n",
       "      <td>46.320000</td>\n",
       "      <td>49.100000</td>\n",
       "      <td>57.215847</td>\n",
       "      <td>131.000000</td>\n",
       "      <td>97.280000</td>\n",
       "    </tr>\n",
       "    <tr>\n",
       "      <th>max</th>\n",
       "      <td>75756.000000</td>\n",
       "      <td>6.385382e+06</td>\n",
       "      <td>2015.000000</td>\n",
       "      <td>107.690000</td>\n",
       "      <td>127.300000</td>\n",
       "      <td>77.245205</td>\n",
       "      <td>311.000000</td>\n",
       "      <td>997.870000</td>\n",
       "    </tr>\n",
       "  </tbody>\n",
       "</table>\n",
       "</div>"
      ],
      "text/plain": [
       "                 id    floor_area    year_built  precipitation_inches  \\\n",
       "count  75757.000000  7.575700e+04  73920.000000          75757.000000   \n",
       "mean   37878.000000  1.659839e+05   1952.306764             42.430651   \n",
       "std    21869.306509  2.468758e+05     37.053619             10.592205   \n",
       "min        0.000000  9.430000e+02      0.000000              0.000000   \n",
       "25%    18939.000000  6.237900e+04   1927.000000             39.350000   \n",
       "50%    37878.000000  9.136700e+04   1951.000000             42.170000   \n",
       "75%    56817.000000  1.660000e+05   1977.000000             46.320000   \n",
       "max    75756.000000  6.385382e+06   2015.000000            107.690000   \n",
       "\n",
       "       snowfall_inches      avg_temp  days_with_fog      site_eui  \n",
       "count     75757.000000  75757.000000   29961.000000  75757.000000  \n",
       "mean         29.136379     56.176705     109.142051     82.584707  \n",
       "std          17.810894      2.241940      50.699751     58.255413  \n",
       "min           0.000000     44.512329      12.000000      1.000000  \n",
       "25%           9.600000     55.147541      88.000000     54.530000  \n",
       "50%          31.600000     56.835616     104.000000     75.290000  \n",
       "75%          49.100000     57.215847     131.000000     97.280000  \n",
       "max         127.300000     77.245205     311.000000    997.870000  "
      ]
     },
     "execution_count": 221,
     "metadata": {},
     "output_type": "execute_result"
    }
   ],
   "source": [
    "df.describe()"
   ]
  },
  {
   "cell_type": "code",
   "execution_count": 222,
   "id": "94560f75",
   "metadata": {},
   "outputs": [
    {
     "name": "stdout",
     "output_type": "stream",
     "text": [
      "<class 'pandas.core.frame.DataFrame'>\n",
      "RangeIndex: 75757 entries, 0 to 75756\n",
      "Data columns (total 9 columns):\n",
      " #   Column                Non-Null Count  Dtype  \n",
      "---  ------                --------------  -----  \n",
      " 0   id                    75757 non-null  int64  \n",
      " 1   building_class        75757 non-null  object \n",
      " 2   floor_area            75757 non-null  float64\n",
      " 3   year_built            73920 non-null  float64\n",
      " 4   precipitation_inches  75757 non-null  float64\n",
      " 5   snowfall_inches       75757 non-null  float64\n",
      " 6   avg_temp              75757 non-null  float64\n",
      " 7   days_with_fog         29961 non-null  float64\n",
      " 8   site_eui              75757 non-null  float64\n",
      "dtypes: float64(7), int64(1), object(1)\n",
      "memory usage: 5.2+ MB\n"
     ]
    }
   ],
   "source": [
    "df.info()"
   ]
  },
  {
   "attachments": {},
   "cell_type": "markdown",
   "id": "db0161d5",
   "metadata": {},
   "source": [
    "#### 4. Check the number of missing values."
   ]
  },
  {
   "cell_type": "code",
   "execution_count": 223,
   "id": "c30c2267",
   "metadata": {},
   "outputs": [
    {
     "name": "stdout",
     "output_type": "stream",
     "text": [
      "Total Nan for column in the data is :\n",
      " year_built        1837\n",
      "days_with_fog    45796\n",
      "dtype: int64\n"
     ]
    }
   ],
   "source": [
    "print(\"Total Nan for column in the data is :\\n\", df[df.columns[df.isnull().any()]].isnull().sum())"
   ]
  },
  {
   "cell_type": "code",
   "execution_count": 224,
   "id": "2611a6dc",
   "metadata": {},
   "outputs": [
    {
     "name": "stdout",
     "output_type": "stream",
     "text": [
      "Percentage Missing of NaN values for the columns in data:\n",
      " year_built        2.424858\n",
      "days_with_fog    60.451179\n",
      "dtype: float64\n"
     ]
    }
   ],
   "source": [
    "print(\"Percentage Missing of NaN values for the columns in data:\\n\",df[df.columns[df.isnull().any()]].isnull().sum() * 100 / df.shape[0])"
   ]
  },
  {
   "attachments": {},
   "cell_type": "markdown",
   "id": "1113768f",
   "metadata": {},
   "source": [
    "#### 5. Take care of missing data. You can decide to remove or use the imputation."
   ]
  },
  {
   "cell_type": "code",
   "execution_count": 225,
   "id": "27a59534",
   "metadata": {},
   "outputs": [
    {
     "name": "stderr",
     "output_type": "stream",
     "text": [
      "/var/folders/p3/vzn3lx257fl9kxj8f1lgfc_m0000gn/T/ipykernel_17875/3493596106.py:1: FutureWarning: Dropping of nuisance columns in DataFrame reductions (with 'numeric_only=None') is deprecated; in a future version this will raise TypeError.  Select only valid columns before calling the reduction.\n",
      "  df = df.fillna(df.median())\n"
     ]
    }
   ],
   "source": [
    "df = df.fillna(df.median())"
   ]
  },
  {
   "cell_type": "code",
   "execution_count": 226,
   "id": "1fce95d8",
   "metadata": {},
   "outputs": [
    {
     "name": "stdout",
     "output_type": "stream",
     "text": [
      "Total Nan for column in the data is :\n",
      " Series([], dtype: float64)\n"
     ]
    }
   ],
   "source": [
    "print(\"Total Nan for column in the data is :\\n\", df[df.columns[df.isnull().any()]].isnull().sum())"
   ]
  },
  {
   "attachments": {},
   "cell_type": "markdown",
   "id": "bdb86f47",
   "metadata": {},
   "source": [
    "#### 6. Find and removeduplicate variables,"
   ]
  },
  {
   "cell_type": "code",
   "execution_count": 227,
   "id": "47bc448e",
   "metadata": {},
   "outputs": [
    {
     "data": {
      "text/html": [
       "<div>\n",
       "<style scoped>\n",
       "    .dataframe tbody tr th:only-of-type {\n",
       "        vertical-align: middle;\n",
       "    }\n",
       "\n",
       "    .dataframe tbody tr th {\n",
       "        vertical-align: top;\n",
       "    }\n",
       "\n",
       "    .dataframe thead th {\n",
       "        text-align: right;\n",
       "    }\n",
       "</style>\n",
       "<table border=\"1\" class=\"dataframe\">\n",
       "  <thead>\n",
       "    <tr style=\"text-align: right;\">\n",
       "      <th></th>\n",
       "      <th>id</th>\n",
       "      <th>building_class</th>\n",
       "      <th>floor_area</th>\n",
       "      <th>year_built</th>\n",
       "      <th>precipitation_inches</th>\n",
       "      <th>snowfall_inches</th>\n",
       "      <th>avg_temp</th>\n",
       "      <th>days_with_fog</th>\n",
       "      <th>site_eui</th>\n",
       "    </tr>\n",
       "  </thead>\n",
       "  <tbody>\n",
       "    <tr>\n",
       "      <th>0</th>\n",
       "      <td>0</td>\n",
       "      <td>Commercial</td>\n",
       "      <td>61242.0</td>\n",
       "      <td>1942.0</td>\n",
       "      <td>16.59</td>\n",
       "      <td>0.0</td>\n",
       "      <td>56.972603</td>\n",
       "      <td>104.0</td>\n",
       "      <td>248.68</td>\n",
       "    </tr>\n",
       "    <tr>\n",
       "      <th>1</th>\n",
       "      <td>1</td>\n",
       "      <td>Commercial</td>\n",
       "      <td>274000.0</td>\n",
       "      <td>1955.0</td>\n",
       "      <td>16.59</td>\n",
       "      <td>0.0</td>\n",
       "      <td>56.972603</td>\n",
       "      <td>12.0</td>\n",
       "      <td>26.50</td>\n",
       "    </tr>\n",
       "    <tr>\n",
       "      <th>2</th>\n",
       "      <td>2</td>\n",
       "      <td>Commercial</td>\n",
       "      <td>280025.0</td>\n",
       "      <td>1951.0</td>\n",
       "      <td>16.59</td>\n",
       "      <td>0.0</td>\n",
       "      <td>56.972603</td>\n",
       "      <td>12.0</td>\n",
       "      <td>24.69</td>\n",
       "    </tr>\n",
       "    <tr>\n",
       "      <th>3</th>\n",
       "      <td>3</td>\n",
       "      <td>Commercial</td>\n",
       "      <td>55325.0</td>\n",
       "      <td>1980.0</td>\n",
       "      <td>16.59</td>\n",
       "      <td>0.0</td>\n",
       "      <td>56.972603</td>\n",
       "      <td>12.0</td>\n",
       "      <td>48.41</td>\n",
       "    </tr>\n",
       "    <tr>\n",
       "      <th>4</th>\n",
       "      <td>4</td>\n",
       "      <td>Commercial</td>\n",
       "      <td>66000.0</td>\n",
       "      <td>1985.0</td>\n",
       "      <td>16.59</td>\n",
       "      <td>0.0</td>\n",
       "      <td>56.972603</td>\n",
       "      <td>104.0</td>\n",
       "      <td>3.90</td>\n",
       "    </tr>\n",
       "    <tr>\n",
       "      <th>...</th>\n",
       "      <td>...</td>\n",
       "      <td>...</td>\n",
       "      <td>...</td>\n",
       "      <td>...</td>\n",
       "      <td>...</td>\n",
       "      <td>...</td>\n",
       "      <td>...</td>\n",
       "      <td>...</td>\n",
       "      <td>...</td>\n",
       "    </tr>\n",
       "    <tr>\n",
       "      <th>75752</th>\n",
       "      <td>75752</td>\n",
       "      <td>Commercial</td>\n",
       "      <td>20410.0</td>\n",
       "      <td>1995.0</td>\n",
       "      <td>45.03</td>\n",
       "      <td>1.4</td>\n",
       "      <td>55.147541</td>\n",
       "      <td>104.0</td>\n",
       "      <td>132.92</td>\n",
       "    </tr>\n",
       "    <tr>\n",
       "      <th>75753</th>\n",
       "      <td>75753</td>\n",
       "      <td>Residential</td>\n",
       "      <td>40489.0</td>\n",
       "      <td>1910.0</td>\n",
       "      <td>45.03</td>\n",
       "      <td>1.4</td>\n",
       "      <td>55.147541</td>\n",
       "      <td>104.0</td>\n",
       "      <td>39.48</td>\n",
       "    </tr>\n",
       "    <tr>\n",
       "      <th>75754</th>\n",
       "      <td>75754</td>\n",
       "      <td>Commercial</td>\n",
       "      <td>28072.0</td>\n",
       "      <td>1917.0</td>\n",
       "      <td>106.32</td>\n",
       "      <td>36.6</td>\n",
       "      <td>47.911202</td>\n",
       "      <td>104.0</td>\n",
       "      <td>48.40</td>\n",
       "    </tr>\n",
       "    <tr>\n",
       "      <th>75755</th>\n",
       "      <td>75755</td>\n",
       "      <td>Commercial</td>\n",
       "      <td>53575.0</td>\n",
       "      <td>2012.0</td>\n",
       "      <td>106.32</td>\n",
       "      <td>36.6</td>\n",
       "      <td>47.911202</td>\n",
       "      <td>104.0</td>\n",
       "      <td>592.02</td>\n",
       "    </tr>\n",
       "    <tr>\n",
       "      <th>75756</th>\n",
       "      <td>75756</td>\n",
       "      <td>Residential</td>\n",
       "      <td>23888.0</td>\n",
       "      <td>1974.0</td>\n",
       "      <td>107.69</td>\n",
       "      <td>28.8</td>\n",
       "      <td>49.127397</td>\n",
       "      <td>104.0</td>\n",
       "      <td>29.15</td>\n",
       "    </tr>\n",
       "  </tbody>\n",
       "</table>\n",
       "<p>75757 rows × 9 columns</p>\n",
       "</div>"
      ],
      "text/plain": [
       "          id building_class  floor_area  year_built  precipitation_inches  \\\n",
       "0          0     Commercial     61242.0      1942.0                 16.59   \n",
       "1          1     Commercial    274000.0      1955.0                 16.59   \n",
       "2          2     Commercial    280025.0      1951.0                 16.59   \n",
       "3          3     Commercial     55325.0      1980.0                 16.59   \n",
       "4          4     Commercial     66000.0      1985.0                 16.59   \n",
       "...      ...            ...         ...         ...                   ...   \n",
       "75752  75752     Commercial     20410.0      1995.0                 45.03   \n",
       "75753  75753    Residential     40489.0      1910.0                 45.03   \n",
       "75754  75754     Commercial     28072.0      1917.0                106.32   \n",
       "75755  75755     Commercial     53575.0      2012.0                106.32   \n",
       "75756  75756    Residential     23888.0      1974.0                107.69   \n",
       "\n",
       "       snowfall_inches   avg_temp  days_with_fog  site_eui  \n",
       "0                  0.0  56.972603          104.0    248.68  \n",
       "1                  0.0  56.972603           12.0     26.50  \n",
       "2                  0.0  56.972603           12.0     24.69  \n",
       "3                  0.0  56.972603           12.0     48.41  \n",
       "4                  0.0  56.972603          104.0      3.90  \n",
       "...                ...        ...            ...       ...  \n",
       "75752              1.4  55.147541          104.0    132.92  \n",
       "75753              1.4  55.147541          104.0     39.48  \n",
       "75754             36.6  47.911202          104.0     48.40  \n",
       "75755             36.6  47.911202          104.0    592.02  \n",
       "75756             28.8  49.127397          104.0     29.15  \n",
       "\n",
       "[75757 rows x 9 columns]"
      ]
     },
     "execution_count": 227,
     "metadata": {},
     "output_type": "execute_result"
    }
   ],
   "source": [
    "df.drop_duplicates()"
   ]
  },
  {
   "cell_type": "code",
   "execution_count": 228,
   "id": "e7a9588c",
   "metadata": {},
   "outputs": [
    {
     "name": "stdout",
     "output_type": "stream",
     "text": [
      "Number of Duplicates is  0\n"
     ]
    }
   ],
   "source": [
    "print(\"Number of Duplicates is \",df.duplicated().sum())"
   ]
  },
  {
   "attachments": {},
   "cell_type": "markdown",
   "id": "175287a3",
   "metadata": {},
   "source": [
    "#### 7. Encode the categorical variables; you can use label encoding, one hot encoding, or..."
   ]
  },
  {
   "cell_type": "code",
   "execution_count": 229,
   "id": "a62d786d",
   "metadata": {},
   "outputs": [
    {
     "data": {
      "text/html": [
       "<div>\n",
       "<style scoped>\n",
       "    .dataframe tbody tr th:only-of-type {\n",
       "        vertical-align: middle;\n",
       "    }\n",
       "\n",
       "    .dataframe tbody tr th {\n",
       "        vertical-align: top;\n",
       "    }\n",
       "\n",
       "    .dataframe thead th {\n",
       "        text-align: right;\n",
       "    }\n",
       "</style>\n",
       "<table border=\"1\" class=\"dataframe\">\n",
       "  <thead>\n",
       "    <tr style=\"text-align: right;\">\n",
       "      <th></th>\n",
       "      <th>id</th>\n",
       "      <th>building_class</th>\n",
       "      <th>floor_area</th>\n",
       "      <th>year_built</th>\n",
       "      <th>precipitation_inches</th>\n",
       "      <th>snowfall_inches</th>\n",
       "      <th>avg_temp</th>\n",
       "      <th>days_with_fog</th>\n",
       "      <th>site_eui</th>\n",
       "    </tr>\n",
       "  </thead>\n",
       "  <tbody>\n",
       "    <tr>\n",
       "      <th>0</th>\n",
       "      <td>0</td>\n",
       "      <td>Commercial</td>\n",
       "      <td>61242.0</td>\n",
       "      <td>1942.0</td>\n",
       "      <td>16.59</td>\n",
       "      <td>0.0</td>\n",
       "      <td>56.972603</td>\n",
       "      <td>104.0</td>\n",
       "      <td>248.68</td>\n",
       "    </tr>\n",
       "    <tr>\n",
       "      <th>1</th>\n",
       "      <td>1</td>\n",
       "      <td>Commercial</td>\n",
       "      <td>274000.0</td>\n",
       "      <td>1955.0</td>\n",
       "      <td>16.59</td>\n",
       "      <td>0.0</td>\n",
       "      <td>56.972603</td>\n",
       "      <td>12.0</td>\n",
       "      <td>26.50</td>\n",
       "    </tr>\n",
       "    <tr>\n",
       "      <th>2</th>\n",
       "      <td>2</td>\n",
       "      <td>Commercial</td>\n",
       "      <td>280025.0</td>\n",
       "      <td>1951.0</td>\n",
       "      <td>16.59</td>\n",
       "      <td>0.0</td>\n",
       "      <td>56.972603</td>\n",
       "      <td>12.0</td>\n",
       "      <td>24.69</td>\n",
       "    </tr>\n",
       "    <tr>\n",
       "      <th>3</th>\n",
       "      <td>3</td>\n",
       "      <td>Commercial</td>\n",
       "      <td>55325.0</td>\n",
       "      <td>1980.0</td>\n",
       "      <td>16.59</td>\n",
       "      <td>0.0</td>\n",
       "      <td>56.972603</td>\n",
       "      <td>12.0</td>\n",
       "      <td>48.41</td>\n",
       "    </tr>\n",
       "    <tr>\n",
       "      <th>4</th>\n",
       "      <td>4</td>\n",
       "      <td>Commercial</td>\n",
       "      <td>66000.0</td>\n",
       "      <td>1985.0</td>\n",
       "      <td>16.59</td>\n",
       "      <td>0.0</td>\n",
       "      <td>56.972603</td>\n",
       "      <td>104.0</td>\n",
       "      <td>3.90</td>\n",
       "    </tr>\n",
       "  </tbody>\n",
       "</table>\n",
       "</div>"
      ],
      "text/plain": [
       "   id building_class  floor_area  year_built  precipitation_inches  \\\n",
       "0   0     Commercial     61242.0      1942.0                 16.59   \n",
       "1   1     Commercial    274000.0      1955.0                 16.59   \n",
       "2   2     Commercial    280025.0      1951.0                 16.59   \n",
       "3   3     Commercial     55325.0      1980.0                 16.59   \n",
       "4   4     Commercial     66000.0      1985.0                 16.59   \n",
       "\n",
       "   snowfall_inches   avg_temp  days_with_fog  site_eui  \n",
       "0              0.0  56.972603          104.0    248.68  \n",
       "1              0.0  56.972603           12.0     26.50  \n",
       "2              0.0  56.972603           12.0     24.69  \n",
       "3              0.0  56.972603           12.0     48.41  \n",
       "4              0.0  56.972603          104.0      3.90  "
      ]
     },
     "execution_count": 229,
     "metadata": {},
     "output_type": "execute_result"
    }
   ],
   "source": [
    "df.head()"
   ]
  },
  {
   "cell_type": "code",
   "execution_count": 230,
   "id": "645f00ca",
   "metadata": {},
   "outputs": [],
   "source": [
    "new_df = ColumnTransformer(transformers=[('encoder',OneHotEncoder(),[1])],remainder='passthrough')"
   ]
  },
  {
   "cell_type": "code",
   "execution_count": 231,
   "id": "90969c64",
   "metadata": {},
   "outputs": [
    {
     "data": {
      "text/plain": [
       "array([[1.00000000e+00, 0.00000000e+00, 0.00000000e+00, ...,\n",
       "        5.69726027e+01, 1.04000000e+02, 2.48680000e+02],\n",
       "       [1.00000000e+00, 0.00000000e+00, 1.00000000e+00, ...,\n",
       "        5.69726027e+01, 1.20000000e+01, 2.65000000e+01],\n",
       "       [1.00000000e+00, 0.00000000e+00, 2.00000000e+00, ...,\n",
       "        5.69726027e+01, 1.20000000e+01, 2.46900000e+01],\n",
       "       ...,\n",
       "       [1.00000000e+00, 0.00000000e+00, 7.57540000e+04, ...,\n",
       "        4.79112022e+01, 1.04000000e+02, 4.84000000e+01],\n",
       "       [1.00000000e+00, 0.00000000e+00, 7.57550000e+04, ...,\n",
       "        4.79112022e+01, 1.04000000e+02, 5.92020000e+02],\n",
       "       [0.00000000e+00, 1.00000000e+00, 7.57560000e+04, ...,\n",
       "        4.91273973e+01, 1.04000000e+02, 2.91500000e+01]])"
      ]
     },
     "execution_count": 231,
     "metadata": {},
     "output_type": "execute_result"
    }
   ],
   "source": [
    "df = np.array(new_df.fit_transform(df))\n",
    "df"
   ]
  },
  {
   "attachments": {},
   "cell_type": "markdown",
   "id": "b915aa0e",
   "metadata": {},
   "source": [
    "#### 8. Create the boxplot and show the outlier."
   ]
  },
  {
   "cell_type": "code",
   "execution_count": 232,
   "id": "adc0b94c",
   "metadata": {},
   "outputs": [
    {
     "data": {
      "image/png": "[encoded data removed]",
      "text/plain": [
       "<Figure size 720x504 with 1 Axes>"
      ]
     },
     "metadata": {
      "needs_background": "light"
     },
     "output_type": "display_data"
    }
   ],
   "source": [
    "fig = plt.figure(figsize =(10, 7))\n",
    " \n",
    "# Creating plot\n",
    "plt.boxplot(df)\n",
    "plt.show()"
   ]
  },
  {
   "attachments": {},
   "cell_type": "markdown",
   "id": "6240a076",
   "metadata": {},
   "source": [
    "### Clearly the fourth column is the outlier for the box plot"
   ]
  },
  {
   "attachments": {},
   "cell_type": "markdown",
   "id": "6d3dbf43",
   "metadata": {},
   "source": [
    "#### 9. Create thehistogram and check the outliers."
   ]
  },
  {
   "cell_type": "code",
   "execution_count": 233,
   "id": "72e9b58c",
   "metadata": {},
   "outputs": [
    {
     "data": {
      "image/png": "[encoded data removed]",
      "text/plain": [
       "<Figure size 360x360 with 1 Axes>"
      ]
     },
     "metadata": {
      "needs_background": "light"
     },
     "output_type": "display_data"
    }
   ],
   "source": [
    "fig = plt.figure(figsize =(5, 5))\n",
    "plt.hist(df,bins = 10)\n",
    "plt.show()"
   ]
  },
  {
   "attachments": {},
   "cell_type": "markdown",
   "id": "1cb8d6a0",
   "metadata": {},
   "source": [
    "#### 10. If feature scaling is needed, do it, please."
   ]
  },
  {
   "cell_type": "code",
   "execution_count": 234,
   "id": "980513eb",
   "metadata": {},
   "outputs": [],
   "source": [
    "sc = StandardScaler()\n",
    "sc.fit(df[:,5:])\n",
    "df = sc.transform(df[:,5:])"
   ]
  },
  {
   "cell_type": "code",
   "execution_count": 235,
   "id": "e9eaec96",
   "metadata": {},
   "outputs": [
    {
     "name": "stdout",
     "output_type": "stream",
     "text": [
      "[[-2.43960747 -1.63588486  0.35500655 -0.06358555  2.85117521]\n",
      " [-2.43960747 -1.63588486  0.35500655 -2.94016484 -0.96274448]\n",
      " [-2.43960747 -1.63588486  0.35500655 -2.94016484 -0.99381476]\n",
      " ...\n",
      " [ 6.03177265  0.41905082 -3.68678839 -0.06358555 -0.58681127]\n",
      " [ 6.03177265  0.41905082 -3.68678839 -0.06358555  8.74491537]\n",
      " [ 6.1611139  -0.01888629 -3.14431032 -0.06358555 -0.91725485]]\n"
     ]
    }
   ],
   "source": [
    "print(df)"
   ]
  },
  {
   "attachments": {},
   "cell_type": "markdown",
   "id": "1e50bafe",
   "metadata": {},
   "source": [
    "### Graphs with Feature Selection"
   ]
  },
  {
   "cell_type": "code",
   "execution_count": 236,
   "id": "6007fadf",
   "metadata": {},
   "outputs": [
    {
     "data": {
      "image/png": "[encoded data removed]",
      "text/plain": [
       "<Figure size 360x360 with 1 Axes>"
      ]
     },
     "metadata": {
      "needs_background": "light"
     },
     "output_type": "display_data"
    }
   ],
   "source": [
    "fig = plt.figure(figsize =(5, 5))\n",
    "plt.hist(df,bins = 10)\n",
    "plt.show()"
   ]
  },
  {
   "cell_type": "code",
   "execution_count": 237,
   "id": "03c974ed",
   "metadata": {},
   "outputs": [
    {
     "data": {
      "image/png": "[encoded data removed]",
      "text/plain": [
       "<Figure size 720x504 with 1 Axes>"
      ]
     },
     "metadata": {
      "needs_background": "light"
     },
     "output_type": "display_data"
    }
   ],
   "source": [
    "import matplotlib.pyplot as plt\n",
    "fig = plt.figure(figsize =(10, 7))\n",
    " \n",
    "# Creating plot\n",
    "plt.boxplot(df)\n",
    "plt.show()"
   ]
  },
  {
   "cell_type": "code",
   "execution_count": null,
   "id": "6bc5000b",
   "metadata": {},
   "outputs": [],
   "source": []
  }
 ],
 "metadata": {
  "kernelspec": {
   "display_name": "base",
   "language": "python",
   "name": "python3"
  },
  "language_info": {
   "codemirror_mode": {
    "name": "ipython",
    "version": 3
   },
   "file_extension": ".py",
   "mimetype": "text/x-python",
   "name": "python",
   "nbconvert_exporter": "python",
   "pygments_lexer": "ipython3",
   "version": "3.9.12"
  },
  "vscode": {
   "interpreter": {
    "hash": "40d3a090f54c6569ab1632332b64b2c03c39dcf918b08424e98f38b5ae0af88f"
   }
  }
 },
 "nbformat": 4,
 "nbformat_minor": 5
}
