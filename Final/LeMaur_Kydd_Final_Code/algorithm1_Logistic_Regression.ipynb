{
 "cells": [
  {
   "cell_type": "markdown",
   "id": "2e1f21c1",
   "metadata": {},
   "source": [
    "# Santander Bank Binary Classification (Algorithm 1)\n",
    "Using Logistic Regression"
   ]
  },
  {
   "cell_type": "markdown",
   "id": "d38ca724",
   "metadata": {},
   "source": [
    "### Importing Packages"
   ]
  },
  {
   "cell_type": "code",
   "execution_count": 77,
   "id": "17ff109e",
   "metadata": {},
   "outputs": [],
   "source": [
    "import pandas as pd\n",
    "import numpy as np\n",
    "import matplotlib.pyplot as plt\n",
    "import seaborn as sns\n",
    "from sklearn.linear_model import LogisticRegression\n",
    "from sklearn.model_selection import train_test_split\n",
    "from sklearn import metrics\n",
    "from sklearn.metrics import classification_report\n",
    "from sklearn.preprocessing import StandardScaler"
   ]
  },
  {
   "cell_type": "markdown",
   "id": "68c0b9c4",
   "metadata": {},
   "source": [
    "### Opening datasets"
   ]
  },
  {
   "cell_type": "code",
   "execution_count": 78,
   "id": "0a367afe",
   "metadata": {},
   "outputs": [
    {
     "name": "stdout",
     "output_type": "stream",
     "text": [
      "CPU times: user 13.9 s, sys: 6.26 s, total: 20.2 s\n",
      "Wall time: 28.7 s\n"
     ]
    }
   ],
   "source": [
    "%%time\n",
    "with open('../../data/reduced_training_data.csv') as file:\n",
    "    training_data = pd.read_csv(file)\n",
    "\n",
    "with open('../../data/reduced_testing_data.csv') as file:\n",
    "    testing_data = pd.read_csv(file)\n",
    "\n",
    "with open('../../data/test.csv') as file:\n",
    "    testing_data1 = pd.read_csv(file)"
   ]
  },
  {
   "cell_type": "code",
   "execution_count": 12,
   "id": "15fd0c50",
   "metadata": {},
   "outputs": [],
   "source": [
    "training_int_vals_only = training_data.iloc[:,2:]\n",
    "training_target_vals_only = training_data['target']"
   ]
  },
  {
   "cell_type": "markdown",
   "id": "eb6c84e8",
   "metadata": {},
   "source": [
    "### Logistic Regression"
   ]
  },
  {
   "cell_type": "code",
   "execution_count": 14,
   "id": "8e748a1b",
   "metadata": {},
   "outputs": [],
   "source": [
    "X_train, X_test, Y_train, Y_test = train_test_split(training_int_vals_only, training_target_vals_only, test_size=0.3, random_state=10, stratify=training_target_vals_only)"
   ]
  },
  {
   "cell_type": "code",
   "execution_count": 15,
   "id": "b5ff2106",
   "metadata": {
    "scrolled": true
   },
   "outputs": [
    {
     "data": {
      "text/plain": [
       "(          var_0   var_1    var_2    var_3    var_4    var_5   var_6    var_7  \\\n",
       " 118660   6.3621  5.1034   9.0619   8.6041   9.7014   5.7682  6.2176  19.1515   \n",
       " 87838   14.4450  4.0567  10.7381  11.0638   9.2711  -1.1342  4.1611  14.9470   \n",
       " 157069   8.2442 -4.0511  10.5725   4.7781  11.6842  -9.0438  5.6573  15.6931   \n",
       " 96497   10.1530 -5.2584   6.6344   3.3322  10.8233   1.0801  5.3971  17.2122   \n",
       " 24630   17.0395 -8.3155  10.9771   7.8096  13.3271 -20.0029  5.1580  18.2400   \n",
       " ...         ...     ...      ...      ...      ...      ...     ...      ...   \n",
       " 184167  14.2037  3.4434   9.1957   3.3622  10.1378  -4.9193  5.5141  15.8381   \n",
       " 65617   13.3555  1.9620   8.6350   6.8071   8.7281   2.9986  5.0088  14.6058   \n",
       " 170226   8.4790 -4.4555  11.5666   9.6247  11.7914  -1.3737  6.1561  19.8069   \n",
       " 143377  10.3041  2.4986   8.2943   8.1730  14.5634 -10.6302  4.3293  15.8007   \n",
       " 112090   9.5276 -4.1086   7.7000   6.1100   9.8585 -10.8082  6.7000  18.5443   \n",
       " \n",
       "          var_8   var_9  ...  var_189  var_190  var_191  var_192  var_193  \\\n",
       " 118660  1.1527  6.7320  ...   2.5700   4.1551   8.9731   0.5686  -1.6030   \n",
       " 87838   2.7978  7.0326  ...   2.0564  -0.2678   9.4035   0.9925   5.3582   \n",
       " 157069  2.5342  8.5660  ...   0.3803   3.5549   7.4312   3.9250   6.9062   \n",
       " 96497   1.1853  9.0303  ...   2.2383  -5.2268   9.9632   5.1049  -2.0040   \n",
       " 24630   1.8249  9.1081  ...  -0.2365  -2.1414   9.1144   4.2862  -1.1241   \n",
       " ...        ...     ...  ...      ...      ...      ...      ...      ...   \n",
       " 184167 -4.9117  8.4332  ...   1.3492   8.7729   7.7120   1.3024   7.1783   \n",
       " 65617  -4.8537  8.8548  ...   1.8677  10.1067   4.6266   3.4535   6.5970   \n",
       " 170226  3.5666  8.8051  ...   0.1538   5.0790  11.4324   5.0417  -0.3581   \n",
       " 143377 -3.9293  7.7611  ...   0.9612   3.6047   7.5667   1.4640  10.6307   \n",
       " 112090  3.8090  6.9108  ...  -0.8746   9.4110   8.4115   3.6012   1.4238   \n",
       " \n",
       "         var_194  var_195  var_196  var_198  var_199  \n",
       " 118660  14.0486   2.3781   6.2758  18.6036 -18.1448  \n",
       " 87838   11.0190  -0.1171   0.6047  19.1937   5.8566  \n",
       " 157069  15.3398   0.1843   1.6447  17.9427   6.5424  \n",
       " 96497   23.9537   0.1476  -0.1047  21.5527 -13.7572  \n",
       " 24630   17.7826  -1.6402  -2.3408  15.9427  -2.5378  \n",
       " ...         ...      ...      ...      ...      ...  \n",
       " 184167  20.4814  -0.5063   9.8661  15.2794   5.4330  \n",
       " 65617   18.3056   2.9682   5.9623  19.3480  -6.9240  \n",
       " 170226  14.2804  -0.4803   3.9051  18.3359  -5.4136  \n",
       " 143377  15.4283  -0.2717   0.0762  12.6384  -4.6831  \n",
       " 112090  21.7077  -1.1816  -2.6027  14.3546  -2.4025  \n",
       " \n",
       " [140000 rows x 175 columns],\n",
       "           var_0   var_1    var_2   var_3    var_4    var_5   var_6    var_7  \\\n",
       " 177232   7.8212  3.1642   9.8754  5.5021  13.4793  -0.7400  4.2407  21.1590   \n",
       " 107336  11.2369  1.9389  12.3401  8.7612  13.7304  -5.2719  5.2980  11.0275   \n",
       " 168407   8.7210  2.6977  14.2666  8.8242   9.6915 -13.0930  6.6650  10.5700   \n",
       " 64425    8.3225 -5.5002   8.5143  5.2795  11.4445  -2.9644  5.8205  15.0658   \n",
       " 55029   11.0847 -4.1536  11.5246  8.3918   8.2497  -3.4079  6.3026  16.5203   \n",
       " ...         ...     ...      ...     ...      ...      ...     ...      ...   \n",
       " 102605  12.1266 -2.1484  13.9010  6.3820  10.8378 -15.4429  5.0458  17.8941   \n",
       " 163051  12.3817 -6.8703   9.8422  6.8023  12.4494   5.7591  4.8076  19.7658   \n",
       " 26302   17.3686 -7.9884  13.9950  7.7912   9.4754   2.4494  6.6712  14.4947   \n",
       " 195039  10.7989  2.8134  15.9655  4.3471  11.5472 -11.1117  5.1061  13.1693   \n",
       " 188148  10.9153  2.0490   7.0796  4.3186   7.9825   1.2459  5.0179  17.3621   \n",
       " \n",
       "          var_8    var_9  ...  var_189  var_190  var_191  var_192  var_193  \\\n",
       " 177232 -2.9878  10.5882  ...   1.8395   7.9517   5.6734   2.1681   7.3270   \n",
       " 107336 -0.7421   7.9771  ...  -0.3015   4.8939   2.1110   1.3380   3.7629   \n",
       " 168407  0.2877   8.6918  ...   1.1350   3.9356   6.4661   1.1740   5.3786   \n",
       " 64425  -0.8852   5.5419  ...   2.6229   1.6511   3.9463   1.3660   7.6109   \n",
       " 55029  -4.3633   9.6297  ...  -0.0033   5.9806  12.0740   2.6950   7.7271   \n",
       " ...        ...      ...  ...      ...      ...      ...      ...      ...   \n",
       " 102605  3.4630   8.5031  ...   1.0626   1.7290   6.8149   0.1861   4.7789   \n",
       " 163051  1.7091   7.9948  ...   1.0501  10.6838   3.2742   0.9535   8.5877   \n",
       " 26302   4.2034   7.9468  ...   1.0860   5.2866   6.2800   0.5942   0.5111   \n",
       " 195039  1.6090   7.9066  ...  -0.3509   0.4245   6.3846   2.0344  11.6707   \n",
       " 188148 -0.2869   9.0693  ...  -0.0743   4.6122   1.1739   4.2207   8.1277   \n",
       " \n",
       "         var_194  var_195  var_196  var_198  var_199  \n",
       " 177232  18.7483  -0.7622   6.7992  12.3633  -7.2710  \n",
       " 107336  20.8522  -0.3202   2.4012  12.2641   3.7440  \n",
       " 168407  19.0965  -0.1466   3.5586  18.4455  -2.1431  \n",
       " 64425   22.5174  -0.7776   7.9879  15.5133   1.3231  \n",
       " 55029   16.8045   0.0789  -7.0487   8.1429   6.6616  \n",
       " ...         ...      ...      ...      ...      ...  \n",
       " 102605  19.8802   0.2053   0.4105  18.6049  -1.9126  \n",
       " 163051  14.6625   0.2538   6.3015  14.9387   9.4593  \n",
       " 26302   12.1901  -1.0130   3.4620  15.2111   9.1212  \n",
       " 195039  17.9456   0.7536   3.4157  14.8071  -3.3036  \n",
       " 188148  17.4854  -1.5097   7.2368  15.0785   0.7933  \n",
       " \n",
       " [60000 rows x 175 columns],\n",
       " 118660    0\n",
       " 87838     0\n",
       " 157069    0\n",
       " 96497     0\n",
       " 24630     0\n",
       "          ..\n",
       " 184167    0\n",
       " 65617     0\n",
       " 170226    0\n",
       " 143377    0\n",
       " 112090    0\n",
       " Name: target, Length: 140000, dtype: int64,\n",
       " 177232    0\n",
       " 107336    0\n",
       " 168407    0\n",
       " 64425     0\n",
       " 55029     0\n",
       "          ..\n",
       " 102605    0\n",
       " 163051    0\n",
       " 26302     0\n",
       " 195039    0\n",
       " 188148    0\n",
       " Name: target, Length: 60000, dtype: int64)"
      ]
     },
     "execution_count": 15,
     "metadata": {},
     "output_type": "execute_result"
    }
   ],
   "source": [
    "X_train, X_test, Y_train, Y_test"
   ]
  },
  {
   "cell_type": "code",
   "execution_count": 1,
   "id": "356aea22",
   "metadata": {},
   "outputs": [
    {
     "ename": "NameError",
     "evalue": "name 'StandardScaler' is not defined",
     "output_type": "error",
     "traceback": [
      "\u001b[0;31m---------------------------------------------------------------------------\u001b[0m",
      "\u001b[0;31mNameError\u001b[0m                                 Traceback (most recent call last)",
      "Input \u001b[0;32mIn [1]\u001b[0m, in \u001b[0;36m<module>\u001b[0;34m\u001b[0m\n\u001b[0;32m----> 1\u001b[0m sc \u001b[38;5;241m=\u001b[39m \u001b[43mStandardScaler\u001b[49m()\n\u001b[1;32m      2\u001b[0m sc\u001b[38;5;241m.\u001b[39mfit(X_train)\n\u001b[1;32m      3\u001b[0m X_train_std \u001b[38;5;241m=\u001b[39m sc\u001b[38;5;241m.\u001b[39mtransform(X_train)\n",
      "\u001b[0;31mNameError\u001b[0m: name 'StandardScaler' is not defined"
     ]
    }
   ],
   "source": [
    "sc = StandardScaler()\n",
    "sc.fit(X_train)\n",
    "X_train_std = sc.transform(X_train)\n",
    "X_test_std = sc.transform(X_test)\n",
    "testing_data_std = sc.transform(testing_data)"
   ]
  },
  {
   "cell_type": "code",
   "execution_count": 19,
   "id": "ade746d6",
   "metadata": {},
   "outputs": [
    {
     "name": "stdout",
     "output_type": "stream",
     "text": [
      "CPU times: user 3.4 s, sys: 3.71 s, total: 7.11 s\n",
      "Wall time: 12.2 s\n"
     ]
    },
    {
     "data": {
      "text/html": [
       "<style>#sk-container-id-1 {color: black;background-color: white;}#sk-container-id-1 pre{padding: 0;}#sk-container-id-1 div.sk-toggleable {background-color: white;}#sk-container-id-1 label.sk-toggleable__label {cursor: pointer;display: block;width: 100%;margin-bottom: 0;padding: 0.3em;box-sizing: border-box;text-align: center;}#sk-container-id-1 label.sk-toggleable__label-arrow:before {content: \"▸\";float: left;margin-right: 0.25em;color: #696969;}#sk-container-id-1 label.sk-toggleable__label-arrow:hover:before {color: black;}#sk-container-id-1 div.sk-estimator:hover label.sk-toggleable__label-arrow:before {color: black;}#sk-container-id-1 div.sk-toggleable__content {max-height: 0;max-width: 0;overflow: hidden;text-align: left;background-color: #f0f8ff;}#sk-container-id-1 div.sk-toggleable__content pre {margin: 0.2em;color: black;border-radius: 0.25em;background-color: #f0f8ff;}#sk-container-id-1 input.sk-toggleable__control:checked~div.sk-toggleable__content {max-height: 200px;max-width: 100%;overflow: auto;}#sk-container-id-1 input.sk-toggleable__control:checked~label.sk-toggleable__label-arrow:before {content: \"▾\";}#sk-container-id-1 div.sk-estimator input.sk-toggleable__control:checked~label.sk-toggleable__label {background-color: #d4ebff;}#sk-container-id-1 div.sk-label input.sk-toggleable__control:checked~label.sk-toggleable__label {background-color: #d4ebff;}#sk-container-id-1 input.sk-hidden--visually {border: 0;clip: rect(1px 1px 1px 1px);clip: rect(1px, 1px, 1px, 1px);height: 1px;margin: -1px;overflow: hidden;padding: 0;position: absolute;width: 1px;}#sk-container-id-1 div.sk-estimator {font-family: monospace;background-color: #f0f8ff;border: 1px dotted black;border-radius: 0.25em;box-sizing: border-box;margin-bottom: 0.5em;}#sk-container-id-1 div.sk-estimator:hover {background-color: #d4ebff;}#sk-container-id-1 div.sk-parallel-item::after {content: \"\";width: 100%;border-bottom: 1px solid gray;flex-grow: 1;}#sk-container-id-1 div.sk-label:hover label.sk-toggleable__label {background-color: #d4ebff;}#sk-container-id-1 div.sk-serial::before {content: \"\";position: absolute;border-left: 1px solid gray;box-sizing: border-box;top: 0;bottom: 0;left: 50%;z-index: 0;}#sk-container-id-1 div.sk-serial {display: flex;flex-direction: column;align-items: center;background-color: white;padding-right: 0.2em;padding-left: 0.2em;position: relative;}#sk-container-id-1 div.sk-item {position: relative;z-index: 1;}#sk-container-id-1 div.sk-parallel {display: flex;align-items: stretch;justify-content: center;background-color: white;position: relative;}#sk-container-id-1 div.sk-item::before, #sk-container-id-1 div.sk-parallel-item::before {content: \"\";position: absolute;border-left: 1px solid gray;box-sizing: border-box;top: 0;bottom: 0;left: 50%;z-index: -1;}#sk-container-id-1 div.sk-parallel-item {display: flex;flex-direction: column;z-index: 1;position: relative;background-color: white;}#sk-container-id-1 div.sk-parallel-item:first-child::after {align-self: flex-end;width: 50%;}#sk-container-id-1 div.sk-parallel-item:last-child::after {align-self: flex-start;width: 50%;}#sk-container-id-1 div.sk-parallel-item:only-child::after {width: 0;}#sk-container-id-1 div.sk-dashed-wrapped {border: 1px dashed gray;margin: 0 0.4em 0.5em 0.4em;box-sizing: border-box;padding-bottom: 0.4em;background-color: white;}#sk-container-id-1 div.sk-label label {font-family: monospace;font-weight: bold;display: inline-block;line-height: 1.2em;}#sk-container-id-1 div.sk-label-container {text-align: center;}#sk-container-id-1 div.sk-container {/* jupyter's `normalize.less` sets `[hidden] { display: none; }` but bootstrap.min.css set `[hidden] { display: none !important; }` so we also need the `!important` here to be able to override the default hidden behavior on the sphinx rendered scikit-learn.org. See: https://github.com/scikit-learn/scikit-learn/issues/21755 */display: inline-block !important;position: relative;}#sk-container-id-1 div.sk-text-repr-fallback {display: none;}</style><div id=\"sk-container-id-1\" class=\"sk-top-container\"><div class=\"sk-text-repr-fallback\"><pre>LogisticRegression(C=100.0, multi_class=&#x27;ovr&#x27;, random_state=1)</pre><b>In a Jupyter environment, please rerun this cell to show the HTML representation or trust the notebook. <br />On GitHub, the HTML representation is unable to render, please try loading this page with nbviewer.org.</b></div><div class=\"sk-container\" hidden><div class=\"sk-item\"><div class=\"sk-estimator sk-toggleable\"><input class=\"sk-toggleable__control sk-hidden--visually\" id=\"sk-estimator-id-1\" type=\"checkbox\" checked><label for=\"sk-estimator-id-1\" class=\"sk-toggleable__label sk-toggleable__label-arrow\">LogisticRegression</label><div class=\"sk-toggleable__content\"><pre>LogisticRegression(C=100.0, multi_class=&#x27;ovr&#x27;, random_state=1)</pre></div></div></div></div></div>"
      ],
      "text/plain": [
       "LogisticRegression(C=100.0, multi_class='ovr', random_state=1)"
      ]
     },
     "execution_count": 19,
     "metadata": {},
     "output_type": "execute_result"
    }
   ],
   "source": [
    "%%time\n",
    "lr = LogisticRegression(C=100.0, random_state=1, solver='lbfgs', multi_class='ovr')\n",
    "lr.fit(X_train_std, Y_train)"
   ]
  },
  {
   "cell_type": "markdown",
   "id": "33e4b783",
   "metadata": {},
   "source": [
    "### Create the predictions"
   ]
  },
  {
   "cell_type": "code",
   "execution_count": 55,
   "id": "80e53ec7",
   "metadata": {},
   "outputs": [],
   "source": [
    "Y_predicted = lr.predict(X_test_std)"
   ]
  },
  {
   "cell_type": "code",
   "execution_count": 60,
   "id": "4d8ec3a8",
   "metadata": {},
   "outputs": [
    {
     "data": {
      "text/plain": [
       "(array([57944.,  2056.]),\n",
       " array([0. , 0.5, 1. ]),\n",
       " <BarContainer object of 2 artists>)"
      ]
     },
     "execution_count": 60,
     "metadata": {},
     "output_type": "execute_result"
    },
    {
     "data": {
      "image/png": "[encoded data removed]",
      "text/plain": [
       "<Figure size 432x288 with 1 Axes>"
      ]
     },
     "metadata": {
      "needs_background": "light"
     },
     "output_type": "display_data"
    }
   ],
   "source": [
    "plt.hist(Y_predicted, bins=2)"
   ]
  },
  {
   "cell_type": "markdown",
   "id": "fc1efea5",
   "metadata": {},
   "source": [
    "#### Accuracy"
   ]
  },
  {
   "cell_type": "code",
   "execution_count": 73,
   "id": "5faff9e6",
   "metadata": {},
   "outputs": [
    {
     "name": "stdout",
     "output_type": "stream",
     "text": [
      "LogisticRegression Accuracy 0.91238\n"
     ]
    }
   ],
   "source": [
    "print(\"LogisticRegression Accuracy %.5f\" %metrics.accuracy_score(Y_test, Y_predicted))"
   ]
  },
  {
   "cell_type": "markdown",
   "id": "f2e2f7be",
   "metadata": {},
   "source": [
    "#### Classification Report"
   ]
  },
  {
   "cell_type": "code",
   "execution_count": 41,
   "id": "80d82084",
   "metadata": {},
   "outputs": [
    {
     "name": "stdout",
     "output_type": "stream",
     "text": [
      "              precision    recall  f1-score   support\n",
      "\n",
      "           0       0.92      0.99      0.95     53971\n",
      "           1       0.69      0.23      0.35      6029\n",
      "\n",
      "    accuracy                           0.91     60000\n",
      "   macro avg       0.80      0.61      0.65     60000\n",
      "weighted avg       0.90      0.91      0.89     60000\n",
      "\n"
     ]
    }
   ],
   "source": [
    "print(classification_report(Y_test, Y_predicted))"
   ]
  },
  {
   "cell_type": "code",
   "execution_count": 65,
   "id": "eda72a36",
   "metadata": {},
   "outputs": [
    {
     "data": {
      "text/plain": [
       "array([0, 0, 0, ..., 0, 0, 0])"
      ]
     },
     "execution_count": 65,
     "metadata": {},
     "output_type": "execute_result"
    }
   ],
   "source": [
    "testing_predicted"
   ]
  },
  {
   "cell_type": "markdown",
   "id": "cf7e7556",
   "metadata": {},
   "source": [
    "### Extracting Predictions"
   ]
  },
  {
   "cell_type": "code",
   "execution_count": 71,
   "id": "48d92dc8",
   "metadata": {},
   "outputs": [],
   "source": [
    "id_data_ts = testing_data1['ID_code']"
   ]
  },
  {
   "cell_type": "code",
   "execution_count": 72,
   "id": "25befacb",
   "metadata": {},
   "outputs": [
    {
     "name": "stdout",
     "output_type": "stream",
     "text": [
      "Submission file created successfully!\n"
     ]
    }
   ],
   "source": [
    "# Make predictions on the test set\n",
    "predictions = lr.predict(testing_data_std)\n",
    "predictions = np.round(predictions).astype(int).flatten()\n",
    "\n",
    "# Create the submission file\n",
    "data = np.column_stack((id_data_ts, predictions))\n",
    "submission = pd.DataFrame(data, columns=['ID_code', 'target'])\n",
    "submission.to_csv('submission_logistic_reg.csv', index=False)\n",
    "\n",
    "print(\"Submission file created successfully!\")"
   ]
  }
 ],
 "metadata": {
  "kernelspec": {
   "display_name": "Python 3 (ipykernel)",
   "language": "python",
   "name": "python3"
  },
  "language_info": {
   "codemirror_mode": {
    "name": "ipython",
    "version": 3
   },
   "file_extension": ".py",
   "mimetype": "text/x-python",
   "name": "python",
   "nbconvert_exporter": "python",
   "pygments_lexer": "ipython3",
   "version": "3.8.10"
  }
 },
 "nbformat": 4,
 "nbformat_minor": 5
}
