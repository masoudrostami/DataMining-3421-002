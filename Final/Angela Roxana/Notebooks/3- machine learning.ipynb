{
  "cells": [
    {
      "cell_type": "markdown",
      "metadata": {
        "id": "__Ss9Hhmyy_K"
      },
      "source": [
        "# Machine Learning Models"
      ]
    },
    {
      "cell_type": "markdown",
      "metadata": {
        "id": "1knbPNRByy_M"
      },
      "source": [
        "## Importing Libraries 📚"
      ]
    },
    {
      "cell_type": "code",
      "execution_count": 11,
      "metadata": {
        "id": "ZltSxBaIyy_N"
      },
      "outputs": [],
      "source": [
        "import pandas as pd\n",
        "import numpy as np\n",
        "from tabulate import tabulate\n",
        "import html\n",
        "\n",
        "import warnings\n",
        "warnings.filterwarnings('ignore')"
      ]
    },
    {
      "cell_type": "markdown",
      "metadata": {
        "id": "36w3Uwluyy_O"
      },
      "source": [
        "## Loading Data 📕"
      ]
    },
    {
      "cell_type": "code",
      "execution_count": 10,
      "metadata": {
        "id": "C-7yK7J7yy_O"
      },
      "outputs": [],
      "source": [
        "anime_df = pd.read_csv('anime.csv')\n",
        "anime_df_id_genre = anime_df[['anime_id', 'genre']]"
      ]
    },
    {
      "cell_type": "markdown",
      "metadata": {
        "id": "1aHKd6Glyy_P"
      },
      "source": [
        "## Functions 📝"
      ]
    },
    {
      "cell_type": "code",
      "execution_count": 8,
      "metadata": {
        "id": "4qPMeB16yy_P"
      },
      "outputs": [],
      "source": [
        "# Converts the anime id to the name of the anime\n",
        "def anime_id_to_name(anime_id):\n",
        "    return anime_df[anime_df['anime_id'] == anime_id]['name'].values[0]\n",
        "    \n",
        "def print_animes(anime_ids, name):\n",
        "    recommended_anime_data = []\n",
        "    for anime_id in anime_ids:\n",
        "        anime_name = anime_id_to_name(anime_id)\n",
        "        anime_rating = anime_df[anime_df['anime_id'] == anime_id]['rating'].values[0]\n",
        "        anime_genere = anime_df_id_genre[anime_df_id_genre['anime_id'] == anime_id]['genre'].values[0]\n",
        "        recommended_anime_data.append([anime_id, anime_name, anime_rating, anime_genere])\n",
        "\n",
        "    # Printing recommended anime table\n",
        "    print(\"\\n\" + name + \":\")\n",
        "    print(tabulate(recommended_anime_data, headers=['Anime ID', 'Anime Name', 'Rating', 'Genere'], tablefmt='pipe'))"
      ]
    },
    {
      "cell_type": "markdown",
      "metadata": {
        "id": "nAnUCPFSyy_T"
      },
      "source": [
        "# Filtering Data"
      ]
    },
    {
      "cell_type": "code",
      "execution_count": 24,
      "metadata": {
        "id": "PyVGwcQVyy_T"
      },
      "outputs": [],
      "source": [
        "import pandas as pd\n",
        "\n",
        "# Loads the data\n",
        "anime = pd.read_csv('anime.csv')\n",
        "rating = pd.read_csv('rating.csv')\n",
        "\n",
        "# Removes rows with missing values\n",
        "anime = anime.dropna()\n",
        "rating = rating.dropna()\n",
        "\n",
        "# Replaces non-numeric values in the episodes column with NaN\n",
        "anime['episodes'] = pd.to_numeric(anime['episodes'], errors='coerce')\n",
        "\n",
        "# Remove rows where the anime_id column contains a value that is not in the anime_id column of the anime.csv file\n",
        "rating = rating[rating['anime_id'].isin(anime['anime_id'])]"
      ]
    },
    {
      "cell_type": "markdown",
      "metadata": {
        "id": "eZfldhNLyy_T"
      },
      "source": [
        "## Content Based Filtering 📖"
      ]
    },
    {
      "cell_type": "code",
      "execution_count": 3,
      "metadata": {
        "colab": {
          "base_uri": "https://localhost:8080/"
        },
        "id": "H-bGCt5m026L",
        "outputId": "7e33129e-4784-4fa6-ffdf-e0e174e997e5"
      },
      "outputs": [
        {
          "name": "stdout",
          "output_type": "stream",
          "text": [
            "Looking in indexes: https://pypi.org/simple, https://us-python.pkg.dev/colab-wheels/public/simple/\n",
            "Collecting surprise\n",
            "  Downloading surprise-0.1-py2.py3-none-any.whl (1.8 kB)\n",
            "Collecting scikit-surprise\n",
            "  Downloading scikit-surprise-1.1.3.tar.gz (771 kB)\n",
            "\u001b[2K     \u001b[90m━━━━━━━━━━━━━━━━━━━━━━━━━━━━━━━━━━━━━━\u001b[0m \u001b[32m772.0/772.0 kB\u001b[0m \u001b[31m30.2 MB/s\u001b[0m eta \u001b[36m0:00:00\u001b[0m\n",
            "\u001b[?25h  Preparing metadata (setup.py) ... \u001b[?25l\u001b[?25hdone\n",
            "Requirement already satisfied: joblib>=1.0.0 in /usr/local/lib/python3.10/dist-packages (from scikit-surprise->surprise) (1.2.0)\n",
            "Requirement already satisfied: numpy>=1.17.3 in /usr/local/lib/python3.10/dist-packages (from scikit-surprise->surprise) (1.22.4)\n",
            "Requirement already satisfied: scipy>=1.3.2 in /usr/local/lib/python3.10/dist-packages (from scikit-surprise->surprise) (1.10.1)\n",
            "Building wheels for collected packages: scikit-surprise\n",
            "  Building wheel for scikit-surprise (setup.py) ... \u001b[?25l\u001b[?25hdone\n",
            "  Created wheel for scikit-surprise: filename=scikit_surprise-1.1.3-cp310-cp310-linux_x86_64.whl size=3095488 sha256=ce4ffa19d6575010d1724fd6ff92fe7b53d4ac4f5b6c3bbd07e904ff7cb2ec99\n",
            "  Stored in directory: /root/.cache/pip/wheels/a5/ca/a8/4e28def53797fdc4363ca4af740db15a9c2f1595ebc51fb445\n",
            "Successfully built scikit-surprise\n",
            "Installing collected packages: scikit-surprise, surprise\n",
            "Successfully installed scikit-surprise-1.1.3 surprise-0.1\n"
          ]
        }
      ],
      "source": [
        "!pip install surprise"
      ]
    },
    {
      "cell_type": "code",
      "execution_count": 25,
      "metadata": {
        "colab": {
          "base_uri": "https://localhost:8080/"
        },
        "id": "lfgQcSRryy_T",
        "outputId": "c9df109e-385e-45ae-f4fb-52521307c989"
      },
      "outputs": [
        {
          "name": "stdout",
          "output_type": "stream",
          "text": [
            "Evaluating RMSE, MAE of algorithm SVD on 2 split(s).\n",
            "\n",
            "                  Fold 1  Fold 2  Mean    Std     \n",
            "RMSE (testset)    2.2809  2.2819  2.2814  0.0005  \n",
            "MAE (testset)     1.6058  1.6057  1.6057  0.0000  \n",
            "Fit time          62.23   63.12   62.68   0.44    \n",
            "Test time         46.00   45.56   45.78   0.22    \n",
            "RMSE: 2.2188\n",
            "Mean RMSE: 2.281401194067046\n",
            "Mean MAE: 1.6057250573313255\n"
          ]
        }
      ],
      "source": [
        "from surprise import Dataset\n",
        "from surprise import Reader\n",
        "from surprise.model_selection import train_test_split\n",
        "from surprise import SVD\n",
        "from surprise.model_selection import cross_validate\n",
        "\n",
        "# Loading data in surprise\n",
        "reader = Reader(rating_scale=(1, 10))\n",
        "data = Dataset.load_from_df(rating[['user_id', 'anime_id', 'rating']], reader)\n",
        "\n",
        "# Spliting the data into training and testing sets\n",
        "trainset, testset = train_test_split(data, test_size=.25)\n",
        "algo = SVD()\n",
        "algo.fit(trainset)\n",
        "CB_predictions = algo.test(testset)\n",
        "results = cross_validate(algo, data, measures=['RMSE', 'MAE'], cv=2, verbose=True)\n",
        "\n",
        "# Evaluating the model using Root Mean Squared Error (RMSE)\n",
        "from surprise import accuracy\n",
        "accuracy.rmse(CB_predictions)\n",
        "\n",
        "# Printing the mean RMSE and MAE over all folds\n",
        "print(\"Mean RMSE:\", results['test_rmse'].mean())\n",
        "print(\"Mean MAE:\", results['test_mae'].mean())"
      ]
    },
    {
      "cell_type": "code",
      "execution_count": 26,
      "metadata": {
        "id": "YPcfnFjeyy_U"
      },
      "outputs": [],
      "source": [
        "import random\n",
        "\n",
        "def CB_recommend_anime(anime_ids, user_id=None, n=10):\n",
        "    # Gets the list of all anime\n",
        "    anime_list = anime[['anime_id', 'name']]\n",
        "    \n",
        "    # If user_id is not provided, selects a random user from the dataset\n",
        "    if user_id is None:\n",
        "        user_id = random.choice(rating['user_id'].unique())\n",
        "    \n",
        "    # Checks if the user has already watched any of the given anime_ids\n",
        "    watched_anime = rating.loc[(rating['user_id'] == user_id) & rating['anime_id'].isin(anime_ids), 'anime_id']\n",
        "    \n",
        "    # Excluding the watched anime from the recommendations\n",
        "    anime_to_exclude = list(set(watched_anime) | set(anime_ids))\n",
        "    \n",
        "    # Gets the list of unrated anime by the user\n",
        "    unrated_anime = anime_list[~anime_list['anime_id'].isin(rating.loc[rating['user_id'] == user_id, 'anime_id'])]\n",
        "    \n",
        "    # Converts the unrated anime to Surprise format\n",
        "    reader = Reader(rating_scale=(1, 10))\n",
        "    data = Dataset.load_from_df(rating[['user_id', 'anime_id', 'rating']], reader)\n",
        "    trainset = data.build_full_trainset()\n",
        "    \n",
        "    # Trains the model using Singular Value Decomposition (SVD)\n",
        "    algo = SVD()\n",
        "    algo.fit(trainset)\n",
        "    predictions = []\n",
        "    for index, row in unrated_anime.iterrows():\n",
        "        prediction = algo.predict(user_id, row['anime_id'])\n",
        "        predictions.append((prediction.est, row['anime_id'], row['name']))\n",
        "    \n",
        "    # Sorts the predictions by estimated rating\n",
        "    predictions.sort(reverse=True)\n",
        "    \n",
        "    # Selects the top n anime and return the recommendations\n",
        "    recommended_anime = []\n",
        "    i = 0\n",
        "    while len(recommended_anime) < n and i < len(predictions):\n",
        "        if predictions[i][1] not in anime_to_exclude:\n",
        "            recommended_anime.append(predictions[i][1])\n",
        "        i += 1\n",
        "    \n",
        "    return recommended_anime"
      ]
    },
    {
      "cell_type": "code",
      "execution_count": 27,
      "metadata": {
        "colab": {
          "base_uri": "https://localhost:8080/"
        },
        "id": "dxjRMcoID_mE",
        "outputId": "fb64c632-b600-438d-d35b-cfe7d55df517"
      },
      "outputs": [
        {
          "name": "stdout",
          "output_type": "stream",
          "text": [
            "[32935, 11061, 9969, 5114, 4181, 3927, 2904, 2581, 1575, 918]\n"
          ]
        }
      ],
      "source": [
        "anime_ids = [20, 21, 512]\n",
        "CB_recommendations = CB_recommend_anime(anime_ids, user_id=42, n=10)\n",
        "print(CB_recommendations)"
      ]
    },
    {
      "cell_type": "code",
      "execution_count": 28,
      "metadata": {
        "colab": {
          "base_uri": "https://localhost:8080/"
        },
        "id": "OCMMv6GDGBdl",
        "outputId": "72b86c1c-398c-43ff-8c4e-86497964ead1"
      },
      "outputs": [
        {
          "name": "stdout",
          "output_type": "stream",
          "text": [
            "\n",
            "Watched Anime:\n",
            "|   Anime ID | Anime Name         |   Rating | Genere                                                          |\n",
            "|-----------:|:-------------------|---------:|:----------------------------------------------------------------|\n",
            "|         20 | Naruto             |     7.81 | Action, Comedy, Martial Arts, Shounen, Super Power              |\n",
            "|         21 | One Piece          |     8.58 | Action, Adventure, Comedy, Drama, Fantasy, Shounen, Super Power |\n",
            "|        512 | Majo no Takkyuubin |     8.27 | Adventure, Comedy, Drama, Fantasy, Magic, Romance               |\n",
            "\n",
            "Recommended Anime:\n",
            "|   Anime ID | Anime Name                                                |   Rating | Genere                                                       |\n",
            "|-----------:|:----------------------------------------------------------|---------:|:-------------------------------------------------------------|\n",
            "|      32935 | Haikyuu!!: Karasuno Koukou VS Shiratorizawa Gakuen Koukou |     9.15 | Comedy, Drama, School, Shounen, Sports                       |\n",
            "|      11061 | Hunter x Hunter (2011)                                    |     9.13 | Action, Adventure, Shounen, Super Power                      |\n",
            "|       9969 | Gintama&#039;                                             |     9.16 | Action, Comedy, Historical, Parody, Samurai, Sci-Fi, Shounen |\n",
            "|       5114 | Fullmetal Alchemist: Brotherhood                          |     9.26 | Action, Adventure, Drama, Fantasy, Magic, Military, Shounen  |\n",
            "|       4181 | Clannad: After Story                                      |     9.06 | Drama, Fantasy, Romance, Slice of Life, Supernatural         |\n",
            "|       3927 | Mobile Suit Gundam 00 Second Season                       |     8.21 | Action, Drama, Mecha, Military, Sci-Fi, Space                |\n",
            "|       2904 | Code Geass: Hangyaku no Lelouch R2                        |     8.98 | Action, Drama, Mecha, Military, Sci-Fi, Super Power          |\n",
            "|       2581 | Mobile Suit Gundam 00                                     |     8.24 | Action, Drama, Mecha, Military, Sci-Fi, Space                |\n",
            "|       1575 | Code Geass: Hangyaku no Lelouch                           |     8.83 | Action, Mecha, Military, School, Sci-Fi, Super Power         |\n",
            "|        918 | Gintama                                                   |     9.04 | Action, Comedy, Historical, Parody, Samurai, Sci-Fi, Shounen |\n"
          ]
        }
      ],
      "source": [
        "print_animes(anime_ids, \"Watched Anime\")\n",
        "print_animes(CB_recommendations, \"Recommended Anime\")"
      ]
    },
    {
      "cell_type": "markdown",
      "metadata": {
        "id": "YSJv5X8Dyy_V"
      },
      "source": [
        "## Collaborative Filtering (CF)"
      ]
    },
    {
      "cell_type": "code",
      "execution_count": 29,
      "metadata": {
        "colab": {
          "base_uri": "https://localhost:8080/"
        },
        "id": "TsKqqW3eyy_V",
        "outputId": "b971c760-8209-4068-fcfb-2650a91f1fdb"
      },
      "outputs": [
        {
          "name": "stdout",
          "output_type": "stream",
          "text": [
            "Evaluating RMSE, MAE of algorithm SVD on 2 split(s).\n",
            "\n",
            "                  Fold 1  Fold 2  Mean    Std     \n",
            "RMSE (testset)    2.3052  2.3051  2.3051  0.0000  \n",
            "MAE (testset)     1.6260  1.6244  1.6252  0.0008  \n",
            "Fit time          61.51   62.40   61.96   0.44    \n",
            "Test time         46.03   43.96   44.99   1.03    \n",
            "Mean RMSE: 2.3051379388266526\n",
            "Mean MAE: 1.625195220669292\n"
          ]
        }
      ],
      "source": [
        "from surprise import Dataset, Reader\n",
        "from surprise import SVD\n",
        "from surprise.model_selection import cross_validate\n",
        "\n",
        "# Loads the data into a format suitable for Surprise\n",
        "reader = Reader(rating_scale=(1, 10))\n",
        "data = Dataset.load_from_df(rating[['user_id', 'anime_id', 'rating']], reader)\n",
        "\n",
        "# Splits the data into training and testing sets\n",
        "trainset = data.build_full_trainset()\n",
        "\n",
        "# Trains the model using Alternating Least Squares (ALS)\n",
        "algo = SVD(biased=False, n_epochs=20, lr_all=0.005, reg_all=0.02)\n",
        "algo.fit(trainset)\n",
        "cf_results = cross_validate(algo, data, measures=['RMSE', 'MAE'], cv=2, verbose=True)\n",
        "\n",
        "# Print the mean RMSE and MAE over all folds\n",
        "print(\"Mean RMSE:\", cf_results['test_rmse'].mean())\n",
        "print(\"Mean MAE:\", cf_results['test_mae'].mean())\n"
      ]
    },
    {
      "cell_type": "code",
      "execution_count": 30,
      "metadata": {
        "colab": {
          "base_uri": "https://localhost:8080/"
        },
        "id": "uqvgVWcgyy_W",
        "outputId": "a7055074-d18b-4092-853e-12429b42944f"
      },
      "outputs": [
        {
          "name": "stdout",
          "output_type": "stream",
          "text": [
            "Top 10 anime recommendations for user 100:\n",
            "- Death Note (anime_id: 1535, predicted rating: 10.00)\n",
            "- Fullmetal Alchemist: Brotherhood (anime_id: 5114, predicted rating: 10.00)\n",
            "- Mushishi (anime_id: 457, predicted rating: 10.00)\n",
            "- Ginga Eiyuu Densetsu (anime_id: 820, predicted rating: 9.95)\n",
            "- Ookami Kodomo no Ame to Yuki (anime_id: 12355, predicted rating: 9.85)\n",
            "- Darker than Black: Kuro no Keiyakusha (anime_id: 2025, predicted rating: 9.72)\n",
            "- Kino no Tabi: The Beautiful World (anime_id: 486, predicted rating: 9.54)\n",
            "- Fullmetal Alchemist (anime_id: 121, predicted rating: 9.51)\n",
            "- Steins;Gate (anime_id: 9253, predicted rating: 9.47)\n",
            "- Sen to Chihiro no Kamikakushi (anime_id: 199, predicted rating: 9.47)\n"
          ]
        }
      ],
      "source": [
        "import pandas as pd\n",
        "\n",
        "# Loads the data\n",
        "anime = pd.read_csv('anime.csv')\n",
        "rating = pd.read_csv('rating.csv')\n",
        "\n",
        "# Removes rows with missing values\n",
        "anime = anime.dropna()\n",
        "rating = rating.dropna()\n",
        "\n",
        "# Replacing non-numeric values in the episodes column with NaN\n",
        "anime['episodes'] = pd.to_numeric(anime['episodes'], errors='coerce')\n",
        "rating = rating[rating['anime_id'].isin(anime['anime_id'])]\n",
        "\n",
        "# Testing CF model\n",
        "from surprise import Dataset, Reader\n",
        "from surprise import SVD\n",
        "from surprise.model_selection import train_test_split\n",
        "\n",
        "# Loading the data into a format suitable for Surprise\n",
        "reader = Reader(rating_scale=(1, 10))\n",
        "data = Dataset.load_from_df(rating[['user_id', 'anime_id', 'rating']], reader)\n",
        "\n",
        "# Spliting the data into training and testing sets\n",
        "trainset, testset = train_test_split(data, test_size=.25)\n",
        "\n",
        "# Training the model using Singular Value Decomposition (SVD)\n",
        "algo = SVD()\n",
        "algo.fit(trainset)\n",
        "anime_ids = rating['anime_id'].unique()\n",
        "user_id = 100\n",
        "\n",
        "# Makes predictions for all anime that the user hasn't seen\n",
        "testset = []\n",
        "for anime_id in anime_ids:\n",
        "    if anime_id not in rating[rating['user_id'] == user_id]['anime_id'].unique():\n",
        "        testset.append((user_id, anime_id, 0))\n",
        "\n",
        "predictions = algo.test(testset)\n",
        "\n",
        "# Gets the top 10 recommendations\n",
        "top_n = []\n",
        "for uid, iid, true_r, est, _ in predictions:\n",
        "    if est > 4:\n",
        "        anime_name = anime[anime['anime_id'] == iid]['name'].values[0]\n",
        "        top_n.append((iid, anime_name, est))\n",
        "\n",
        "anime_ids = [32281, 2236, 16498, 287, 237, 269, 2499, 12477, 18115, 8915]\n",
        "top_n = sorted(top_n, key=lambda x: x[2], reverse=True)[:10]\n",
        "\n",
        "# Prints the top 10 recommendations\n",
        "print(f\"Top 10 anime recommendations for user {user_id}:\")\n",
        "for anime_id, anime_name, rating in top_n:\n",
        "    print(f\"- {anime_name} (anime_id: {anime_id}, predicted rating: {rating:.2f})\")\n"
      ]
    },
    {
      "cell_type": "code",
      "execution_count": 21,
      "metadata": {
        "colab": {
          "base_uri": "https://localhost:8080/"
        },
        "id": "dWrMH5krMGPx",
        "outputId": "d71eb924-e99e-4d0e-d14c-8d28023599cc"
      },
      "outputs": [
        {
          "name": "stdout",
          "output_type": "stream",
          "text": [
            "\n",
            "Watched Anime:\n",
            "|   Anime ID | Anime Name                                                               |   Rating | Genere                                                |\n",
            "|-----------:|:-------------------------------------------------------------------------|---------:|:------------------------------------------------------|\n",
            "|      32281 | Kimi no Na wa.                                                           |     9.37 | Drama, Romance, School, Supernatural                  |\n",
            "|       2236 | Toki wo Kakeru Shoujo                                                    |     8.44 | Adventure, Drama, Romance, Sci-Fi                     |\n",
            "|      16498 | Shingeki no Kyojin                                                       |     8.54 | Action, Drama, Fantasy, Shounen, Super Power          |\n",
            "|        287 | Grappler Baki (TV)                                                       |     7.41 | Shounen, Sports                                       |\n",
            "|        237 | Eureka Seven                                                             |     8.19 | Adventure, Drama, Mecha, Romance, Sci-Fi              |\n",
            "|        269 | Bleach                                                                   |     7.95 | Action, Comedy, Shounen, Super Power, Supernatural    |\n",
            "|       2499 | Slam Dunk: Hoero Basketman-damashii! Hanamichi to Rukawa no Atsuki Natsu |     7.78 | Comedy, Drama, School, Shounen, Slice of Life, Sports |\n",
            "|      12477 | Sakasama no Patema                                                       |     8.23 | Sci-Fi, Seinen                                        |\n",
            "|      18115 | Magi: The Kingdom of Magic                                               |     8.5  | Action, Adventure, Fantasy, Magic, Shounen            |\n",
            "|       8915 | Dantalian no Shoka                                                       |     7.34 | Action, Historical, Mystery, Supernatural             |\n",
            "\n",
            "Recommended Anime:\n",
            "|   Anime ID | Anime Name                       |   Rating | Genere                                                      |\n",
            "|-----------:|:---------------------------------|---------:|:------------------------------------------------------------|\n",
            "|       2001 | Tengen Toppa Gurren Lagann       |     8.78 | Action, Adventure, Comedy, Mecha, Sci-Fi                    |\n",
            "|       6547 | Angel Beats!                     |     8.39 | Action, Comedy, Drama, School, Supernatural                 |\n",
            "|      16498 | Shingeki no Kyojin               |     8.54 | Action, Drama, Fantasy, Shounen, Super Power                |\n",
            "|        170 | Slam Dunk                        |     8.56 | Comedy, Drama, School, Shounen, Sports                      |\n",
            "|        199 | Sen to Chihiro no Kamikakushi    |     8.93 | Adventure, Drama, Supernatural                              |\n",
            "|       3588 | Soul Eater                       |     8.08 | Action, Adventure, Comedy, Fantasy, Shounen, Supernatural   |\n",
            "|       5114 | Fullmetal Alchemist: Brotherhood |     9.26 | Action, Adventure, Drama, Fantasy, Magic, Military, Shounen |\n",
            "|      10408 | Hotarubi no Mori e               |     8.61 | Drama, Romance, Shoujo, Supernatural                        |\n",
            "|        245 | Great Teacher Onizuka            |     8.77 | Comedy, Drama, School, Shounen, Slice of Life               |\n",
            "|        263 | Hajime no Ippo                   |     8.83 | Comedy, Drama, Shounen, Sports                              |\n"
          ]
        }
      ],
      "source": [
        "print_animes(anime_ids, \"Watched Anime\")\n",
        "print_animes([item[0] for item in top_n], \"Recommended Anime\")"
      ]
    },
    {
      "cell_type": "markdown",
      "metadata": {
        "id": "jgVjuBwayy_W"
      },
      "source": [
        "## Hybrid Method"
      ]
    },
    {
      "cell_type": "code",
      "execution_count": 4,
      "metadata": {
        "colab": {
          "base_uri": "https://localhost:8080/"
        },
        "id": "UJmlq4263rK7",
        "outputId": "439116bf-d351-4688-c750-899f6126f330"
      },
      "outputs": [
        {
          "name": "stderr",
          "output_type": "stream",
          "text": [
            "<ipython-input-4-a2863aa70ed9>:12: SettingWithCopyWarning: \n",
            "A value is trying to be set on a copy of a slice from a DataFrame.\n",
            "Try using .loc[row_indexer,col_indexer] = value instead\n",
            "\n",
            "See the caveats in the documentation: https://pandas.pydata.org/pandas-docs/stable/user_guide/indexing.html#returning-a-view-versus-a-copy\n",
            "  anime['episodes'] = pd.to_numeric(anime['episodes'], errors='coerce')\n"
          ]
        },
        {
          "name": "stdout",
          "output_type": "stream",
          "text": [
            "Evaluating RMSE, MAE of algorithm SVD on 2 split(s).\n",
            "\n",
            "                  Fold 1  Fold 2  Mean    Std     \n",
            "RMSE (testset)    2.3270  2.3203  2.3236  0.0034  \n",
            "MAE (testset)     1.6645  1.6638  1.6642  0.0003  \n",
            "Fit time          8.95    9.05    9.00    0.05    \n",
            "Test time         6.45    6.19    6.32    0.13    \n",
            "Mean RMSE: 2.3236432992722067\n",
            "Mean MAE: 1.664163729692525\n"
          ]
        }
      ],
      "source": [
        "import pandas as pd\n",
        "\n",
        "# Loading the data\n",
        "anime = pd.read_csv('anime.csv')\n",
        "rating = pd.read_csv('rating.csv')\n",
        "\n",
        "# Removing rows with missing values\n",
        "anime = anime.dropna()\n",
        "rating = rating.dropna()\n",
        "\n",
        "# Replacing non-numeric values in the episodes column with NaN\n",
        "anime['episodes'] = pd.to_numeric(anime['episodes'], errors='coerce')\n",
        "\n",
        "# Removing rows where the anime_id column contains a value that is not in the anime_id column of the anime.csv file\n",
        "rating = rating[rating['anime_id'].isin(anime['anime_id'])]\n",
        "\n",
        "\n",
        "# Testing the Model\n",
        "import pandas as pd\n",
        "from surprise import Dataset, Reader\n",
        "from surprise import SVD\n",
        "from surprise.model_selection import cross_validate\n",
        "\n",
        "# Loading the data into a format suitable for Surprise\n",
        "reader = Reader(rating_scale=(1, 10))\n",
        "data = Dataset.load_from_df(rating[['user_id', 'anime_id', 'rating']], reader)\n",
        "\n",
        "# Spliting the data into training and testing sets\n",
        "trainset = data.build_full_trainset()\n",
        "\n",
        "# Training the model using Singular Value Decomposition (SVD)\n",
        "algo = SVD(biased=False, n_epochs=20, lr_all=0.005, reg_all=0.02)\n",
        "algo.fit(trainset)\n",
        "\n",
        "# Evaluating the model using 5-fold cross-validation\n",
        "hb_results = cross_validate(algo, data, measures=['RMSE', 'MAE'], cv=2, verbose=True)\n",
        "\n",
        "# Printing the mean RMSE and MAE over all folds\n",
        "print(\"Mean RMSE:\", hb_results['test_rmse'].mean())\n",
        "print(\"Mean MAE:\", hb_results['test_mae'].mean())"
      ]
    },
    {
      "cell_type": "code",
      "execution_count": 43,
      "metadata": {
        "id": "mgO1tdpVqFxR"
      },
      "outputs": [],
      "source": [
        "import pandas as pd\n",
        "from surprise import Dataset, Reader\n",
        "from surprise import SVD\n",
        "import random\n",
        "\n",
        "# Loading the data\n",
        "anime = pd.read_csv('anime.csv')\n",
        "rating = pd.read_csv('rating.csv')\n",
        "\n",
        "# Removing rows with missing values\n",
        "anime = anime.dropna()\n",
        "rating = rating.dropna()\n",
        "\n",
        "# Replacing non-numeric values in the episodes column with NaN\n",
        "anime['episodes'] = pd.to_numeric(anime['episodes'], errors='coerce')\n",
        "rating = rating[rating['anime_id'].isin(anime['anime_id'])]\n",
        "\n",
        "# Training the model\n",
        "reader = Reader(rating_scale=(1, 10))\n",
        "data = Dataset.load_from_df(rating[['user_id', 'anime_id', 'rating']], reader)\n",
        "trainset = data.build_full_trainset()\n",
        "algo = SVD(biased=False, n_epochs=20, lr_all=0.005, reg_all=0.02)\n",
        "algo.fit(trainset)\n",
        "\n",
        "# Function to recommend anime\n",
        "def recommend_anime(anime_ids, n=10):\n",
        "    anime_data = anime[anime['anime_id'].isin(anime_ids)][['anime_id', 'name']]\n",
        "    anime_data = anime_data.set_index('anime_id')\n",
        "    recommended_anime_ids = set(anime['anime_id']) - set(anime_ids)\n",
        "    recommended_anime_ids = random.sample(recommended_anime_ids, min(n, len(recommended_anime_ids)))\n",
        "    anime_data['score'] = anime_data.index.map(lambda x: algo.predict(str(0), str(x)).est)\n",
        "    anime_data = anime_data.sort_values(by='score', ascending=False)\n",
        "    recommended_anime_data = anime[anime['anime_id'].isin(recommended_anime_ids)][['anime_id', 'name']]\n",
        "    recommended_anime_data = recommended_anime_data.set_index('anime_id')\n",
        "    recommended_anime_data['score'] = recommended_anime_data.index.map(lambda x: algo.predict(str(0), str(x)).est)\n",
        "    recommended_anime_data = recommended_anime_data.sort_values(by='score', ascending=False)\n",
        "    return pd.concat([anime_data, recommended_anime_data]).head(n)\n"
      ]
    },
    {
      "cell_type": "code",
      "execution_count": 44,
      "metadata": {
        "id": "QUaOhO51NX49"
      },
      "outputs": [],
      "source": [
        "anime_ids =  [32281, 2236, 16498, 287, 237, 269, 2499, 12477, 18115, 8915]\n",
        "recommended_anime = recommend_anime(anime_ids, n=15)"
      ]
    },
    {
      "cell_type": "code",
      "execution_count": 74,
      "metadata": {
        "colab": {
          "base_uri": "https://localhost:8080/"
        },
        "id": "DEkC1yvUNPPB",
        "outputId": "26a41771-b23e-4615-e91c-ff6e2cfde380"
      },
      "outputs": [
        {
          "name": "stdout",
          "output_type": "stream",
          "text": [
            "\n",
            "Watched Anime:\n",
            "|   Anime ID | Anime Name                                                               |   Rating | Genere                                                |\n",
            "|-----------:|:-------------------------------------------------------------------------|---------:|:------------------------------------------------------|\n",
            "|      32281 | Kimi no Na wa.                                                           |     9.37 | Drama, Romance, School, Supernatural                  |\n",
            "|       2236 | Toki wo Kakeru Shoujo                                                    |     8.44 | Adventure, Drama, Romance, Sci-Fi                     |\n",
            "|      16498 | Shingeki no Kyojin                                                       |     8.54 | Action, Drama, Fantasy, Shounen, Super Power          |\n",
            "|        287 | Grappler Baki (TV)                                                       |     7.41 | Shounen, Sports                                       |\n",
            "|        237 | Eureka Seven                                                             |     8.19 | Adventure, Drama, Mecha, Romance, Sci-Fi              |\n",
            "|        269 | Bleach                                                                   |     7.95 | Action, Comedy, Shounen, Super Power, Supernatural    |\n",
            "|       2499 | Slam Dunk: Hoero Basketman-damashii! Hanamichi to Rukawa no Atsuki Natsu |     7.78 | Comedy, Drama, School, Shounen, Slice of Life, Sports |\n",
            "|      12477 | Sakasama no Patema                                                       |     8.23 | Sci-Fi, Seinen                                        |\n",
            "|      18115 | Magi: The Kingdom of Magic                                               |     8.5  | Action, Adventure, Fantasy, Magic, Shounen            |\n",
            "|       8915 | Dantalian no Shoka                                                       |     7.34 | Action, Historical, Mystery, Supernatural             |\n",
            "\n",
            "Recommended Anime:\n",
            "|   Anime ID | Anime Name                                                               |   Rating | Genere                                                |\n",
            "|-----------:|:-------------------------------------------------------------------------|---------:|:------------------------------------------------------|\n",
            "|      32281 | Kimi no Na wa.                                                           |     9.37 | Drama, Romance, School, Supernatural                  |\n",
            "|      16498 | Shingeki no Kyojin                                                       |     8.54 | Action, Drama, Fantasy, Shounen, Super Power          |\n",
            "|      18115 | Magi: The Kingdom of Magic                                               |     8.5  | Action, Adventure, Fantasy, Magic, Shounen            |\n",
            "|       2236 | Toki wo Kakeru Shoujo                                                    |     8.44 | Adventure, Drama, Romance, Sci-Fi                     |\n",
            "|      12477 | Sakasama no Patema                                                       |     8.23 | Sci-Fi, Seinen                                        |\n",
            "|        237 | Eureka Seven                                                             |     8.19 | Adventure, Drama, Mecha, Romance, Sci-Fi              |\n",
            "|        269 | Bleach                                                                   |     7.95 | Action, Comedy, Shounen, Super Power, Supernatural    |\n",
            "|       2499 | Slam Dunk: Hoero Basketman-damashii! Hanamichi to Rukawa no Atsuki Natsu |     7.78 | Comedy, Drama, School, Shounen, Slice of Life, Sports |\n",
            "|        287 | Grappler Baki (TV)                                                       |     7.41 | Shounen, Sports                                       |\n",
            "|       8915 | Dantalian no Shoka                                                       |     7.34 | Action, Historical, Mystery, Supernatural             |\n",
            "|      27663 | Baby Steps 2nd Season                                                    |     8.2  | Romance, School, Shounen, Sports                      |\n",
            "|       1394 | Future GPX Cyber Formula Saga                                            |     7.64 | Drama, Sci-Fi, Shounen, Sports                        |\n",
            "|       1316 | Idaten Jump                                                              |     6.78 | Game, School, Sports                                  |\n",
            "|        748 | True Love Story                                                          |     6.24 | Romance                                               |\n",
            "|       1228 | Chivas 1-2-3                                                             |     6.22 | Action, Comedy, Ecchi, Fantasy, Supernatural          |\n"
          ]
        }
      ],
      "source": [
        "print_animes(anime_ids, \"Watched Anime\")\n",
        "print_animes(recommended_anime.index.tolist(), \"Recommended Anime\")"
      ]
    },
    {
      "cell_type": "markdown",
      "metadata": {
        "id": "7DQryUesNm7U"
      },
      "source": [
        "## Evaluating Performance"
      ]
    },
    {
      "cell_type": "code",
      "execution_count": 77,
      "metadata": {
        "colab": {
          "base_uri": "https://localhost:8080/",
          "height": 452
        },
        "id": "p9RGYFvSNrun",
        "outputId": "66911833-8090-42d7-94e5-84a742dac81a"
      },
      "outputs": [
        {
          "data": {
            "image/png": "[encoded data removed]",
            "text/plain": [
              "<Figure size 640x480 with 2 Axes>"
            ]
          },
          "metadata": {},
          "output_type": "display_data"
        }
      ],
      "source": [
        "import matplotlib.pyplot as plt\n",
        "\n",
        "# Extracts the RMSE and MAE scores for each model\n",
        "rmse_scores = [results['test_rmse'].mean(), cf_results['test_rmse'].mean(), hb_results['test_rmse'].mean()]\n",
        "mae_scores = [results['test_mae'].mean(), cf_results['test_mae'].mean(), hb_results['test_mae'].mean()]\n",
        "\n",
        "plt.subplot(1, 2, 1)\n",
        "plt.bar(['CBF', 'CF', 'HB'], rmse_scores)\n",
        "plt.title('RMSE Scores')\n",
        "plt.ylabel('Score')\n",
        "\n",
        "plt.subplot(1, 2, 2)\n",
        "plt.bar(['CBF', 'CF', 'HB'], mae_scores)\n",
        "plt.title('MAE Scores')\n",
        "plt.ylabel('Score')\n",
        "\n",
        "plt.show()\n"
      ]
    },
    {
      "cell_type": "code",
      "execution_count": 79,
      "metadata": {
        "colab": {
          "base_uri": "https://localhost:8080/"
        },
        "id": "39Vuz05hfhW8",
        "outputId": "bb3cdb5a-57e6-4c2b-899a-137bef7672c5"
      },
      "outputs": [
        {
          "name": "stdout",
          "output_type": "stream",
          "text": [
            "Best algorithm: Content Based Filtering\n"
          ]
        }
      ],
      "source": [
        "best_algorithm = ''\n",
        "if rmse_scores.index(min(rmse_scores)) == mae_scores.index(min(mae_scores)):\n",
        "    best_algorithm = ['Content Based Filtering', 'Collaborative Filtering', 'Hybrid Model'][rmse_scores.index(min(rmse_scores))]\n",
        "else:\n",
        "    print(\"RMSE and MAE scores don't match, can't determine the best algorithm.\")\n",
        "print('Best algorithm by RMSE:', best_algorithm)"
      ]
    }
  ],
  "metadata": {
    "accelerator": "GPU",
    "colab": {
      "provenance": []
    },
    "gpuClass": "standard",
    "kernelspec": {
      "display_name": "base",
      "language": "python",
      "name": "python3"
    },
    "language_info": {
      "codemirror_mode": {
        "name": "ipython",
        "version": 3
      },
      "file_extension": ".py",
      "mimetype": "text/x-python",
      "name": "python",
      "nbconvert_exporter": "python",
      "pygments_lexer": "ipython3",
      "version": "3.9.4"
    }
  },
  "nbformat": 4,
  "nbformat_minor": 0
}
